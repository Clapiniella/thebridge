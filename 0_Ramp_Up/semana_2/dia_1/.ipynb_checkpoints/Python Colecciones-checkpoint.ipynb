{
 "cells": [
  {
   "cell_type": "markdown",
   "metadata": {},
   "source": [
    "![imagen](../../imagenes/python.jpg)"
   ]
  },
  {
   "cell_type": "markdown",
   "metadata": {},
   "source": [
    "# Python Colecciones\n",
    "\n",
    "#### Autor: [Daniel Ortiz López](https://www.linkedin.com/in/daniel-ortiz-l%C3%B3pez/)\n",
    "\n",
    "Las colecciones son una manera de agrupar varios elementos. En otros notebooks vimos cómo funcionan las listas, que es la colección más usada, pero se trata solo de la punta del iceberg. En Python tenemos varias manera de almacenar conjuntos de datos, dependiendo del tipo de dato, finalidad, tipo de acceso y rendimiento.\n",
    "\n",
    "1. [Listas](#1.-Listas)\n",
    "2. [Tuplas](#2.-Tuplas)\n",
    "3. [Diccionarios](#3.-Diccionarios)\n",
    "4. [Sets](#4.-Sets)\n",
    "5. [Intersecciones](#5.-Intersecciones)\n",
    "6. [Conversiones entre colecciones](#6.-Conversiones-entre-colecciones)\n",
    "7. [Resumen](#7.-Resumen)"
   ]
  },
  {
   "cell_type": "markdown",
   "metadata": {},
   "source": [
    "## 1. Listas\n",
    "Conocemos bastante ya de las listas. Veamos un repaso de lo que podemos hacer con ellas, así como algunas funcionalidades nuevas"
   ]
  },
  {
   "cell_type": "code",
   "execution_count": 13,
   "metadata": {},
   "outputs": [
    {
     "name": "stdout",
     "output_type": "stream",
     "text": [
      "7\n",
      "Enero\n",
      "Marzo\n"
     ]
    }
   ],
   "source": [
    "# Listas de números, strings, booleanos, con elementos repetidos, listas anidadas...\n",
    "nums = [6, 2, 8, 3, 4, 5, 5]\n",
    "months = [\"Enero\", \"Febrero\", \"Marzo\"]\n",
    "mix = [5, 7, \"Abril\", True, None, [\"Blanco\", \"Negro\"]]\n",
    "\n",
    "# Longitud de la lista\n",
    "print(len(nums))\n",
    "\n",
    "# Indexación\n",
    "print(months[0])\n",
    "print(months[len(months)-1]) # -1 porque len = 3 y el orden de los elementos es [0,1,2]"
   ]
  },
  {
   "cell_type": "markdown",
   "metadata": {},
   "source": [
    "### Acceso\n",
    "Entre corchetes introducimos el indice del elemento al que queremos acceder"
   ]
  },
  {
   "cell_type": "code",
   "execution_count": 11,
   "metadata": {},
   "outputs": [
    {
     "name": "stdout",
     "output_type": "stream",
     "text": [
      "['Enero', 'Febrero', 'Marzo']\n",
      "Enero\n",
      "Febrero\n",
      "Marzo\n",
      "\n",
      "\n",
      "Marzo\n",
      "Febrero\n"
     ]
    }
   ],
   "source": [
    "months = [\"Enero\", \"Febrero\", \"Marzo\"]\n",
    "print(months)\n",
    "print(months[0])\n",
    "print(months[1])\n",
    "print(months[2])\n",
    "\n",
    "print(\"\\n\")\n",
    "\n",
    "# Si lo que queremos es acceder al ultimo, o penultimo\n",
    "print(months[-1])\n",
    "print(months[-2])"
   ]
  },
  {
   "cell_type": "markdown",
   "metadata": {},
   "source": [
    "Si planteamos el problema al revés. Tenemos los valores de la lista y lo que queremos es obtener el índice de eso valores dentro de la lista"
   ]
  },
  {
   "cell_type": "code",
   "execution_count": 23,
   "metadata": {},
   "outputs": [
    {
     "name": "stdout",
     "output_type": "stream",
     "text": [
      "['Enero', 'Febrero', 'Marzo', 'Marzo']\n"
     ]
    },
    {
     "data": {
      "text/plain": [
       "2"
      ]
     },
     "execution_count": 23,
     "metadata": {},
     "output_type": "execute_result"
    }
   ],
   "source": [
    "months = [\"Enero\", \"Febrero\", \"Marzo\", \"Marzo\"]\n",
    "print(months)\n",
    "\n",
    "months.index(\"Marzo\") # Devuelve el indice de la primera ocurrencia"
   ]
  },
  {
   "cell_type": "markdown",
   "metadata": {},
   "source": [
    "**Slicing**: usamos slicing para acceder a varios elementos seguidos de la lista"
   ]
  },
  {
   "cell_type": "code",
   "execution_count": 32,
   "metadata": {},
   "outputs": [
    {
     "name": "stdout",
     "output_type": "stream",
     "text": [
      "[15, 26]\n"
     ]
    }
   ],
   "source": [
    "degrees = [22, 34, 15, 26, 18, 22]\n",
    "print(degrees[2:4])"
   ]
  },
  {
   "cell_type": "markdown",
   "metadata": {},
   "source": [
    "### Modificar elementos\n",
    "Las listas son mutables, por lo que podremos modificarlas"
   ]
  },
  {
   "cell_type": "code",
   "execution_count": 5,
   "metadata": {},
   "outputs": [
    {
     "name": "stdout",
     "output_type": "stream",
     "text": [
      "['Enero', 'Febrero', 'Marzo']\n",
      "['Enero', 'Febrero', 'Abril']\n"
     ]
    }
   ],
   "source": [
    "# Accediendo mediante el indice\n",
    "months = [\"Enero\", \"Febrero\", \"Marzo\"]\n",
    "print(months)\n",
    "\n",
    "months[2] = \"Abril\"\n",
    "print(months)"
   ]
  },
  {
   "cell_type": "markdown",
   "metadata": {},
   "source": [
    "### Añadir elementos\n",
    "Se añade al final de la lista si usamos `append`, o si queremos en un lugar concreto, mediante `insert`"
   ]
  },
  {
   "cell_type": "code",
   "execution_count": 12,
   "metadata": {},
   "outputs": [
    {
     "name": "stdout",
     "output_type": "stream",
     "text": [
      "['honda', 'yamaha', 'suzuki']\n",
      "['honda', 'yamaha', 'suzuki', 'ducati']\n",
      "['honda', 'yamaha', 'kawasaki', 'suzuki', 'ducati']\n"
     ]
    }
   ],
   "source": [
    "# Con append lo añadimos al final de la lista\n",
    "motorcycles = ['honda', 'yamaha', 'suzuki']\n",
    "print(motorcycles)\n",
    "\n",
    "motorcycles.append('ducati')\n",
    "print(motorcycles)\n",
    "\n",
    "# Con insert lo añadimos donde queramos\n",
    "motorcycles.insert(2, 'kawasaki')\n",
    "print(motorcycles)"
   ]
  },
  {
   "cell_type": "code",
   "execution_count": 8,
   "metadata": {},
   "outputs": [
    {
     "name": "stdout",
     "output_type": "stream",
     "text": [
      "['honda', 'yamaha', 'suzuki']\n"
     ]
    }
   ],
   "source": [
    "# Es muy comun crear una lista vacia, y a lo largo del programa, ir añadiendo elementos\n",
    "motorcycles = []\n",
    "\n",
    "motorcycles.append('honda')\n",
    "motorcycles.append('yamaha')\n",
    "motorcycles.append('suzuki')\n",
    "print(motorcycles)"
   ]
  },
  {
   "cell_type": "markdown",
   "metadata": {},
   "source": [
    "### Eliminar elementos\n",
    "Para eliminar elementos se usar `remove`. Si no existe, da error, así que cuidado con esta sentencia.\n",
    "\n",
    "En ocasiones resulta útil quedarnos con el elemento eliminado. Para ello usamos `pop()`, que elimina el elemento que le inquemos, y además devuelve ese elemento por lo que podremos guardarlo en una variable para usarlo después."
   ]
  },
  {
   "cell_type": "code",
   "execution_count": 16,
   "metadata": {},
   "outputs": [
    {
     "name": "stdout",
     "output_type": "stream",
     "text": [
      "['VW', 'Seat', 'BMW', 'VW']\n",
      "['Seat', 'BMW', 'VW']\n"
     ]
    }
   ],
   "source": [
    "cars = [\"VW\", \"Seat\", \"BMW\", \"VW\"]\n",
    "print(cars)\n",
    "\n",
    "cars.remove(\"VW\") # Elimina el primer elemento únicamente\n",
    "print(cars)"
   ]
  },
  {
   "cell_type": "code",
   "execution_count": 24,
   "metadata": {},
   "outputs": [
    {
     "name": "stdout",
     "output_type": "stream",
     "text": [
      "['VW', 'Seat', 'BMW', 'VW']\n",
      "['VW', 'BMW', 'VW']\n",
      "Seat\n",
      "['VW', 'BMW']\n",
      "VW\n"
     ]
    }
   ],
   "source": [
    "# Eliminar elementos por indice, y guardar ese valor en una variable\n",
    "cars = [\"VW\", \"Seat\", \"BMW\", \"VW\"]\n",
    "print(cars)\n",
    "\n",
    "seat = cars.pop(1)\n",
    "print(cars)\n",
    "print(seat)\n",
    "\n",
    "# Si no podemos argumentos, devuelve el ultimo elemento\n",
    "ult = cars.pop()\n",
    "print(cars)\n",
    "print(ult)"
   ]
  },
  {
   "cell_type": "markdown",
   "metadata": {},
   "source": [
    "<table align=\"left\">\n",
    " <tr><td width=\"80\"><img src=\"../../imagenes/error.png\" style=\"width:auto;height:auto\"></td>\n",
    "     <td style=\"text-align:left\">\n",
    "         <h3>ERRORES remove</h3>\n",
    "         \n",
    " </td></tr>\n",
    "</table>"
   ]
  },
  {
   "cell_type": "code",
   "execution_count": 18,
   "metadata": {},
   "outputs": [
    {
     "name": "stdout",
     "output_type": "stream",
     "text": [
      "['VW', 'Seat', 'BMW', 'VW']\n"
     ]
    },
    {
     "ename": "ValueError",
     "evalue": "list.remove(x): x not in list",
     "output_type": "error",
     "traceback": [
      "\u001b[1;31m---------------------------------------------------------------------------\u001b[0m",
      "\u001b[1;31mValueError\u001b[0m                                Traceback (most recent call last)",
      "\u001b[1;32m<ipython-input-18-0d4d5eb72af4>\u001b[0m in \u001b[0;36m<module>\u001b[1;34m\u001b[0m\n\u001b[0;32m      2\u001b[0m \u001b[0mprint\u001b[0m\u001b[1;33m(\u001b[0m\u001b[0mcars\u001b[0m\u001b[1;33m)\u001b[0m\u001b[1;33m\u001b[0m\u001b[1;33m\u001b[0m\u001b[0m\n\u001b[0;32m      3\u001b[0m \u001b[1;33m\u001b[0m\u001b[0m\n\u001b[1;32m----> 4\u001b[1;33m \u001b[0mcars\u001b[0m\u001b[1;33m.\u001b[0m\u001b[0mremove\u001b[0m\u001b[1;33m(\u001b[0m\u001b[1;34m\"Audi\"\u001b[0m\u001b[1;33m)\u001b[0m\u001b[1;33m\u001b[0m\u001b[1;33m\u001b[0m\u001b[0m\n\u001b[0m",
      "\u001b[1;31mValueError\u001b[0m: list.remove(x): x not in list"
     ]
    }
   ],
   "source": [
    "cars = [\"VW\", \"Seat\", \"BMW\", \"VW\"]\n",
    "print(cars)\n",
    "\n",
    "cars.remove(\"Audi\")"
   ]
  },
  {
   "cell_type": "markdown",
   "metadata": {},
   "source": [
    "### Métodos: ordenar, tamaño, invertir orden, ocurrencia\n",
    "En este apartado veremos los métodos más útiles, pero podrás consultar el resto en [este enlace](https://www.w3schools.com/python/python_ref_list.asp)"
   ]
  },
  {
   "cell_type": "code",
   "execution_count": 30,
   "metadata": {},
   "outputs": [
    {
     "name": "stdout",
     "output_type": "stream",
     "text": [
      "[22, 34, 15, 26, 18, 22]\n",
      "[15, 18, 22, 22, 26, 34]\n",
      "6\n",
      "[34, 26, 22, 22, 18, 15]\n",
      "2\n"
     ]
    }
   ],
   "source": [
    "degrees = [22, 34, 15, 26, 18, 22]\n",
    "print(degrees)\n",
    "\n",
    "# Ordenar\n",
    "degrees.sort()\n",
    "print(degrees)\n",
    "\n",
    "# Tamaño de la lista\n",
    "print(len(degrees))\n",
    "\n",
    "# Invertir el orden\n",
    "degrees.reverse()\n",
    "print(degrees)\n",
    "\n",
    "# Ocurrencia de un valor\n",
    "print(degrees.count(22))"
   ]
  },
  {
   "cell_type": "markdown",
   "metadata": {},
   "source": [
    "<table align=\"left\">\n",
    " <tr><td width=\"80\"><img src=\"../../imagenes/error.png\" style=\"width:auto;height:auto\"></td>\n",
    "     <td style=\"text-align:left\">\n",
    "         <h3>ERRORES indice</h3>\n",
    "         \n",
    " </td></tr>\n",
    "</table>"
   ]
  },
  {
   "cell_type": "markdown",
   "metadata": {},
   "source": [
    "Mucho cuidado cuando accedemos a los elementos de la lista. Es un error muy habitual acceder a un índice que no existe en la lista.\n",
    "\n",
    "Si estamos accediendo al ultimo elemento, en vez de poner el numero de su indice, poner mejor `-1`, y asi evitamos errores"
   ]
  },
  {
   "cell_type": "code",
   "execution_count": 50,
   "metadata": {},
   "outputs": [
    {
     "name": "stdout",
     "output_type": "stream",
     "text": [
      "[22, 34, 15, 26, 18, 22]\n",
      "22\n"
     ]
    },
    {
     "ename": "IndexError",
     "evalue": "list index out of range",
     "output_type": "error",
     "traceback": [
      "\u001b[1;31m---------------------------------------------------------------------------\u001b[0m",
      "\u001b[1;31mIndexError\u001b[0m                                Traceback (most recent call last)",
      "\u001b[1;32m<ipython-input-50-999a35f513b3>\u001b[0m in \u001b[0;36m<module>\u001b[1;34m\u001b[0m\n\u001b[0;32m      3\u001b[0m \u001b[0mprint\u001b[0m\u001b[1;33m(\u001b[0m\u001b[0mdegrees\u001b[0m\u001b[1;33m[\u001b[0m\u001b[1;33m-\u001b[0m\u001b[1;36m1\u001b[0m\u001b[1;33m]\u001b[0m\u001b[1;33m)\u001b[0m\u001b[1;33m\u001b[0m\u001b[1;33m\u001b[0m\u001b[0m\n\u001b[0;32m      4\u001b[0m \u001b[1;33m\u001b[0m\u001b[0m\n\u001b[1;32m----> 5\u001b[1;33m \u001b[0mdegrees\u001b[0m\u001b[1;33m[\u001b[0m\u001b[1;36m6\u001b[0m\u001b[1;33m]\u001b[0m\u001b[1;33m\u001b[0m\u001b[1;33m\u001b[0m\u001b[0m\n\u001b[0m",
      "\u001b[1;31mIndexError\u001b[0m: list index out of range"
     ]
    }
   ],
   "source": [
    "degrees = [22, 34, 15, 26, 18, 22]\n",
    "print(degrees)\n",
    "print(degrees[-1])\n",
    "\n",
    "degrees[6]"
   ]
  },
  {
   "cell_type": "markdown",
   "metadata": {},
   "source": [
    "Si tenemos este tipo de errores y no sabemos resolverlos, lo mejor es imprimirse elemento a elemento, además de la longitud de la lista."
   ]
  },
  {
   "cell_type": "markdown",
   "metadata": {},
   "source": [
    "<table align=\"left\">\n",
    " <tr><td width=\"80\"><img src=\"../../imagenes/ejercicio.png\" style=\"width:auto;height:auto\"></td>\n",
    "     <td style=\"text-align:left\">\n",
    "         <h3>Ejercicio de listas</h3>\n",
    "\n",
    "Piensa en al menos 3 personas que invitarías a cenar\n",
    "<ol>\n",
    "    <li>Utiliza la lista de invitados para imprimir cada uno por pantalla, mediante un bucle</li>\n",
    "    <li>Ordena alfabeticamente tu lista de invitados</li>\n",
    "    <li>¿Quién es el primer primer invitado de la lista?</li>\n",
    "    <li>Te llama uno de ellos a última hora que no va a poder asistir. Eliminalo de la lista</li>\n",
    "    <li>Por suerte te ha llamado un amigo que no iba a asistir y al final si puede. Añadelo a mitad de la lista</li>\n",
    "</ol>\n",
    "         \n",
    " </td></tr>\n",
    "</table>"
   ]
  },
  {
   "cell_type": "markdown",
   "metadata": {},
   "source": [
    "## 2. Tuplas\n",
    "Muy similares a las listas. Si en Notebooks anteriores definíamos a las listas como ordenadas y mutables, las tuplas son ordenadas e inmutables.\n",
    "\n",
    "* **Inmutables**: una vez creada la tupla con sus elementos iniciales, no se puede modificar\n",
    "* **Ordenadas**: podemos acceder a sus elementos a través del indice y reordenar la tupla según queramos\n",
    "\n",
    "Las tuplas se suelen usar para pequeñas colecciones de datos que no van a cambiar a lo largo del programa, como es el caso de las constantes.\n",
    "\n",
    "Si las listas se construían mediante corchetes `[]`, las tuplas lo hacen con los paréntesis `()`"
   ]
  },
  {
   "cell_type": "code",
   "execution_count": 33,
   "metadata": {},
   "outputs": [],
   "source": [
    "primera_tupla = (3, \"text\")"
   ]
  },
  {
   "cell_type": "markdown",
   "metadata": {},
   "source": [
    "Los paréntesis ya se usan para reordenar operaciones `5 * (3 + 4)`, por lo que hay que añadir una coma cuando definamos una tupla con un único elemento"
   ]
  },
  {
   "cell_type": "code",
   "execution_count": 35,
   "metadata": {},
   "outputs": [
    {
     "name": "stdout",
     "output_type": "stream",
     "text": [
      "<class 'tuple'>\n"
     ]
    }
   ],
   "source": [
    "tupla_uno = (1,)\n",
    "print(type(tupla_uno))"
   ]
  },
  {
   "cell_type": "code",
   "execution_count": 44,
   "metadata": {},
   "outputs": [
    {
     "name": "stdout",
     "output_type": "stream",
     "text": [
      "(1, 2, 3, ('A', 'B', 'C'))\n",
      "1\n",
      "1\n",
      "2\n",
      "3\n",
      "('A', 'B', 'C')\n",
      "(1, 2)\n",
      "4\n"
     ]
    }
   ],
   "source": [
    "# Anidacion de tuplas\n",
    "tupla_anid = (1, 2, 3, (\"A\", \"B\", \"C\"))\n",
    "print(tupla_anid)\n",
    "\n",
    "# El acceso es como en las listas\n",
    "print(tupla_anid[0])\n",
    "\n",
    "# Tambien son elementos iterables\n",
    "for i in tupla_anid:\n",
    "    print(i)\n",
    "    \n",
    "# El slicing también funciona igual\n",
    "print(tupla_anid[0:2])\n",
    "\n",
    "# Longitud de la tupla\n",
    "print(len(tupla_anid))"
   ]
  },
  {
   "cell_type": "markdown",
   "metadata": {},
   "source": [
    "<table align=\"left\">\n",
    " <tr><td width=\"80\"><img src=\"../../imagenes/error.png\" style=\"width:auto;height:auto\"></td>\n",
    "     <td style=\"text-align:left\">\n",
    "         <h3>ERRORES tuplas</h3>\n",
    "         \n",
    " </td></tr>\n",
    "</table>"
   ]
  },
  {
   "cell_type": "markdown",
   "metadata": {},
   "source": [
    "Cuidado que las tuplas son inmutables, y una vez creadas no las podrás modificar después"
   ]
  },
  {
   "cell_type": "code",
   "execution_count": 42,
   "metadata": {},
   "outputs": [
    {
     "ename": "TypeError",
     "evalue": "'tuple' object does not support item assignment",
     "output_type": "error",
     "traceback": [
      "\u001b[1;31m---------------------------------------------------------------------------\u001b[0m",
      "\u001b[1;31mTypeError\u001b[0m                                 Traceback (most recent call last)",
      "\u001b[1;32m<ipython-input-42-8b03ef598797>\u001b[0m in \u001b[0;36m<module>\u001b[1;34m\u001b[0m\n\u001b[0;32m      1\u001b[0m \u001b[0mtupla_error\u001b[0m \u001b[1;33m=\u001b[0m \u001b[1;33m(\u001b[0m\u001b[1;36m1\u001b[0m\u001b[1;33m,\u001b[0m\u001b[1;36m2\u001b[0m\u001b[1;33m,\u001b[0m\u001b[1;36m3\u001b[0m\u001b[1;33m,\u001b[0m\u001b[1;36m4\u001b[0m\u001b[1;33m,\u001b[0m\u001b[1;36m5\u001b[0m\u001b[1;33m,\u001b[0m\u001b[1;36m6\u001b[0m\u001b[1;33m)\u001b[0m\u001b[1;33m\u001b[0m\u001b[1;33m\u001b[0m\u001b[0m\n\u001b[1;32m----> 2\u001b[1;33m \u001b[0mtupla_error\u001b[0m\u001b[1;33m[\u001b[0m\u001b[1;36m3\u001b[0m\u001b[1;33m]\u001b[0m \u001b[1;33m=\u001b[0m \u001b[1;36m10\u001b[0m\u001b[1;33m\u001b[0m\u001b[1;33m\u001b[0m\u001b[0m\n\u001b[0m",
      "\u001b[1;31mTypeError\u001b[0m: 'tuple' object does not support item assignment"
     ]
    }
   ],
   "source": [
    "tupla_error = (1,2,3,4,5,6)\n",
    "tupla_error[3] = 10"
   ]
  },
  {
   "cell_type": "code",
   "execution_count": 45,
   "metadata": {},
   "outputs": [
    {
     "name": "stdout",
     "output_type": "stream",
     "text": [
      "(1, 2, 3, 4, 5, 6)\n"
     ]
    }
   ],
   "source": [
    "# Si queremos añadir elementos, podemos meterlos en otra tupla y sumarlas para que se concatenen\n",
    "tupla_1 = (1, 2, 3)\n",
    "tupla_2 = (4, 5, 6)\n",
    "\n",
    "print(tupla_1 + tupla_2)"
   ]
  },
  {
   "cell_type": "markdown",
   "metadata": {},
   "source": [
    "### Listas y tuplas\n",
    "Podemos combinar listas y tuplas que no tendremos ningún problema, siempre y cuando respetemos las propiedades de cada tipo de dato."
   ]
  },
  {
   "cell_type": "code",
   "execution_count": 48,
   "metadata": {},
   "outputs": [
    {
     "name": "stdout",
     "output_type": "stream",
     "text": [
      "['Manzanas', ('Naranjas', 'Limones'), 'Fresas']\n",
      "('Naranjas', 'Limones')\n",
      "Limones\n"
     ]
    }
   ],
   "source": [
    "frutas = [\"Manzanas\", (\"Naranjas\", \"Limones\"), \"Fresas\"]\n",
    "print(frutas)\n",
    "print(frutas[1])\n",
    "print(frutas[1][1])"
   ]
  },
  {
   "cell_type": "markdown",
   "metadata": {},
   "source": [
    "## 3. Diccionarios\n",
    "En este tipo de colecciones no solo podemos agrupar datos, sino que tenemos la posibilidad de establecer una relación entre los mismos, con la forma clave: valor.\n",
    "\n",
    "La sintaxis  es mediante llaves `{}`\n",
    "\n",
    "> nombre_diccionario = {clave: valor}\n",
    "\n",
    "Si veíamos que las listas son elementos mutables y y ordenadas, y las tuplas inmutables y ordenadas, los diccionarios son:\n",
    "\n",
    "* **Mutables**: podemos modificar sus elementos\n",
    "* **Desordenado**: la potencia de acceso de los diccionarios es su formato clave-valor, no su orden. Aun así, el dicionario conserva el orden de los elemento según los vamos insertando.\n",
    "\n",
    "Vamos a declarar un diccionario en el que definiremos elementos de un coche"
   ]
  },
  {
   "cell_type": "code",
   "execution_count": 66,
   "metadata": {},
   "outputs": [
    {
     "name": "stdout",
     "output_type": "stream",
     "text": [
      "{'color': 'Gris', 'marca': 'VW', 'peso': 1500, 'Cambio automatico': True}\n"
     ]
    }
   ],
   "source": [
    "coche = {\"color\": \"Gris\",\n",
    "        \"marca\": \"VW\",\n",
    "        \"peso\": 1500,\n",
    "        \"Cambio automatico\": True}\n",
    "\n",
    "print(coche)"
   ]
  },
  {
   "cell_type": "markdown",
   "metadata": {},
   "source": [
    "Se puede almacenar todo tipo de datos: numero, cadena, booleano, listas, tuplas, diccionarios...\n",
    "\n",
    "A la hora de declarar el diccionario, lo podemos hacer en una sola linea `coche = {\"color\"=\"Gris\", \"marca\"...}`, aunque se recomienda por sencillez a la hora de leer el código, realizar esta acción en varias líneas. Si escribimos el primer elemento y presionamos enter, Jupyter introduce automáticamente la tabulación."
   ]
  },
  {
   "cell_type": "markdown",
   "metadata": {},
   "source": [
    "### Acceso, modificación, añadir, eliminar"
   ]
  },
  {
   "cell_type": "code",
   "execution_count": 68,
   "metadata": {},
   "outputs": [
    {
     "name": "stdout",
     "output_type": "stream",
     "text": [
      "Blanco\n",
      "True\n",
      "Blanco\n",
      "{'color': 'Blanco', 'marca': 'VW', 'peso': 1500, 'Cambio automatico': True, 'puertas': 4}\n",
      "{'color': 'Blanco', 'marca': 'VW', 'peso': 1500, 'Cambio automatico': True}\n",
      "dict_keys(['color', 'marca', 'peso', 'Cambio automatico'])\n",
      "dict_values(['Blanco', 'VW', 1500, True])\n"
     ]
    }
   ],
   "source": [
    "# Acceso\n",
    "print(coche[\"color\"])\n",
    "print(coche[\"Cambio automatico\"])\n",
    "\n",
    "# Modificar elementos\n",
    "coche[\"color\"] = \"Blanco\"\n",
    "print(coche[\"color\"])\n",
    "\n",
    "# Añadir elementos\n",
    "coche[\"puertas\"] = 4\n",
    "print(coche)\n",
    "\n",
    "# Eliminar elementos\n",
    "del coche[\"puertas\"]\n",
    "print(coche)\n",
    "\n",
    "# Obtener las claves\n",
    "print(coche.keys())\n",
    "\n",
    "# También los valores\n",
    "print(coche.values())"
   ]
  },
  {
   "cell_type": "markdown",
   "metadata": {},
   "source": [
    "Para más detalle de los métodos de los diccionario puedes [consultar la documentación](https://www.w3schools.com/python/python_ref_dictionary.asp)"
   ]
  },
  {
   "cell_type": "code",
   "execution_count": 57,
   "metadata": {},
   "outputs": [
    {
     "name": "stdout",
     "output_type": "stream",
     "text": [
      "{'Direccion': 'Avenida de ...', 'Tamaño': 250}\n"
     ]
    }
   ],
   "source": [
    "# Podemos empezar tambien mediante un diccionario vacío\n",
    "tienda = {}\n",
    "tienda[\"Direccion\"] = \"Avenida de ...\"\n",
    "tienda[\"Tamaño\"] = 250\n",
    "\n",
    "print(tienda)"
   ]
  },
  {
   "cell_type": "markdown",
   "metadata": {},
   "source": [
    "<table align=\"left\">\n",
    " <tr><td width=\"80\"><img src=\"../../imagenes/error.png\" style=\"width:auto;height:auto\"></td>\n",
    "     <td style=\"text-align:left\">\n",
    "         <h3>ERRORES en diccionarios</h3>\n",
    "         \n",
    " </td></tr>\n",
    "</table>"
   ]
  },
  {
   "cell_type": "markdown",
   "metadata": {},
   "source": [
    "Si hay una clave que no existe en el diccionario, saltará un error.\n",
    "\n",
    "En este caso, el error es bastante intuitivo: `KeyError`, no encuentra la clave"
   ]
  },
  {
   "cell_type": "code",
   "execution_count": 59,
   "metadata": {},
   "outputs": [
    {
     "ename": "KeyError",
     "evalue": "'peso'",
     "output_type": "error",
     "traceback": [
      "\u001b[1;31m---------------------------------------------------------------------------\u001b[0m",
      "\u001b[1;31mKeyError\u001b[0m                                  Traceback (most recent call last)",
      "\u001b[1;32m<ipython-input-59-741e06d25563>\u001b[0m in \u001b[0;36m<module>\u001b[1;34m\u001b[0m\n\u001b[0;32m      3\u001b[0m         }\n\u001b[0;32m      4\u001b[0m \u001b[1;33m\u001b[0m\u001b[0m\n\u001b[1;32m----> 5\u001b[1;33m \u001b[0mcoche\u001b[0m\u001b[1;33m[\u001b[0m\u001b[1;34m\"peso\"\u001b[0m\u001b[1;33m]\u001b[0m\u001b[1;33m\u001b[0m\u001b[1;33m\u001b[0m\u001b[0m\n\u001b[0m",
      "\u001b[1;31mKeyError\u001b[0m: 'peso'"
     ]
    }
   ],
   "source": [
    "coche = {\"color\": \"Gris\",\n",
    "        \"marca\": \"VW\"\n",
    "        }\n",
    "\n",
    "coche[\"peso\"]"
   ]
  },
  {
   "cell_type": "markdown",
   "metadata": {},
   "source": [
    "**¿Cómo solventar esto?** Sirmpre tienes la opción de usar el bloque `try/except`, pero en este caso, los diccionarios tienen una solución más elegante: `get(clave, valor si no existe)`"
   ]
  },
  {
   "cell_type": "code",
   "execution_count": 60,
   "metadata": {},
   "outputs": [
    {
     "name": "stdout",
     "output_type": "stream",
     "text": [
      "No encuentra peso\n"
     ]
    }
   ],
   "source": [
    "coche = {\"color\": \"Gris\",\n",
    "        \"marca\": \"VW\"\n",
    "        }\n",
    "\n",
    "coche_peso = coche.get('peso', 'No encuentra peso')\n",
    "print(coche_peso)"
   ]
  },
  {
   "cell_type": "markdown",
   "metadata": {},
   "source": [
    "### Iterar\n",
    "Que el diccionario no esté ordenado, no quiere decir que no podamos interar sus elementos, ya que también es un **interable**, como los son las listas o las tuplas."
   ]
  },
  {
   "cell_type": "code",
   "execution_count": 64,
   "metadata": {},
   "outputs": [
    {
     "name": "stdout",
     "output_type": "stream",
     "text": [
      "color\n",
      "Gris\n",
      "marca\n",
      "VW\n",
      "color Gris\n",
      "marca VW\n"
     ]
    }
   ],
   "source": [
    "coche = {\"color\": \"Gris\",\n",
    "        \"marca\": \"VW\"\n",
    "        }\n",
    "\n",
    "for i in coche: # Esta recorriendo las claves\n",
    "    print(i) # Imprimimos la clave\n",
    "    print(coche[i]) # Imprimimos el valor\n",
    "    \n",
    "# Otra menera de recorrer los elementos\n",
    "for clave, valor in coche.items():\n",
    "    print(clave, valor)"
   ]
  }
 ],
 "metadata": {
  "kernelspec": {
   "display_name": "Python 3",
   "language": "python",
   "name": "python3"
  },
  "language_info": {
   "codemirror_mode": {
    "name": "ipython",
    "version": 3
   },
   "file_extension": ".py",
   "mimetype": "text/x-python",
   "name": "python",
   "nbconvert_exporter": "python",
   "pygments_lexer": "ipython3",
   "version": "3.7.6"
  }
 },
 "nbformat": 4,
 "nbformat_minor": 4
}
