{
 "cells": [
  {
   "cell_type": "markdown",
   "metadata": {},
   "source": [
    "# Ejercicio 1\n",
    "En este ejercicio vas a realizar un programa ya algo más complejo, en el que tendrás que utilizar clases, bucles, listas, input y módulos de Python. Vas a trabajar con datos reales, de las estaciones de bicicleta de *BiciMAD*. Necesitarás implementar un par de clases para modelizar tus datos. Además, el programa que diseñes será interactivo y le pedirá al usuario ciertos inputs.\n",
    "\n",
    "Necesitas 3 script que irán en el mismo directorio:\n",
    "1. main.py\n",
    "2. clases.py\n",
    "3. funciones.py\n",
    "\n",
    "El script que tendrás que ejecutar para que funcione tu programa será \"main.py\". Ya tienes un código hecho que lee los datos de bicimad y los añade a un DataFrame de pandas. Ese sería el inicio del programa. **Asegúrante que tienes en el mismo directorio el archivo \"2018_Julio_Bases_Bicimad_EMT.xlsx\"**.\n",
    "\n",
    "Puedes, o bien desarrollar el ejercicio en la propia carpeta del día de clase, o crearte una carpeta en otro lugar del ordenador.\n",
    "\n",
    "¿Qué debería llevar cada archivo?\n",
    "\n",
    "### clases.py\n",
    "En este script diseñarás tus clases, que luego importarás en otro script para crear tus objetos personalizados. Tienes que implementar dos clases:\n",
    "\n",
    "#### clase Estacion\n",
    "Con esta clase podrás crear tus objetos de tipo `Estación`, los cuales tendrán ciertas propiedades como su nombre o ubicación, y alguna que otra función útil.\n",
    "\n",
    "Necesitas crear un __init__ de este estilo:\n",
    "```Python\n",
    "def __init__(self, name, identificador, num_bicis, address, longitude, latitude)\n",
    "```\n",
    "**Rellena el resto del __init__**\n",
    "\n",
    "Y un método `distancia` que ya te doy hecho. Este método calcula la distancia entre la estación de ese objeto (que tiene asociadas una latitud y una longitud) con la latitud y longitud que introduzcamos. El output es en km.\n",
    "\n",
    "```Python\n",
    "def distancia(self, longitude, latitude):\n",
    "\n",
    "    lat1, lon1 = self.latitude, self.longitude\n",
    "    lat2, lon2 = latitude, longitude\n",
    "    radius = 6371  # km\n",
    "\n",
    "    dlat = math.radians(lat2 - lat1)\n",
    "    dlon = math.radians(lon2 - lon1)\n",
    "    a = (math.sin(dlat / 2) * math.sin(dlat / 2) +\n",
    "         math.cos(math.radians(lat1)) * math.cos(math.radians(lat2)) *\n",
    "         math.sin(dlon / 2) * math.sin(dlon / 2))\n",
    "    c = 2 * math.atan2(math.sqrt(a), math.sqrt(1 - a))\n",
    "    d = radius * c\n",
    "\n",
    "    return d\n",
    "```        \n",
    "        \n",
    "#### clase ComunidadMadrid\n",
    "Esta clase debe tener lo siguiente:\n",
    "* Un __init__ con un único parámetro de entrada, que serán las `estaciones`. Cuando crees un objeto de esta clase tendrás que introducir como argumento de entrada una lista cuyo contenido sean todo objetos de tipo `Estacion`.\n",
    "* Un método `get_ids(self)`, sin parámetros de entrada, que devuelva una lista con todos los identificadores de estación en formato `int`.\n",
    "* Otro método, `busca_estacion(self, estacion, tipo_busqueda)`, que busque el parámetro de entrada `estacion`, dentro de las estaciones del objeto ComunidadMadrid. El tipo de búsqueda puede ser por \"id\", en ese caso buscará entre los identificadores de estación, o puede ser por \"name\", en cuyo caso buscará si el parámetro de entrada `estacion` está contenido en el nombre de alguna de las estaciones. Si no encuentra la estación, devuelve `None`, y si la encuentra, devuelve el objeto estación completo.\n",
    "\n",
    "### funciones.py\n",
    "Implementa una función que tenga las siguientes características:\n",
    "* Nombre: `dist_estaciones`\n",
    "* Input: (est1, est2, comunidad). Son dos objetos de tipo `Estacion`, y otro de tipo `ComunidadMadrid`.\n",
    "* Output: la distancia entre ambas estaciones.\n",
    "\n",
    "### main.py\n",
    "El script main tiene que ser un programa interactivo que vaya preguntando al usuario. Vamos paso a paso:\n",
    "* Importa tus clases y funciones al principio del script\n",
    "* Descomenta las líneas de código que hay tras el importado de datos, de manera que crees una lista con todas las estaciones, con sus datos.\n",
    "* Crea un objeto llamado `comunidad`, que sea de tipo `ComunidadMadrid`\n",
    "* Lo que viene a partir de ahora es un `while True:`. Que se ejecutará siempre, a no ser que en algún punto del `while` haya un `break`. Ahora vemos dónde ponerlo.\n",
    "* Al principio del `while` hay que preguntar al usuario qué desea hacer, mediante un menú sencillo:\n",
    "\n",
    "    Escoge una opcion: \n",
    "    1. Busca estacion (nombre)\n",
    "    2. Calcula distancia (entre ids)\n",
    "    3. Salir del programa\n",
    "    \n",
    "Son las tres opciones que tiene el usuario para introducir: 1,2,3\n",
    "\n",
    "* **Si introduce 3**: Pon un mensaje de despedida y sal del `while`. Aquí va el `break`!. Te recomiendo que empieces por aquí para que no se te quede el `while` en un bucle infinito. Asegúrate que el menú funciona bien y después implementa las funcionalidades de cada opción.\n",
    "\n",
    "* **Si introduce 1**: tienes que buscar la estación (por nombre) entre todas las estaciones del objeto `comunidad`. Si la encuentras, imprime por pantalla su nombre, preguntale al usuario \"¿Qué más deseas hacer?\", y que el programa vuelva al menú con las tres opciones. Si no la encuentra, ponlo también por pantalla con un print, y que el programa vuelva al menú.\n",
    "\n",
    "* **Si introduce 2**: hay que pedirle al usuario dos inputs, que serán dos enteros con los dos ids de estación. Con esos ids calcula la distancia entre ambas estaciones.\n",
    "\n",
    "* **En cualquier otro caso**: imprime por pantalla que la respuesta no es valida, y vuelve al menu inicial."
   ]
  },
  {
   "cell_type": "code",
   "execution_count": 2,
   "metadata": {},
   "outputs": [
    {
     "data": {
      "text/plain": [
       "'\\ntot_est = []\\nfor index, row in df.iterrows():\\n    estacion = Estacion(row[0], row[3], row[1], row[6], row[4], row[5])\\n    tot_est.append(estacion)\\n'"
      ]
     },
     "execution_count": 2,
     "metadata": {},
     "output_type": "execute_result"
    }
   ],
   "source": [
    "import pandas as pd\n",
    "\n",
    "df = pd.read_excel(\"2018_Julio_Bases_Bicimad_EMT.xlsx\")\n",
    "\n",
    "'''\n",
    "tot_est = []\n",
    "for index, row in df.iterrows():\n",
    "    estacion = Estacion(row[0], row[3], row[1], row[6], row[4], row[5])\n",
    "    tot_est.append(estacion)\n",
    "'''"
   ]
  }
 ],
 "metadata": {
  "kernelspec": {
   "display_name": "Python 3",
   "language": "python",
   "name": "python3"
  },
  "language_info": {
   "codemirror_mode": {
    "name": "ipython",
    "version": 3
   },
   "file_extension": ".py",
   "mimetype": "text/x-python",
   "name": "python",
   "nbconvert_exporter": "python",
   "pygments_lexer": "ipython3",
   "version": "3.7.6"
  }
 },
 "nbformat": 4,
 "nbformat_minor": 4
}
