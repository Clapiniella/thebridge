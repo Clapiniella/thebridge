{
 "cells": [
  {
   "cell_type": "markdown",
   "metadata": {},
   "source": [
    "# __Pandas Profiling__\n",
    "\n",
    "Pandas Profiling es una librería de Python que calcula un EDA de un DataFrame\n",
    "\n",
    "En Anaconda, ve a Environments - (elige tu entorno donde estés trabajando ahora) - filtra por los paquetes no instalados (not installed), busca pandas_profiling y dale a instalar. Reinicia Anaconda para que se pueda ejecutar correctamente.\n",
    "\n",
    "Si no te aparece, en una celda del notebook ejecuta !pip install pandas_profiling, aunque esto no te instalará las dependencias que necesita el paquete, mientras que desde el entorno de Anaconda sí se instalarán todas las depedencias necesarias.\n"
   ]
  },
  {
   "cell_type": "code",
   "execution_count": 1,
   "metadata": {},
   "outputs": [],
   "source": [
    "# importamos las librerías\n"
   ]
  },
  {
   "cell_type": "code",
   "execution_count": 2,
   "metadata": {},
   "outputs": [],
   "source": [
    "# fichero trabajado en FE Numérico 'fcc_2016_coder_survey_subset.csv'\n"
   ]
  },
  {
   "cell_type": "code",
   "execution_count": 1,
   "metadata": {},
   "outputs": [],
   "source": [
    "# obtenemos un head"
   ]
  },
  {
   "cell_type": "markdown",
   "metadata": {},
   "source": [
    "### Ejecución de pandas_profiling\n",
    "\n",
    "Recorre y comprende las distintas vistas:\n",
    "\n",
    "1. Overview\n",
    "2. Variables\n",
    "3. Interactions\n",
    "4. Correlations\n",
    "5. Missing values\n",
    "6. Sample\n",
    "\n",
    "Extiende las opciones con los botones toggle.\n"
   ]
  },
  {
   "cell_type": "code",
   "execution_count": 2,
   "metadata": {},
   "outputs": [],
   "source": [
    "# Obtén un reporte EDA con Pandas Profiling"
   ]
  },
  {
   "cell_type": "markdown",
   "metadata": {},
   "source": [
    "### ¿Qué ventajas y desventajas opinas que tiene Pandas Profiling para obtener EDAs?"
   ]
  }
 ],
 "metadata": {
  "kernelspec": {
   "display_name": "Python 3",
   "language": "python",
   "name": "python3"
  },
  "language_info": {
   "codemirror_mode": {
    "name": "ipython",
    "version": 3
   },
   "file_extension": ".py",
   "mimetype": "text/x-python",
   "name": "python",
   "nbconvert_exporter": "python",
   "pygments_lexer": "ipython3",
   "version": "3.7.4"
  }
 },
 "nbformat": 4,
 "nbformat_minor": 4
}
