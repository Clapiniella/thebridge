{
 "cells": [
  {
   "cell_type": "markdown",
   "metadata": {
    "id": "ZZqRbOggp7cN"
   },
   "source": [
    "# Ejemplo de WebScraping con Python\n",
    "## Obtener Ibex35 bolsa de Madrid\n",
    "\n",
    "El objetivo es obtener el valor del indice Ibex 35 de la página http://www.bolsamadrid.es/esp/aspx/Indices/Resumen.aspx. Queremos escribir los datos en un fichero csv."
   ]
  },
  {
   "cell_type": "code",
   "execution_count": 12,
   "metadata": {
    "ExecuteTime": {
     "end_time": "2019-01-27T17:53:23.662759Z",
     "start_time": "2019-01-27T17:53:23.651938Z"
    },
    "id": "XUAvkdIBp7cO"
   },
   "outputs": [],
   "source": [
    "# import libraries \n",
    "\n",
    "\n",
    "\n"
   ]
  },
  {
   "cell_type": "code",
   "execution_count": 13,
   "metadata": {
    "ExecuteTime": {
     "end_time": "2019-01-27T17:38:57.659158Z",
     "start_time": "2019-01-27T17:38:57.655785Z"
    },
    "id": "985uKMyTp7cR"
   },
   "outputs": [],
   "source": [
    "# indicar la ruta\n",
    "\n",
    "\n",
    "# url = 'http://www.bolsamadrid.es/esp/aspx/Indices/Resumen.aspx'\n",
    "\n"
   ]
  },
  {
   "cell_type": "code",
   "execution_count": 1,
   "metadata": {
    "ExecuteTime": {
     "end_time": "2019-01-27T17:40:11.127856Z",
     "start_time": "2019-01-27T17:40:10.642601Z"
    },
    "id": "dGObV_Hep7cT"
   },
   "outputs": [],
   "source": [
    "# realizar la petición con requests, y crear un objeto de BS. Indicar que el parser es \"lxml\"\n",
    "\n",
    "\n"
   ]
  },
  {
   "cell_type": "code",
   "execution_count": 2,
   "metadata": {
    "ExecuteTime": {
     "end_time": "2019-01-27T17:42:00.515429Z",
     "start_time": "2019-01-27T17:42:00.504178Z"
    },
    "id": "5TLakEXHp7cW"
   },
   "outputs": [],
   "source": [
    "# Obtenemos la tabla por un ID específico\n",
    "# El atributo es 'id': 'ctl00_Contenido_tblÍndices'\n",
    "\n"
   ]
  },
  {
   "cell_type": "code",
   "execution_count": 3,
   "metadata": {
    "ExecuteTime": {
     "end_time": "2019-01-27T17:55:08.443093Z",
     "start_time": "2019-01-27T17:55:08.436365Z"
    },
    "id": "DJFGMM_5p7cY",
    "outputId": "febdb8a9-35b6-47de-c91d-4d977efe7573"
   },
   "outputs": [
    {
     "data": {
      "text/plain": [
       "'\\nname=\"\"\\nprice=\"\"\\nnroFila=0\\nfor fila in tabla.find_all(\"tr\"):\\n    if nroFila==1:\\n        nroCelda=0\\n        for celda in fila.find_all(\\'td\\'):\\n            if nroCelda==0:\\n                name=celda.text\\n                print(\"Indice:\", name)\\n            if nroCelda==2:\\n                price=celda.text\\n                print(\"Valor:\", price)\\n            nroCelda=nroCelda+1\\n    nroFila=nroFila+1\\n'"
      ]
     },
     "execution_count": 3,
     "metadata": {},
     "output_type": "execute_result"
    }
   ],
   "source": [
    "# quedarse con los valores correspondientes al Ibex 35, y a su indice\n",
    "\n",
    "'''\n",
    "name=\"\"\n",
    "price=\"\"\n",
    "nroFila=0\n",
    "for fila in tabla.find_all(\"tr\"):\n",
    "    if nroFila==1:\n",
    "        nroCelda=0\n",
    "        for celda in fila.find_all('td'):\n",
    "            if nroCelda==0:\n",
    "                name=celda.text\n",
    "                print(\"Indice:\", name)\n",
    "            if nroCelda==2:\n",
    "                price=celda.text\n",
    "                print(\"Valor:\", price)\n",
    "            nroCelda=nroCelda+1\n",
    "    nroFila=nroFila+1\n",
    "'''"
   ]
  },
  {
   "cell_type": "code",
   "execution_count": 4,
   "metadata": {
    "ExecuteTime": {
     "end_time": "2019-01-27T17:56:28.279786Z",
     "start_time": "2019-01-27T17:56:28.271938Z"
    },
    "id": "j1o4l0AWp7cb"
   },
   "outputs": [],
   "source": [
    "# Abrimos el csv con append para que pueda agregar contenidos al final del archivo\n",
    "# opcionalmente podemos incluir la fecha con datetime.now()\n",
    "\n",
    "# Abrimos el csv con append para que pueda agregar contenidos al final del archivo\n"
   ]
  },
  {
   "cell_type": "markdown",
   "metadata": {
    "id": "H1kp6UHjp7ce"
   },
   "source": [
    "El artículo completo en www.aprendemachinelearning.com"
   ]
  },
  {
   "cell_type": "markdown",
   "metadata": {
    "id": "BMtoJhc0p7ce"
   },
   "source": [
    "## Acediendo a datos de twitter\n",
    "\n",
    "Vamos a acceder a los datos de twitter utilizando la API de Twitter, y la libreria tweepy, y vamos a guardar los datos en un fichero CSV."
   ]
  },
  {
   "cell_type": "markdown",
   "metadata": {
    "id": "LtjjOAs7p7cf"
   },
   "source": [
    "Para ello en primer lugar teneis que crear una aplicación en el área de desarrolladores de twitter, lo que nos permitirá acceder la API Key, el secret API Key, y Los Tokens de acceso\n"
   ]
  },
  {
   "cell_type": "markdown",
   "metadata": {
    "id": "H9pvDAIGp7cf"
   },
   "source": [
    "1. Importar las librerias necesarias"
   ]
  },
  {
   "cell_type": "code",
   "execution_count": null,
   "metadata": {
    "id": "jT8IH51dp7cg"
   },
   "outputs": [],
   "source": []
  },
  {
   "cell_type": "markdown",
   "metadata": {
    "id": "jmbRr2Lxp7ci"
   },
   "source": [
    "2. Crear las variables con los tokens y los Ids de las APIs"
   ]
  },
  {
   "cell_type": "code",
   "execution_count": 5,
   "metadata": {
    "id": "ddZblCjup7ci"
   },
   "outputs": [],
   "source": [
    "\n",
    "access_token = \"\"  \n",
    "access_token_secret = \"\"  \n",
    "consumer_key = \"\"  \n",
    "consumer_secret = \"\"  \n",
    " \n"
   ]
  },
  {
   "cell_type": "markdown",
   "metadata": {
    "id": "U0qq_GUVp7ck"
   },
   "source": [
    "3. Autenticarse con tweepy, y crear un objeto API de tweepy"
   ]
  },
  {
   "cell_type": "code",
   "execution_count": null,
   "metadata": {
    "id": "vZbH9LsAp7cl"
   },
   "outputs": [],
   "source": []
  },
  {
   "cell_type": "markdown",
   "metadata": {
    "id": "nYCBLrfSp7cn"
   },
   "source": [
    "4. Abrir un fichero csv en modo append e incluir una busqueda por un hastag "
   ]
  },
  {
   "cell_type": "code",
   "execution_count": 6,
   "metadata": {
    "id": "axMsI31zp7cn"
   },
   "outputs": [],
   "source": [
    "\n",
    "#Use csv Writer\n"
   ]
  },
  {
   "cell_type": "code",
   "execution_count": null,
   "metadata": {
    "id": "bzDjTqrKp7cq"
   },
   "outputs": [],
   "source": []
  },
  {
   "cell_type": "markdown",
   "metadata": {
    "id": "2xgvD5hCp7cs"
   },
   "source": [
    "## Acceder a una serie de datos del INE\n",
    "\n",
    "Debemos obtener el identificador, con el generador de solicitudes de las APIs \n",
    "Realizar el mismo proceso que hemos visto en el WarmUp"
   ]
  },
  {
   "cell_type": "code",
   "execution_count": 7,
   "metadata": {
    "id": "EbWl3r0lp7cs"
   },
   "outputs": [],
   "source": [
    "\n",
    "\n",
    "# url_plantilla = 'http://servicios.ine.es/wstempus/js/ES/DATOS_SERIE/{codigo}?nult={num_datos}'\n",
    "\n",
    "# codigo de la serie de datos a consultar y numero de datos\n",
    "\n",
    "\n",
    "\n",
    "# realizar la descarga de los datos usando la libreria request, y leyendo el formato json\n",
    "\n"
   ]
  },
  {
   "cell_type": "code",
   "execution_count": null,
   "metadata": {},
   "outputs": [],
   "source": []
  }
 ],
 "metadata": {
  "colab": {
   "name": "2-ejercicios-DataAccess.ipynb",
   "provenance": []
  },
  "kernelspec": {
   "display_name": "Python 3",
   "language": "python",
   "name": "python3"
  },
  "language_info": {
   "codemirror_mode": {
    "name": "ipython",
    "version": 3
   },
   "file_extension": ".py",
   "mimetype": "text/x-python",
   "name": "python",
   "nbconvert_exporter": "python",
   "pygments_lexer": "ipython3",
   "version": "3.7.4"
  }
 },
 "nbformat": 4,
 "nbformat_minor": 4
}
