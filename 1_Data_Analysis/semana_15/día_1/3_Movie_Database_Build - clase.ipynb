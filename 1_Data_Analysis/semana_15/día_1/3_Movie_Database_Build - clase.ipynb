{
 "cells": [
  {
   "cell_type": "markdown",
   "metadata": {
    "id": "HF-_uKhl0Zdc"
   },
   "source": [
    "## This notebook does the following \n",
    "* **Retrieves and prints basic data about a movie (title entered by user) from the web (OMDB database)**\n",
    "* **If a poster of the movie could be found, it downloads the file and saves at a user-specified location**\n",
    "* **Finally, stores the movie data in a local SQLite database**"
   ]
  },
  {
   "cell_type": "code",
   "execution_count": null,
   "metadata": {
    "id": "sblENCIn0Zdd"
   },
   "outputs": [],
   "source": []
  },
  {
   "cell_type": "markdown",
   "metadata": {
    "id": "qnBoXIMd0Zdg"
   },
   "source": [
    "### Gets the secret API key (you have to get one from OMDB website and use that, 1000 daily limit) from a JSON file, stored in the same folder"
   ]
  },
  {
   "cell_type": "markdown",
   "metadata": {
    "id": "VOE7B8Fv0Zdh"
   },
   "source": [
    "with open('APIkeys.json') as f:\n",
    "    keys = json.load(f)\n",
    "\n",
    "omdbapi = keys['OMDBapi']"
   ]
  },
  {
   "cell_type": "code",
   "execution_count": 1,
   "metadata": {
    "id": "1Jy1Timw0Zdh"
   },
   "outputs": [
    {
     "data": {
      "text/plain": [
       "\"\\nomdbapi= 'cba04cc6'\\nserviceurl = 'http://www.omdbapi.com/?'\\napikey = '&apikey='+omdbapi\\n\""
      ]
     },
     "execution_count": 1,
     "metadata": {},
     "output_type": "execute_result"
    }
   ],
   "source": [
    "# including the personal token in all the request to the API\n",
    "'''\n",
    "omdbapi= 'cba04cc6'\n",
    "serviceurl = 'http://www.omdbapi.com/?'\n",
    "apikey = '&apikey='+omdbapi\n",
    "'''"
   ]
  },
  {
   "cell_type": "markdown",
   "metadata": {
    "id": "h0egl9yE0Zdk"
   },
   "source": [
    "### Function for printing a JSON dataset"
   ]
  },
  {
   "cell_type": "code",
   "execution_count": 2,
   "metadata": {
    "id": "EOj7L3uQ0Zdk"
   },
   "outputs": [
    {
     "data": {
      "text/plain": [
       "'\\ndef print_json(json_data):\\n    list_keys=[\\'Title\\', \\'Year\\', \\'Rated\\', \\'Released\\', \\'Runtime\\', \\'Genre\\', \\'Director\\', \\'Writer\\', \\n               \\'Actors\\', \\'Plot\\', \\'Language\\', \\'Country\\', \\'Awards\\', \\'Ratings\\', \\n               \\'Metascore\\', \\'imdbRating\\', \\'imdbVotes\\', \\'imdbID\\']\\n    print(\"-\"*50)\\n    for k in list_keys:\\n        if k in list(json_data.keys()):\\n            print(f\"{k}: {json_data[k]}\")\\n    print(\"-\"*50)\\n'"
      ]
     },
     "execution_count": 2,
     "metadata": {},
     "output_type": "execute_result"
    }
   ],
   "source": [
    "'''\n",
    "def print_json(json_data):\n",
    "    list_keys=['Title', 'Year', 'Rated', 'Released', 'Runtime', 'Genre', 'Director', 'Writer', \n",
    "               'Actors', 'Plot', 'Language', 'Country', 'Awards', 'Ratings', \n",
    "               'Metascore', 'imdbRating', 'imdbVotes', 'imdbID']\n",
    "    print(\"-\"*50)\n",
    "    for k in list_keys:\n",
    "        if k in list(json_data.keys()):\n",
    "            print(f\"{k}: {json_data[k]}\")\n",
    "    print(\"-\"*50)\n",
    "'''"
   ]
  },
  {
   "cell_type": "markdown",
   "metadata": {
    "id": "QgL96pzo0Zdn"
   },
   "source": [
    "### Function to download a poster of the movie based on the information from the jason dataset\n",
    "**Saves the downloaded poster in a local directory called 'Posters'**"
   ]
  },
  {
   "cell_type": "code",
   "execution_count": 3,
   "metadata": {
    "id": "LYiWw6Tt0Zdn"
   },
   "outputs": [
    {
     "data": {
      "text/plain": [
       "\"\\ndef save_poster(json_data):\\n    import os\\n    title = json_data['Title']\\n    poster_url = json_data['Poster']\\n    # Splits the poster url by '.' and picks up the last string as file extension\\n    poster_file_extension=poster_url.split('.')[-1]\\n    # Reads the image file from web\\n    poster_data = urllib.request.urlopen(poster_url).read()\\n    \\n    #cuidado con el path de Posters.\\n    \\n    savelocation=os.getcwd()+'/Posters/'\\n    print(savelocation)\\n    # Creates new directory if the directory does not exist. Otherwise, just use the existing path.\\n    if not os.path.isdir(savelocation):\\n        os.mkdir(savelocation)\\n    \\n    filename=savelocation+str(title)+'.'+poster_file_extension\\n    f=open(filename,'wb')\\n    f.write(poster_data)\\n    f.close()\\n\""
      ]
     },
     "execution_count": 3,
     "metadata": {},
     "output_type": "execute_result"
    }
   ],
   "source": [
    "'''\n",
    "def save_poster(json_data):\n",
    "    import os\n",
    "    title = json_data['Title']\n",
    "    poster_url = json_data['Poster']\n",
    "    # Splits the poster url by '.' and picks up the last string as file extension\n",
    "    poster_file_extension=poster_url.split('.')[-1]\n",
    "    # Reads the image file from web\n",
    "    poster_data = urllib.request.urlopen(poster_url).read()\n",
    "    \n",
    "    #cuidado con el path de Posters.\n",
    "    \n",
    "    savelocation=os.getcwd()+'/Posters/'\n",
    "    print(savelocation)\n",
    "    # Creates new directory if the directory does not exist. Otherwise, just use the existing path.\n",
    "    if not os.path.isdir(savelocation):\n",
    "        os.mkdir(savelocation)\n",
    "    \n",
    "    filename=savelocation+str(title)+'.'+poster_file_extension\n",
    "    f=open(filename,'wb')\n",
    "    f.write(poster_data)\n",
    "    f.close()\n",
    "'''"
   ]
  },
  {
   "cell_type": "markdown",
   "metadata": {
    "id": "gIH86PhA0Zdq"
   },
   "source": [
    "### Function to create/update the local movie database with the data retreived from the web\n",
    "**Saves the movie data (Title, Year, Runtime, Country, Metascore, and IMDB rating) into a local SQLite database called 'movieinfo.sqlite'** "
   ]
  },
  {
   "cell_type": "code",
   "execution_count": 5,
   "metadata": {
    "id": "XIo2JAXR0Zdq"
   },
   "outputs": [],
   "source": [
    "\n",
    "def save_in_database(json_data):\n",
    "    \n",
    "    filename = input(\"Please enter a name for the database (extension not needed, it will be added automatically): \")\n",
    "    filename = filename+'.sqlite'\n",
    "    \n",
    "    import sqlite3 # base de datos server-less ligera\n",
    "    conn = sqlite3.connect(str(filename))\n",
    "    cur=conn.cursor() # el cursor ejecuta sentencias SQL\n",
    "    \n",
    "    title = json_data['Title']\n",
    "    # Goes through the json dataset and extracts information if it is available\n",
    "    if json_data['Year']!='N/A':\n",
    "        year = int(json_data['Year'])\n",
    "    if json_data['Runtime']!='N/A':\n",
    "        runtime = int(json_data['Runtime'].split()[0])\n",
    "    if json_data['Country']!='N/A':\n",
    "        country = json_data['Country']\n",
    "    if json_data['Metascore']!='N/A':\n",
    "        metascore = float(json_data['Metascore'])\n",
    "    else:\n",
    "        metascore=-1\n",
    "    if json_data['imdbRating']!='N/A':\n",
    "        imdb_rating = float(json_data['imdbRating'])\n",
    "    else:\n",
    "        imdb_rating=-1\n",
    "    \n",
    "    # SQL commands\n",
    "    cur.execute('''CREATE TABLE IF NOT EXISTS MovieInfo \n",
    "    (Title TEXT, Year INTEGER, Runtime INTEGER, Country TEXT, Metascore REAL, IMDBRating REAL)''')\n",
    "    \n",
    "    cur.execute('SELECT Title FROM MovieInfo WHERE Title = ? ', (title,))\n",
    "    row = cur.fetchone()\n",
    "    \n",
    "    if row is None:\n",
    "        cur.execute('''INSERT INTO MovieInfo (Title, Year, Runtime, Country, Metascore, IMDBRating)\n",
    "                VALUES (?,?,?,?,?,?)''', (title,year,runtime,country,metascore,imdb_rating))\n",
    "    else:\n",
    "        print(\"Record already found. No update made.\")\n",
    "    \n",
    "    # Commits the change and close the connection to the database\n",
    "    conn.commit()\n",
    "    conn.close()\n"
   ]
  },
  {
   "cell_type": "markdown",
   "metadata": {
    "id": "lMO2B_8t0Zdt"
   },
   "source": [
    "### Function to print contents of  the local database"
   ]
  },
  {
   "cell_type": "code",
   "execution_count": 4,
   "metadata": {
    "id": "gGACC-KK0Zdt"
   },
   "outputs": [
    {
     "data": {
      "text/plain": [
       "\"\\ndef print_database(database):\\n    \\n    import sqlite3\\n    conn = sqlite3.connect(str(database))\\n    cur=conn.cursor()\\n    \\n    for row in cur.execute('SELECT * FROM MovieInfo'):\\n        print(row)\\n    conn.close()\\n\""
      ]
     },
     "execution_count": 4,
     "metadata": {},
     "output_type": "execute_result"
    }
   ],
   "source": [
    "'''\n",
    "def print_database(database):\n",
    "    \n",
    "    import sqlite3\n",
    "    conn = sqlite3.connect(str(database))\n",
    "    cur=conn.cursor()\n",
    "    \n",
    "    for row in cur.execute('SELECT * FROM MovieInfo'):\n",
    "        print(row)\n",
    "    conn.close()\n",
    "'''"
   ]
  },
  {
   "cell_type": "markdown",
   "metadata": {
    "id": "6QSd-ezk0Zdw"
   },
   "source": [
    "### Function to save the database content in an Excel file"
   ]
  },
  {
   "cell_type": "code",
   "execution_count": 5,
   "metadata": {
    "id": "wB1Xf4lW0Zdw"
   },
   "outputs": [
    {
     "data": {
      "text/plain": [
       "'\\ndef save_in_excel(filename, database):\\n    \\n    if filename.split(\\'.\\')[-1]!=\\'xls\\' and filename.split(\\'.\\')[-1]!=\\'xlsx\\':\\n        print (\"Filename does not have correct extension. Please try again\")\\n        return None\\n    \\n    import pandas as pd\\n    import sqlite3\\n    \\n    #df=pd.DataFrame(columns=[\\'Title\\',\\'Year\\', \\'Runtime\\', \\'Country\\', \\'Metascore\\', \\'IMDB_Rating\\'])\\n    \\n    conn = sqlite3.connect(str(database))\\n    #cur=conn.cursor()\\n    \\n    df=pd.read_sql_query(\"SELECT * FROM MovieInfo\", conn)\\n    conn.close()\\n    \\n    df.to_excel(filename,sheet_name=\\'Movie Info\\')\\n'"
      ]
     },
     "execution_count": 5,
     "metadata": {},
     "output_type": "execute_result"
    }
   ],
   "source": [
    "'''\n",
    "def save_in_excel(filename, database):\n",
    "    \n",
    "    if filename.split('.')[-1]!='xls' and filename.split('.')[-1]!='xlsx':\n",
    "        print (\"Filename does not have correct extension. Please try again\")\n",
    "        return None\n",
    "    \n",
    "    import pandas as pd\n",
    "    import sqlite3\n",
    "    \n",
    "    #df=pd.DataFrame(columns=['Title','Year', 'Runtime', 'Country', 'Metascore', 'IMDB_Rating'])\n",
    "    \n",
    "    conn = sqlite3.connect(str(database))\n",
    "    #cur=conn.cursor()\n",
    "    \n",
    "    df=pd.read_sql_query(\"SELECT * FROM MovieInfo\", conn)\n",
    "    conn.close()\n",
    "    \n",
    "    df.to_excel(filename,sheet_name='Movie Info')\n",
    "'''"
   ]
  },
  {
   "cell_type": "markdown",
   "metadata": {
    "id": "xpYy12CR0Zdy"
   },
   "source": [
    "### Function to search for information about a movie"
   ]
  },
  {
   "cell_type": "code",
   "execution_count": 6,
   "metadata": {
    "code_folding": [],
    "id": "qOW7dkPn0Zdz"
   },
   "outputs": [
    {
     "data": {
      "text/plain": [
       "'\\ndef search_movie(title):\\n    if len(title) < 1 or title==\\'quit\\': \\n        print(\"Goodbye now...\")\\n        return None\\n\\n    try:\\n        url = serviceurl + urllib.parse.urlencode({\\'t\\': title})+apikey\\n        print(f\\'Retrieving the data of \"{title}\" now... \\')\\n        uh = urllib.request.urlopen(url)\\n        data = uh.read()\\n        json_data=json.loads(data)\\n        \\n        if json_data[\\'Response\\']==\\'True\\':\\n            print_json(json_data)\\n            \\n            # Asks user whether to download the poster of the movie\\n            if json_data[\\'Poster\\']!=\\'N/A\\':\\n                poster_yes_no=input (\\'Poster of this movie can be downloaded. Enter \"yes\" or \"no\": \\').lower()\\n                if poster_yes_no==\\'yes\\':\\n                    save_poster(json_data)\\n            # Asks user whether to save the movie information in a local database\\n            save_database_yes_no=input (\\'Save the movie info in a local database? Enter \"yes\" or \"no\": \\').lower()\\n            if save_database_yes_no==\\'yes\\':\\n                save_in_database(json_data)\\n        else:\\n            print(\"Error encountered: \",json_data[\\'Error\\'])\\n    \\n    except urllib.error.URLError as e:\\n        print(f\"ERROR: {e.reason}\")\\n'"
      ]
     },
     "execution_count": 6,
     "metadata": {},
     "output_type": "execute_result"
    }
   ],
   "source": [
    "'''\n",
    "def search_movie(title):\n",
    "    if len(title) < 1 or title=='quit': \n",
    "        print(\"Goodbye now...\")\n",
    "        return None\n",
    "\n",
    "    try:\n",
    "        url = serviceurl + urllib.parse.urlencode({'t': title})+apikey\n",
    "        print(f'Retrieving the data of \"{title}\" now... ')\n",
    "        uh = urllib.request.urlopen(url)\n",
    "        data = uh.read()\n",
    "        json_data=json.loads(data)\n",
    "        \n",
    "        if json_data['Response']=='True':\n",
    "            print_json(json_data)\n",
    "            \n",
    "            # Asks user whether to download the poster of the movie\n",
    "            if json_data['Poster']!='N/A':\n",
    "                poster_yes_no=input ('Poster of this movie can be downloaded. Enter \"yes\" or \"no\": ').lower()\n",
    "                if poster_yes_no=='yes':\n",
    "                    save_poster(json_data)\n",
    "            # Asks user whether to save the movie information in a local database\n",
    "            save_database_yes_no=input ('Save the movie info in a local database? Enter \"yes\" or \"no\": ').lower()\n",
    "            if save_database_yes_no=='yes':\n",
    "                save_in_database(json_data)\n",
    "        else:\n",
    "            print(\"Error encountered: \",json_data['Error'])\n",
    "    \n",
    "    except urllib.error.URLError as e:\n",
    "        print(f\"ERROR: {e.reason}\")\n",
    "'''"
   ]
  },
  {
   "cell_type": "markdown",
   "metadata": {
    "id": "fI3SLdr50Zd1"
   },
   "source": [
    "#### Search for 'Titanic'"
   ]
  },
  {
   "cell_type": "code",
   "execution_count": 7,
   "metadata": {
    "id": "WvHLZdFc0Zd1",
    "outputId": "c5c37241-7246-44c7-bf5a-13569f00f023"
   },
   "outputs": [
    {
     "data": {
      "text/plain": [
       "'\\ntitle = input(\\'\\nEnter the name of a movie (enter \\'quit\\' or hit ENTER to quit): \\')\\nif len(title) < 1 or title==\\'quit\\': \\n    print(\"Goodbye now...\")\\nelse:\\n    search_movie(title)\\n'"
      ]
     },
     "execution_count": 7,
     "metadata": {},
     "output_type": "execute_result"
    }
   ],
   "source": [
    "'''\n",
    "title = input('\\nEnter the name of a movie (enter \\'quit\\' or hit ENTER to quit): ')\n",
    "if len(title) < 1 or title=='quit': \n",
    "    print(\"Goodbye now...\")\n",
    "else:\n",
    "    search_movie(title)\n",
    "'''"
   ]
  },
  {
   "cell_type": "markdown",
   "metadata": {
    "id": "LguyaTAi0Zd4"
   },
   "source": [
    "#### Show the downloaded poster of 'Titanic'"
   ]
  },
  {
   "cell_type": "code",
   "execution_count": null,
   "metadata": {
    "id": "fpjMpsIO0Zd5",
    "outputId": "3be10479-324a-4b7d-da56-cbcf1e96b37b"
   },
   "outputs": [],
   "source": []
  },
  {
   "cell_type": "markdown",
   "metadata": {
    "id": "kuDo9zQV0Zd7"
   },
   "source": [
    "#### Print the content of the local database, only single entry so far"
   ]
  },
  {
   "cell_type": "code",
   "execution_count": null,
   "metadata": {
    "id": "nDtuHv2K0Zd8",
    "outputId": "96a75a97-bb66-46f9-f174-e3964f0c9fc7"
   },
   "outputs": [],
   "source": []
  },
  {
   "cell_type": "markdown",
   "metadata": {
    "id": "6QzH1Gwq0Zd-"
   },
   "source": [
    "#### Search for 'Jumanji'"
   ]
  },
  {
   "cell_type": "code",
   "execution_count": 8,
   "metadata": {
    "id": "ZFIC2KjF0Zd-",
    "outputId": "53caa2d9-c7f4-48c8-ff5c-fba7e842fac1"
   },
   "outputs": [
    {
     "data": {
      "text/plain": [
       "'\\ntitle = input(\\'\\nEnter the name of a movie (enter \\'quit\\' or hit ENTER to quit): \\')\\nif len(title) < 1 or title==\\'quit\\': \\n    print(\"Goodbye now...\")\\nelse:\\n    search_movie(title)\\n'"
      ]
     },
     "execution_count": 8,
     "metadata": {},
     "output_type": "execute_result"
    }
   ],
   "source": [
    "'''\n",
    "title = input('\\nEnter the name of a movie (enter \\'quit\\' or hit ENTER to quit): ')\n",
    "if len(title) < 1 or title=='quit': \n",
    "    print(\"Goodbye now...\")\n",
    "else:\n",
    "    search_movie(title)\n",
    "'''"
   ]
  },
  {
   "cell_type": "markdown",
   "metadata": {
    "id": "Slp48MLE0ZeA"
   },
   "source": [
    "#### Search for \"To kill a mockingbird\""
   ]
  },
  {
   "cell_type": "code",
   "execution_count": 9,
   "metadata": {
    "id": "NjZrPly70ZeB",
    "outputId": "095b825c-8fca-4997-dd7b-72a68ac96467"
   },
   "outputs": [
    {
     "data": {
      "text/plain": [
       "'\\ntitle = input(\\'\\nEnter the name of a movie (enter \\'quit\\' or hit ENTER to quit): \\')\\nif len(title) < 1 or title==\\'quit\\': \\n    print(\"Goodbye now...\")\\nelse:\\n    search_movie(title)\\n'"
      ]
     },
     "execution_count": 9,
     "metadata": {},
     "output_type": "execute_result"
    }
   ],
   "source": [
    "'''\n",
    "title = input('\\nEnter the name of a movie (enter \\'quit\\' or hit ENTER to quit): ')\n",
    "if len(title) < 1 or title=='quit': \n",
    "    print(\"Goodbye now...\")\n",
    "else:\n",
    "    search_movie(title)\n",
    "'''"
   ]
  },
  {
   "cell_type": "markdown",
   "metadata": {
    "id": "XthJB2sY0ZeJ"
   },
   "source": [
    "#### Save the database content into an Excel file"
   ]
  },
  {
   "cell_type": "code",
   "execution_count": null,
   "metadata": {
    "id": "0pZ9f3gQ0ZeJ"
   },
   "outputs": [],
   "source": []
  },
  {
   "cell_type": "code",
   "execution_count": null,
   "metadata": {
    "id": "mEW7LlMk0ZeL",
    "outputId": "443f5858-e6ff-4dd9-9305-6c7a2a40d91a"
   },
   "outputs": [],
   "source": []
  },
  {
   "cell_type": "code",
   "execution_count": null,
   "metadata": {
    "id": "xIz61fXd0ZeN"
   },
   "outputs": [],
   "source": []
  }
 ],
 "metadata": {
  "colab": {
   "name": "3-Movie_Database_Build.ipynb",
   "provenance": []
  },
  "kernelspec": {
   "display_name": "Python 3",
   "language": "python",
   "name": "python3"
  },
  "language_info": {
   "codemirror_mode": {
    "name": "ipython",
    "version": 3
   },
   "file_extension": ".py",
   "mimetype": "text/x-python",
   "name": "python",
   "nbconvert_exporter": "python",
   "pygments_lexer": "ipython3",
   "version": "3.7.4"
  },
  "latex_envs": {
   "LaTeX_envs_menu_present": true,
   "autoclose": false,
   "autocomplete": true,
   "bibliofile": "biblio.bib",
   "cite_by": "apalike",
   "current_citInitial": 1,
   "eqLabelWithNumbers": true,
   "eqNumInitial": 1,
   "hotkeys": {
    "equation": "Ctrl-E",
    "itemize": "Ctrl-I"
   },
   "labels_anchors": false,
   "latex_user_defs": false,
   "report_style_numbering": false,
   "user_envs_cfg": false
  }
 },
 "nbformat": 4,
 "nbformat_minor": 4
}
