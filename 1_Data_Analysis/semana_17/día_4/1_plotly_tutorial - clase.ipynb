{
 "cells": [
  {
   "cell_type": "markdown",
   "metadata": {
    "id": "nYRopjGPiJuo"
   },
   "source": [
    "#### Introduction\n",
    "[Jupyter](http://jupyter.org/) has a beautiful notebook that lets you write and execute code, analyze data, embed content, and share reproducible work. Jupyter Notebook (previously referred to as IPython Notebook) allows you to easily share your code, data, plots, and explanation in a sinle notebook. Publishing is flexible: PDF, HTML, ipynb, dashboards, slides, and more. Code cells are based on an input and output format. For example:"
   ]
  },
  {
   "cell_type": "code",
   "execution_count": 1,
   "metadata": {},
   "outputs": [],
   "source": [
    "# en anaconda prompt (anaconda3) ejecutar esa línea y reiniciar Anaconda\n",
    "# conda install -c conda-forge jupyterlab-plotly-extension"
   ]
  },
  {
   "cell_type": "code",
   "execution_count": 2,
   "metadata": {},
   "outputs": [],
   "source": [
    "# librerías"
   ]
  },
  {
   "cell_type": "code",
   "execution_count": 3,
   "metadata": {
    "id": "BiYx8U-giJup",
    "outputId": "fb80fbf2-84b3-4f50-e9ce-c40605f938d7"
   },
   "outputs": [],
   "source": [
    "#print(\"hello world\")"
   ]
  },
  {
   "cell_type": "markdown",
   "metadata": {
    "id": "nGXOBt6MiJut"
   },
   "source": [
    "#### Installation\n",
    "There are a few ways to use a Jupyter Notebook:\n",
    "\n",
    "* Install with [```pip```](https://pypi.python.org/pypi/pip). Open a terminal and type: ```$ pip install jupyter```.\n",
    "* Windows users can install with [```setuptools```](http://ipython.org/ipython-doc/2/install/install.html#windows).\n",
    "* [Anaconda](https://store.continuum.io/cshop/anaconda/) and [Enthought](https://store.enthought.com/downloads/#default) allow you to download a desktop version of Jupyter Notebook.\n",
    "* [nteract](https://nteract.io/) allows users to work in a notebook enviornment via a desktop application.\n",
    "* [Microsoft Azure](https://notebooks.azure.com/) provides hosted access to Jupyter Notebooks.\n",
    "* [Domino Data Lab](http://support.dominodatalab.com/hc/en-us/articles/204856585-Jupyter-Notebooks) offers web-based Notebooks.\n",
    "* [tmpnb](https://github.com/jupyter/tmpnb) launches a temporary online Notebook for individual users."
   ]
  },
  {
   "cell_type": "markdown",
   "metadata": {
    "id": "jFFPG4A6iJut"
   },
   "source": [
    "#### Getting Started\n",
    "Once you've installed the Notebook, you start from your terminal by calling ```$ jupyter notebook```. This will open a browser on a [localhost](https://en.wikipedia.org/wiki/Localhost) to the URL of your Notebooks, by default http://127.0.0.1:8888. Windows users need to open up their Command Prompt. You'll see a dashboard with all your Notebooks. You can launch your Notebooks from there. The Notebook has the advantage of looking the same when you're coding and publishing. You just have all the options to move code, run cells, change kernels, and [use Markdown](https://github.com/adam-p/markdown-here/wiki/Markdown-Cheatsheet) when you're running a NB."
   ]
  },
  {
   "cell_type": "markdown",
   "metadata": {
    "id": "Ax0XUjzViJuu"
   },
   "source": [
    "#### Helpful Commands\n",
    "**- Tab Completion:** Jupyter supports tab completion! You can type ```object_name.<TAB>``` to view an object’s attributes. For tips on cell magics, running Notebooks, and exploring objects, check out the [Jupyter docs](https://ipython.org/ipython-doc/dev/interactive/tutorial.html#introducing-ipython).\n",
    "<br>**- Help:** provides an introduction and overview of features."
   ]
  },
  {
   "cell_type": "code",
   "execution_count": null,
   "metadata": {
    "id": "TlXDqEZOiJuu",
    "outputId": "1f75a12a-9688-41fe-e738-a7fc8b4fb124"
   },
   "outputs": [],
   "source": []
  },
  {
   "cell_type": "markdown",
   "metadata": {
    "id": "QKg0K9yAiJux"
   },
   "source": [
    "**- Quick Reference:** open quick reference by running:"
   ]
  },
  {
   "cell_type": "code",
   "execution_count": null,
   "metadata": {
    "id": "nlDWXa09iJux",
    "outputId": "d9a6fadd-f6de-410c-dfc9-2bf554e0a21a"
   },
   "outputs": [],
   "source": []
  },
  {
   "cell_type": "markdown",
   "metadata": {
    "id": "EhfOTcYmiJu0"
   },
   "source": [
    "**- Keyboard Shortcuts:** ```Shift-Enter``` will run a cell, ```Ctrl-Enter``` will run a cell in-place, ```Alt-Enter``` will run a cell and insert another below. See more shortcuts [here](https://ipython.org/ipython-doc/1/interactive/notebook.html#keyboard-shortcuts)."
   ]
  },
  {
   "cell_type": "markdown",
   "metadata": {
    "id": "1c2ezuJviJu0"
   },
   "source": [
    "#### Languages\n",
    "The bulk of this tutorial discusses executing python code in Jupyter notebooks. You can also use Jupyter notebooks to execute R code. Skip down to the [R section] for more information on using IRkernel with Jupyter notebooks and graphing examples.\n",
    "#### Package Management\n",
    "When installing packages in Jupyter, you either need to install the package in your actual shell, or run the ```!``` prefix, e.g.:\n",
    "\n",
    "    !pip install packagename\n",
    "\n",
    "You may want to [reload submodules](http://stackoverflow.com/questions/5364050/reloading-submodules-in-ipython) if you've edited the code in one. IPython comes with automatic reloading magic. You can reload all changed modules before executing a new line.\n",
    "\n",
    "    %load_ext autoreload\n",
    "    %autoreload 2\n",
    "\n",
    "\n",
    "Some useful packages that we'll use in this tutorial include:\n",
    "* [Pandas](https://plot.ly/pandas/): import data via a url and create a dataframe to easily handle data for analysis and graphing. See examples of using Pandas here: https://plot.ly/pandas/.\n",
    "* [NumPy](https://plot.ly/numpy/): a package for scientific computing with tools for algebra, random number generation, integrating with databases, and managing data. See examples of using NumPy here: https://plot.ly/numpy/.\n",
    "* [SciPy](http://www.scipy.org/): a Python-based ecosystem of packages for math, science, and engineering.\n",
    "* [Plotly](https://plot.ly/python/getting-started): a graphing library for making interactive, publication-quality graphs. See examples of statistic, scientific, 3D charts, and more here: https://plot.ly/python."
   ]
  },
  {
   "cell_type": "code",
   "execution_count": 4,
   "metadata": {
    "id": "D4J2D4WxiJu1"
   },
   "outputs": [
    {
     "data": {
      "text/plain": [
       "'\\nimport pandas as pd\\nimport numpy as np\\nimport scipy as sp\\nimport chart_studio.plotly as py\\n'"
      ]
     },
     "execution_count": 4,
     "metadata": {},
     "output_type": "execute_result"
    }
   ],
   "source": [
    "'''\n",
    "import pandas as pd\n",
    "import numpy as np\n",
    "import scipy as sp\n",
    "import chart_studio.plotly as py\n",
    "'''"
   ]
  },
  {
   "cell_type": "markdown",
   "metadata": {
    "id": "ykH1JMUAiJu3"
   },
   "source": [
    "#### Import Data\n",
    "You can use pandas `read_csv()` function to import data. In the example below, we import a csv [hosted on github](https://github.com/plotly/datasets/) and display it in a [table using Plotly](https://plot.ly/python/table/):"
   ]
  },
  {
   "cell_type": "code",
   "execution_count": 5,
   "metadata": {
    "id": "vvWR0s4AiJu3"
   },
   "outputs": [],
   "source": [
    "\n",
    "#df = pd.read_csv(\"https://raw.githubusercontent.com/plotly/datasets/master/school_earnings.csv\")\n"
   ]
  },
  {
   "cell_type": "code",
   "execution_count": 6,
   "metadata": {},
   "outputs": [],
   "source": [
    "#df"
   ]
  },
  {
   "cell_type": "markdown",
   "metadata": {
    "id": "J4WamIoRiJu6"
   },
   "source": [
    "Use `dataframe.column_title` to index the dataframe:"
   ]
  },
  {
   "cell_type": "code",
   "execution_count": null,
   "metadata": {
    "id": "SNYn9I3HiJu6",
    "outputId": "47b46928-f72a-4c58-a086-d77982a67e71"
   },
   "outputs": [],
   "source": []
  },
  {
   "cell_type": "markdown",
   "metadata": {
    "id": "SguMaU4KiJu-"
   },
   "source": [
    "Most pandas functions also work on an entire dataframe. For example, calling ```std()``` calculates the standard deviation for each column."
   ]
  },
  {
   "cell_type": "code",
   "execution_count": null,
   "metadata": {
    "id": "f69Wux-7iJu_",
    "outputId": "1c359d6a-2a9a-4600-8db0-90e1ab39297d"
   },
   "outputs": [],
   "source": []
  },
  {
   "cell_type": "markdown",
   "metadata": {
    "id": "dsPEq4_KiJvB"
   },
   "source": [
    "#### Plotting Inline\n",
    "You can use [Plotly's python API](https://plot.ly/python) to plot inside your Jupyter Notebook by calling ```plotly.plotly.iplot()``` or ```plotly.offline.iplot()``` if working offline. Plotting in the notebook gives you the advantage of keeping your data analysis and plots in one place. Now we can do a bit of interactive plotting. Head to the [Plotly getting started](https://plot.ly/python/) page to learn how to set your credentials. Calling the plot with ```iplot``` automaticallly generates an interactive version of the plot inside the Notebook in an iframe. See below:"
   ]
  },
  {
   "cell_type": "code",
   "execution_count": 7,
   "metadata": {
    "id": "HqdZaOQDiJvB",
    "outputId": "3d71d63d-738a-4bdb-8193-ef3f010e2b91"
   },
   "outputs": [
    {
     "data": {
      "text/plain": [
       "\"\\nfrom plotly.offline import init_notebook_mode, iplot\\ninit_notebook_mode(connected=True)\\n\\nimport plotly.graph_objs as go\\n\\ndata = [go.Bar(x=df.School,\\n            y=df.Gap)]\\n\\niplot(data, filename='jupyter-basic_bar')\\n\""
      ]
     },
     "execution_count": 7,
     "metadata": {},
     "output_type": "execute_result"
    }
   ],
   "source": [
    "'''\n",
    "from plotly.offline import init_notebook_mode, iplot\n",
    "init_notebook_mode(connected=True)\n",
    "\n",
    "import plotly.graph_objs as go\n",
    "\n",
    "data = [go.Bar(x=df.School,\n",
    "            y=df.Gap)]\n",
    "\n",
    "iplot(data, filename='jupyter-basic_bar')\n",
    "'''"
   ]
  },
  {
   "cell_type": "markdown",
   "metadata": {
    "id": "LExr7dGKiJvI"
   },
   "source": [
    "Plotting multiple traces and styling the chart with custom colors and titles is simple with Plotly syntax. Additionally, you can control the privacy with [```sharing```](https://plot.ly/python/privacy/) set to ```public```, ```private```, or ```secret```."
   ]
  },
  {
   "cell_type": "code",
   "execution_count": 8,
   "metadata": {
    "id": "z93VMWpWiJvK",
    "outputId": "eea9965b-0a27-4d75-8bf8-db096f462228"
   },
   "outputs": [
    {
     "data": {
      "text/plain": [
       "'\\nimport chart_studio.plotly as py\\nimport plotly.graph_objects as go\\n\\ntrace_women = go.Bar(x=df.School,\\n                  y=df.Women,\\n                  name=\\'Women\\',\\n                  marker=dict(color=\\'#ffcdd2\\'))\\n\\ntrace_men = go.Bar(x=df.School,\\n                y=df.Men,\\n                name=\\'Men\\',\\n                marker=dict(color=\\'#A2D5F2\\'))\\n\\ntrace_gap = go.Bar(x=df.School,\\n                y=df.Gap,\\n                name=\\'Gap\\',\\n                marker=dict(color=\\'#59606D\\'))\\n\\ndata = [trace_women, trace_men, trace_gap]\\n\\nlayout = go.Layout(title=\"Average Earnings for Graduates\",\\n                xaxis=dict(title=\\'School\\'),\\n                yaxis=dict(title=\\'Salary (in thousands)\\'))\\n\\nfig = go.Figure(data=data, layout=layout)\\n\\niplot(fig, filename=\\'jupyter-styled_bar\\')\\n'"
      ]
     },
     "execution_count": 8,
     "metadata": {},
     "output_type": "execute_result"
    }
   ],
   "source": [
    "'''\n",
    "import chart_studio.plotly as py\n",
    "import plotly.graph_objects as go\n",
    "\n",
    "trace_women = go.Bar(x=df.School,\n",
    "                  y=df.Women,\n",
    "                  name='Women',\n",
    "                  marker=dict(color='#ffcdd2'))\n",
    "\n",
    "trace_men = go.Bar(x=df.School,\n",
    "                y=df.Men,\n",
    "                name='Men',\n",
    "                marker=dict(color='#A2D5F2'))\n",
    "\n",
    "trace_gap = go.Bar(x=df.School,\n",
    "                y=df.Gap,\n",
    "                name='Gap',\n",
    "                marker=dict(color='#59606D'))\n",
    "\n",
    "data = [trace_women, trace_men, trace_gap]\n",
    "\n",
    "layout = go.Layout(title=\"Average Earnings for Graduates\",\n",
    "                xaxis=dict(title='School'),\n",
    "                yaxis=dict(title='Salary (in thousands)'))\n",
    "\n",
    "fig = go.Figure(data=data, layout=layout)\n",
    "\n",
    "iplot(fig, filename='jupyter-styled_bar')\n",
    "'''"
   ]
  },
  {
   "cell_type": "markdown",
   "metadata": {
    "id": "zU7nccoTiJvS"
   },
   "source": [
    "Now we have interactive charts displayed in our notebook. Hover on the chart to see the values for each bar, click and drag to zoom into a specific section or click on the legend to hide/show a trace."
   ]
  },
  {
   "cell_type": "markdown",
   "metadata": {
    "id": "iMI43RkeiJva"
   },
   "source": [
    "#### 3D Plotting\n",
    "Using Numpy and Plotly, we can make interactive [3D plots](https://plot.ly/python/#3d) in the Notebook as well."
   ]
  },
  {
   "cell_type": "code",
   "execution_count": 9,
   "metadata": {},
   "outputs": [],
   "source": [
    "# en Google Chrome\n",
    "# En el navegador escribimos --> chrome://flags/\n",
    "# Enable gpu service logging --> activar\n",
    "\n",
    "# en Firefox\n",
    "# Type \"about:config\" in the address bar. \n",
    "# Click proceed with caution, then type \"webgl.disabled\" and make sure the setting is saved as False."
   ]
  },
  {
   "cell_type": "code",
   "execution_count": 10,
   "metadata": {
    "id": "CaYzvzs5iJvc",
    "outputId": "a76fbea0-3c18-4fb4-9acf-97f645e09fbf"
   },
   "outputs": [
    {
     "data": {
      "text/plain": [
       "\"\\nimport chart_studio.plotly as py\\nimport plotly.graph_objects as go\\n\\nimport numpy as np\\n\\ns = np.linspace(0, 2 * np.pi, 240)\\nt = np.linspace(0, np.pi, 240)\\ntGrid, sGrid = np.meshgrid(s, t)\\n\\nr = 2 + np.sin(7 * sGrid + 5 * tGrid)  # r = 2 + sin(7s+5t)\\nx = r * np.cos(sGrid) * np.sin(tGrid)  # x = r*cos(s)*sin(t)\\ny = r * np.sin(sGrid) * np.sin(tGrid)  # y = r*sin(s)*sin(t)\\nz = r * np.cos(tGrid)                  # z = r*cos(t)\\n\\nsurface = go.Surface(x=x, y=y, z=z)\\ndata = [surface]\\n\\nlayout = go.Layout(\\n    title='Parametric Plot',\\n    scene=dict(\\n        xaxis=dict(\\n            gridcolor='rgb(255, 255, 255)',\\n            zerolinecolor='rgb(255, 255, 255)',\\n            showbackground=True,\\n            backgroundcolor='rgb(230, 230,230)'\\n        ),\\n        yaxis=dict(\\n            gridcolor='rgb(255, 255, 255)',\\n            zerolinecolor='rgb(255, 255, 255)',\\n            showbackground=True,\\n            backgroundcolor='rgb(230, 230,230)'\\n        ),\\n        zaxis=dict(\\n            gridcolor='rgb(255, 255, 255)',\\n            zerolinecolor='rgb(255, 255, 255)',\\n            showbackground=True,\\n            backgroundcolor='rgb(230, 230,230)'\\n        )\\n    )\\n)\\n\\nfig = go.Figure(data=data, layout=layout)\\niplot(fig, filename='jupyter-parametric_plot')\\n\""
      ]
     },
     "execution_count": 10,
     "metadata": {},
     "output_type": "execute_result"
    }
   ],
   "source": [
    "'''\n",
    "import chart_studio.plotly as py\n",
    "import plotly.graph_objects as go\n",
    "\n",
    "import numpy as np\n",
    "\n",
    "s = np.linspace(0, 2 * np.pi, 240)\n",
    "t = np.linspace(0, np.pi, 240)\n",
    "tGrid, sGrid = np.meshgrid(s, t)\n",
    "\n",
    "r = 2 + np.sin(7 * sGrid + 5 * tGrid)  # r = 2 + sin(7s+5t)\n",
    "x = r * np.cos(sGrid) * np.sin(tGrid)  # x = r*cos(s)*sin(t)\n",
    "y = r * np.sin(sGrid) * np.sin(tGrid)  # y = r*sin(s)*sin(t)\n",
    "z = r * np.cos(tGrid)                  # z = r*cos(t)\n",
    "\n",
    "surface = go.Surface(x=x, y=y, z=z)\n",
    "data = [surface]\n",
    "\n",
    "layout = go.Layout(\n",
    "    title='Parametric Plot',\n",
    "    scene=dict(\n",
    "        xaxis=dict(\n",
    "            gridcolor='rgb(255, 255, 255)',\n",
    "            zerolinecolor='rgb(255, 255, 255)',\n",
    "            showbackground=True,\n",
    "            backgroundcolor='rgb(230, 230,230)'\n",
    "        ),\n",
    "        yaxis=dict(\n",
    "            gridcolor='rgb(255, 255, 255)',\n",
    "            zerolinecolor='rgb(255, 255, 255)',\n",
    "            showbackground=True,\n",
    "            backgroundcolor='rgb(230, 230,230)'\n",
    "        ),\n",
    "        zaxis=dict(\n",
    "            gridcolor='rgb(255, 255, 255)',\n",
    "            zerolinecolor='rgb(255, 255, 255)',\n",
    "            showbackground=True,\n",
    "            backgroundcolor='rgb(230, 230,230)'\n",
    "        )\n",
    "    )\n",
    ")\n",
    "\n",
    "fig = go.Figure(data=data, layout=layout)\n",
    "iplot(fig, filename='jupyter-parametric_plot')\n",
    "'''"
   ]
  },
  {
   "cell_type": "markdown",
   "metadata": {
    "id": "sPhpDCZniJvj"
   },
   "source": [
    "#### Animated Plots\n",
    "Checkout Plotly's [animation documentation](https://plot.ly/python/#animations) to see how to create animated plots inline in Jupyter notebooks like the Gapminder plot displayed below:\n",
    "![https://plot.ly/~PythonPlotBot/231/](https://raw.githubusercontent.com/cldougl/plot_images/add_r_img/anim.gif)"
   ]
  },
  {
   "cell_type": "markdown",
   "metadata": {
    "id": "TDNuQHmGiJvk"
   },
   "source": [
    "#### Plot Controls & IPython widgets\n",
    "Add sliders, buttons, and dropdowns to your inline chart:"
   ]
  },
  {
   "cell_type": "code",
   "execution_count": 11,
   "metadata": {
    "id": "NEzPLYiziJvk",
    "outputId": "14bb896c-9954-4119-f043-27376c3b9247"
   },
   "outputs": [
    {
     "data": {
      "text/plain": [
       "'\\nimport chart_studio.plotly as py\\nimport numpy as np\\n\\ndata = [dict(\\n        visible = False,\\n        line=dict(color=\\'#00CED1\\', width=6),\\n        name = \\'𝜈 = \\'+str(step),\\n        x = np.arange(0,10,0.01),\\n        y = np.sin(step*np.arange(0,10,0.01))) for step in np.arange(0,5,0.1)]\\ndata[10][\\'visible\\'] = True\\n\\nsteps = []\\nfor i in range(len(data)):\\n    step = dict(\\n        method = \\'restyle\\',\\n        args = [\\'visible\\', [False] * len(data)],\\n    )\\n    step[\\'args\\'][1][i] = True # Toggle i\\'th trace to \"visible\"\\n    steps.append(step)\\n\\nsliders = [dict(\\n    active = 10,\\n    currentvalue = {\"prefix\": \"Frequency: \"},\\n    pad = {\"t\": 50},\\n    steps = steps\\n)]\\n\\nlayout = dict(sliders=sliders)\\nfig = dict(data=data, layout=layout)\\n\\niplot(fig, filename=\\'Sine Wave Slider\\')\\n'"
      ]
     },
     "execution_count": 11,
     "metadata": {},
     "output_type": "execute_result"
    }
   ],
   "source": [
    "'''\n",
    "import chart_studio.plotly as py\n",
    "import numpy as np\n",
    "\n",
    "data = [dict(\n",
    "        visible = False,\n",
    "        line=dict(color='#00CED1', width=6),\n",
    "        name = '𝜈 = '+str(step),\n",
    "        x = np.arange(0,10,0.01),\n",
    "        y = np.sin(step*np.arange(0,10,0.01))) for step in np.arange(0,5,0.1)]\n",
    "data[10]['visible'] = True\n",
    "\n",
    "steps = []\n",
    "for i in range(len(data)):\n",
    "    step = dict(\n",
    "        method = 'restyle',\n",
    "        args = ['visible', [False] * len(data)],\n",
    "    )\n",
    "    step['args'][1][i] = True # Toggle i'th trace to \"visible\"\n",
    "    steps.append(step)\n",
    "\n",
    "sliders = [dict(\n",
    "    active = 10,\n",
    "    currentvalue = {\"prefix\": \"Frequency: \"},\n",
    "    pad = {\"t\": 50},\n",
    "    steps = steps\n",
    ")]\n",
    "\n",
    "layout = dict(sliders=sliders)\n",
    "fig = dict(data=data, layout=layout)\n",
    "\n",
    "iplot(fig, filename='Sine Wave Slider')\n",
    "'''"
   ]
  },
  {
   "cell_type": "markdown",
   "metadata": {
    "id": "--YhQmpkiJvo"
   },
   "source": [
    "Additionally, [IPython widgets](http://moderndata.plot.ly/widgets-in-ipython-notebook-and-plotly/) allow you to add sliders, widgets, search boxes, and more to your Notebook. See the [widget docs](https://ipython.org/ipython-doc/3/api/generated/IPython.html.widgets.interaction.html) for more information. For others to be able to access your work, they'll need IPython. Or, you can use a cloud-based NB option so others can run your work.\n",
    "<br>\n",
    "<img src=\"http://moderndata.plot.ly/wp-content/uploads/2015/01/best_gif_ever.gif\"/>"
   ]
  },
  {
   "cell_type": "markdown",
   "metadata": {
    "id": "FIsa2pr0iJvo"
   },
   "source": [
    "#### Executing R Code\n",
    "IRkernel, an R kernel for Jupyter, allows you to write and execute R code in a Jupyter notebook. Checkout the [IRkernel documentation](https://irkernel.github.io/installation/) for some simple installation instructions. Once IRkernel is installed, open a Jupyter Notebook by calling `$ jupyter notebook` and use the New dropdown to select an R notebook.\n",
    "\n",
    "![](https://raw.githubusercontent.com/cldougl/plot_images/add_r_img/rkernel.png)\n",
    "\n",
    "See a full R example Jupyter Notebook here: https://plot.ly/~chelsea_lyn/14069"
   ]
  },
  {
   "cell_type": "markdown",
   "metadata": {
    "id": "fU8zQ42uiJvp"
   },
   "source": [
    "#### Additional Embed Features\n",
    "We've seen how to embed Plotly tables and charts as iframes in the notebook, with `IPython.display` we can embed additional features, such a videos. For example, from YouTube:"
   ]
  },
  {
   "cell_type": "code",
   "execution_count": 12,
   "metadata": {
    "id": "vv5giPQliJvp",
    "outputId": "82c688e9-7e2e-4509-9c38-dca4d5d1a502"
   },
   "outputs": [],
   "source": [
    "#from IPython.display import YouTubeVideo\n",
    "#YouTubeVideo(\"wupToqz1e2g\")"
   ]
  },
  {
   "cell_type": "markdown",
   "metadata": {
    "id": "9TQiVsrHiJvs"
   },
   "source": [
    "#### LaTeX\n",
    "We can embed LaTeX inside a Notebook by putting a ```$$``` around our math, then run the cell as a Markdown cell. For example, the cell below is ```$$c = \\sqrt{a^2 + b^2}$$```, but the Notebook renders the expression."
   ]
  },
  {
   "cell_type": "markdown",
   "metadata": {
    "id": "SirsP8ZfiJvt"
   },
   "source": [
    "$$c = \\sqrt{a^2 + b^2}$$"
   ]
  },
  {
   "cell_type": "markdown",
   "metadata": {
    "id": "XF2gn61liJvt"
   },
   "source": [
    "Or, you can display output from Python, as seen [here](http://stackoverflow.com/questions/13208286/how-to-write-latex-in-ipython-notebook)."
   ]
  },
  {
   "cell_type": "code",
   "execution_count": 13,
   "metadata": {
    "id": "eT-jEiwPiJvv",
    "outputId": "0fd78499-5700-4a6e-e53b-0a163e592fd4"
   },
   "outputs": [],
   "source": [
    "#from IPython.display import display, Math, Latex\n",
    "\n",
    "#display(Math(r'F(k) = \\int_{-\\infty}^{\\infty} f(x) e^{2\\pi i k} dx'))\n"
   ]
  },
  {
   "cell_type": "markdown",
   "metadata": {
    "id": "rYL5d3iOiJvx"
   },
   "source": [
    "#### Exporting & Publishing Notebooks\n",
    "We can export the Notebook as an HTML, PDF, .py, .ipynb, Markdown, and reST file. You can also turn your NB [into a slideshow](http://ipython.org/ipython-doc/2/notebook/nbconvert.html). You can publish Jupyter Notebooks on Plotly. Simply visit [plot.ly](https://plot.ly/organize/home?create=notebook) and select the `+ Create` button in the upper right hand corner. Select Notebook and upload your Jupyter notebook (.ipynb) file!\n",
    "The notebooks that you upload will be stored in your [Plotly organize folder](https://plot.ly/organize) and hosted at a unique link to make sharing quick and easy.\n",
    "See some example notebooks:\n",
    "- https://plot.ly/~chelsea_lyn/14066\n",
    "- https://plot.ly/~notebook_demo/35\n",
    "- https://plot.ly/~notebook_demo/85\n",
    "- https://plot.ly/~notebook_demo/128"
   ]
  },
  {
   "cell_type": "markdown",
   "metadata": {
    "id": "WYWNSiEmiJvy"
   },
   "source": [
    "#### Publishing Dashboards\n",
    "Users publishing interactive graphs can also use [Plotly's dashboarding tool](https://plot.ly/dashboard/create) to arrange plots with a drag and drop interface. These dashboards can be published, embedded, and shared. <img src=\"http://i.imgur.com/hz0eNpH.png\" />"
   ]
  },
  {
   "cell_type": "markdown",
   "metadata": {
    "id": "Zw4ACZ_liJvy"
   },
   "source": [
    "### Publishing Dash Apps\n",
    "For users looking to ship and productionize Python apps, [dash](https://github.com/plotly/dash) is an assemblage of Flask, Socketio, Jinja, Plotly and boiler plate CSS and JS for easily creating data visualization web-apps with your Python data analysis backend.\n",
    "<br>\n",
    "<img src=\"https://camo.githubusercontent.com/a38f9ed71170e3112dd3e4af1d11d4b081fe2e25/687474703a2f2f692e696d6775722e636f6d2f643379346e776d2e676966\"/>\n",
    "<br>"
   ]
  },
  {
   "cell_type": "markdown",
   "metadata": {
    "id": "_7ANdvTYiJvy"
   },
   "source": [
    "### Jupyter Gallery\n",
    "For more Jupyter tutorials, checkout [Plotly's python documentation](https://plot.ly/python/): all documentation is written in jupyter notebooks that you can download and run yourself or checkout these [user submitted examples](https://plot.ly/ipython-notebooks/)!\n",
    "\n",
    "[![IPython Notebook Gallery](http://i.imgur.com/AdElJQx.png)](https://plot.ly/ipython-notebooks/)"
   ]
  }
 ],
 "metadata": {
  "colab": {
   "name": "plotly_tutorial.ipynb",
   "provenance": []
  },
  "jupytext": {
   "notebook_metadata_filter": "all",
   "text_representation": {
    "extension": ".md",
    "format_name": "markdown",
    "format_version": "1.1",
    "jupytext_version": "1.1.7"
   }
  },
  "kernelspec": {
   "display_name": "Python 3",
   "language": "python",
   "name": "python3"
  },
  "language_info": {
   "codemirror_mode": {
    "name": "ipython",
    "version": 3
   },
   "file_extension": ".py",
   "mimetype": "text/x-python",
   "name": "python",
   "nbconvert_exporter": "python",
   "pygments_lexer": "ipython3",
   "version": "3.7.4"
  },
  "plotly": {
   "description": "Jupyter notebook tutorial on how to install, run, and use Jupyter for interactive matplotlib plotting, data analysis, and publishing code",
   "display_as": "chart_studio",
   "has_thumbnail": true,
   "ipynb": "~chelsea_lyn/14070",
   "language": "python",
   "layout": "base",
   "name": "Jupyter Notebook Tutorial",
   "order": 11,
   "page_type": "example_index",
   "permalink": "python/ipython-notebook-tutorial/",
   "thumbnail": "thumbnail/ipythonnb.jpg",
   "title": "Jupyter Notebook Tutorial | plotly",
   "v4upgrade": true
  }
 },
 "nbformat": 4,
 "nbformat_minor": 4
}
