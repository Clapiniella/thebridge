{
 "cells": [
  {
   "cell_type": "markdown",
   "metadata": {
    "_cell_guid": "a67c3ce8-7a21-4dd4-a774-6cab3a074365",
    "_uuid": "d361a5370cf8a36c8fe8445d001e9caf35d6700d",
    "id": "p6NfWbHiiJO_"
   },
   "source": [
    "# INTRODUCTION\n",
    "* In this kernel, we will learn how to use plotly library.\n",
    "    * Plotly library: Plotly's Python graphing library makes interactive, publication-quality graphs online. Examples of how to make line plots, scatter plots, area charts, bar charts, error bars, box plots, histograms, heatmaps, subplots, multiple-axes, polar charts, and bubble charts.\n",
    "\n",
    "<br>Content:\n",
    "1. [Loading Data and Explanation of Features](#1)\n",
    "1. [Line Charts](#2)\n",
    "1. [Scatter Charts](#3)\n",
    "1. [Bar Charts](#4)\n",
    "1. [Pie Charts](#5)\n",
    "1. [Bubble Charts](#6)\n",
    "1. [Histogram](#7)\n",
    "1. [Word Cloud](#8)\n",
    "1. [Box Plot](#9)\n",
    "1. [Scatter Plot Matrix](#10)\n",
    "1. Map Plots: https://www.kaggle.com/kanncaa1/time-series-prediction-with-eda-of-world-war-2\n",
    "1. Data Visualization\n",
    "    1. Seaborn: https://www.kaggle.com/kanncaa1/seaborn-for-beginners\n",
    "    1. Bokeh 1: https://www.kaggle.com/kanncaa1/interactive-bokeh-tutorial-part-1\n",
    "    1. Bokeh 2: https://www.kaggle.com/kanncaa1/interactive-bokeh-tutorial-part-\n",
    "    1. Rare Visualization: https://www.kaggle.com/kanncaa1/rare-visualization-tools\n",
    "1. [Inset Plots](#11)\n",
    "1. [3D Scatter Plot with Colorscaling](#12)\n",
    "1. [Multiple Subplots](#13)\n",
    "1. Earthquake Animation: https://www.kaggle.com/kanncaa1/earthquake-animation-with-plotly\n",
    "\n"
   ]
  },
  {
   "cell_type": "code",
   "execution_count": 1,
   "metadata": {
    "id": "jkPSz6MxiJPA"
   },
   "outputs": [],
   "source": [
    "#!pip install plotly==3.10.0\n",
    "#!pip install wordcloud"
   ]
  },
  {
   "cell_type": "code",
   "execution_count": 2,
   "metadata": {
    "_cell_guid": "b1076dfc-b9ad-4769-8c92-a6c4dae69d19",
    "_kg_hide-input": true,
    "_kg_hide-output": false,
    "_uuid": "8f2839f25d086af736a60e9eeb907d3b93b6e0e5",
    "id": "WyA1_kMPiJPD",
    "outputId": "3e34c1fa-e412-4a4e-fe49-731abdd9163a"
   },
   "outputs": [
    {
     "data": {
      "text/plain": [
       "'\\n# This Python 3 environment comes with many helpful analytics libraries installed\\n# It is defined by the kaggle/python docker image: https://github.com/kaggle/docker-python\\n# For example, here\\'s several helpful packages to load in \\n\\nimport numpy as np # linear algebra\\nimport pandas as pd # data processing, CSV file I/O (e.g. pd.read_csv)\\n\\n# plotly\\n# import plotly.plotly as py\\nfrom plotly.offline import init_notebook_mode, iplot, plot\\nimport plotly as py\\ninit_notebook_mode(connected=True)\\nimport plotly.graph_objs as go\\n\\n# word cloud library\\nfrom wordcloud import WordCloud\\n\\n# matplotlib\\nimport matplotlib.pyplot as plt\\n# Input data files are available in the \"../input/\" directory.\\n# For example, running this (by clicking run or pressing Shift+Enter) will list the files in the input directory\\n\\nimport os\\nprint(os.listdir(\"./data\"))\\n\\n# Any results you write to the current directory are saved as output.\\n'"
      ]
     },
     "execution_count": 2,
     "metadata": {},
     "output_type": "execute_result"
    }
   ],
   "source": [
    "'''\n",
    "# This Python 3 environment comes with many helpful analytics libraries installed\n",
    "# It is defined by the kaggle/python docker image: https://github.com/kaggle/docker-python\n",
    "# For example, here's several helpful packages to load in \n",
    "\n",
    "import numpy as np # linear algebra\n",
    "import pandas as pd # data processing, CSV file I/O (e.g. pd.read_csv)\n",
    "\n",
    "# plotly\n",
    "# import plotly.plotly as py\n",
    "from plotly.offline import init_notebook_mode, iplot, plot\n",
    "import plotly as py\n",
    "init_notebook_mode(connected=True)\n",
    "import plotly.graph_objs as go\n",
    "\n",
    "# word cloud library\n",
    "from wordcloud import WordCloud\n",
    "\n",
    "# matplotlib\n",
    "import matplotlib.pyplot as plt\n",
    "# Input data files are available in the \"../input/\" directory.\n",
    "# For example, running this (by clicking run or pressing Shift+Enter) will list the files in the input directory\n",
    "\n",
    "import os\n",
    "print(os.listdir(\"./data\"))\n",
    "\n",
    "# Any results you write to the current directory are saved as output.\n",
    "'''"
   ]
  },
  {
   "cell_type": "markdown",
   "metadata": {
    "_cell_guid": "cd9ba55f-8030-438e-824c-608dc9cd1ebf",
    "_uuid": "15f98cf2c7db5fbb4c91b014e8e76f2207e39e44",
    "id": "xjz7990DiJPH"
   },
   "source": [
    "<a id=\"1\"></a> <br>\n",
    "# Loading Data and Explanation of Features\n",
    "<font color='red'>\n",
    "* timesData includes 14 features that are:\n",
    "    <font color='black'>\n",
    "    * world_rank             \n",
    "    * university_name       \n",
    "    * country               \n",
    "    * teaching                \n",
    "    * international            \n",
    "    * research                 \n",
    "    * citations                \n",
    "    * income                   \n",
    "    * total_score              \n",
    "    * num_students             \n",
    "    * student_staff_ratio      \n",
    "    * international_students   \n",
    "    * female_male_ratio        \n",
    "    * year "
   ]
  },
  {
   "cell_type": "code",
   "execution_count": 3,
   "metadata": {
    "_cell_guid": "79c7e3d0-c299-4dcb-8224-4455121ee9b0",
    "_uuid": "d629ff2d2480ee46fbb7e2d37f6b5fab8052498a",
    "id": "6h_tBh_LiJPH",
    "outputId": "9145e207-aed9-41b2-8f1e-62886df3672c",
    "scrolled": true
   },
   "outputs": [
    {
     "data": {
      "text/plain": [
       "'\\npy.offline.init_notebook_mode(connected=True) \\n# Load data that we will use.\\ntimesData = pd.read_csv(\"./data/timesData.csv\")\\n'"
      ]
     },
     "execution_count": 3,
     "metadata": {},
     "output_type": "execute_result"
    }
   ],
   "source": [
    "'''\n",
    "py.offline.init_notebook_mode(connected=True) \n",
    "# Load data that we will use.\n",
    "timesData = pd.read_csv(\"./data/timesData.csv\")\n",
    "'''"
   ]
  },
  {
   "cell_type": "code",
   "execution_count": 4,
   "metadata": {
    "_cell_guid": "0ffc5e26-97d3-4477-8c36-d987a1ff0cb8",
    "_uuid": "28e742b608e663425246b7322c3cff5bf7ac0464",
    "id": "ZewRT0U6iJPK",
    "outputId": "f785c447-4a58-4298-9815-fb3af17bac14"
   },
   "outputs": [],
   "source": [
    "# information about timesData\n"
   ]
  },
  {
   "cell_type": "code",
   "execution_count": null,
   "metadata": {
    "_cell_guid": "db6a7739-9157-4f6f-80a7-2e8a8add9651",
    "_uuid": "c8208716fca06ddc8a814fa79e70aa19f56fe50e",
    "id": "EgFRagJbiJPM",
    "outputId": "4867abfa-b0a8-4a8e-949b-4ba89ed7ab8a"
   },
   "outputs": [],
   "source": []
  },
  {
   "cell_type": "markdown",
   "metadata": {
    "_cell_guid": "a6a4cbfe-00d0-405d-b0ed-b7c2bafabce2",
    "_uuid": "f9fd9183b43248f5afb83f4a228f092b8ea78b75",
    "id": "R_i4FT-hiJPP"
   },
   "source": [
    "<a id=\"2\"></a> <br>\n",
    "# Line Charts\n",
    "Line Charts Example: Citation and Teaching vs World Rank of Top 100 Universities\n",
    "* Import graph_objs as *go*\n",
    "* Creating traces\n",
    "    * x = x axis\n",
    "    * y = y axis\n",
    "    * mode = type of plot like marker, line or line + markers\n",
    "    * name = name of the plots\n",
    "    * marker = marker is used with dictionary. \n",
    "        * color = color of lines. It takes RGB (red, green, blue) and opacity (alpha)\n",
    "    * text = The hover text (hover is curser)\n",
    "* data = is a list that we add traces into it\n",
    "* layout = it is dictionary.\n",
    "    * title = title of layout\n",
    "    * x axis = it is dictionary\n",
    "        * title = label of x axis\n",
    "        * ticklen = length of x axis ticks\n",
    "        * zeroline = showing zero line or not\n",
    "* fig = it includes data and layout\n",
    "* iplot() = plots the figure(fig) that is created by data and layout"
   ]
  },
  {
   "cell_type": "code",
   "execution_count": 5,
   "metadata": {
    "_cell_guid": "0c3c38d5-e821-454f-9d7b-c7d80958bc3e",
    "_uuid": "86d71e729cbdc53a7dc31d25072baee7c316eabb",
    "id": "DRm9e9fmiJPP",
    "outputId": "e2f812cf-ff5b-416f-8aa6-ba33f0a70dfb"
   },
   "outputs": [
    {
     "data": {
      "text/plain": [
       "'\\n# prepare data frame\\ndf = timesData.iloc[:100,:]\\n\\n# import graph objects as \"go\"\\nimport plotly.graph_objs as go\\n\\n# Creating trace1\\ntrace1 = go.Scatter(\\n                    x=df[\\'world_rank\\'],\\n                    y=df[\\'citations\\'],\\n                    mode=\\'lines\\',\\n                    marker=dict(color=\\'rgba(16, 112, 2, 0.8)\\'),\\n                    text=df[\\'university_name\\'],\\n                    name=\"Citations\")\\n\\n# Creating trace2\\ntrace2 = go.Scatter(\\n                    x=df[\\'world_rank\\'],\\n                    y=df[\\'teaching\\'],\\n                    mode=\\'lines+markers\\',\\n                    marker=dict(color=\\'rgba(80, 26, 80, 0.8)\\'),\\n                    text=df[\\'university_name\\'],\\n                    name=\"Teaching\")\\n\\ndata=[trace1, trace2]\\n\\n\\nlayout = dict(title = \\'Citation and Teaching vs World Rank of Top 100 Universities\\',\\n              xaxis= dict(title= \\'World Rank\\',ticklen= 5,zeroline= False)\\n             )\\n\\nfig=dict(data=data, layout=layout)\\niplot(fig)\\n'"
      ]
     },
     "execution_count": 5,
     "metadata": {},
     "output_type": "execute_result"
    }
   ],
   "source": [
    "'''\n",
    "# prepare data frame\n",
    "df = timesData.iloc[:100,:]\n",
    "\n",
    "# import graph objects as \"go\"\n",
    "import plotly.graph_objs as go\n",
    "\n",
    "# Creating trace1\n",
    "trace1 = go.Scatter(\n",
    "                    x=df['world_rank'],\n",
    "                    y=df['citations'],\n",
    "                    mode='lines',\n",
    "                    marker=dict(color='rgba(16, 112, 2, 0.8)'),\n",
    "                    text=df['university_name'],\n",
    "                    name=\"Citations\")\n",
    "\n",
    "# Creating trace2\n",
    "trace2 = go.Scatter(\n",
    "                    x=df['world_rank'],\n",
    "                    y=df['teaching'],\n",
    "                    mode='lines+markers',\n",
    "                    marker=dict(color='rgba(80, 26, 80, 0.8)'),\n",
    "                    text=df['university_name'],\n",
    "                    name=\"Teaching\")\n",
    "\n",
    "data=[trace1, trace2]\n",
    "\n",
    "\n",
    "layout = dict(title = 'Citation and Teaching vs World Rank of Top 100 Universities',\n",
    "              xaxis= dict(title= 'World Rank',ticklen= 5,zeroline= False)\n",
    "             )\n",
    "\n",
    "fig=dict(data=data, layout=layout)\n",
    "iplot(fig)\n",
    "'''"
   ]
  },
  {
   "cell_type": "markdown",
   "metadata": {
    "_cell_guid": "21cc3c44-74bd-4fd8-949a-98fca46c7477",
    "_uuid": "f5cb166fcca19b58da80e215a8755be48ecb05b0",
    "id": "JFCKUutCiJPU"
   },
   "source": [
    "<a id=\"3\"></a> <br>\n",
    "# Scatter\n",
    "Scatter Example: Citation vs world rank of top 100 universities with 2014, 2015 and 2016 years\n",
    "* Import graph_objs as *go*\n",
    "* Creating traces\n",
    "    * x = x axis\n",
    "    * y = y axis\n",
    "    * mode = type of plot like marker, line or line + markers\n",
    "    * name = name of the plots\n",
    "    * marker = marker is used with dictionary. \n",
    "        * color = color of lines. It takes RGB (red, green, blue) and opacity (alpha)\n",
    "    * text = The hover text (hover is curser)\n",
    "* data = is a list that we add traces into it\n",
    "* layout = it is dictionary.\n",
    "    * title = title of layout\n",
    "    * x axis = it is dictionary\n",
    "        * title = label of x axis\n",
    "        * ticklen = length of x axis ticks\n",
    "        * zeroline = showing zero line or not\n",
    "    * y axis = it is dictionary and same with x axis\n",
    "* fig = it includes data and layout\n",
    "* iplot() = plots the figure(fig) that is created by data and layout"
   ]
  },
  {
   "cell_type": "code",
   "execution_count": 6,
   "metadata": {
    "_cell_guid": "e3fab334-cd3f-4d32-9e57-85e8df7f5b00",
    "_uuid": "9b9fc2bfade60bf5e7bab921a8bacd854f603813",
    "id": "wtxO44FQiJPV",
    "outputId": "0070211c-48aa-41a1-f199-a39d9c518c52"
   },
   "outputs": [
    {
     "data": {
      "text/plain": [
       "'\\n# prepare data frames\\ndf2014 = timesData[timesData.year == 2014].iloc[:100,:]\\ndf2015 = timesData[timesData.year == 2015].iloc[:100,:]\\ndf2016 = timesData[timesData.year == 2016].iloc[:100,:]\\n# import graph objects as \"go\"\\nimport plotly.graph_objs as go\\n# creating trace1\\ntrace1 =go.Scatter(\\n                    x = df2014.world_rank,\\n                    y = df2014.citations,\\n                    mode = \"markers\",\\n                    name = \"2014\",\\n                    marker = dict(color = \\'rgba(255, 128, 255, 0.8)\\'),\\n                    text= df2014.university_name)\\n# creating trace2\\ntrace2 =go.Scatter(\\n                    x = df2015.world_rank,\\n                    y = df2015.citations,\\n                    mode = \"markers\",\\n                    name = \"2015\",\\n                    marker = dict(color = \\'rgba(255, 128, 2, 0.8)\\'),\\n                    text= df2015.university_name)\\n# creating trace3\\ntrace3 =go.Scatter(\\n                    x = df2016.world_rank,\\n                    y = df2016.citations,\\n                    mode = \"markers\",\\n                    name = \"2016\",\\n                    marker = dict(color = \\'rgba(0, 255, 200, 0.8)\\'),\\n                    text= df2016.university_name)\\ndata = [trace1, trace2, trace3]\\nlayout = dict(title = \\'Citation vs world rank of top 100 universities with 2014, 2015 and 2016 years\\',\\n              xaxis= dict(title= \\'World Rank\\',ticklen= 5,zeroline= False),\\n              yaxis= dict(title= \\'Citation\\',ticklen= 5,zeroline= False)\\n             )\\nfig = dict(data = data, layout = layout)\\niplot(fig)\\n'"
      ]
     },
     "execution_count": 6,
     "metadata": {},
     "output_type": "execute_result"
    }
   ],
   "source": [
    "'''\n",
    "# prepare data frames\n",
    "df2014 = timesData[timesData.year == 2014].iloc[:100,:]\n",
    "df2015 = timesData[timesData.year == 2015].iloc[:100,:]\n",
    "df2016 = timesData[timesData.year == 2016].iloc[:100,:]\n",
    "# import graph objects as \"go\"\n",
    "import plotly.graph_objs as go\n",
    "# creating trace1\n",
    "trace1 =go.Scatter(\n",
    "                    x = df2014.world_rank,\n",
    "                    y = df2014.citations,\n",
    "                    mode = \"markers\",\n",
    "                    name = \"2014\",\n",
    "                    marker = dict(color = 'rgba(255, 128, 255, 0.8)'),\n",
    "                    text= df2014.university_name)\n",
    "# creating trace2\n",
    "trace2 =go.Scatter(\n",
    "                    x = df2015.world_rank,\n",
    "                    y = df2015.citations,\n",
    "                    mode = \"markers\",\n",
    "                    name = \"2015\",\n",
    "                    marker = dict(color = 'rgba(255, 128, 2, 0.8)'),\n",
    "                    text= df2015.university_name)\n",
    "# creating trace3\n",
    "trace3 =go.Scatter(\n",
    "                    x = df2016.world_rank,\n",
    "                    y = df2016.citations,\n",
    "                    mode = \"markers\",\n",
    "                    name = \"2016\",\n",
    "                    marker = dict(color = 'rgba(0, 255, 200, 0.8)'),\n",
    "                    text= df2016.university_name)\n",
    "data = [trace1, trace2, trace3]\n",
    "layout = dict(title = 'Citation vs world rank of top 100 universities with 2014, 2015 and 2016 years',\n",
    "              xaxis= dict(title= 'World Rank',ticklen= 5,zeroline= False),\n",
    "              yaxis= dict(title= 'Citation',ticklen= 5,zeroline= False)\n",
    "             )\n",
    "fig = dict(data = data, layout = layout)\n",
    "iplot(fig)\n",
    "'''"
   ]
  },
  {
   "cell_type": "markdown",
   "metadata": {
    "_cell_guid": "8a4f89d0-3a72-479e-bb34-a75b0d043273",
    "_uuid": "1e34c2982b7b3c20f8510bb74ef83b8e54e24696",
    "id": "UNJb-vFPiJPX"
   },
   "source": [
    "<a id=\"4\"></a> <br>\n",
    "# Bar Charts\n",
    "First Bar Charts Example: citations and teaching of top 3 universities in 2014 (style1)\n",
    "* Import graph_objs as *go*\n",
    "* Creating traces\n",
    "    * x = x axis\n",
    "    * y = y axis\n",
    "    * mode = type of plot like marker, line or line + markers\n",
    "    * name = name of the plots\n",
    "    * marker = marker is used with dictionary. \n",
    "        * color = color of lines. It takes RGB (red, green, blue) and opacity (alpha)\n",
    "        * line = It is dictionary. line between bars\n",
    "            * color = line color around bars\n",
    "    * text = The hover text (hover is curser)\n",
    "* data = is a list that we add traces into it\n",
    "* layout = it is dictionary.\n",
    "    * barmode = bar mode of bars like grouped\n",
    "* fig = it includes data and layout\n",
    "* iplot() = plots the figure(fig) that is created by data and layout"
   ]
  },
  {
   "cell_type": "code",
   "execution_count": 7,
   "metadata": {
    "_uuid": "7012b84ecfd4c126857640b184c3cfac539cc6ae",
    "id": "1bIsQ5DZiJPY",
    "outputId": "19f2dc84-5b56-4e69-f3a9-3d82dd358283"
   },
   "outputs": [],
   "source": [
    "# prepare data frames\n"
   ]
  },
  {
   "cell_type": "code",
   "execution_count": 8,
   "metadata": {
    "_cell_guid": "f1023615-979a-41e1-87d3-111b243d4008",
    "_uuid": "7cab7ea3a8ec399efd6cd09148b79ae1d6c5b472",
    "id": "WoWTKfYbiJPa",
    "outputId": "9ba758c0-6783-4b4d-8a48-4fa521b0c917"
   },
   "outputs": [
    {
     "data": {
      "text/plain": [
       "'\\n# prepare data frames\\ndf2014 = timesData[timesData.year == 2014].iloc[:3,:]\\n# import graph objects as \"go\"\\nimport plotly.graph_objs as go\\n\\n# create trace1 \\ntrace1 = go.Bar(\\n                x=df2014[\\'university_name\\'],\\n                y=df2014[\\'citations\\'],\\n                name=\\'Citations\\',\\n                marker=dict(color=\\'rgba(255, 174, 255, 0.5)\\',\\n                            line=dict(color=\\'rgb(0,0,0)\\',\\n                                      width=1.5)),\\n                text=df2014[\\'country\\'])\\n\\ntrace2 = go.Bar(\\n                x=df2014[\\'university_name\\'],\\n                y=df2014[\\'teaching\\'],\\n                name=\\'Teaching\\',\\n                marker=dict(color=\\'rgba(255, 255, 128, 0.5)\\',\\n                            line=dict(color=\\'rgb(0,0,0)\\',\\n                                      width=1.5)),\\n                text=df2014[\\'country\\'])\\n\\n\\n\\ndata = [trace1, trace2]\\n\\nlayout = go.Layout(barmode = \"group\")\\nfig = go.Figure(data = data, layout = layout)\\niplot(fig)\\n'"
      ]
     },
     "execution_count": 8,
     "metadata": {},
     "output_type": "execute_result"
    }
   ],
   "source": [
    "'''\n",
    "# prepare data frames\n",
    "df2014 = timesData[timesData.year == 2014].iloc[:3,:]\n",
    "# import graph objects as \"go\"\n",
    "import plotly.graph_objs as go\n",
    "\n",
    "# create trace1 \n",
    "trace1 = go.Bar(\n",
    "                x=df2014['university_name'],\n",
    "                y=df2014['citations'],\n",
    "                name='Citations',\n",
    "                marker=dict(color='rgba(255, 174, 255, 0.5)',\n",
    "                            line=dict(color='rgb(0,0,0)',\n",
    "                                      width=1.5)),\n",
    "                text=df2014['country'])\n",
    "\n",
    "trace2 = go.Bar(\n",
    "                x=df2014['university_name'],\n",
    "                y=df2014['teaching'],\n",
    "                name='Teaching',\n",
    "                marker=dict(color='rgba(255, 255, 128, 0.5)',\n",
    "                            line=dict(color='rgb(0,0,0)',\n",
    "                                      width=1.5)),\n",
    "                text=df2014['country'])\n",
    "\n",
    "\n",
    "\n",
    "data = [trace1, trace2]\n",
    "\n",
    "layout = go.Layout(barmode = \"group\")\n",
    "fig = go.Figure(data = data, layout = layout)\n",
    "iplot(fig)\n",
    "'''"
   ]
  },
  {
   "cell_type": "markdown",
   "metadata": {
    "_cell_guid": "cdc609d8-b16a-46cd-a07c-2ee3709109c6",
    "_uuid": "de3cf7293f5de54703b46faa9446aa42863de14b",
    "id": "3QyEYQuaiJPd"
   },
   "source": [
    "\n",
    "Second Bar Charts Example: citations and teaching of top 3 universities in 2014 (style2)\n",
    "Actually, if you change only the barmode from *group* to *relative* in previous example, you achieve what we did here. However, for diversity I use different syntaxes. \n",
    "* Import graph_objs as *go*\n",
    "* Creating traces\n",
    "    * x = x axis\n",
    "    * y = y axis\n",
    "    * name = name of the plots\n",
    "    * type = type of plot like bar plot\n",
    "* data = is a list that we add traces into it\n",
    "* layout = it is dictionary.\n",
    "    * xaxis = label of x axis\n",
    "    * barmode = bar mode of bars like grouped( previous example) or relative\n",
    "    * title = title of layout\n",
    "* fig = it includes data and layout\n",
    "* iplot() = plots the figure(fig) that is created by data and layout"
   ]
  },
  {
   "cell_type": "code",
   "execution_count": 9,
   "metadata": {
    "_cell_guid": "8d27bdc1-3d0a-4ba2-8fe0-a7d906eb8f46",
    "_uuid": "77484a445dbeffc57e4e2b47b560e737ae030afc",
    "id": "kQYDZz07iJPd",
    "outputId": "f7d4d4be-a404-47f1-e208-fbd522858b6e"
   },
   "outputs": [
    {
     "data": {
      "text/plain": [
       "'\\n# prepare data frames\\ndf2014 = timesData[timesData.year == 2014].iloc[:3,:]\\n# import graph objects as \"go\"\\nimport plotly.graph_objs as go\\n\\nx = df2014.university_name\\n\\ntrace1 = {\\n    \\'x\\': x,\\n    \\'y\\': df2014[\\'citations\\'],\\n    \\'name\\': \\'Citation\\',\\n    \\'type\\': \\'bar\\'\\n}\\n\\ntrace2 = {\\n        \\'x\\': x,      \\n        \\'y\\': df2014[\\'teaching\\'],\\n        \\'name\\': \\'Teaching\\',\\n        \\'type\\': \\'bar\\'\\n}\\n\\ndata = [trace1, trace2]\\n\\nlayout = {\\n        \\'xaxis\\': {\\n            \\'title\\': \\'Top 3 universities\\'\\n                 },\\n        \\'barmode\\':\\'relative\\',\\n        \\'title\\': \\'Citations and teaching, top 3 in 2014\\'\\n        }\\n\\nfig = go.Figure(data = data, layout = layout)\\niplot(fig)\\n'"
      ]
     },
     "execution_count": 9,
     "metadata": {},
     "output_type": "execute_result"
    }
   ],
   "source": [
    "'''\n",
    "# prepare data frames\n",
    "df2014 = timesData[timesData.year == 2014].iloc[:3,:]\n",
    "# import graph objects as \"go\"\n",
    "import plotly.graph_objs as go\n",
    "\n",
    "x = df2014.university_name\n",
    "\n",
    "trace1 = {\n",
    "    'x': x,\n",
    "    'y': df2014['citations'],\n",
    "    'name': 'Citation',\n",
    "    'type': 'bar'\n",
    "}\n",
    "\n",
    "trace2 = {\n",
    "        'x': x,      \n",
    "        'y': df2014['teaching'],\n",
    "        'name': 'Teaching',\n",
    "        'type': 'bar'\n",
    "}\n",
    "\n",
    "data = [trace1, trace2]\n",
    "\n",
    "layout = {\n",
    "        'xaxis': {\n",
    "            'title': 'Top 3 universities'\n",
    "                 },\n",
    "        'barmode':'relative',\n",
    "        'title': 'Citations and teaching, top 3 in 2014'\n",
    "        }\n",
    "\n",
    "fig = go.Figure(data = data, layout = layout)\n",
    "iplot(fig)\n",
    "'''"
   ]
  },
  {
   "cell_type": "markdown",
   "metadata": {
    "_cell_guid": "42b67b58-22d3-4abb-b290-986aa0bd436f",
    "_uuid": "800733ebba95646a11e5b76a23b0953ab4bb558f",
    "id": "msZuMgQXiJPg"
   },
   "source": [
    "Third Bar Charts Example: Horizontal bar charts.  (style3) Citation vs income for universities\n",
    "* Import graph_objs as *go* and importing tools\n",
    "    *  Tools: used for subplots\n",
    "* Creating trace1 \n",
    "    * bar: bar plot\n",
    "        * x = x axis \n",
    "        * y = y axis\n",
    "        * marker\n",
    "            * color: color of bars\n",
    "            * line: bar line color and width\n",
    "        * name: name of bar\n",
    "        * orientation: orientation like horizontal \n",
    "   * creating trace2\n",
    "       * scatter: scatter plot\n",
    "           * x = x axis \n",
    "            * y = y axis\n",
    "            * mode: scatter type line line + markers or only markers\n",
    "            * line: properties of line\n",
    "                * color: color of line\n",
    "            * name: name of scatter plot\n",
    "    * layout: axis, legend, margin, paper and plot properties\n",
    "        * "
   ]
  },
  {
   "cell_type": "code",
   "execution_count": 10,
   "metadata": {
    "_cell_guid": "09f978e9-a395-48e8-babe-c9f1bf874af6",
    "_uuid": "a466a50e9e20c5cc0acaa2930967698466142aaa",
    "id": "IyVZj2VUiJPh",
    "outputId": "c074d3ed-a3e4-4375-83d8-982f804b5119"
   },
   "outputs": [
    {
     "data": {
      "text/plain": [
       "'\\n# import graph objects as \"go\" and import tools\\nimport plotly.graph_objs as go\\nfrom plotly import subplots\\nimport matplotlib.pyplot as plt\\n# prepare data frames\\ndf2016 = timesData[timesData.year == 2016].iloc[:7,:]\\n\\ny_saving = [each for each in df2016.research]\\ny_net_worth  = [float(each) for each in df2016.income]\\nx_saving = [each for each in df2016.university_name]\\nx_net_worth  = [each for each in df2016.university_name]\\ntrace0 = go.Bar(\\n                x=y_saving,\\n                y=x_saving,\\n                marker=dict(color=\\'rgba(171, 50, 96, 0.6)\\',line=dict(color=\\'rgba(171, 50, 96, 1.0)\\',width=1)),\\n                name=\\'research\\',\\n                orientation=\\'h\\',\\n)\\ntrace1 = go.Scatter(\\n                x=y_net_worth,\\n                y=x_net_worth,\\n                mode=\\'lines+markers\\',\\n                line=dict(color=\\'rgb(63, 72, 204)\\'),\\n                name=\\'income\\',\\n)\\nlayout = dict(\\n                title=\\'Citations and income\\',\\n                yaxis=dict(showticklabels=True,domain=[0, 0.85]),\\n                yaxis2=dict(showline=True,showticklabels=False,linecolor=\\'rgba(102, 102, 102, 0.8)\\',linewidth=2,domain=[0, 0.85]),\\n                xaxis=dict(zeroline=False,showline=False,showticklabels=True,showgrid=True,domain=[0, 0.42]),\\n                xaxis2=dict(zeroline=False,showline=False,showticklabels=True,showgrid=True,domain=[0.47, 1],side=\\'top\\',dtick=25),\\n                legend=dict(x=0.029,y=1.038,font=dict(size=10) ),\\n                margin=dict(l=200, r=20,t=70,b=70),\\n                paper_bgcolor=\\'rgb(248, 248, 255)\\',\\n                plot_bgcolor=\\'rgb(248, 248, 255)\\',\\n)\\nannotations = []\\ny_s = np.round(y_saving, decimals=2)\\ny_nw = np.rint(y_net_worth)\\n# Adding labels\\nfor ydn, yd, xd in zip(y_nw, y_s, x_saving):\\n    # labeling the scatter savings\\n    annotations.append(dict(xref=\\'x2\\', yref=\\'y2\\', y=xd, x=ydn - 4,text=\\'{:,}\\'.format(ydn),font=dict(family=\\'Arial\\', size=12,color=\\'rgb(63, 72, 204)\\'),showarrow=False))\\n    # labeling the bar net worth\\n    annotations.append(dict(xref=\\'x1\\', yref=\\'y1\\', y=xd, x=yd + 3,text=str(yd),font=dict(family=\\'Arial\\', size=12,color=\\'rgb(171, 50, 96)\\'),showarrow=False))\\n\\nlayout[\\'annotations\\'] = annotations\\n\\n# Creating two subplots\\nfig = subplots.make_subplots(rows=1, cols=2, specs=[[{}, {}]], shared_xaxes=True,\\n                          shared_yaxes=False, vertical_spacing=0.001)\\n\\nfig.append_trace(trace0, 1, 1)\\nfig.append_trace(trace1, 1, 2)\\n\\nfig[\\'layout\\'].update(layout)\\niplot(fig)\\n'"
      ]
     },
     "execution_count": 10,
     "metadata": {},
     "output_type": "execute_result"
    }
   ],
   "source": [
    "'''\n",
    "# import graph objects as \"go\" and import tools\n",
    "import plotly.graph_objs as go\n",
    "from plotly import subplots\n",
    "import matplotlib.pyplot as plt\n",
    "# prepare data frames\n",
    "df2016 = timesData[timesData.year == 2016].iloc[:7,:]\n",
    "\n",
    "y_saving = [each for each in df2016.research]\n",
    "y_net_worth  = [float(each) for each in df2016.income]\n",
    "x_saving = [each for each in df2016.university_name]\n",
    "x_net_worth  = [each for each in df2016.university_name]\n",
    "trace0 = go.Bar(\n",
    "                x=y_saving,\n",
    "                y=x_saving,\n",
    "                marker=dict(color='rgba(171, 50, 96, 0.6)',line=dict(color='rgba(171, 50, 96, 1.0)',width=1)),\n",
    "                name='research',\n",
    "                orientation='h',\n",
    ")\n",
    "trace1 = go.Scatter(\n",
    "                x=y_net_worth,\n",
    "                y=x_net_worth,\n",
    "                mode='lines+markers',\n",
    "                line=dict(color='rgb(63, 72, 204)'),\n",
    "                name='income',\n",
    ")\n",
    "layout = dict(\n",
    "                title='Citations and income',\n",
    "                yaxis=dict(showticklabels=True,domain=[0, 0.85]),\n",
    "                yaxis2=dict(showline=True,showticklabels=False,linecolor='rgba(102, 102, 102, 0.8)',linewidth=2,domain=[0, 0.85]),\n",
    "                xaxis=dict(zeroline=False,showline=False,showticklabels=True,showgrid=True,domain=[0, 0.42]),\n",
    "                xaxis2=dict(zeroline=False,showline=False,showticklabels=True,showgrid=True,domain=[0.47, 1],side='top',dtick=25),\n",
    "                legend=dict(x=0.029,y=1.038,font=dict(size=10) ),\n",
    "                margin=dict(l=200, r=20,t=70,b=70),\n",
    "                paper_bgcolor='rgb(248, 248, 255)',\n",
    "                plot_bgcolor='rgb(248, 248, 255)',\n",
    ")\n",
    "annotations = []\n",
    "y_s = np.round(y_saving, decimals=2)\n",
    "y_nw = np.rint(y_net_worth)\n",
    "# Adding labels\n",
    "for ydn, yd, xd in zip(y_nw, y_s, x_saving):\n",
    "    # labeling the scatter savings\n",
    "    annotations.append(dict(xref='x2', yref='y2', y=xd, x=ydn - 4,text='{:,}'.format(ydn),font=dict(family='Arial', size=12,color='rgb(63, 72, 204)'),showarrow=False))\n",
    "    # labeling the bar net worth\n",
    "    annotations.append(dict(xref='x1', yref='y1', y=xd, x=yd + 3,text=str(yd),font=dict(family='Arial', size=12,color='rgb(171, 50, 96)'),showarrow=False))\n",
    "\n",
    "layout['annotations'] = annotations\n",
    "\n",
    "# Creating two subplots\n",
    "fig = subplots.make_subplots(rows=1, cols=2, specs=[[{}, {}]], shared_xaxes=True,\n",
    "                          shared_yaxes=False, vertical_spacing=0.001)\n",
    "\n",
    "fig.append_trace(trace0, 1, 1)\n",
    "fig.append_trace(trace1, 1, 2)\n",
    "\n",
    "fig['layout'].update(layout)\n",
    "iplot(fig)\n",
    "'''"
   ]
  },
  {
   "cell_type": "markdown",
   "metadata": {
    "_cell_guid": "2a37e2f1-1944-4925-9d63-54b07c5f437e",
    "_uuid": "6fbae9f3e6895c5e81511909c9691010bdab19b6",
    "id": "NUVRVzDJiJPj"
   },
   "source": [
    "<a id=\"5\"></a> <br>\n",
    "# Pie Charts\n",
    "Pie Charts Example: Students rate of top 7 universities in 2016\n",
    "* fig: create figures\n",
    "    * data: plot type\n",
    "        * values: values of plot\n",
    "        * labels: labels of plot\n",
    "        * name: name of plots\n",
    "        * hoverinfo: information in hover\n",
    "        * hole: hole width\n",
    "        * type: plot type like pie\n",
    "    * layout: layout of plot\n",
    "        * title: title of layout\n",
    "        * annotations: font, showarrow, text, x, y"
   ]
  },
  {
   "cell_type": "code",
   "execution_count": 11,
   "metadata": {
    "_cell_guid": "3f812ce0-af65-4a58-ac6d-8d9eb8ebd172",
    "_uuid": "9be9ad69552149480ed9835b7206325f7b59053f",
    "id": "r0KaOMfwiJPj",
    "outputId": "8f02a23c-e6a5-4b30-a33c-5b4cc1f4704a"
   },
   "outputs": [
    {
     "data": {
      "text/plain": [
       "'\\n# data preparation\\ndf2016 = timesData[timesData.year == 2016].iloc[:7,:]\\npie1 = df2016.num_students\\npie1_list = [float(each.replace(\\',\\', \\'.\\')) for each in df2016.num_students]  # str(2,4) => str(2.4) = > float(2.4) = 2.4\\nlabels = df2016.university_name\\n# figure\\nfig = {\\n  \"data\": [\\n    {\\n      \"values\": pie1_list,\\n      \"labels\": labels,\\n      \"domain\": {\"x\": [0, .5]},\\n      \"name\": \"Number Of Students Rates\",\\n      \"hoverinfo\":\"label+percent+name\",\\n      \"hole\": .3,\\n      \"type\": \"pie\"\\n    },],\\n    \\n  \"layout\": {\\n        \"title\":\"Universities Number of Students rates\",\\n        \"annotations\": [\\n            { \"font\": { \"size\": 20},\\n              \"showarrow\": False,\\n              \"text\": \"Number of Students\",\\n                \"x\": 0.80,\\n                \"y\": 0\\n            },\\n        ]\\n    }\\n}\\niplot(fig)\\n'"
      ]
     },
     "execution_count": 11,
     "metadata": {},
     "output_type": "execute_result"
    }
   ],
   "source": [
    "'''\n",
    "# data preparation\n",
    "df2016 = timesData[timesData.year == 2016].iloc[:7,:]\n",
    "pie1 = df2016.num_students\n",
    "pie1_list = [float(each.replace(',', '.')) for each in df2016.num_students]  # str(2,4) => str(2.4) = > float(2.4) = 2.4\n",
    "labels = df2016.university_name\n",
    "# figure\n",
    "fig = {\n",
    "  \"data\": [\n",
    "    {\n",
    "      \"values\": pie1_list,\n",
    "      \"labels\": labels,\n",
    "      \"domain\": {\"x\": [0, .5]},\n",
    "      \"name\": \"Number Of Students Rates\",\n",
    "      \"hoverinfo\":\"label+percent+name\",\n",
    "      \"hole\": .3,\n",
    "      \"type\": \"pie\"\n",
    "    },],\n",
    "    \n",
    "  \"layout\": {\n",
    "        \"title\":\"Universities Number of Students rates\",\n",
    "        \"annotations\": [\n",
    "            { \"font\": { \"size\": 20},\n",
    "              \"showarrow\": False,\n",
    "              \"text\": \"Number of Students\",\n",
    "                \"x\": 0.80,\n",
    "                \"y\": 0\n",
    "            },\n",
    "        ]\n",
    "    }\n",
    "}\n",
    "iplot(fig)\n",
    "'''"
   ]
  },
  {
   "cell_type": "markdown",
   "metadata": {
    "_cell_guid": "ec5e2576-e436-4b6f-afe3-9e2fe4bc8d2d",
    "_uuid": "6f15e9b30edd7abd39e08a50f12bd1f68cefaf0e",
    "id": "VTEwWQcyiJPl"
   },
   "source": [
    "<a id=\"6\"></a> <br>\n",
    "# Bubble Charts\n",
    "Bubble Charts Example: University world rank (first 20) vs teaching score with number of students(size) and international score (color) in 2016\n",
    "* x = x axis\n",
    "* y = y axis\n",
    "* mode = markers(scatter)\n",
    "*  marker = marker properties\n",
    "    * color = third dimension of plot. Internaltional score\n",
    "    * size = fourth dimension of plot. Number of students\n",
    "* text: university names"
   ]
  },
  {
   "cell_type": "code",
   "execution_count": null,
   "metadata": {
    "_uuid": "be139b414dad8c46b384c792f627dd08bb59f16a",
    "id": "MB53jeCviJPm",
    "outputId": "6a9c816a-23ab-4ecb-a5ed-b7ad19f0678e"
   },
   "outputs": [],
   "source": []
  },
  {
   "cell_type": "code",
   "execution_count": 12,
   "metadata": {
    "_cell_guid": "33562c2d-7b94-40a4-be88-939005732c06",
    "_uuid": "99e4712d554eff3eaf166d3afe60f4979f5a5598",
    "id": "sRF4X5H1iJPo",
    "outputId": "b6857dee-6a46-41b6-8d54-6e47a10d7782"
   },
   "outputs": [
    {
     "data": {
      "text/plain": [
       "\"\\n# data preparation\\ndf2016 = timesData[timesData.year == 2016].iloc[:20,:]\\nnum_students_size  = [float(each.replace(',', '.')) for each in df2016.num_students]\\ninternational_color = [float(each) for each in df2016.international]\\n\\ndata=[\\n    {\\n        'x': df2016['world_rank'],\\n        'y': df2016['teaching'],\\n        'mode': 'markers',\\n        'marker': {\\n            'color': international_color,\\n            'size': num_students_size,\\n            'showscale': True\\n        },\\n        'text': df2016['university_name']\\n    }\\n]\\n\\niplot(data)\\n\""
      ]
     },
     "execution_count": 12,
     "metadata": {},
     "output_type": "execute_result"
    }
   ],
   "source": [
    "'''\n",
    "# data preparation\n",
    "df2016 = timesData[timesData.year == 2016].iloc[:20,:]\n",
    "num_students_size  = [float(each.replace(',', '.')) for each in df2016.num_students]\n",
    "international_color = [float(each) for each in df2016.international]\n",
    "\n",
    "data=[\n",
    "    {\n",
    "        'x': df2016['world_rank'],\n",
    "        'y': df2016['teaching'],\n",
    "        'mode': 'markers',\n",
    "        'marker': {\n",
    "            'color': international_color,\n",
    "            'size': num_students_size,\n",
    "            'showscale': True\n",
    "        },\n",
    "        'text': df2016['university_name']\n",
    "    }\n",
    "]\n",
    "\n",
    "iplot(data)\n",
    "'''"
   ]
  },
  {
   "cell_type": "markdown",
   "metadata": {
    "_cell_guid": "d3b9f6e3-9314-4279-a8dd-a3b0f9c64af0",
    "_uuid": "76a2d45c64d396bb39d589e6476bdb3da44e87c7",
    "id": "mIwLaX9MiJPq"
   },
   "source": [
    "<a id=\"7\"></a> <br>\n",
    "# Histogram\n",
    "Lets look at histogram of students-staff ratio in 2011 and 2012 years. \n",
    "* trace1 = first histogram\n",
    "    * x = x axis\n",
    "    * y = y axis\n",
    "    * opacity = opacity of histogram\n",
    "    * name = name of legend\n",
    "    * marker = color of histogram\n",
    "* trace2 = second histogram\n",
    "* layout = layout \n",
    "    * barmode = mode of histogram like overlay. Also you can change it with *stack*"
   ]
  },
  {
   "cell_type": "code",
   "execution_count": 13,
   "metadata": {
    "_cell_guid": "52e70f08-317b-454b-9d8b-ac4fc051f4a6",
    "_uuid": "1902b1610c11976c476ed9f83febb5201551ab0b",
    "id": "XVG5F3n6iJPr",
    "outputId": "c5941058-03ca-4721-fc14-a5da8c6d1d74"
   },
   "outputs": [
    {
     "data": {
      "text/plain": [
       "\"\\n# prepare data\\nx2011 = timesData.student_staff_ratio[timesData.year == 2011]\\nx2012 = timesData.student_staff_ratio[timesData.year == 2012]\\n\\ntrace1 = go.Histogram(\\n                    x=x2011,\\n                    opacity=0.75,\\n                    name='2011',\\n                    marker=dict(color='rgba(175, 50, 96, 0.6)'))\\n\\ntrace2 = go.Histogram(\\n                    x=x2012,\\n                    opacity=0.75,\\n                    name='2012',\\n                    marker=dict(color='rgba(12, 50, 196, 0.6)'))\\n\\n\\ndata = [trace1, trace2]\\nlayout = go.Layout(barmode='overlay',\\n                   title=' students-staff ratio in 2011 and 2012',\\n                   xaxis=dict(title='students-staff ratio'),\\n                   yaxis=dict( title='Count'),\\n)\\nfig = go.Figure(data=data, layout=layout)\\niplot(fig)\\n\""
      ]
     },
     "execution_count": 13,
     "metadata": {},
     "output_type": "execute_result"
    }
   ],
   "source": [
    "'''\n",
    "# prepare data\n",
    "x2011 = timesData.student_staff_ratio[timesData.year == 2011]\n",
    "x2012 = timesData.student_staff_ratio[timesData.year == 2012]\n",
    "\n",
    "trace1 = go.Histogram(\n",
    "                    x=x2011,\n",
    "                    opacity=0.75,\n",
    "                    name='2011',\n",
    "                    marker=dict(color='rgba(175, 50, 96, 0.6)'))\n",
    "\n",
    "trace2 = go.Histogram(\n",
    "                    x=x2012,\n",
    "                    opacity=0.75,\n",
    "                    name='2012',\n",
    "                    marker=dict(color='rgba(12, 50, 196, 0.6)'))\n",
    "\n",
    "\n",
    "data = [trace1, trace2]\n",
    "layout = go.Layout(barmode='overlay',\n",
    "                   title=' students-staff ratio in 2011 and 2012',\n",
    "                   xaxis=dict(title='students-staff ratio'),\n",
    "                   yaxis=dict( title='Count'),\n",
    ")\n",
    "fig = go.Figure(data=data, layout=layout)\n",
    "iplot(fig)\n",
    "'''"
   ]
  },
  {
   "cell_type": "markdown",
   "metadata": {
    "_cell_guid": "c72c2772-d83f-442e-98d8-3db381023fb6",
    "_uuid": "4d36543dc3d5a223d59a0f03ff0a50f9c968d39f",
    "id": "vbxv2lDViJPt"
   },
   "source": [
    "<a id=\"8\"></a> <br>\n",
    "# Word Cloud\n",
    "Not a pyplot but learning it is good for visualization. Lets look at which country is mentioned most in 2011.\n",
    "* WordCloud = word cloud library that I import at the beginning of kernel\n",
    "    * background_color = color of back ground\n",
    "    * generate = generates the country name list(x2011) a word cloud"
   ]
  },
  {
   "cell_type": "code",
   "execution_count": null,
   "metadata": {},
   "outputs": [],
   "source": []
  },
  {
   "cell_type": "code",
   "execution_count": 14,
   "metadata": {
    "_cell_guid": "4e70ec20-5ec1-4afa-bf70-10f540604004",
    "_uuid": "9bbbd490844157ebd50ab0115437164c2b4e97d5",
    "id": "mKc8vXLkiJPu",
    "outputId": "12fb4d6e-7536-4d12-b46b-5292a911b5df"
   },
   "outputs": [
    {
     "data": {
      "text/plain": [
       "'\\n# data prepararion\\nx2011 = timesData.country[timesData.year == 2011]\\nplt.subplots(figsize=(8,8))\\nwordcloud = WordCloud(\\n                          background_color=\\'white\\',\\n                          width=512,\\n                          height=384\\n                         ).generate(\" \".join(x2011))\\nplt.imshow(wordcloud)\\nplt.axis(\\'off\\')\\nplt.savefig(\\'graph.png\\')\\n\\nplt.show()\\n'"
      ]
     },
     "execution_count": 14,
     "metadata": {},
     "output_type": "execute_result"
    }
   ],
   "source": [
    "'''\n",
    "# data prepararion\n",
    "x2011 = timesData.country[timesData.year == 2011]\n",
    "plt.subplots(figsize=(8,8))\n",
    "wordcloud = WordCloud(\n",
    "                          background_color='white',\n",
    "                          width=512,\n",
    "                          height=384\n",
    "                         ).generate(\" \".join(x2011))\n",
    "plt.imshow(wordcloud)\n",
    "plt.axis('off')\n",
    "plt.savefig('graph.png')\n",
    "\n",
    "plt.show()\n",
    "'''"
   ]
  },
  {
   "cell_type": "markdown",
   "metadata": {
    "_cell_guid": "cfb4e7a4-1d6c-4002-b752-968df09a75d3",
    "_uuid": "cb6702d0af6c4619431e1dd6fe3ef1335846cd9b",
    "id": "QD9k-dkuiJPw"
   },
   "source": [
    "<a id=\"9\"></a> <br>\n",
    "# Box Plots\n",
    "* Box Plots\n",
    "    * Median (50th percentile) = middle value of the data set. Sort and take the data in the middle. It is also called 50% percentile that is 50% of data are less that median(50th quartile)(quartile)\n",
    "        * 25th percentile = quartile 1 (Q1) that is lower quartile\n",
    "        * 75th percentile = quartile 3 (Q3) that is higher quartile\n",
    "        * height of box = IQR = interquartile range = Q3-Q1\n",
    "        * Whiskers = 1.5 * IQR from the Q1 and Q3\n",
    "        * Outliers = being more than 1.5*IQR away from median commonly.\n",
    "        \n",
    "    * trace = box\n",
    "        * y = data we want to visualize with box plot \n",
    "        * marker = color"
   ]
  },
  {
   "cell_type": "code",
   "execution_count": 15,
   "metadata": {
    "_cell_guid": "ba8115b7-c2a1-419d-85fe-d289a9dcd7c2",
    "_uuid": "85e765f1aec5ced7e71742ae62d6453d04cfe8a5",
    "id": "c7ow4NXDiJPx",
    "outputId": "db668cbd-4adf-4623-eeba-11833baaab51"
   },
   "outputs": [
    {
     "data": {
      "text/plain": [
       "\"\\n# data preparation\\nx2015 = timesData[timesData.year == 2015]\\n\\ntrace0 = go.Box(\\n    y=x2015.total_score,\\n    name = 'total score of universities in 2015',\\n    marker = dict(\\n        color = 'rgb(12, 12, 140)',\\n    )\\n)\\ntrace1 = go.Box(\\n    y=x2015.research,\\n    name = 'research of universities in 2015',\\n    marker = dict(\\n        color = 'rgb(12, 128, 128)',\\n    )\\n)\\ndata = [trace0, trace1]\\niplot(data)\\n\""
      ]
     },
     "execution_count": 15,
     "metadata": {},
     "output_type": "execute_result"
    }
   ],
   "source": [
    "'''\n",
    "# data preparation\n",
    "x2015 = timesData[timesData.year == 2015]\n",
    "\n",
    "trace0 = go.Box(\n",
    "    y=x2015.total_score,\n",
    "    name = 'total score of universities in 2015',\n",
    "    marker = dict(\n",
    "        color = 'rgb(12, 12, 140)',\n",
    "    )\n",
    ")\n",
    "trace1 = go.Box(\n",
    "    y=x2015.research,\n",
    "    name = 'research of universities in 2015',\n",
    "    marker = dict(\n",
    "        color = 'rgb(12, 128, 128)',\n",
    "    )\n",
    ")\n",
    "data = [trace0, trace1]\n",
    "iplot(data)\n",
    "'''"
   ]
  },
  {
   "cell_type": "markdown",
   "metadata": {
    "_cell_guid": "cf366f8d-320d-487d-944e-e072a0f38371",
    "_uuid": "aa8d1282329290d96c0ced756da51bf652dec96e",
    "id": "I2H3aljmiJPz"
   },
   "source": [
    "<a id=\"10\"></a> <br>\n",
    "# Scatter Matrix Plots\n",
    "Scatter Matrix = it helps us to see covariance and relation between more than 2 features\n",
    "* import figure factory as ff\n",
    "* create_scatterplotmatrix = creates scatter plot\n",
    "    * data2015 = prepared data. It includes research, international and total scores with index from 1 to 401\n",
    "    * colormap = color map of scatter plot\n",
    "    * colormap_type = color type of scatter plot\n",
    "    * height and weight"
   ]
  },
  {
   "cell_type": "code",
   "execution_count": 16,
   "metadata": {
    "_cell_guid": "a1c749c1-a170-4b11-a62a-a5e48a22c0c0",
    "_uuid": "a97b9548892baf3454020d4f9204e38b1267ce85",
    "id": "S44dE-C-iJPz",
    "outputId": "0bd62461-bf25-4194-d776-4248ac59ef36"
   },
   "outputs": [
    {
     "data": {
      "text/plain": [
       "'\\n# import figure factory\\nimport plotly.figure_factory as ff\\n# prepare data\\ndataframe = timesData[timesData.year == 2015]\\ndata2015 = dataframe.loc[:,[\"research\",\"international\", \"total_score\"]]\\ndata2015[\"index\"] = np.arange(1,len(data2015)+1)\\n\\n# scatter matrix\\nfig = ff.create_scatterplotmatrix(data2015,\\n                                 diag=\\'box\\',\\n                                 index=\\'index\\',\\n                                 colormap=\\'Portland\\',\\n                                 colormap_type=\\'cat\\',\\n                                 height=700,\\n                                 width=700)\\n\\niplot(fig)\\n'"
      ]
     },
     "execution_count": 16,
     "metadata": {},
     "output_type": "execute_result"
    }
   ],
   "source": [
    "'''\n",
    "# import figure factory\n",
    "import plotly.figure_factory as ff\n",
    "# prepare data\n",
    "dataframe = timesData[timesData.year == 2015]\n",
    "data2015 = dataframe.loc[:,[\"research\",\"international\", \"total_score\"]]\n",
    "data2015[\"index\"] = np.arange(1,len(data2015)+1)\n",
    "\n",
    "# scatter matrix\n",
    "fig = ff.create_scatterplotmatrix(data2015,\n",
    "                                 diag='box',\n",
    "                                 index='index',\n",
    "                                 colormap='Portland',\n",
    "                                 colormap_type='cat',\n",
    "                                 height=700,\n",
    "                                 width=700)\n",
    "\n",
    "iplot(fig)\n",
    "'''"
   ]
  },
  {
   "cell_type": "code",
   "execution_count": null,
   "metadata": {},
   "outputs": [],
   "source": []
  },
  {
   "cell_type": "markdown",
   "metadata": {
    "_uuid": "79e731b572f1f15b66b234640bdc2a975eb4b955",
    "id": "kYKeV__OiJP2"
   },
   "source": [
    "<a id=\"11\"></a> <br>\n",
    "# Inset Plots\n",
    "<font color='red'>\n",
    "Inset Matrix = 2 plots are in one frame\n",
    "<font color='black'>"
   ]
  },
  {
   "cell_type": "code",
   "execution_count": 17,
   "metadata": {
    "_uuid": "5a7d6aa48dc7ec1301b95d602c22b0eda11405f4",
    "id": "0u7eWliniJP2",
    "outputId": "bcf8dd65-92ad-4e7e-8a78-dd0d2fdfcbed"
   },
   "outputs": [
    {
     "data": {
      "text/plain": [
       "'\\n# first line plot\\ntrace1 = go.Scatter(\\n    x=dataframe.world_rank,\\n    y=dataframe.teaching,\\n    name = \"teaching\",\\n    marker = dict(color = \\'rgba(16, 112, 2, 0.8)\\'),\\n)\\n# second line plot\\ntrace2 = go.Scatter(\\n    x=dataframe.world_rank,\\n    y=dataframe.income,\\n    xaxis=\\'x2\\',\\n    yaxis=\\'y2\\',\\n    name = \"income\",\\n    marker = dict(color = \\'rgba(160, 112, 20, 0.8)\\'),\\n)\\ndata = [trace1, trace2]\\nlayout = go.Layout(\\n    xaxis2=dict(\\n        domain=[0.6, 0.95],\\n        anchor=\\'y2\\',        \\n    ),\\n    yaxis2=dict(\\n        domain=[0.6, 0.95],\\n        anchor=\\'x2\\',\\n    ),\\n    title = \\'Income and Teaching vs World Rank of Universities\\'\\n\\n)\\n\\nfig = go.Figure(data=data, layout=layout)\\niplot(fig)\\n'"
      ]
     },
     "execution_count": 17,
     "metadata": {},
     "output_type": "execute_result"
    }
   ],
   "source": [
    "'''\n",
    "# first line plot\n",
    "trace1 = go.Scatter(\n",
    "    x=dataframe.world_rank,\n",
    "    y=dataframe.teaching,\n",
    "    name = \"teaching\",\n",
    "    marker = dict(color = 'rgba(16, 112, 2, 0.8)'),\n",
    ")\n",
    "# second line plot\n",
    "trace2 = go.Scatter(\n",
    "    x=dataframe.world_rank,\n",
    "    y=dataframe.income,\n",
    "    xaxis='x2',\n",
    "    yaxis='y2',\n",
    "    name = \"income\",\n",
    "    marker = dict(color = 'rgba(160, 112, 20, 0.8)'),\n",
    ")\n",
    "data = [trace1, trace2]\n",
    "layout = go.Layout(\n",
    "    xaxis2=dict(\n",
    "        domain=[0.6, 0.95],\n",
    "        anchor='y2',        \n",
    "    ),\n",
    "    yaxis2=dict(\n",
    "        domain=[0.6, 0.95],\n",
    "        anchor='x2',\n",
    "    ),\n",
    "    title = 'Income and Teaching vs World Rank of Universities'\n",
    "\n",
    ")\n",
    "\n",
    "fig = go.Figure(data=data, layout=layout)\n",
    "iplot(fig)\n",
    "'''"
   ]
  },
  {
   "cell_type": "markdown",
   "metadata": {
    "_uuid": "9e605fb5cf38d1e70d1565d2d1abbea5605c7182",
    "id": "xEj26yDqiJP4"
   },
   "source": [
    "<a id=\"12\"></a> <br>\n",
    "# 3D Scatter Plot with Colorscaling\n",
    "3D Scatter: Sometimes 2D is not enough to understand data. Therefore adding one more dimension increase the intelligibility of the data. Even we will add color that is actually 4th dimension.\n",
    "* go.Scatter3d: create 3d scatter plot\n",
    "* x,y,z: axis of plots\n",
    "* mode: market that is scatter\n",
    "* size: marker size\n",
    "* color: axis of colorscale\n",
    "* colorscale:  actually it is 4th dimension"
   ]
  },
  {
   "cell_type": "code",
   "execution_count": 18,
   "metadata": {
    "_uuid": "92621456f5385967d7d8d2d54fd4bd7345d0dd3c",
    "id": "LGPYHRfriJP4",
    "outputId": "3f8e3e72-2f0e-44b9-e51b-bc996f440704"
   },
   "outputs": [
    {
     "data": {
      "text/plain": [
       "\"\\n# create trace 1 that is 3d scatter\\ntrace1 = go.Scatter3d(\\n                    x=dataframe['world_rank'],\\n                    y=dataframe['research'],\\n                    z=dataframe['citations'],\\n                    mode='markers',\\n                    marker=dict(\\n                                size=6,\\n                                color='rgb(255,0,0)')\\n                    )\\ndata = [trace1]\\n\\nlayout=go.Layout(margin=dict(l=0, r=0, b=0, t=0))\\n\\nfig = go.Figure(data=data, layout=layout)\\niplot(fig)\\n\""
      ]
     },
     "execution_count": 18,
     "metadata": {},
     "output_type": "execute_result"
    }
   ],
   "source": [
    "'''\n",
    "# create trace 1 that is 3d scatter\n",
    "trace1 = go.Scatter3d(\n",
    "                    x=dataframe['world_rank'],\n",
    "                    y=dataframe['research'],\n",
    "                    z=dataframe['citations'],\n",
    "                    mode='markers',\n",
    "                    marker=dict(\n",
    "                                size=6,\n",
    "                                color='rgb(255,0,0)')\n",
    "                    )\n",
    "data = [trace1]\n",
    "\n",
    "layout=go.Layout(margin=dict(l=0, r=0, b=0, t=0))\n",
    "\n",
    "fig = go.Figure(data=data, layout=layout)\n",
    "iplot(fig)\n",
    "'''"
   ]
  },
  {
   "cell_type": "markdown",
   "metadata": {
    "_uuid": "75383d6fc4ae4b6214a69b1dd511181b79c94faa",
    "id": "UjOQLBJFiJP7"
   },
   "source": [
    "<a id=\"13\"></a> <br>\n",
    "# Multiple Subplots\n",
    "<font color='red'>\n",
    "Multiple Subplots: While comparing more than one features, multiple subplots can be useful.\n",
    "<font color='black'>\n",
    "\n"
   ]
  },
  {
   "cell_type": "code",
   "execution_count": 19,
   "metadata": {
    "_uuid": "b84f7f859e87b94762938f5b542598f80bf67fd8",
    "id": "iS3ACgfEiJP7",
    "outputId": "322ccb6c-3b3d-464f-c24f-56bd01df2289"
   },
   "outputs": [
    {
     "data": {
      "text/plain": [
       "'\\ntrace1 = go.Scatter(\\n    x=dataframe.world_rank,\\n    y=dataframe.research,\\n    name = \"research\"\\n)\\ntrace2 = go.Scatter(\\n    x=dataframe.world_rank,\\n    y=dataframe.citations,\\n    xaxis=\\'x2\\',\\n    yaxis=\\'y2\\',\\n    name = \"citations\"\\n)\\ntrace3 = go.Scatter(\\n    x=dataframe.world_rank,\\n    y=dataframe.income,\\n    xaxis=\\'x3\\',\\n    yaxis=\\'y3\\',\\n    name = \"income\"\\n)\\ntrace4 = go.Scatter(\\n    x=dataframe.world_rank,\\n    y=dataframe.total_score,\\n    xaxis=\\'x4\\',\\n    yaxis=\\'y4\\',\\n    name = \"total_score\"\\n)\\ndata = [trace1, trace2, trace3, trace4]\\nlayout = go.Layout(\\n    xaxis=dict(\\n        domain=[0, 0.45]\\n    ),\\n    yaxis=dict(\\n        domain=[0, 0.45]\\n    ),\\n    xaxis2=dict(\\n        domain=[0.55, 1]\\n    ),\\n    xaxis3=dict(\\n        domain=[0, 0.45],\\n        anchor=\\'y3\\'\\n    ),\\n    xaxis4=dict(\\n        domain=[0.55, 1],\\n        anchor=\\'y4\\'\\n    ),\\n    yaxis2=dict(\\n        domain=[0, 0.45],\\n        anchor=\\'x2\\'\\n    ),\\n    yaxis3=dict(\\n        domain=[0.55, 1]\\n    ),\\n    yaxis4=dict(\\n        domain=[0.55, 1],\\n        anchor=\\'x4\\'\\n    ),\\n    title = \\'Research, citation, income and total score VS World Rank of Universities\\'\\n)\\nfig = go.Figure(data=data, layout=layout)\\niplot(fig)\\n'"
      ]
     },
     "execution_count": 19,
     "metadata": {},
     "output_type": "execute_result"
    }
   ],
   "source": [
    "'''\n",
    "trace1 = go.Scatter(\n",
    "    x=dataframe.world_rank,\n",
    "    y=dataframe.research,\n",
    "    name = \"research\"\n",
    ")\n",
    "trace2 = go.Scatter(\n",
    "    x=dataframe.world_rank,\n",
    "    y=dataframe.citations,\n",
    "    xaxis='x2',\n",
    "    yaxis='y2',\n",
    "    name = \"citations\"\n",
    ")\n",
    "trace3 = go.Scatter(\n",
    "    x=dataframe.world_rank,\n",
    "    y=dataframe.income,\n",
    "    xaxis='x3',\n",
    "    yaxis='y3',\n",
    "    name = \"income\"\n",
    ")\n",
    "trace4 = go.Scatter(\n",
    "    x=dataframe.world_rank,\n",
    "    y=dataframe.total_score,\n",
    "    xaxis='x4',\n",
    "    yaxis='y4',\n",
    "    name = \"total_score\"\n",
    ")\n",
    "data = [trace1, trace2, trace3, trace4]\n",
    "layout = go.Layout(\n",
    "    xaxis=dict(\n",
    "        domain=[0, 0.45]\n",
    "    ),\n",
    "    yaxis=dict(\n",
    "        domain=[0, 0.45]\n",
    "    ),\n",
    "    xaxis2=dict(\n",
    "        domain=[0.55, 1]\n",
    "    ),\n",
    "    xaxis3=dict(\n",
    "        domain=[0, 0.45],\n",
    "        anchor='y3'\n",
    "    ),\n",
    "    xaxis4=dict(\n",
    "        domain=[0.55, 1],\n",
    "        anchor='y4'\n",
    "    ),\n",
    "    yaxis2=dict(\n",
    "        domain=[0, 0.45],\n",
    "        anchor='x2'\n",
    "    ),\n",
    "    yaxis3=dict(\n",
    "        domain=[0.55, 1]\n",
    "    ),\n",
    "    yaxis4=dict(\n",
    "        domain=[0.55, 1],\n",
    "        anchor='x4'\n",
    "    ),\n",
    "    title = 'Research, citation, income and total score VS World Rank of Universities'\n",
    ")\n",
    "fig = go.Figure(data=data, layout=layout)\n",
    "iplot(fig)\n",
    "'''"
   ]
  },
  {
   "cell_type": "markdown",
   "metadata": {},
   "source": [
    "# Export to HTML\n",
    "Plotly figures are interactive when viewed in a web browser: you can hover over data points, pan and zoom axes, and show and hide traces by clicking or double-clicking on the legend. You can export figures either to static image file formats like PNG, JEPG, SVG or PDF or you can export them to HTML files which can be opened in a browser. This page explains how to do the latter.\n"
   ]
  },
  {
   "cell_type": "code",
   "execution_count": 20,
   "metadata": {},
   "outputs": [],
   "source": [
    "# desde el terminal de anaconda, anaconda prompt (anaconda3)\n",
    "# NO FUNCIONA CON PIP porque no se distribuye como una librería de Python convencional\n",
    "#\n",
    "# conda install -c plotly plotly-orca==1.2.1 psutil requests"
   ]
  },
  {
   "cell_type": "code",
   "execution_count": 21,
   "metadata": {
    "scrolled": true
   },
   "outputs": [
    {
     "data": {
      "text/plain": [
       "'\\n# fig is the last fig object run in the notebook\\n#fig.write_html(\"4 charts in one.html\")\\nimport plotly.io as plyio\\nplyio.write_image(fig, \"4 charts in one.png\")\\n'"
      ]
     },
     "execution_count": 21,
     "metadata": {},
     "output_type": "execute_result"
    }
   ],
   "source": [
    "'''\n",
    "# fig is the last fig object run in the notebook\n",
    "#fig.write_html(\"4 charts in one.html\")\n",
    "import plotly.io as plyio\n",
    "plyio.write_image(fig, \"4 charts in one.png\")\n",
    "'''"
   ]
  },
  {
   "cell_type": "code",
   "execution_count": 22,
   "metadata": {},
   "outputs": [],
   "source": [
    "# fig.write_image(\"4_charts_in_one.png\")"
   ]
  },
  {
   "cell_type": "markdown",
   "metadata": {
    "_cell_guid": "db937fca-9bb9-49bb-97fe-7cfff1044850",
    "_uuid": "bfff5387dc429362a78b79e840b4df7a3d4bb168",
    "id": "8NX5i7osiJP-"
   },
   "source": [
    "# Conclusion\n",
    "* If you like it, thank you for you upvotes.\n",
    "* If you have any question, I will happy to hear it"
   ]
  }
 ],
 "metadata": {
  "colab": {
   "name": "plotly-tutorial-for-beginners.ipynb",
   "provenance": []
  },
  "kernelspec": {
   "display_name": "Python 3",
   "language": "python",
   "name": "python3"
  },
  "language_info": {
   "codemirror_mode": {
    "name": "ipython",
    "version": 3
   },
   "file_extension": ".py",
   "mimetype": "text/x-python",
   "name": "python",
   "nbconvert_exporter": "python",
   "pygments_lexer": "ipython3",
   "version": "3.7.4"
  }
 },
 "nbformat": 4,
 "nbformat_minor": 4
}
