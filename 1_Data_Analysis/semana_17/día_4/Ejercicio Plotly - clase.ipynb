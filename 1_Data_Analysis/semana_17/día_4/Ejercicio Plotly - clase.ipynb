{
 "cells": [
  {
   "cell_type": "markdown",
   "metadata": {
    "id": "fBwh3Bypimha"
   },
   "source": [
    "# Interactive Visualization Lab - Superstore Dataset\n",
    "\n",
    "Complete the following set of exercises to solidify your knowledge of interactive visualization using Plotly, Cufflinks, and IPyWidgets."
   ]
  },
  {
   "cell_type": "code",
   "execution_count": 1,
   "metadata": {
    "id": "b-CJJ-68imhb",
    "outputId": "8ea87b64-66a4-4dd8-d905-2e4e1f387c0b"
   },
   "outputs": [
    {
     "data": {
      "text/plain": [
       "'\\nimport pandas as pd\\nimport plotly\\nplotly.offline.init_notebook_mode()\\nfrom plotly.offline import init_notebook_mode, iplot, plot\\n'"
      ]
     },
     "execution_count": 1,
     "metadata": {},
     "output_type": "execute_result"
    }
   ],
   "source": [
    "'''\n",
    "import pandas as pd\n",
    "import plotly\n",
    "plotly.offline.init_notebook_mode()\n",
    "from plotly.offline import init_notebook_mode, iplot, plot\n",
    "'''"
   ]
  },
  {
   "cell_type": "code",
   "execution_count": 2,
   "metadata": {
    "id": "LGyibx0Fimhl",
    "outputId": "b866a0ac-1391-4005-9286-43a4691386e4"
   },
   "outputs": [
    {
     "data": {
      "text/plain": [
       "\"\\ndf = pd.read_excel('data/Sample - Superstore.xlsx')\\ndf.head()\\n\""
      ]
     },
     "execution_count": 2,
     "metadata": {},
     "output_type": "execute_result"
    }
   ],
   "source": [
    "'''\n",
    "df = pd.read_excel('data/Sample - Superstore.xlsx')\n",
    "df.head()\n",
    "'''"
   ]
  },
  {
   "cell_type": "code",
   "execution_count": 3,
   "metadata": {
    "scrolled": true
   },
   "outputs": [],
   "source": [
    "# info del df"
   ]
  },
  {
   "cell_type": "markdown",
   "metadata": {
    "id": "0vbpV0ARimho"
   },
   "source": [
    "## 1. Create an interactive bar chart showing total sales by State for2014."
   ]
  },
  {
   "cell_type": "code",
   "execution_count": null,
   "metadata": {
    "id": "DSh4NtoXimho"
   },
   "outputs": [],
   "source": []
  },
  {
   "cell_type": "code",
   "execution_count": null,
   "metadata": {},
   "outputs": [],
   "source": []
  },
  {
   "cell_type": "code",
   "execution_count": 4,
   "metadata": {},
   "outputs": [
    {
     "data": {
      "text/plain": [
       "\"\\nimport plotly.graph_objs as go\\n\\ntrace1 = {\\n    'x':df2014_1.index,\\n    'y': df2014_1.values,\\n    'name': 'Sales 2014',\\n    'type': 'bar'\\n}\\n\\ndata=[trace1]\\n\\nlayout = {\\n    'title': 'Total Sales 2014'\\n}\\nfig = go.Figure(data=data, layout=layout)\\nfig.update_xaxes(tickangle=30)\\niplot(fig)\\n\""
      ]
     },
     "execution_count": 4,
     "metadata": {},
     "output_type": "execute_result"
    }
   ],
   "source": [
    "'''\n",
    "import plotly.graph_objs as go\n",
    "\n",
    "trace1 = {\n",
    "    'x':df2014_1.index,\n",
    "    'y': df2014_1.values,\n",
    "    'name': 'Sales 2014',\n",
    "    'type': 'bar'\n",
    "}\n",
    "\n",
    "data=[trace1]\n",
    "\n",
    "layout = {\n",
    "    'title': 'Total Sales 2014'\n",
    "}\n",
    "fig = go.Figure(data=data, layout=layout)\n",
    "fig.update_xaxes(tickangle=30)\n",
    "iplot(fig)\n",
    "'''"
   ]
  },
  {
   "cell_type": "markdown",
   "metadata": {
    "id": "ORjGPnb_imh0"
   },
   "source": [
    "## 2. Create an interactive line chart showing Sales and Profit in 2014."
   ]
  },
  {
   "cell_type": "code",
   "execution_count": null,
   "metadata": {},
   "outputs": [],
   "source": []
  },
  {
   "cell_type": "code",
   "execution_count": null,
   "metadata": {},
   "outputs": [],
   "source": []
  },
  {
   "cell_type": "code",
   "execution_count": 5,
   "metadata": {},
   "outputs": [
    {
     "data": {
      "text/plain": [
       "'\\ntrace1 = go.Scatter(\\n                    x=df2014_2.index,\\n                    y=df2014_2.Sales,\\n                    mode=\\'lines\\',\\n                    name=\\'Sales\\',\\n                    marker=dict(color=\\'rgba(16,112,2,0.8)\\'))\\n\\ntrace2 = go.Scatter(\\n                    x=df2014_2.index,\\n                    y=df2014_2.Profit,\\n                    mode=\\'lines\\',\\n                    name=\\'Profit\\',\\n                    marker=dict(color=\\'rgba(80,26,80,0.8)\\'))\\n\\ndata=[trace1, trace2]\\n\\nlayout=dict(title=\"Sales and Profit in 2014\",\\n           xaxis=dict(title=\"Order date\", ticklen=5))\\n\\nfig=dict(data=data, layout=layout)\\niplot(fig)\\n'"
      ]
     },
     "execution_count": 5,
     "metadata": {},
     "output_type": "execute_result"
    }
   ],
   "source": [
    "'''\n",
    "trace1 = go.Scatter(\n",
    "                    x=df2014_2.index,\n",
    "                    y=df2014_2.Sales,\n",
    "                    mode='lines',\n",
    "                    name='Sales',\n",
    "                    marker=dict(color='rgba(16,112,2,0.8)'))\n",
    "\n",
    "trace2 = go.Scatter(\n",
    "                    x=df2014_2.index,\n",
    "                    y=df2014_2.Profit,\n",
    "                    mode='lines',\n",
    "                    name='Profit',\n",
    "                    marker=dict(color='rgba(80,26,80,0.8)'))\n",
    "\n",
    "data=[trace1, trace2]\n",
    "\n",
    "layout=dict(title=\"Sales and Profit in 2014\",\n",
    "           xaxis=dict(title=\"Order date\", ticklen=5))\n",
    "\n",
    "fig=dict(data=data, layout=layout)\n",
    "iplot(fig)\n",
    "'''"
   ]
  },
  {
   "cell_type": "markdown",
   "metadata": {
    "id": "XeZgfB8Dimh3"
   },
   "source": [
    "## 3. Create a set of interactive histograms showing the distributions of quantity per order for the following states: California, New York and Texas."
   ]
  },
  {
   "cell_type": "code",
   "execution_count": null,
   "metadata": {
    "id": "nV3wFQB5imh3",
    "outputId": "91ad96ac-d1ef-42c8-a20a-cd0551c4ab63"
   },
   "outputs": [],
   "source": []
  },
  {
   "cell_type": "code",
   "execution_count": 6,
   "metadata": {},
   "outputs": [
    {
     "data": {
      "text/plain": [
       "\"\\ntrace1 = go.Histogram(\\n                    x=df_1['Quantity'],\\n                    opacity=0.75,\\n                    name='California',\\n                    marker=dict(color='rgba(171, 50, 96, 0.6)'))\\n\\ntrace2 = go.Histogram(\\n                    x=df_2['Quantity'],\\n                    opacity=0.75,\\n                    xaxis='x2',\\n                    name='New York',\\n                    marker=dict(color='rgba(12, 50, 196, 0.6)'))\\n\\ntrace3 = go.Histogram(\\n                    x=df_3['Quantity'],\\n                    opacity=0.75,\\n                    xaxis='x3',\\n                    name='Texas',\\n                    marker=dict(color='rgb(171, 50, 96)'))\\n\\ndata = [trace1, trace2, trace3]\\nlayout = go.Layout(\\n    xaxis=dict(\\n        domain=[0, 0.30]\\n    ),\\n    xaxis2=dict(\\n        domain=[0.35, 0.65]\\n    ),\\n    xaxis3=dict(\\n        domain=[0.70, 1]\\n    ),\\n    title = 'Quantity per order per States California, New York and Texas'\\n)\\nfig=go.Figure(data=data, layout=layout)\\niplot(fig)\\n\""
      ]
     },
     "execution_count": 6,
     "metadata": {},
     "output_type": "execute_result"
    }
   ],
   "source": [
    "'''\n",
    "trace1 = go.Histogram(\n",
    "                    x=df_1['Quantity'],\n",
    "                    opacity=0.75,\n",
    "                    name='California',\n",
    "                    marker=dict(color='rgba(171, 50, 96, 0.6)'))\n",
    "\n",
    "trace2 = go.Histogram(\n",
    "                    x=df_2['Quantity'],\n",
    "                    opacity=0.75,\n",
    "                    xaxis='x2',\n",
    "                    name='New York',\n",
    "                    marker=dict(color='rgba(12, 50, 196, 0.6)'))\n",
    "\n",
    "trace3 = go.Histogram(\n",
    "                    x=df_3['Quantity'],\n",
    "                    opacity=0.75,\n",
    "                    xaxis='x3',\n",
    "                    name='Texas',\n",
    "                    marker=dict(color='rgb(171, 50, 96)'))\n",
    "\n",
    "data = [trace1, trace2, trace3]\n",
    "layout = go.Layout(\n",
    "    xaxis=dict(\n",
    "        domain=[0, 0.30]\n",
    "    ),\n",
    "    xaxis2=dict(\n",
    "        domain=[0.35, 0.65]\n",
    "    ),\n",
    "    xaxis3=dict(\n",
    "        domain=[0.70, 1]\n",
    "    ),\n",
    "    title = 'Quantity per order per States California, New York and Texas'\n",
    ")\n",
    "fig=go.Figure(data=data, layout=layout)\n",
    "iplot(fig)\n",
    "'''"
   ]
  },
  {
   "cell_type": "markdown",
   "metadata": {
    "id": "KRcREZg5imh7"
   },
   "source": [
    "## 4. Create an interactive side-by-side bar chart showing the revenue by state (bars) for each of the products categories for California, New York and Texas."
   ]
  },
  {
   "cell_type": "code",
   "execution_count": null,
   "metadata": {
    "id": "yQpoz-Beimh8",
    "outputId": "695e6e21-5a85-44bb-91e3-d5aa49e7386d"
   },
   "outputs": [],
   "source": []
  },
  {
   "cell_type": "code",
   "execution_count": 7,
   "metadata": {},
   "outputs": [
    {
     "data": {
      "text/plain": [
       "\"\\nimport plotly.express as px\\n\\n\\niplot(px.bar(df3,\\n             x='State',\\n             y='Sales',\\n             color='Category',\\n             title='Sales by State and Category'))\\n\""
      ]
     },
     "execution_count": 7,
     "metadata": {},
     "output_type": "execute_result"
    }
   ],
   "source": [
    "'''\n",
    "import plotly.express as px\n",
    "\n",
    "\n",
    "iplot(px.bar(df3,\n",
    "             x='State',\n",
    "             y='Sales',\n",
    "             color='Category',\n",
    "             title='Sales by State and Category'))\n",
    "'''"
   ]
  },
  {
   "cell_type": "markdown",
   "metadata": {
    "id": "a1XDvjVAimiG"
   },
   "source": [
    "## 5. Create an interactive line chart showing sale by day for California."
   ]
  },
  {
   "cell_type": "code",
   "execution_count": null,
   "metadata": {
    "id": "5n_65PIQimiH",
    "scrolled": true
   },
   "outputs": [],
   "source": []
  },
  {
   "cell_type": "code",
   "execution_count": 8,
   "metadata": {},
   "outputs": [
    {
     "data": {
      "text/plain": [
       "'\\ntrace1 = go.Scatter(\\n                    x=df2[\\'Order Date\\'],\\n                    y=df2[\\'Sales\\'],\\n                    mode=\\'lines\\',\\n                    name=\\'Sales\\',\\n                    marker=dict(color=\\'rgba(16,112,2,0.8)\\'))\\n\\n\\ndata=[trace1]\\n\\nlayout=dict(title=\"Sales in 2014\",\\n           xaxis=dict(title=\"Order date\", ticklen=5))\\n\\nfig=dict(data=data, layout=layout)\\niplot(fig)\\n'"
      ]
     },
     "execution_count": 8,
     "metadata": {},
     "output_type": "execute_result"
    }
   ],
   "source": [
    "'''\n",
    "trace1 = go.Scatter(\n",
    "                    x=df2['Order Date'],\n",
    "                    y=df2['Sales'],\n",
    "                    mode='lines',\n",
    "                    name='Sales',\n",
    "                    marker=dict(color='rgba(16,112,2,0.8)'))\n",
    "\n",
    "\n",
    "data=[trace1]\n",
    "\n",
    "layout=dict(title=\"Sales in 2014\",\n",
    "           xaxis=dict(title=\"Order date\", ticklen=5))\n",
    "\n",
    "fig=dict(data=data, layout=layout)\n",
    "iplot(fig)\n",
    "'''"
   ]
  }
 ],
 "metadata": {
  "colab": {
   "name": "widgets_plotly_superstore_enunciado.ipynb",
   "provenance": []
  },
  "kernelspec": {
   "display_name": "Python 3",
   "language": "python",
   "name": "python3"
  },
  "language_info": {
   "codemirror_mode": {
    "name": "ipython",
    "version": 3
   },
   "file_extension": ".py",
   "mimetype": "text/x-python",
   "name": "python",
   "nbconvert_exporter": "python",
   "pygments_lexer": "ipython3",
   "version": "3.7.4"
  }
 },
 "nbformat": 4,
 "nbformat_minor": 4
}
