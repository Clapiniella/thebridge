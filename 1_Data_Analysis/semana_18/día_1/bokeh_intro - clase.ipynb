{
 "cells": [
  {
   "cell_type": "markdown",
   "metadata": {
    "id": "skoTZFQbBpKP"
   },
   "source": [
    "## Matplotlib limitations\n",
    "\n",
    "Let's start by importing the tools we need: "
   ]
  },
  {
   "cell_type": "code",
   "execution_count": 15,
   "metadata": {
    "id": "OFgaS0oVBpKQ"
   },
   "outputs": [
    {
     "data": {
      "text/plain": [
       "'\\nimport numpy as np\\nimport matplotlib.pyplot as plt\\n%matplotlib inline\\nnp.random.seed(0xdeadbeef)\\n'"
      ]
     },
     "execution_count": 15,
     "metadata": {},
     "output_type": "execute_result"
    }
   ],
   "source": [
    "'''\n",
    "import numpy as np\n",
    "import matplotlib.pyplot as plt\n",
    "%matplotlib inline\n",
    "np.random.seed(0xdeadbeef)\n",
    "'''"
   ]
  },
  {
   "cell_type": "markdown",
   "metadata": {
    "id": "i13Gd1TsBpKT"
   },
   "source": [
    "Then we create a sample of (x,y) points. In this sample, 100 points are drawn from a Gaussian distribution centred at (0,0) with a width of 1. On top of this, we add 100 points drawn from another Gaussian distribution centred at (1,1), with a width of 0.05. "
   ]
  },
  {
   "cell_type": "code",
   "execution_count": 16,
   "metadata": {
    "colab": {
     "base_uri": "https://localhost:8080/",
     "height": 282
    },
    "id": "ynIGx57ABpKT",
    "outputId": "9736b7f2-6821-4dfc-dbb9-8bc500424c22"
   },
   "outputs": [
    {
     "data": {
      "text/plain": [
       "'\\nsample1 = np.random.multivariate_normal([0,0], [[1,0],[0,1]], 100)\\nsample2 = np.random.multivariate_normal([1,1], [[0.05,0],[0,0.05]], 100)\\nsample = np.concatenate([sample1, sample2])\\nplt.scatter(sample[:,0],sample[:,1])\\n'"
      ]
     },
     "execution_count": 16,
     "metadata": {},
     "output_type": "execute_result"
    }
   ],
   "source": [
    "'''\n",
    "sample1 = np.random.multivariate_normal([0,0], [[1,0],[0,1]], 100)\n",
    "sample2 = np.random.multivariate_normal([1,1], [[0.05,0],[0,0.05]], 100)\n",
    "sample = np.concatenate([sample1, sample2])\n",
    "plt.scatter(sample[:,0],sample[:,1])\n",
    "'''"
   ]
  },
  {
   "cell_type": "markdown",
   "metadata": {
    "id": "-ED5lyM9BpKX"
   },
   "source": [
    "Since the number of points is not too large, we clearly see the two distributions. But let's add more points now. "
   ]
  },
  {
   "cell_type": "code",
   "execution_count": 17,
   "metadata": {
    "colab": {
     "base_uri": "https://localhost:8080/",
     "height": 282
    },
    "id": "_UnIUF3-BpKX",
    "outputId": "8cb61d04-fe4f-4e6b-cfdf-2b03b6eb61b4"
   },
   "outputs": [
    {
     "data": {
      "text/plain": [
       "'\\nsample1 = np.random.multivariate_normal([0,0], [[1,0],[0,1]], 5000)\\nsample2 = np.random.multivariate_normal([1,1], [[0.05,0],[0,0.05]], 5000)\\nsample = np.concatenate([sample1, sample2])\\nplt.scatter(sample[:,0],sample[:,1])\\n'"
      ]
     },
     "execution_count": 17,
     "metadata": {},
     "output_type": "execute_result"
    }
   ],
   "source": [
    "'''\n",
    "sample1 = np.random.multivariate_normal([0,0], [[1,0],[0,1]], 5000)\n",
    "sample2 = np.random.multivariate_normal([1,1], [[0.05,0],[0,0.05]], 5000)\n",
    "sample = np.concatenate([sample1, sample2])\n",
    "plt.scatter(sample[:,0],sample[:,1])\n",
    "'''"
   ]
  },
  {
   "cell_type": "markdown",
   "metadata": {
    "id": "R9Qy98w0BpKa"
   },
   "source": [
    "And we just get a blob of mess, no way to see the two distributions. Of course, it's possible to tune our plotting options: "
   ]
  },
  {
   "cell_type": "code",
   "execution_count": 18,
   "metadata": {
    "colab": {
     "base_uri": "https://localhost:8080/",
     "height": 609
    },
    "id": "VuJwK2ZSBpKa",
    "outputId": "d1fe2036-a296-46ea-cbb7-b44234a9ea3a"
   },
   "outputs": [
    {
     "data": {
      "text/plain": [
       "\"\\nplt.figure(figsize=(10,10))\\nplt.scatter(sample[:,0],sample[:,1], alpha=0.5, marker='.')\\n\""
      ]
     },
     "execution_count": 18,
     "metadata": {},
     "output_type": "execute_result"
    }
   ],
   "source": [
    "'''\n",
    "plt.figure(figsize=(10,10))\n",
    "plt.scatter(sample[:,0],sample[:,1], alpha=0.5, marker='.')\n",
    "'''"
   ]
  },
  {
   "cell_type": "markdown",
   "metadata": {
    "id": "kswNWwCWBpKc"
   },
   "source": [
    "That's much nicer! \n",
    "\n",
    "Still, the plot is static. No way to zoom nor to get some information on these points. That's where bokeh will really help. \n",
    "\n",
    "## First visualization with bokeh\n",
    "\n",
    "Let's import some tools from bokeh and initialize it: "
   ]
  },
  {
   "cell_type": "code",
   "execution_count": 19,
   "metadata": {},
   "outputs": [],
   "source": [
    "#!pip install bokeh"
   ]
  },
  {
   "cell_type": "code",
   "execution_count": null,
   "metadata": {
    "id": "rtkzw5VBBpKd"
   },
   "outputs": [],
   "source": []
  },
  {
   "cell_type": "markdown",
   "metadata": {
    "id": "qi_A_woNBpKf"
   },
   "source": [
    "Then, we can do a simple plot with the following code. \n",
    "What is very nice is that we can now hover on the data to get some information, and do a box zoom to focus on part of the data. "
   ]
  },
  {
   "cell_type": "code",
   "execution_count": 20,
   "metadata": {
    "colab": {
     "base_uri": "https://localhost:8080/",
     "height": 617
    },
    "id": "CcQcWnc5BpKg",
    "outputId": "7125b94e-11f7-46fe-d760-23f09e1215e0"
   },
   "outputs": [
    {
     "data": {
      "text/plain": [
       "'\\ntools = \"hover, box_zoom, undo, crosshair\"\\np = figure(tools=tools)\\np.scatter(sample[:,0], sample[:,1], alpha=0.5)\\nshow(p)\\n'"
      ]
     },
     "execution_count": 20,
     "metadata": {},
     "output_type": "execute_result"
    }
   ],
   "source": [
    "'''\n",
    "tools = \"hover, box_zoom, undo, crosshair\"\n",
    "p = figure(tools=tools)\n",
    "p.scatter(sample[:,0], sample[:,1], alpha=0.5)\n",
    "show(p)\n",
    "'''"
   ]
  },
  {
   "cell_type": "markdown",
   "metadata": {
    "id": "nJX6OY9HBpKi"
   },
   "source": [
    "## Bokeh and pandas\n",
    "\n",
    "The integration between bokeh and pandas works very well. In this section, we will use pandas to add another value to each data point, and we will see how to modify the bokeh tooltip to show this value while hovering. \n",
    "\n",
    "First we're going to import: \n",
    "\n",
    "* pandas: we will create a pandas dataframe from the numpy array holding our sample, so that we can add a new value to each point. \n",
    "* the bokeh ColumnDataSource: it will act as a convenient interface beteween bokeh and the dataframe. \n",
    "* the bokeh HoverTool: we'll need it to change the format of the tooltip"
   ]
  },
  {
   "cell_type": "code",
   "execution_count": null,
   "metadata": {
    "id": "OugiyMUQBpKj"
   },
   "outputs": [],
   "source": []
  },
  {
   "cell_type": "markdown",
   "metadata": {
    "id": "5zPn9cg9BpKl"
   },
   "source": [
    "Then, we create the dataframe from our sample, and we print the first rows:"
   ]
  },
  {
   "cell_type": "code",
   "execution_count": null,
   "metadata": {
    "colab": {
     "base_uri": "https://localhost:8080/",
     "height": 204
    },
    "id": "60gks6XGBpKl",
    "outputId": "148b2ae3-d346-4cea-b6d0-7270a150ef40"
   },
   "outputs": [],
   "source": []
  },
  {
   "cell_type": "markdown",
   "metadata": {
    "id": "X3zW1uQWBpKo"
   },
   "source": [
    "Let's now add a new value to each point, and print again. As an example, I put here the distance of the point from origin, but this value could be anything; it does not have to be a function of x and y. "
   ]
  },
  {
   "cell_type": "code",
   "execution_count": null,
   "metadata": {
    "colab": {
     "base_uri": "https://localhost:8080/",
     "height": 204
    },
    "id": "nWqkBbPpBpKo",
    "outputId": "2c6c81b6-9bb3-434c-bfb7-1087804f3b48"
   },
   "outputs": [],
   "source": []
  },
  {
   "cell_type": "markdown",
   "metadata": {
    "id": "eMnCe-EHBpKq"
   },
   "source": [
    "And finally, we do another plot, with a custom HoverTool: "
   ]
  },
  {
   "cell_type": "code",
   "execution_count": 21,
   "metadata": {
    "colab": {
     "base_uri": "https://localhost:8080/",
     "height": 617
    },
    "id": "G52XUWPQBpKq",
    "outputId": "9940d5e3-fc30-4fa2-f72c-949f9b2a3867"
   },
   "outputs": [
    {
     "data": {
      "text/plain": [
       "'\\nsource = ColumnDataSource(df)\\ntools = \"box_zoom, undo, crosshair\"\\np = figure(tools=tools)\\np.scatter(\\'x\\',\\'y\\', source=source, alpha=0.5)\\np.add_tools(\\n    HoverTool(\\n        tooltips=[(\\'value\\',\\'@value{2.2f}\\'), \\n                  (\\'index\\', \\'@index\\')]\\n    )\\n)\\nshow(p)\\n'"
      ]
     },
     "execution_count": 21,
     "metadata": {},
     "output_type": "execute_result"
    }
   ],
   "source": [
    "'''\n",
    "source = ColumnDataSource(df)\n",
    "tools = \"box_zoom, undo, crosshair\"\n",
    "p = figure(tools=tools)\n",
    "p.scatter('x','y', source=source, alpha=0.5)\n",
    "p.add_tools(\n",
    "    HoverTool(\n",
    "        tooltips=[('value','@value{2.2f}'), \n",
    "                  ('index', '@index')]\n",
    "    )\n",
    ")\n",
    "show(p)\n",
    "'''"
   ]
  },
  {
   "cell_type": "markdown",
   "metadata": {
    "id": "3MuquN63BpKt"
   },
   "source": [
    "Using the index given by the tooltip, we can locate the corresponding row in the dataframe: "
   ]
  },
  {
   "cell_type": "code",
   "execution_count": null,
   "metadata": {
    "colab": {
     "base_uri": "https://localhost:8080/",
     "height": 85
    },
    "id": "o-QLT1INBpKt",
    "outputId": "a459b94e-1b9a-4d54-bddc-c2ebad300d1e"
   },
   "outputs": [],
   "source": []
  },
  {
   "cell_type": "code",
   "execution_count": 22,
   "metadata": {},
   "outputs": [],
   "source": [
    "#!jupyter labextension install @jupyter-widgets/jupyterlab-manager"
   ]
  },
  {
   "cell_type": "code",
   "execution_count": 23,
   "metadata": {},
   "outputs": [],
   "source": [
    "#!jupyter labextension install @bokeh/jupyter_bokeh"
   ]
  }
 ],
 "metadata": {
  "colab": {
   "name": "bokeh_intro.ipynb",
   "provenance": []
  },
  "kernelspec": {
   "display_name": "Python 3",
   "language": "python",
   "name": "python3"
  },
  "language_info": {
   "codemirror_mode": {
    "name": "ipython",
    "version": 3
   },
   "file_extension": ".py",
   "mimetype": "text/x-python",
   "name": "python",
   "nbconvert_exporter": "python",
   "pygments_lexer": "ipython3",
   "version": "3.7.4"
  }
 },
 "nbformat": 4,
 "nbformat_minor": 4
}
