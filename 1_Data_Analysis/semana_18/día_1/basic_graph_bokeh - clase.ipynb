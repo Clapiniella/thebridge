{
 "cells": [
  {
   "cell_type": "code",
   "execution_count": 12,
   "metadata": {
    "id": "DWLCKHElhTxx",
    "outputId": "21d70f6f-8791-4639-edf2-5f7e60253fd4"
   },
   "outputs": [
    {
     "data": {
      "text/plain": [
       "'\\n# making a basic bokeh grapg\\n\\n# importing bokeh\\n\\nfrom bokeh.plotting import figure\\n#from bokeh.io import output_file, show\\n\\nfrom bokeh.io import show, output_notebook\\n\\noutput_notebook()\\n# prepare some data\\n\\nx=[1,2,3]\\ny = [6,7,8]\\n\\n# prepare the output file\\n\\n#output_file(\"line.html\")\\n\\n# create the figure, and create a line\\n\\nf = figure()\\nf.triangle(x,y)\\n\\n# showing the figure\\n\\nshow(f)\\n'"
      ]
     },
     "execution_count": 12,
     "metadata": {},
     "output_type": "execute_result"
    }
   ],
   "source": [
    "'''\n",
    "# making a basic bokeh grapg\n",
    "\n",
    "# importing bokeh\n",
    "\n",
    "from bokeh.plotting import figure\n",
    "#from bokeh.io import output_file, show\n",
    "\n",
    "from bokeh.io import show, output_notebook\n",
    "\n",
    "output_notebook()\n",
    "# prepare some data\n",
    "\n",
    "x=[1,2,3]\n",
    "y = [6,7,8]\n",
    "\n",
    "# prepare the output file\n",
    "\n",
    "#output_file(\"line.html\")\n",
    "\n",
    "# create the figure, and create a line\n",
    "\n",
    "f = figure()\n",
    "f.triangle(x,y)\n",
    "\n",
    "# showing the figure\n",
    "\n",
    "show(f)\n",
    "'''"
   ]
  },
  {
   "cell_type": "code",
   "execution_count": 13,
   "metadata": {
    "id": "k_oqX0DnhTx1"
   },
   "outputs": [],
   "source": [
    "# para saber todos metodos de figure\n",
    "\n"
   ]
  },
  {
   "cell_type": "code",
   "execution_count": 14,
   "metadata": {
    "id": "dnNBzOCohTx4"
   },
   "outputs": [
    {
     "data": {
      "text/plain": [
       "'\\n# making a basic bokeh graph using pandas\\n\\n# importing bokeh\\n\\nfrom bokeh.plotting import figure\\n#from bokeh.io import output_file, show\\nfrom bokeh.io import output_file, show\\nimport pandas as pd\\n\\n# prepare some data\\ndf = pd.read_csv(\\'./data/bachelors.csv\\')\\nx=df[\\'Year\\']\\ny=df[\\'Engineering\\']\\n\\n# prepare the output file\\n\\n#output_file(\"bachelor_line.html\")\\n\\n# create the figure, and create a line\\n\\nf = figure()\\nf.line(x,y)\\n\\n# showing the figure\\n\\nshow(f)\\n'"
      ]
     },
     "execution_count": 14,
     "metadata": {},
     "output_type": "execute_result"
    }
   ],
   "source": [
    "'''\n",
    "# making a basic bokeh graph using pandas\n",
    "\n",
    "# importing bokeh\n",
    "\n",
    "from bokeh.plotting import figure\n",
    "#from bokeh.io import output_file, show\n",
    "from bokeh.io import output_file, show\n",
    "import pandas as pd\n",
    "\n",
    "# prepare some data\n",
    "df = pd.read_csv('./data/bachelors.csv')\n",
    "x=df['Year']\n",
    "y=df['Engineering']\n",
    "\n",
    "# prepare the output file\n",
    "\n",
    "#output_file(\"bachelor_line.html\")\n",
    "\n",
    "# create the figure, and create a line\n",
    "\n",
    "f = figure()\n",
    "f.line(x,y)\n",
    "\n",
    "# showing the figure\n",
    "\n",
    "show(f)\n",
    "'''"
   ]
  },
  {
   "cell_type": "code",
   "execution_count": 15,
   "metadata": {
    "id": "yowRShmIhTx7"
   },
   "outputs": [],
   "source": [
    "#%pwd"
   ]
  },
  {
   "cell_type": "markdown",
   "metadata": {
    "id": "fNSX2jr1hTx9"
   },
   "source": [
    "# Styling Graphs"
   ]
  },
  {
   "cell_type": "code",
   "execution_count": 16,
   "metadata": {
    "id": "0wMqmhq3hTx9",
    "outputId": "aa5ae8c6-33e9-44ce-f7a2-e146cae1631b"
   },
   "outputs": [
    {
     "data": {
      "text/plain": [
       "'\\nfrom bokeh.plotting import figure\\nfrom bokeh.io import output_file, show\\nfrom bokeh.sampledata.iris import flowers\\nfrom bokeh.models import Range1d, PanTool, ResetTool, HoverTool\\noutput_notebook()\\n# prepare the output file\\n\\n#output_file(\"iris_2.html\")\\n\\n# create the figure, and create a line\\n\\nf = figure()\\n\\n#Style the tools\\n#f.tools = [PanTool(),ResetTool(),HoverTool()]\\nf.add_tools(HoverTool())\\nf.toolbar_location = \\'above\\'\\nf.toolbar.logo = None\\n\\n\\n#stilize the background\\n\\nf.plot_width = 3000\\nf.plot_width = 1200\\nf.background_fill_color = \"olive\"\\nf.background_fill_alpha=0.3\\n\\n#Style the title\\n\\nf.title.text=\"Iris Morphology\"\\nf.title.text_color = \"olive\"\\nf.title.text_font = \"helvetica\"\\nf.title.text_font_size= \"40px\"\\nf.title.align=\"center\"\\n\\n#style the axis\\n\\nf.axis.minor_tick_line_color= \"blue\"\\n#f.yaxis.major_label_orientation =\"vertical\"\\nf.xaxis.visible=True\\nf.xaxis.minor_tick_in=-6\\nf.xaxis.axis_label=\"Petal Length\"\\nf.yaxis.axis_label=\"Petal Width\"\\nf.axis.axis_label_text_color=\"blue\"\\nf.axis.major_label_text_color=\"orange\"\\n\\n#Axes geometry\\nf.x_range = Range1d(start=0, end=7.5)\\nf.y_range = Range1d(start=0, end=3.5)\\n#f.xaxis.bounds = (2, 6)\\n#f.xaxis[0].ticker.desired_num_ticks = 2\\n#f.yaxis[0].ticker.desired_num_ticks = 2\\nf.yaxis[0].ticker.num_minor_ticks = 2\\n\\n\\n#Style the grid\\nf.xgrid.grid_line_color = None\\nf.ygrid.grid_line_alpha = 0.8\\nf.grid.grid_line_dash = [5,3]\\n\\n\\n# adding glypshs\\n\\nf.circle(x=flowers[\\'petal_length\\'],y=flowers[\\'petal_width\\'])\\n\\nshow(f)\\n'"
      ]
     },
     "execution_count": 16,
     "metadata": {},
     "output_type": "execute_result"
    }
   ],
   "source": [
    "'''\n",
    "from bokeh.plotting import figure\n",
    "from bokeh.io import output_file, show\n",
    "from bokeh.sampledata.iris import flowers\n",
    "from bokeh.models import Range1d, PanTool, ResetTool, HoverTool\n",
    "output_notebook()\n",
    "# prepare the output file\n",
    "\n",
    "#output_file(\"iris_2.html\")\n",
    "\n",
    "# create the figure, and create a line\n",
    "\n",
    "f = figure()\n",
    "\n",
    "#Style the tools\n",
    "#f.tools = [PanTool(),ResetTool(),HoverTool()]\n",
    "f.add_tools(HoverTool())\n",
    "f.toolbar_location = 'above'\n",
    "f.toolbar.logo = None\n",
    "\n",
    "\n",
    "#stilize the background\n",
    "\n",
    "f.plot_width = 3000\n",
    "f.plot_width = 1200\n",
    "f.background_fill_color = \"olive\"\n",
    "f.background_fill_alpha=0.3\n",
    "\n",
    "#Style the title\n",
    "\n",
    "f.title.text=\"Iris Morphology\"\n",
    "f.title.text_color = \"olive\"\n",
    "f.title.text_font = \"helvetica\"\n",
    "f.title.text_font_size= \"40px\"\n",
    "f.title.align=\"center\"\n",
    "\n",
    "#style the axis\n",
    "\n",
    "f.axis.minor_tick_line_color= \"blue\"\n",
    "#f.yaxis.major_label_orientation =\"vertical\"\n",
    "f.xaxis.visible=True\n",
    "f.xaxis.minor_tick_in=-6\n",
    "f.xaxis.axis_label=\"Petal Length\"\n",
    "f.yaxis.axis_label=\"Petal Width\"\n",
    "f.axis.axis_label_text_color=\"blue\"\n",
    "f.axis.major_label_text_color=\"orange\"\n",
    "\n",
    "#Axes geometry\n",
    "f.x_range = Range1d(start=0, end=7.5)\n",
    "f.y_range = Range1d(start=0, end=3.5)\n",
    "#f.xaxis.bounds = (2, 6)\n",
    "#f.xaxis[0].ticker.desired_num_ticks = 2\n",
    "#f.yaxis[0].ticker.desired_num_ticks = 2\n",
    "f.yaxis[0].ticker.num_minor_ticks = 2\n",
    "\n",
    "\n",
    "#Style the grid\n",
    "f.xgrid.grid_line_color = None\n",
    "f.ygrid.grid_line_alpha = 0.8\n",
    "f.grid.grid_line_dash = [5,3]\n",
    "\n",
    "\n",
    "# adding glypshs\n",
    "\n",
    "f.circle(x=flowers['petal_length'],y=flowers['petal_width'])\n",
    "\n",
    "show(f)\n",
    "'''"
   ]
  },
  {
   "cell_type": "code",
   "execution_count": null,
   "metadata": {
    "id": "_ByfunL-hTx_"
   },
   "outputs": [],
   "source": []
  },
  {
   "cell_type": "code",
   "execution_count": 17,
   "metadata": {
    "id": "1-AfaXnVhTyC",
    "outputId": "71d29ac1-9691-4efb-c21c-51d31365d32e"
   },
   "outputs": [
    {
     "data": {
      "text/plain": [
       "'\\n#Categorical axes\\n\\n#importing libraries\\nfrom bokeh.plotting import figure\\nfrom bokeh.io import output_file, show\\n\\n#prepare the output\\n#output_file(\"students.html\")\\n\\n#create the figure\\nf = figure(x_range=[\"F\", \"D-\", \"D\", \"D+\", \"C-\", \"C\", \"C+\", \"B-\", \"B\", \"B+\", \"A-\", \"A\", \"A+\"],\\n           y_range=[\"F\", \"D-\", \"D\", \"D+\", \"C-\", \"C\", \"C+\", \"B-\", \"B\", \"B+\", \"A-\", \"A\", \"A+\"])\\n\\n#create glyphs\\nf.circle(x=[\"A\",\"B\"], y=[\"C\",\"D\"], size=8)\\n\\nshow(f)\\n'"
      ]
     },
     "execution_count": 17,
     "metadata": {},
     "output_type": "execute_result"
    }
   ],
   "source": [
    "'''\n",
    "#Categorical axes\n",
    "\n",
    "#importing libraries\n",
    "from bokeh.plotting import figure\n",
    "from bokeh.io import output_file, show\n",
    "\n",
    "#prepare the output\n",
    "#output_file(\"students.html\")\n",
    "\n",
    "#create the figure\n",
    "f = figure(x_range=[\"F\", \"D-\", \"D\", \"D+\", \"C-\", \"C\", \"C+\", \"B-\", \"B\", \"B+\", \"A-\", \"A\", \"A+\"],\n",
    "           y_range=[\"F\", \"D-\", \"D\", \"D+\", \"C-\", \"C\", \"C+\", \"B-\", \"B\", \"B+\", \"A-\", \"A\", \"A+\"])\n",
    "\n",
    "#create glyphs\n",
    "f.circle(x=[\"A\",\"B\"], y=[\"C\",\"D\"], size=8)\n",
    "\n",
    "show(f)\n",
    "'''"
   ]
  },
  {
   "cell_type": "code",
   "execution_count": null,
   "metadata": {
    "id": "cNUbuT3IhTyE"
   },
   "outputs": [],
   "source": [
    "\n"
   ]
  },
  {
   "cell_type": "markdown",
   "metadata": {
    "id": "Mz6wTPQNhTyG"
   },
   "source": [
    "# Cambiando los glyphs"
   ]
  },
  {
   "cell_type": "code",
   "execution_count": 18,
   "metadata": {
    "id": "P7kMc1mmhTyH",
    "outputId": "8d7100df-4b0f-4481-8621-bbecf4418e4d"
   },
   "outputs": [
    {
     "data": {
      "text/plain": [
       "'\\nfrom bokeh.plotting import figure\\nfrom bokeh.io import output_file, show\\nfrom bokeh.sampledata.iris import flowers\\nfrom bokeh.models import Range1d, PanTool, ResetTool, HoverTool\\n\\n# prepare the output file\\n\\noutput_file(\"iris_2.html\")\\n\\n# create the figure, and create a line\\n\\nf = figure()\\n\\n#Style the tools\\n#f.tools = [PanTool(),ResetTool(),HoverTool()]\\nf.add_tools(HoverTool())\\nf.toolbar_location = \\'above\\'\\nf.toolbar.logo = None\\n\\n\\n#stilize the background\\n\\nf.plot_width = 3000\\nf.plot_width = 1200\\nf.background_fill_color = \"olive\"\\nf.background_fill_alpha=0.3\\n\\n#Style the title\\n\\nf.title.text=\"Iris Morphology\"\\nf.title.text_color = \"olive\"\\nf.title.text_font = \"helvetica\"\\nf.title.text_font_size= \"40px\"\\nf.title.align=\"center\"\\n\\n#style the axis\\n\\nf.axis.minor_tick_line_color= \"blue\"\\n#f.yaxis.major_label_orientation =\"vertical\"\\nf.xaxis.visible=True\\nf.xaxis.minor_tick_in=-6\\nf.xaxis.axis_label=\"Petal Length\"\\nf.yaxis.axis_label=\"Petal Width\"\\nf.axis.axis_label_text_color=\"blue\"\\nf.axis.major_label_text_color=\"orange\"\\n\\n#Axes geometry\\nf.x_range = Range1d(start=0, end=7.5)\\nf.y_range = Range1d(start=0, end=3.5)\\n#f.xaxis.bounds = (2, 6)\\n#f.xaxis[0].ticker.desired_num_ticks = 2\\n#f.yaxis[0].ticker.desired_num_ticks = 2\\nf.yaxis[0].ticker.num_minor_ticks = 2\\n\\n\\n#Style the grid\\nf.xgrid.grid_line_color = None\\nf.ygrid.grid_line_alpha = 0.8\\nf.grid.grid_line_dash = [5,3]\\n\\n\\ncolormap={\\'setosa\\':\\'red\\', \\'versicolor\\':\\'green\\', \\'virginica\\':\\'blue\\'}\\nflowers[\\'color\\']=[colormap[x] for x in flowers[\\'species\\']]\\n\\n#adding glyphs\\nf.circle(x=flowers[\"petal_length\"], y=flowers[\"petal_width\"],\\n         size=flowers[\\'sepal_width\\']*4, fill_alpha=0.2, color=flowers[\\'color\\'], line_dash=[5,3])\\n\\n\\n\\nshow(f)\\n'"
      ]
     },
     "execution_count": 18,
     "metadata": {},
     "output_type": "execute_result"
    }
   ],
   "source": [
    "'''\n",
    "from bokeh.plotting import figure\n",
    "from bokeh.io import output_file, show\n",
    "from bokeh.sampledata.iris import flowers\n",
    "from bokeh.models import Range1d, PanTool, ResetTool, HoverTool\n",
    "\n",
    "# prepare the output file\n",
    "\n",
    "output_file(\"iris_2.html\")\n",
    "\n",
    "# create the figure, and create a line\n",
    "\n",
    "f = figure()\n",
    "\n",
    "#Style the tools\n",
    "#f.tools = [PanTool(),ResetTool(),HoverTool()]\n",
    "f.add_tools(HoverTool())\n",
    "f.toolbar_location = 'above'\n",
    "f.toolbar.logo = None\n",
    "\n",
    "\n",
    "#stilize the background\n",
    "\n",
    "f.plot_width = 3000\n",
    "f.plot_width = 1200\n",
    "f.background_fill_color = \"olive\"\n",
    "f.background_fill_alpha=0.3\n",
    "\n",
    "#Style the title\n",
    "\n",
    "f.title.text=\"Iris Morphology\"\n",
    "f.title.text_color = \"olive\"\n",
    "f.title.text_font = \"helvetica\"\n",
    "f.title.text_font_size= \"40px\"\n",
    "f.title.align=\"center\"\n",
    "\n",
    "#style the axis\n",
    "\n",
    "f.axis.minor_tick_line_color= \"blue\"\n",
    "#f.yaxis.major_label_orientation =\"vertical\"\n",
    "f.xaxis.visible=True\n",
    "f.xaxis.minor_tick_in=-6\n",
    "f.xaxis.axis_label=\"Petal Length\"\n",
    "f.yaxis.axis_label=\"Petal Width\"\n",
    "f.axis.axis_label_text_color=\"blue\"\n",
    "f.axis.major_label_text_color=\"orange\"\n",
    "\n",
    "#Axes geometry\n",
    "f.x_range = Range1d(start=0, end=7.5)\n",
    "f.y_range = Range1d(start=0, end=3.5)\n",
    "#f.xaxis.bounds = (2, 6)\n",
    "#f.xaxis[0].ticker.desired_num_ticks = 2\n",
    "#f.yaxis[0].ticker.desired_num_ticks = 2\n",
    "f.yaxis[0].ticker.num_minor_ticks = 2\n",
    "\n",
    "\n",
    "#Style the grid\n",
    "f.xgrid.grid_line_color = None\n",
    "f.ygrid.grid_line_alpha = 0.8\n",
    "f.grid.grid_line_dash = [5,3]\n",
    "\n",
    "\n",
    "colormap={'setosa':'red', 'versicolor':'green', 'virginica':'blue'}\n",
    "flowers['color']=[colormap[x] for x in flowers['species']]\n",
    "\n",
    "#adding glyphs\n",
    "f.circle(x=flowers[\"petal_length\"], y=flowers[\"petal_width\"],\n",
    "         size=flowers['sepal_width']*4, fill_alpha=0.2, color=flowers['color'], line_dash=[5,3])\n",
    "\n",
    "\n",
    "\n",
    "show(f)\n",
    "'''"
   ]
  },
  {
   "cell_type": "code",
   "execution_count": null,
   "metadata": {
    "id": "MjZkuqH0hTyJ"
   },
   "outputs": [],
   "source": []
  },
  {
   "cell_type": "markdown",
   "metadata": {
    "id": "QQHCRVXMhTyL"
   },
   "source": [
    "# Configuring the legend"
   ]
  },
  {
   "cell_type": "code",
   "execution_count": null,
   "metadata": {
    "id": "2wWu9-d2hTyM"
   },
   "outputs": [],
   "source": []
  },
  {
   "cell_type": "code",
   "execution_count": 19,
   "metadata": {
    "id": "2XmATtFUhTyO",
    "outputId": "9a16d6c0-356f-4e90-cddf-a3cc3da339b5"
   },
   "outputs": [
    {
     "data": {
      "text/plain": [
       "'\\nfrom bokeh.plotting import figure\\nfrom bokeh.io import output_file, show\\nfrom bokeh.sampledata.iris import flowers\\nfrom bokeh.models import Range1d, PanTool, ResetTool, HoverTool\\n\\n# prepare the output file\\n\\noutput_file(\"iris_3.html\")\\n\\n# create the figure, and create a line\\n\\nf = figure()\\n\\n#Style the tools\\n#f.tools = [PanTool(),ResetTool(),HoverTool()]\\nf.add_tools(HoverTool())\\n#f.toolbar_location = \\'above\\'\\nf.toolbar.logo = None\\n\\n\\n#stilize the background\\n\\nf.plot_width = 2000\\nf.plot_width = 1200\\nf.background_fill_color = \"olive\"\\nf.background_fill_alpha=0.3\\n\\n#Style the title\\n\\nf.title.text=\"Iris Morphology\"\\nf.title.text_color = \"olive\"\\nf.title.text_font = \"helvetica\"\\nf.title.text_font_size= \"40px\"\\nf.title.align=\"center\"\\n\\n#style the axis\\n\\nf.axis.minor_tick_line_color= \"blue\"\\n#f.yaxis.major_label_orientation =\"vertical\"\\nf.xaxis.visible=True\\nf.xaxis.minor_tick_in=-6\\nf.xaxis.axis_label=\"Petal Length\"\\nf.yaxis.axis_label=\"Petal Width\"\\nf.axis.axis_label_text_color=\"blue\"\\nf.axis.major_label_text_color=\"orange\"\\n\\n#Axes geometry\\nf.x_range = Range1d(start=0, end=10)\\nf.y_range = Range1d(start=0, end=3.5)\\n#f.xaxis.bounds = (2, 6)\\n#f.xaxis[0].ticker.desired_num_ticks = 2\\n#f.yaxis[0].ticker.desired_num_ticks = 2\\nf.yaxis[0].ticker.num_minor_ticks = 2\\n\\n\\n#Style the grid\\nf.xgrid.grid_line_color = None\\nf.ygrid.grid_line_alpha = 0.8\\nf.grid.grid_line_dash = [5,3]\\n\\n\\ncolormap={\\'setosa\\':\\'red\\', \\'versicolor\\':\\'green\\', \\'virginica\\':\\'blue\\'}\\nflowers[\\'color\\']=[colormap[x] for x in flowers[\\'species\\']]\\n\\n#adding glyphs\\nf.circle(x=flowers[\"petal_length\"][flowers[\"species\"]==\"setosa\"], \\n         y=flowers[\"petal_width\"][flowers[\"species\"]==\"setosa\"], \\n         size=flowers[\\'sepal_width\\'][flowers[\"species\"]==\"setosa\"]*4,\\n         fill_alpha=0.2,color=flowers[\\'color\\'][flowers[\"species\"]==\"setosa\"],line_dash=[5,3],legend=\\'Setosa\\')\\n\\nf.circle(x=flowers[\"petal_length\"][flowers[\"species\"]==\"versicolor\"], \\n         y=flowers[\"petal_width\"][flowers[\"species\"]==\"versicolor\"],\\n         size=flowers[\\'sepal_width\\'][flowers[\"species\"]==\"versicolor\"]*4,\\n         fill_alpha=0.2,color=flowers[\\'color\\'][flowers[\"species\"]==\"versicolor\"],line_dash=[5,3],legend=\\'Versicolor\\')\\n\\nf.circle(x=flowers[\"petal_length\"][flowers[\"species\"]==\"virginica\"], \\n         y=flowers[\"petal_width\"][flowers[\"species\"]==\"virginica\"],\\n         size=flowers[\\'sepal_width\\'][flowers[\"species\"]==\"virginica\"]*4,\\n         fill_alpha=0.2,color=flowers[\\'color\\'][flowers[\"species\"]==\"virginica\"],line_dash=[5,3],legend=\\'Virginica\\')\\n\\n#Style the legend\\nf.legend.location = (575,555)\\nf.legend.location = \\'top_left\\'\\nf.legend.background_fill_alpha = 0\\n#f.legend.border_line_color = None\\nf.legend.margin = 15\\nf.legend.padding = 18\\nf.legend.label_text_color = \\'olive\\'\\nf.legend.label_text_font = \\'helvetica\\'\\n\\nshow(f)\\n'"
      ]
     },
     "execution_count": 19,
     "metadata": {},
     "output_type": "execute_result"
    }
   ],
   "source": [
    "'''\n",
    "from bokeh.plotting import figure\n",
    "from bokeh.io import output_file, show\n",
    "from bokeh.sampledata.iris import flowers\n",
    "from bokeh.models import Range1d, PanTool, ResetTool, HoverTool\n",
    "\n",
    "# prepare the output file\n",
    "\n",
    "output_file(\"iris_3.html\")\n",
    "\n",
    "# create the figure, and create a line\n",
    "\n",
    "f = figure()\n",
    "\n",
    "#Style the tools\n",
    "#f.tools = [PanTool(),ResetTool(),HoverTool()]\n",
    "f.add_tools(HoverTool())\n",
    "#f.toolbar_location = 'above'\n",
    "f.toolbar.logo = None\n",
    "\n",
    "\n",
    "#stilize the background\n",
    "\n",
    "f.plot_width = 2000\n",
    "f.plot_width = 1200\n",
    "f.background_fill_color = \"olive\"\n",
    "f.background_fill_alpha=0.3\n",
    "\n",
    "#Style the title\n",
    "\n",
    "f.title.text=\"Iris Morphology\"\n",
    "f.title.text_color = \"olive\"\n",
    "f.title.text_font = \"helvetica\"\n",
    "f.title.text_font_size= \"40px\"\n",
    "f.title.align=\"center\"\n",
    "\n",
    "#style the axis\n",
    "\n",
    "f.axis.minor_tick_line_color= \"blue\"\n",
    "#f.yaxis.major_label_orientation =\"vertical\"\n",
    "f.xaxis.visible=True\n",
    "f.xaxis.minor_tick_in=-6\n",
    "f.xaxis.axis_label=\"Petal Length\"\n",
    "f.yaxis.axis_label=\"Petal Width\"\n",
    "f.axis.axis_label_text_color=\"blue\"\n",
    "f.axis.major_label_text_color=\"orange\"\n",
    "\n",
    "#Axes geometry\n",
    "f.x_range = Range1d(start=0, end=10)\n",
    "f.y_range = Range1d(start=0, end=3.5)\n",
    "#f.xaxis.bounds = (2, 6)\n",
    "#f.xaxis[0].ticker.desired_num_ticks = 2\n",
    "#f.yaxis[0].ticker.desired_num_ticks = 2\n",
    "f.yaxis[0].ticker.num_minor_ticks = 2\n",
    "\n",
    "\n",
    "#Style the grid\n",
    "f.xgrid.grid_line_color = None\n",
    "f.ygrid.grid_line_alpha = 0.8\n",
    "f.grid.grid_line_dash = [5,3]\n",
    "\n",
    "\n",
    "colormap={'setosa':'red', 'versicolor':'green', 'virginica':'blue'}\n",
    "flowers['color']=[colormap[x] for x in flowers['species']]\n",
    "\n",
    "#adding glyphs\n",
    "f.circle(x=flowers[\"petal_length\"][flowers[\"species\"]==\"setosa\"], \n",
    "         y=flowers[\"petal_width\"][flowers[\"species\"]==\"setosa\"], \n",
    "         size=flowers['sepal_width'][flowers[\"species\"]==\"setosa\"]*4,\n",
    "         fill_alpha=0.2,color=flowers['color'][flowers[\"species\"]==\"setosa\"],line_dash=[5,3],legend='Setosa')\n",
    "\n",
    "f.circle(x=flowers[\"petal_length\"][flowers[\"species\"]==\"versicolor\"], \n",
    "         y=flowers[\"petal_width\"][flowers[\"species\"]==\"versicolor\"],\n",
    "         size=flowers['sepal_width'][flowers[\"species\"]==\"versicolor\"]*4,\n",
    "         fill_alpha=0.2,color=flowers['color'][flowers[\"species\"]==\"versicolor\"],line_dash=[5,3],legend='Versicolor')\n",
    "\n",
    "f.circle(x=flowers[\"petal_length\"][flowers[\"species\"]==\"virginica\"], \n",
    "         y=flowers[\"petal_width\"][flowers[\"species\"]==\"virginica\"],\n",
    "         size=flowers['sepal_width'][flowers[\"species\"]==\"virginica\"]*4,\n",
    "         fill_alpha=0.2,color=flowers['color'][flowers[\"species\"]==\"virginica\"],line_dash=[5,3],legend='Virginica')\n",
    "\n",
    "#Style the legend\n",
    "f.legend.location = (575,555)\n",
    "f.legend.location = 'top_left'\n",
    "f.legend.background_fill_alpha = 0\n",
    "#f.legend.border_line_color = None\n",
    "f.legend.margin = 15\n",
    "f.legend.padding = 18\n",
    "f.legend.label_text_color = 'olive'\n",
    "f.legend.label_text_font = 'helvetica'\n",
    "\n",
    "show(f)\n",
    "'''"
   ]
  },
  {
   "cell_type": "markdown",
   "metadata": {
    "id": "f6bKFPEIhTyQ"
   },
   "source": [
    "# Hoover tool"
   ]
  },
  {
   "cell_type": "code",
   "execution_count": 20,
   "metadata": {
    "id": "9XeMt9S2hTyR",
    "outputId": "84825499-2b9c-465a-ce1b-60fc07576612"
   },
   "outputs": [
    {
     "data": {
      "text/plain": [
       "'\\nfrom bokeh.plotting import figure\\nfrom bokeh.io import output_file, show, output_notebook\\nfrom bokeh.sampledata.iris import flowers\\nfrom bokeh.models import Range1d, PanTool, ResetTool, HoverTool\\n\\n# prepare the output file\\n\\n#output_file(\"iris_3.html\")\\noutput_notebook()\\n\\n# create the figure, and create a line\\n\\nf = figure()\\n\\n\\n#Style the tools\\nf.tools = [PanTool(),ResetTool()]\\nhover = HoverTool(tooltips=[(\"Petal length\",\"@x\"), (\"Petal width\",\"@y\")])\\nf.add_tools(hover)\\nf.toolbar_location = \\'above\\'\\nf.toolbar.logo = None\\n\\n\\n#stilize the background\\n\\nf.plot_width = 2000\\nf.plot_width = 1200\\nf.background_fill_color = \"olive\"\\nf.background_fill_alpha=0.3\\n\\n#Style the title\\n\\nf.title.text=\"Iris Morphology\"\\nf.title.text_color = \"olive\"\\nf.title.text_font = \"helvetica\"\\nf.title.text_font_size= \"40px\"\\nf.title.align=\"center\"\\n\\n#style the axis\\n\\nf.axis.minor_tick_line_color= \"blue\"\\n#f.yaxis.major_label_orientation =\"vertical\"\\nf.xaxis.visible=True\\nf.xaxis.minor_tick_in=-6\\nf.xaxis.axis_label=\"Petal Length\"\\nf.yaxis.axis_label=\"Petal Width\"\\nf.axis.axis_label_text_color=\"blue\"\\nf.axis.major_label_text_color=\"orange\"\\n\\n#Axes geometry\\nf.x_range = Range1d(start=0, end=10)\\nf.y_range = Range1d(start=0, end=3.5)\\n#f.xaxis.bounds = (2, 6)\\n#f.xaxis[0].ticker.desired_num_ticks = 2\\n#f.yaxis[0].ticker.desired_num_ticks = 2\\nf.yaxis[0].ticker.num_minor_ticks = 2\\n\\n\\n#Style the grid\\nf.xgrid.grid_line_color = None\\nf.ygrid.grid_line_alpha = 0.8\\nf.grid.grid_line_dash = [5,3]\\n\\n\\ncolormap={\\'setosa\\':\\'red\\', \\'versicolor\\':\\'green\\', \\'virginica\\':\\'blue\\'}\\nflowers[\\'color\\']=[colormap[x] for x in flowers[\\'species\\']]\\n\\n#adding glyphs\\nf.circle(x=flowers[\"petal_length\"][flowers[\"species\"]==\"setosa\"], \\n         y=flowers[\"petal_width\"][flowers[\"species\"]==\"setosa\"], \\n         size=flowers[\\'sepal_width\\'][flowers[\"species\"]==\"setosa\"]*4,\\n         fill_alpha=0.2,color=flowers[\\'color\\'][flowers[\"species\"]==\"setosa\"],line_dash=[5,3],legend=\\'Setosa\\')\\n\\nf.circle(x=flowers[\"petal_length\"][flowers[\"species\"]==\"versicolor\"], \\n         y=flowers[\"petal_width\"][flowers[\"species\"]==\"versicolor\"],\\n         size=flowers[\\'sepal_width\\'][flowers[\"species\"]==\"versicolor\"]*4,\\n         fill_alpha=0.2,color=flowers[\\'color\\'][flowers[\"species\"]==\"versicolor\"],line_dash=[5,3],legend=\\'Versicolor\\')\\n\\nf.circle(x=flowers[\"petal_length\"][flowers[\"species\"]==\"virginica\"], \\n         y=flowers[\"petal_width\"][flowers[\"species\"]==\"virginica\"],\\n         size=flowers[\\'sepal_width\\'][flowers[\"species\"]==\"virginica\"]*4,\\n         fill_alpha=0.2,color=flowers[\\'color\\'][flowers[\"species\"]==\"virginica\"],line_dash=[5,3],legend=\\'Virginica\\')\\n\\n#Style the legend\\nf.legend.location = (575,555)\\nf.legend.location = \\'top_left\\'\\nf.legend.background_fill_alpha = 0\\n#f.legend.border_line_color = None\\nf.legend.margin = 15\\nf.legend.padding = 18\\nf.legend.label_text_color = \\'olive\\'\\nf.legend.label_text_font = \\'helvetica\\'\\n\\nshow(f)\\n'"
      ]
     },
     "execution_count": 20,
     "metadata": {},
     "output_type": "execute_result"
    }
   ],
   "source": [
    "'''\n",
    "from bokeh.plotting import figure\n",
    "from bokeh.io import output_file, show, output_notebook\n",
    "from bokeh.sampledata.iris import flowers\n",
    "from bokeh.models import Range1d, PanTool, ResetTool, HoverTool\n",
    "\n",
    "# prepare the output file\n",
    "\n",
    "#output_file(\"iris_3.html\")\n",
    "output_notebook()\n",
    "\n",
    "# create the figure, and create a line\n",
    "\n",
    "f = figure()\n",
    "\n",
    "\n",
    "#Style the tools\n",
    "f.tools = [PanTool(),ResetTool()]\n",
    "hover = HoverTool(tooltips=[(\"Petal length\",\"@x\"), (\"Petal width\",\"@y\")])\n",
    "f.add_tools(hover)\n",
    "f.toolbar_location = 'above'\n",
    "f.toolbar.logo = None\n",
    "\n",
    "\n",
    "#stilize the background\n",
    "\n",
    "f.plot_width = 2000\n",
    "f.plot_width = 1200\n",
    "f.background_fill_color = \"olive\"\n",
    "f.background_fill_alpha=0.3\n",
    "\n",
    "#Style the title\n",
    "\n",
    "f.title.text=\"Iris Morphology\"\n",
    "f.title.text_color = \"olive\"\n",
    "f.title.text_font = \"helvetica\"\n",
    "f.title.text_font_size= \"40px\"\n",
    "f.title.align=\"center\"\n",
    "\n",
    "#style the axis\n",
    "\n",
    "f.axis.minor_tick_line_color= \"blue\"\n",
    "#f.yaxis.major_label_orientation =\"vertical\"\n",
    "f.xaxis.visible=True\n",
    "f.xaxis.minor_tick_in=-6\n",
    "f.xaxis.axis_label=\"Petal Length\"\n",
    "f.yaxis.axis_label=\"Petal Width\"\n",
    "f.axis.axis_label_text_color=\"blue\"\n",
    "f.axis.major_label_text_color=\"orange\"\n",
    "\n",
    "#Axes geometry\n",
    "f.x_range = Range1d(start=0, end=10)\n",
    "f.y_range = Range1d(start=0, end=3.5)\n",
    "#f.xaxis.bounds = (2, 6)\n",
    "#f.xaxis[0].ticker.desired_num_ticks = 2\n",
    "#f.yaxis[0].ticker.desired_num_ticks = 2\n",
    "f.yaxis[0].ticker.num_minor_ticks = 2\n",
    "\n",
    "\n",
    "#Style the grid\n",
    "f.xgrid.grid_line_color = None\n",
    "f.ygrid.grid_line_alpha = 0.8\n",
    "f.grid.grid_line_dash = [5,3]\n",
    "\n",
    "\n",
    "colormap={'setosa':'red', 'versicolor':'green', 'virginica':'blue'}\n",
    "flowers['color']=[colormap[x] for x in flowers['species']]\n",
    "\n",
    "#adding glyphs\n",
    "f.circle(x=flowers[\"petal_length\"][flowers[\"species\"]==\"setosa\"], \n",
    "         y=flowers[\"petal_width\"][flowers[\"species\"]==\"setosa\"], \n",
    "         size=flowers['sepal_width'][flowers[\"species\"]==\"setosa\"]*4,\n",
    "         fill_alpha=0.2,color=flowers['color'][flowers[\"species\"]==\"setosa\"],line_dash=[5,3],legend='Setosa')\n",
    "\n",
    "f.circle(x=flowers[\"petal_length\"][flowers[\"species\"]==\"versicolor\"], \n",
    "         y=flowers[\"petal_width\"][flowers[\"species\"]==\"versicolor\"],\n",
    "         size=flowers['sepal_width'][flowers[\"species\"]==\"versicolor\"]*4,\n",
    "         fill_alpha=0.2,color=flowers['color'][flowers[\"species\"]==\"versicolor\"],line_dash=[5,3],legend='Versicolor')\n",
    "\n",
    "f.circle(x=flowers[\"petal_length\"][flowers[\"species\"]==\"virginica\"], \n",
    "         y=flowers[\"petal_width\"][flowers[\"species\"]==\"virginica\"],\n",
    "         size=flowers['sepal_width'][flowers[\"species\"]==\"virginica\"]*4,\n",
    "         fill_alpha=0.2,color=flowers['color'][flowers[\"species\"]==\"virginica\"],line_dash=[5,3],legend='Virginica')\n",
    "\n",
    "#Style the legend\n",
    "f.legend.location = (575,555)\n",
    "f.legend.location = 'top_left'\n",
    "f.legend.background_fill_alpha = 0\n",
    "#f.legend.border_line_color = None\n",
    "f.legend.margin = 15\n",
    "f.legend.padding = 18\n",
    "f.legend.label_text_color = 'olive'\n",
    "f.legend.label_text_font = 'helvetica'\n",
    "\n",
    "show(f)\n",
    "'''"
   ]
  },
  {
   "cell_type": "markdown",
   "metadata": {
    "id": "uaIFndgEhTyT"
   },
   "source": [
    "# Advanced plotting - Column Data Source"
   ]
  },
  {
   "cell_type": "code",
   "execution_count": 21,
   "metadata": {
    "id": "s3HbhLfThTyU",
    "outputId": "43ac6046-fdb0-48b7-9d03-88d979430d22"
   },
   "outputs": [
    {
     "data": {
      "text/plain": [
       "'\\n#Plotting flower species\\n\\n#Importing libraries\\nfrom bokeh.plotting import figure\\nfrom bokeh.io import output_file, show\\nfrom bokeh.sampledata.iris import flowers\\nfrom bokeh.models import Range1d, PanTool, ResetTool, HoverTool, ColumnDataSource, LabelSet\\n\\ncolormap={\\'setosa\\':\\'red\\',\\'versicolor\\':\\'green\\',\\'virginica\\':\\'blue\\'}\\nflowers[\\'color\\'] = [colormap[x] for x in flowers[\\'species\\']]\\nflowers[\\'size\\'] = flowers[\\'sepal_width\\'] * 4\\n\\n\\nsetosa = ColumnDataSource(flowers[flowers[\"species\"]==\"setosa\"])\\nversicolor = ColumnDataSource(flowers[flowers[\"species\"]==\"versicolor\"])\\nvirginica = ColumnDataSource(flowers[flowers[\"species\"]==\"virginica\"])\\n\\n#Define the output file path\\n#output_file(\"iris.html\")\\n\\n#Create the figure object\\nf = figure()\\n\\n#adding glyphs\\nf.circle(x=\"petal_length\", y=\"petal_width\", size=\\'size\\', fill_alpha=0.2, \\n         color=\"color\", line_dash=[5,3], legend=\\'Setosa\\', source=setosa)\\n\\nf.circle(x=\"petal_length\", y=\"petal_width\", size=\\'size\\', fill_alpha=0.2, \\n         color=\"color\", line_dash=[5,3], legend=\\'Versicolor\\', source=versicolor)\\n\\nf.circle(x=\"petal_length\", y=\"petal_width\", size=\\'size\\', fill_alpha=0.2,\\n         color=\"color\", line_dash=[5,3], legend=\\'Virginica\\', source=virginica)\\n\\n#Save and show the figure\\nshow(f)\\n'"
      ]
     },
     "execution_count": 21,
     "metadata": {},
     "output_type": "execute_result"
    }
   ],
   "source": [
    "'''\n",
    "#Plotting flower species\n",
    "\n",
    "#Importing libraries\n",
    "from bokeh.plotting import figure\n",
    "from bokeh.io import output_file, show\n",
    "from bokeh.sampledata.iris import flowers\n",
    "from bokeh.models import Range1d, PanTool, ResetTool, HoverTool, ColumnDataSource, LabelSet\n",
    "\n",
    "colormap={'setosa':'red','versicolor':'green','virginica':'blue'}\n",
    "flowers['color'] = [colormap[x] for x in flowers['species']]\n",
    "flowers['size'] = flowers['sepal_width'] * 4\n",
    "\n",
    "\n",
    "setosa = ColumnDataSource(flowers[flowers[\"species\"]==\"setosa\"])\n",
    "versicolor = ColumnDataSource(flowers[flowers[\"species\"]==\"versicolor\"])\n",
    "virginica = ColumnDataSource(flowers[flowers[\"species\"]==\"virginica\"])\n",
    "\n",
    "#Define the output file path\n",
    "#output_file(\"iris.html\")\n",
    "\n",
    "#Create the figure object\n",
    "f = figure()\n",
    "\n",
    "#adding glyphs\n",
    "f.circle(x=\"petal_length\", y=\"petal_width\", size='size', fill_alpha=0.2, \n",
    "         color=\"color\", line_dash=[5,3], legend='Setosa', source=setosa)\n",
    "\n",
    "f.circle(x=\"petal_length\", y=\"petal_width\", size='size', fill_alpha=0.2, \n",
    "         color=\"color\", line_dash=[5,3], legend='Versicolor', source=versicolor)\n",
    "\n",
    "f.circle(x=\"petal_length\", y=\"petal_width\", size='size', fill_alpha=0.2,\n",
    "         color=\"color\", line_dash=[5,3], legend='Virginica', source=virginica)\n",
    "\n",
    "#Save and show the figure\n",
    "show(f)\n",
    "'''"
   ]
  },
  {
   "cell_type": "markdown",
   "metadata": {
    "id": "jj8IvqB2hTyW"
   },
   "source": [
    "# PopUP with HTML"
   ]
  },
  {
   "cell_type": "code",
   "execution_count": 22,
   "metadata": {
    "id": "V6lgsYDehTyX",
    "outputId": "37699cf8-579b-4329-8731-dd51fc4228aa"
   },
   "outputs": [
    {
     "data": {
      "text/plain": [
       "'\\n#Plotting flower species\\n\\n#Importing libraries\\nfrom bokeh.plotting import figure\\nfrom bokeh.io import output_file, show\\nfrom bokeh.sampledata.iris import flowers\\nfrom bokeh.models import Range1d, PanTool, ResetTool, HoverTool, ColumnDataSource, LabelSet\\nfrom PIL import ImageGrab\\n\\ncolormap={\\'setosa\\':\\'red\\', \\'versicolor\\':\\'green\\', \\'virginica\\':\\'blue\\'}\\nflowers[\\'color\\'] = [colormap[x] for x in flowers[\\'species\\']]\\nflowers[\\'size\\'] = flowers[\\'sepal_width\\'] * 4\\n\\nurlmap = {\\'setosa\\':\\'https://upload.wikimedia.org/wikipedia/commons/thumb/5/56/Kosaciec_szczecinkowaty_Iris_setosa.jpg/800px-Kosaciec_szczecinkowaty_Iris_setosa.jpg\\',\\n        \\'versicolor\\':\\'https://upload.wikimedia.org/wikipedia/commons/thumb/2/27/Blue_Flag%2C_Ottawa.jpg/800px-Blue_Flag%2C_Ottawa.jpg\\',\\n        \\'virginica\\':\\'https://upload.wikimedia.org/wikipedia/commons/thumb/9/9f/Iris_virginica.jpg/800px-Iris_virginica.jpg\\'}\\nflowers[\\'imgs\\'] = [urlmap[x] for x in flowers[\\'species\\']]\\n\\nsetosa=ColumnDataSource(flowers[flowers[\"species\"]==\"setosa\"])\\nversicolor=ColumnDataSource(flowers[flowers[\"species\"]==\"versicolor\"])\\nvirginica=ColumnDataSource(flowers[flowers[\"species\"]==\"virginica\"])\\n\\n#Define the output file path\\n#output_file(\"iris.html\")\\n\\n#Create the figure object\\nf=figure()\\n\\n#Style the plot area\\n#f.plot_width = int(ImageGrab.grab().width/2) #This will return your monitor width. ImageGrab was imported further above from the PIL library which can be installed with \"pip install pillow\"\\n#f.plot_height = int(ImageGrab.grab().height/2 - 50) #This will return your monitor width. ImageGrab was imported further above from the PIL library which can be installed witt \"pip install pillow\"\\nf.background_fill_color = \"grey\"\\nf.background_fill_alpha = 0.1\\n#f.sizing_mode = \"stretch_both\" #graph will resize itself when user resizes the browser\\n\\n#stilize the background\\n\\n#f.plot_width = 2000\\n#f.plot_width = 1200\\n#f.background_fill_color = \"olive\"\\n#f.background_fill_alpha=0.3\\n\\n#Style the title\\n\\nf.title.text=\"Iris Morphology\"\\nf.title.text_color = \"olive\"\\nf.title.text_font = \"helvetica\"\\nf.title.text_font_size= \"40px\"\\nf.title.align=\"center\"\\n\\n#style the axis\\n\\nf.axis.minor_tick_line_color= \"blue\"\\n#f.yaxis.major_label_orientation =\"vertical\"\\nf.xaxis.visible=True\\nf.xaxis.minor_tick_in=-6\\nf.xaxis.axis_label=\"Petal Length\"\\nf.yaxis.axis_label=\"Petal Width\"\\nf.axis.axis_label_text_color=\"blue\"\\nf.axis.major_label_text_color=\"orange\"\\n\\n#Axes geometry\\nf.x_range = Range1d(start=0, end=10)\\nf.y_range = Range1d(start=0, end=3.5)\\n#f.xaxis.bounds = (2, 6)\\n#f.xaxis[0].ticker.desired_num_ticks = 2\\n#f.yaxis[0].ticker.desired_num_ticks = 2\\nf.yaxis[0].ticker.num_minor_ticks = 2\\n\\n\\n#Style the grid\\nf.xgrid.grid_line_color = None\\nf.ygrid.grid_line_alpha = 0.8\\nf.grid.grid_line_dash = [5,3]\\n\\n#adding glyphs\\nf.circle(x=\"petal_length\", y=\"petal_width\", size=\\'size\\', fill_alpha=0.2,\\n         color = \"color\", line_dash=[5,3], legend=\\'Setosa\\', source=setosa)\\n\\nf.circle(x=\"petal_length\", y=\"petal_width\", size=\\'size\\', fill_alpha=0.2,\\n         color=\"color\", line_dash=[5,3], legend=\\'Versicolor\\', source=versicolor)\\n\\nf.circle(x=\"petal_length\", y=\"petal_width\", size=\\'size\\', fill_alpha=0.2,\\n         color=\"color\", line_dash=[5,3], legend=\\'Virginica\\', source=virginica)\\n\\nlabels = LabelSet(x=\\'petal_length\\', y=\\'petal_width\\', text=\\'sepal_length\\', \\n                 level=\\'glyph\\', x_offset=5, y_offset=5, source=virginica)\\n\\n#f.add_layout(labels)\\n\\n#Style the tools\\n#f.tools = [PanTool(),ResetTool()]\\nhover = HoverTool(tooltips=\"\"\"\\n     <div>\\n            <div>\\n                <img\\n                    src=\"@imgs\" height=\"42\" alt=\"@imgs\" width=\"42\"\\n                    style=\"float: left; margin: 0px 15px 15px 0px;\"\\n                    border=\"2\"\\n                ></img>\\n            </div>\\n            <div>\\n                <span style=\"font-size: 15px; font-weight: bold;\">@species</span>\\n            </div>\\n            <div>\\n                <span style=\"font-size: 10px; color: #696;\">Petal length: @petal_length</span><br>\\n                <span style=\"font-size: 10px; color: #696;\">Petal width: @petal_width</span>\\n            </div>\\n        </div>\\n\"\"\")\\nf.add_tools(hover)\\nf.toolbar_location = \\'above\\'\\nf.toolbar.logo = None\\n\\n#Style the legend\\nf.legend.location = (575,555)\\nf.legend.location = \\'top_left\\'\\nf.legend.background_fill_alpha = 0\\nf.legend.border_line_color = None\\nf.legend.margin = 10\\nf.legend.padding = 18\\nf.legend.label_text_color = \\'olive\\'\\nf.legend.label_text_font = \\'helvetica\\'\\n\\n#Save and show the figure\\nshow(f)\\n'"
      ]
     },
     "execution_count": 22,
     "metadata": {},
     "output_type": "execute_result"
    }
   ],
   "source": [
    "'''\n",
    "#Plotting flower species\n",
    "\n",
    "#Importing libraries\n",
    "from bokeh.plotting import figure\n",
    "from bokeh.io import output_file, show\n",
    "from bokeh.sampledata.iris import flowers\n",
    "from bokeh.models import Range1d, PanTool, ResetTool, HoverTool, ColumnDataSource, LabelSet\n",
    "from PIL import ImageGrab\n",
    "\n",
    "colormap={'setosa':'red', 'versicolor':'green', 'virginica':'blue'}\n",
    "flowers['color'] = [colormap[x] for x in flowers['species']]\n",
    "flowers['size'] = flowers['sepal_width'] * 4\n",
    "\n",
    "urlmap = {'setosa':'https://upload.wikimedia.org/wikipedia/commons/thumb/5/56/Kosaciec_szczecinkowaty_Iris_setosa.jpg/800px-Kosaciec_szczecinkowaty_Iris_setosa.jpg',\n",
    "        'versicolor':'https://upload.wikimedia.org/wikipedia/commons/thumb/2/27/Blue_Flag%2C_Ottawa.jpg/800px-Blue_Flag%2C_Ottawa.jpg',\n",
    "        'virginica':'https://upload.wikimedia.org/wikipedia/commons/thumb/9/9f/Iris_virginica.jpg/800px-Iris_virginica.jpg'}\n",
    "flowers['imgs'] = [urlmap[x] for x in flowers['species']]\n",
    "\n",
    "setosa=ColumnDataSource(flowers[flowers[\"species\"]==\"setosa\"])\n",
    "versicolor=ColumnDataSource(flowers[flowers[\"species\"]==\"versicolor\"])\n",
    "virginica=ColumnDataSource(flowers[flowers[\"species\"]==\"virginica\"])\n",
    "\n",
    "#Define the output file path\n",
    "#output_file(\"iris.html\")\n",
    "\n",
    "#Create the figure object\n",
    "f=figure()\n",
    "\n",
    "#Style the plot area\n",
    "#f.plot_width = int(ImageGrab.grab().width/2) #This will return your monitor width. ImageGrab was imported further above from the PIL library which can be installed with \"pip install pillow\"\n",
    "#f.plot_height = int(ImageGrab.grab().height/2 - 50) #This will return your monitor width. ImageGrab was imported further above from the PIL library which can be installed witt \"pip install pillow\"\n",
    "f.background_fill_color = \"grey\"\n",
    "f.background_fill_alpha = 0.1\n",
    "#f.sizing_mode = \"stretch_both\" #graph will resize itself when user resizes the browser\n",
    "\n",
    "#stilize the background\n",
    "\n",
    "#f.plot_width = 2000\n",
    "#f.plot_width = 1200\n",
    "#f.background_fill_color = \"olive\"\n",
    "#f.background_fill_alpha=0.3\n",
    "\n",
    "#Style the title\n",
    "\n",
    "f.title.text=\"Iris Morphology\"\n",
    "f.title.text_color = \"olive\"\n",
    "f.title.text_font = \"helvetica\"\n",
    "f.title.text_font_size= \"40px\"\n",
    "f.title.align=\"center\"\n",
    "\n",
    "#style the axis\n",
    "\n",
    "f.axis.minor_tick_line_color= \"blue\"\n",
    "#f.yaxis.major_label_orientation =\"vertical\"\n",
    "f.xaxis.visible=True\n",
    "f.xaxis.minor_tick_in=-6\n",
    "f.xaxis.axis_label=\"Petal Length\"\n",
    "f.yaxis.axis_label=\"Petal Width\"\n",
    "f.axis.axis_label_text_color=\"blue\"\n",
    "f.axis.major_label_text_color=\"orange\"\n",
    "\n",
    "#Axes geometry\n",
    "f.x_range = Range1d(start=0, end=10)\n",
    "f.y_range = Range1d(start=0, end=3.5)\n",
    "#f.xaxis.bounds = (2, 6)\n",
    "#f.xaxis[0].ticker.desired_num_ticks = 2\n",
    "#f.yaxis[0].ticker.desired_num_ticks = 2\n",
    "f.yaxis[0].ticker.num_minor_ticks = 2\n",
    "\n",
    "\n",
    "#Style the grid\n",
    "f.xgrid.grid_line_color = None\n",
    "f.ygrid.grid_line_alpha = 0.8\n",
    "f.grid.grid_line_dash = [5,3]\n",
    "\n",
    "#adding glyphs\n",
    "f.circle(x=\"petal_length\", y=\"petal_width\", size='size', fill_alpha=0.2,\n",
    "         color = \"color\", line_dash=[5,3], legend='Setosa', source=setosa)\n",
    "\n",
    "f.circle(x=\"petal_length\", y=\"petal_width\", size='size', fill_alpha=0.2,\n",
    "         color=\"color\", line_dash=[5,3], legend='Versicolor', source=versicolor)\n",
    "\n",
    "f.circle(x=\"petal_length\", y=\"petal_width\", size='size', fill_alpha=0.2,\n",
    "         color=\"color\", line_dash=[5,3], legend='Virginica', source=virginica)\n",
    "\n",
    "labels = LabelSet(x='petal_length', y='petal_width', text='sepal_length', \n",
    "                 level='glyph', x_offset=5, y_offset=5, source=virginica)\n",
    "\n",
    "#f.add_layout(labels)\n",
    "\n",
    "#Style the tools\n",
    "#f.tools = [PanTool(),ResetTool()]\n",
    "hover = HoverTool(tooltips=\"\"\"\n",
    "     <div>\n",
    "            <div>\n",
    "                <img\n",
    "                    src=\"@imgs\" height=\"42\" alt=\"@imgs\" width=\"42\"\n",
    "                    style=\"float: left; margin: 0px 15px 15px 0px;\"\n",
    "                    border=\"2\"\n",
    "                ></img>\n",
    "            </div>\n",
    "            <div>\n",
    "                <span style=\"font-size: 15px; font-weight: bold;\">@species</span>\n",
    "            </div>\n",
    "            <div>\n",
    "                <span style=\"font-size: 10px; color: #696;\">Petal length: @petal_length</span><br>\n",
    "                <span style=\"font-size: 10px; color: #696;\">Petal width: @petal_width</span>\n",
    "            </div>\n",
    "        </div>\n",
    "\"\"\")\n",
    "f.add_tools(hover)\n",
    "f.toolbar_location = 'above'\n",
    "f.toolbar.logo = None\n",
    "\n",
    "#Style the legend\n",
    "f.legend.location = (575,555)\n",
    "f.legend.location = 'top_left'\n",
    "f.legend.background_fill_alpha = 0\n",
    "f.legend.border_line_color = None\n",
    "f.legend.margin = 10\n",
    "f.legend.padding = 18\n",
    "f.legend.label_text_color = 'olive'\n",
    "f.legend.label_text_font = 'helvetica'\n",
    "\n",
    "#Save and show the figure\n",
    "show(f)\n",
    "'''"
   ]
  },
  {
   "cell_type": "code",
   "execution_count": null,
   "metadata": {
    "id": "_qaw7ZABhTyZ"
   },
   "outputs": [],
   "source": []
  }
 ],
 "metadata": {
  "colab": {
   "name": "basic_graph_bokeh.ipynb",
   "provenance": []
  },
  "kernelspec": {
   "display_name": "Python 3",
   "language": "python",
   "name": "python3"
  },
  "language_info": {
   "codemirror_mode": {
    "name": "ipython",
    "version": 3
   },
   "file_extension": ".py",
   "mimetype": "text/x-python",
   "name": "python",
   "nbconvert_exporter": "python",
   "pygments_lexer": "ipython3",
   "version": "3.7.4"
  }
 },
 "nbformat": 4,
 "nbformat_minor": 4
}
