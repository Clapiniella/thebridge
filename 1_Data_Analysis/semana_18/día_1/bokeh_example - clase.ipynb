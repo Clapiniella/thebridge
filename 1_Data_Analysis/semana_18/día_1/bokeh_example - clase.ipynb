{
 "cells": [
  {
   "cell_type": "markdown",
   "metadata": {
    "id": "G1zeNYqdBf0Z"
   },
   "source": [
    "## Embedding a Bokeh server in a Notebook\n",
    "\n",
    "This notebook shows how a Bokeh server application can be embedded inside a Jupyter notebook. "
   ]
  },
  {
   "cell_type": "code",
   "execution_count": 2,
   "metadata": {
    "id": "cw5_37KzBf0a"
   },
   "outputs": [
    {
     "data": {
      "text/plain": [
       "'\\nimport yaml\\n\\nfrom bokeh.layouts import column\\nfrom bokeh.models import ColumnDataSource, Slider\\nfrom bokeh.plotting import figure, curdoc\\nfrom bokeh.themes import Theme\\nfrom bokeh.io import show, output_notebook\\n\\nfrom bokeh.sampledata.sea_surface_temperature import sea_surface_temperature\\n\\noutput_notebook()\\n'"
      ]
     },
     "execution_count": 2,
     "metadata": {},
     "output_type": "execute_result"
    }
   ],
   "source": [
    "'''\n",
    "import yaml\n",
    "\n",
    "from bokeh.layouts import column\n",
    "from bokeh.models import ColumnDataSource, Slider\n",
    "from bokeh.plotting import figure, curdoc\n",
    "from bokeh.themes import Theme\n",
    "from bokeh.io import show, output_notebook\n",
    "\n",
    "from bokeh.sampledata.sea_surface_temperature import sea_surface_temperature\n",
    "\n",
    "output_notebook()\n",
    "'''"
   ]
  },
  {
   "cell_type": "markdown",
   "metadata": {
    "id": "WtbO2MFXBf0f"
   },
   "source": [
    "There are various application handlers that can be used to build up Bokeh documents. For example, there is a `ScriptHandler` that uses the code from a `.py` file to produce Bokeh documents. This is the handler that is used when we run `bokeh serve app.py`. In the notebook we can use a function to define a Bokehg application.\n",
    "\n",
    "Here is the function `bkapp(doc)` that defines our app:"
   ]
  },
  {
   "cell_type": "code",
   "execution_count": 3,
   "metadata": {
    "id": "SF9f0WNqBf0g"
   },
   "outputs": [
    {
     "data": {
      "text/plain": [
       "'\\ndef bkapp(doc):\\n    df = sea_surface_temperature.copy()\\n    source = ColumnDataSource(data=df)\\n\\n    plot = figure(x_axis_type=\\'datetime\\', y_range=(0, 25),\\n                  y_axis_label=\\'Temperature (Celsius)\\',\\n                  title=\"Sea Surface Temperature at 43.18, -70.43\")\\n    plot.line(\\'time\\', \\'temperature\\', source=source)\\n\\n    def callback(attr, old, new):\\n        if new == 0:\\n            data = df\\n        else:\\n            data = df.rolling(\\'{0}D\\'.format(new)).mean()\\n        source.data = ColumnDataSource.from_df(data)\\n\\n    slider = Slider(start=0, end=30, value=0, step=1, title=\"Smoothing by N Days\")\\n    slider.on_change(\\'value\\', callback)\\n\\n    doc.add_root(column(slider, plot))\\n\\n    doc.theme = Theme(json=yaml.load(\"\"\"\\n        attrs:\\n            Figure:\\n                background_fill_color: \"#DDDDDD\"\\n                outline_line_color: white\\n                toolbar_location: above\\n                height: 500\\n                width: 800\\n            Grid:\\n                grid_line_dash: [6, 4]\\n                grid_line_color: white\\n    \"\"\", Loader=yaml.FullLoader))\\n'"
      ]
     },
     "execution_count": 3,
     "metadata": {},
     "output_type": "execute_result"
    }
   ],
   "source": [
    "'''\n",
    "def bkapp(doc):\n",
    "    df = sea_surface_temperature.copy()\n",
    "    source = ColumnDataSource(data=df)\n",
    "\n",
    "    plot = figure(x_axis_type='datetime', y_range=(0, 25),\n",
    "                  y_axis_label='Temperature (Celsius)',\n",
    "                  title=\"Sea Surface Temperature at 43.18, -70.43\")\n",
    "    plot.line('time', 'temperature', source=source)\n",
    "\n",
    "    def callback(attr, old, new):\n",
    "        if new == 0:\n",
    "            data = df\n",
    "        else:\n",
    "            data = df.rolling('{0}D'.format(new)).mean()\n",
    "        source.data = ColumnDataSource.from_df(data)\n",
    "\n",
    "    slider = Slider(start=0, end=30, value=0, step=1, title=\"Smoothing by N Days\")\n",
    "    slider.on_change('value', callback)\n",
    "\n",
    "    doc.add_root(column(slider, plot))\n",
    "\n",
    "    doc.theme = Theme(json=yaml.load(\"\"\"\n",
    "        attrs:\n",
    "            Figure:\n",
    "                background_fill_color: \"#DDDDDD\"\n",
    "                outline_line_color: white\n",
    "                toolbar_location: above\n",
    "                height: 500\n",
    "                width: 800\n",
    "            Grid:\n",
    "                grid_line_dash: [6, 4]\n",
    "                grid_line_color: white\n",
    "    \"\"\", Loader=yaml.FullLoader))\n",
    "'''"
   ]
  },
  {
   "cell_type": "markdown",
   "metadata": {
    "id": "e1KhyJV9Bf0j"
   },
   "source": [
    "Now we can display our application using ``show``, which will automatically create an ``Application`` that wraps ``bkapp`` using ``FunctionHandler``. The end result is that the Bokeh server will call ``bkapp`` to build new documents for every new sessions that is opened.\n",
    "\n",
    "**Note**: If the current notebook is not displayed at the default URL, you must update the `notebook_url` parameter in the comment below to match, and pass it to `show`."
   ]
  },
  {
   "cell_type": "code",
   "execution_count": null,
   "metadata": {
    "colab": {
     "base_uri": "https://localhost:8080/",
     "height": 34
    },
    "id": "dIWV4321Bf0j",
    "outputId": "d6e684c1-b939-4655-9a9b-d6a200a8be41"
   },
   "outputs": [],
   "source": []
  },
  {
   "cell_type": "code",
   "execution_count": null,
   "metadata": {
    "id": "qB3khSx-Bf0m"
   },
   "outputs": [],
   "source": []
  },
  {
   "cell_type": "code",
   "execution_count": null,
   "metadata": {
    "id": "OdjIJmYVBf0p"
   },
   "outputs": [],
   "source": []
  }
 ],
 "metadata": {
  "anaconda-cloud": {},
  "colab": {
   "name": "bokeh_example.ipynb",
   "provenance": []
  },
  "kernelspec": {
   "display_name": "Python 3",
   "language": "python",
   "name": "python3"
  },
  "language_info": {
   "codemirror_mode": {
    "name": "ipython",
    "version": 3
   },
   "file_extension": ".py",
   "mimetype": "text/x-python",
   "name": "python",
   "nbconvert_exporter": "python",
   "pygments_lexer": "ipython3",
   "version": "3.7.4"
  }
 },
 "nbformat": 4,
 "nbformat_minor": 4
}
