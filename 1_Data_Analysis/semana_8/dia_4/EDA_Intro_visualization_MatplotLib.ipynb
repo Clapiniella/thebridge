{
 "cells": [
  {
   "cell_type": "markdown",
   "metadata": {
    "colab_type": "text",
    "id": "W932_-dN0U0A"
   },
   "source": [
    "# Visualization with Matplotlib"
   ]
  },
  {
   "cell_type": "markdown",
   "metadata": {
    "colab_type": "text",
    "id": "CYpIDD2a0U0B"
   },
   "source": [
    "We'll now take an in-depth look at the Matplotlib package for visualization in Python.\n",
    "Matplotlib is a multi-platform data visualization library built on NumPy arrays, and designed to work with the broader SciPy stack.\n",
    "It was conceived by John Hunter in 2002, originally as a patch to IPython for enabling interactive MATLAB-style plotting via gnuplot from the IPython command line.\n",
    "IPython's creator, Fernando Perez, was at the time scrambling to finish his PhD, and let John know he wouldn’t have time to review the patch for several months.\n",
    "John took this as a cue to set out on his own, and the Matplotlib package was born, with version 0.1 released in 2003.\n",
    "It received an early boost when it was adopted as the plotting package of choice of the Space Telescope Science Institute (the folks behind the Hubble Telescope), which financially supported Matplotlib’s development and greatly expanded its capabilities.\n",
    "\n",
    "One of Matplotlib’s most important features is its ability to play well with many operating systems and graphics backends.\n",
    "Matplotlib supports dozens of backends and output types, which means you can count on it to work regardless of which operating system you are using or which output format you wish.\n",
    "This cross-platform, everything-to-everyone approach has been one of the great strengths of Matplotlib.\n",
    "It has led to a large user base, which in turn has led to an active developer base and Matplotlib’s powerful tools and ubiquity within the scientific Python world.\n",
    "\n",
    "In recent years, however, the interface and style of Matplotlib have begun to show their age.\n",
    "Newer tools like ggplot and ggvis in the R language, along with web visualization toolkits based on D3js and HTML5 canvas, often make Matplotlib feel clunky and old-fashioned.\n",
    "Still, I'm of the opinion that we cannot ignore Matplotlib's strength as a well-tested, cross-platform graphics engine.\n",
    "Recent Matplotlib versions make it relatively easy to set new global plotting styles (see [Customizing Matplotlib: Configurations and Style Sheets](04.11-Settings-and-Stylesheets.ipynb)), and people have been developing new packages that build on its powerful internals to drive Matplotlib via cleaner, more modern APIs—for example, Seaborn (discussed in [Visualization With Seaborn](04.14-Visualization-With-Seaborn.ipynb)), [ggpy](http://yhat.github.io/ggpy/), [HoloViews](http://holoviews.org/), [Altair](http://altair-viz.github.io/), and even Pandas itself can be used as wrappers around Matplotlib's API.\n",
    "Even with wrappers like these, it is still often useful to dive into Matplotlib's syntax to adjust the final plot output.\n",
    "For this reason, I believe that Matplotlib itself will remain a vital piece of the data visualization stack, even if new tools mean the community gradually moves away from using the Matplotlib API directly."
   ]
  },
  {
   "cell_type": "markdown",
   "metadata": {
    "colab_type": "text",
    "id": "r5lQtn1N0U0C"
   },
   "source": [
    "## General Matplotlib Tips\n",
    "\n",
    "Before we dive into the details of creating visualizations with Matplotlib, there are a few useful things you should know about using the package."
   ]
  },
  {
   "cell_type": "markdown",
   "metadata": {
    "colab_type": "text",
    "id": "rQh54LMQ0U0C"
   },
   "source": [
    "### Importing Matplotlib\n",
    "\n",
    "Just as we use the ``np`` shorthand for NumPy and the ``pd`` shorthand for Pandas, we will use some standard shorthands for Matplotlib imports:"
   ]
  },
  {
   "cell_type": "code",
   "execution_count": null,
   "metadata": {
    "colab": {},
    "colab_type": "code",
    "id": "GFDceb3s0U0L"
   },
   "outputs": [],
   "source": []
  },
  {
   "cell_type": "markdown",
   "metadata": {
    "colab_type": "text",
    "id": "p3U6wUiW0U0O"
   },
   "source": [
    "The ``plt`` interface is what we will use most often, as we shall see throughout this chapter."
   ]
  },
  {
   "cell_type": "markdown",
   "metadata": {
    "colab_type": "text",
    "id": "PDWdgh420U0O"
   },
   "source": [
    "### Setting Styles\n",
    "\n",
    "We will use the ``plt.style`` directive to choose appropriate aesthetic styles for our figures.\n",
    "Here we will set the ``classic`` style, which ensures that the plots we create use the classic Matplotlib style:"
   ]
  },
  {
   "cell_type": "code",
   "execution_count": null,
   "metadata": {
    "colab": {},
    "colab_type": "code",
    "id": "dekAZ-190U0P"
   },
   "outputs": [],
   "source": []
  },
  {
   "cell_type": "markdown",
   "metadata": {
    "colab_type": "text",
    "id": "veCGW7hc0U0R"
   },
   "source": [
    "Throughout this section, we will adjust this style as needed.\n",
    "Note that the stylesheets used here are supported as of Matplotlib version 1.5; if you are using an earlier version of Matplotlib, only the default style is available.\n",
    "For more information on stylesheets, see [Customizing Matplotlib: Configurations and Style Sheets](04.11-Settings-and-Stylesheets.ipynb)."
   ]
  },
  {
   "cell_type": "markdown",
   "metadata": {
    "colab_type": "text",
    "id": "JC0kPSko0U0S"
   },
   "source": [
    "### ``show()`` or No ``show()``? How to Display Your Plots"
   ]
  },
  {
   "cell_type": "markdown",
   "metadata": {
    "colab_type": "text",
    "id": "OTbm07bj0U0S"
   },
   "source": [
    "A visualization you can't see won't be of much use, but just how you view your Matplotlib plots depends on the context.\n",
    "The best use of Matplotlib differs depending on how you are using it; roughly, the three applicable contexts are using Matplotlib in a script, in an IPython terminal, or in an IPython notebook."
   ]
  },
  {
   "cell_type": "markdown",
   "metadata": {
    "colab_type": "text",
    "id": "5RrSJBcu0U0T"
   },
   "source": [
    "#### Plotting from a script\n",
    "\n",
    "If you are using Matplotlib from within a script, the function ``plt.show()`` is your friend.\n",
    "``plt.show()`` starts an event loop, looks for all currently active figure objects, and opens one or more interactive windows that display your figure or figures.\n",
    "\n",
    "So, for example, you may have a file called *myplot.py* containing the following:\n",
    "\n",
    "```python\n",
    "# ------- file: myplot.py ------\n",
    "import matplotlib.pyplot as plt\n",
    "import numpy as np\n",
    "\n",
    "x = np.linspace(0, 10, 100)\n",
    "\n",
    "plt.plot(x, np.sin(x))\n",
    "plt.plot(x, np.cos(x))\n",
    "\n",
    "plt.show()\n",
    "```\n",
    "\n",
    "You can then run this script from the command-line prompt, which will result in a window opening with your figure displayed:\n",
    "\n",
    "```\n",
    "$ python myplot.py\n",
    "```\n",
    "\n",
    "The ``plt.show()`` command does a lot under the hood, as it must interact with your system's interactive graphical backend.\n",
    "The details of this operation can vary greatly from system to system and even installation to installation, but matplotlib does its best to hide all these details from you.\n",
    "\n",
    "One thing to be aware of: the ``plt.show()`` command should be used *only once* per Python session, and is most often seen at the very end of the script.\n",
    "Multiple ``show()`` commands can lead to unpredictable backend-dependent behavior, and should mostly be avoided."
   ]
  },
  {
   "cell_type": "markdown",
   "metadata": {
    "colab_type": "text",
    "id": "k1WJoNBY0U0T"
   },
   "source": [
    "#### Plotting from an IPython shell\n",
    "\n",
    "It can be very convenient to use Matplotlib interactively within an IPython shell (see [IPython: Beyond Normal Python](01.00-IPython-Beyond-Normal-Python.ipynb)).\n",
    "IPython is built to work well with Matplotlib if you specify Matplotlib mode.\n",
    "To enable this mode, you can use the ``%matplotlib`` magic command after starting ``ipython``:\n",
    "\n",
    "```ipython\n",
    "In [1]: %matplotlib\n",
    "Using matplotlib backend: TkAgg\n",
    "\n",
    "In [2]: import matplotlib.pyplot as plt\n",
    "```\n",
    "\n",
    "At this point, any ``plt`` plot command will cause a figure window to open, and further commands can be run to update the plot.\n",
    "Some changes (such as modifying properties of lines that are already drawn) will not draw automatically: to force an update, use ``plt.draw()``.\n",
    "Using ``plt.show()`` in Matplotlib mode is not required."
   ]
  },
  {
   "cell_type": "markdown",
   "metadata": {
    "colab_type": "text",
    "id": "I1Yjj1iM0U0U"
   },
   "source": [
    "#### Plotting from an IPython notebook\n",
    "\n",
    "The IPython notebook is a browser-based interactive data analysis tool that can combine narrative, code, graphics, HTML elements, and much more into a single executable document (see [IPython: Beyond Normal Python](01.00-IPython-Beyond-Normal-Python.ipynb)).\n",
    "\n",
    "Plotting interactively within an IPython notebook can be done with the ``%matplotlib`` command, and works in a similar way to the IPython shell.\n",
    "In the IPython notebook, you also have the option of embedding graphics directly in the notebook, with two possible options:\n",
    "\n",
    "- ``%matplotlib notebook`` will lead to *interactive* plots embedded within the notebook\n",
    "- ``%matplotlib inline`` will lead to *static* images of your plot embedded in the notebook\n",
    "\n",
    "For this book, we will generally opt for ``%matplotlib inline``:"
   ]
  },
  {
   "cell_type": "code",
   "execution_count": null,
   "metadata": {
    "colab": {},
    "colab_type": "code",
    "id": "vKTM47v70U0U"
   },
   "outputs": [],
   "source": []
  },
  {
   "cell_type": "markdown",
   "metadata": {
    "colab_type": "text",
    "id": "T5pcEV-V0U0W"
   },
   "source": [
    "After running this command (it needs to be done only once per kernel/session), any cell within the notebook that creates a plot will embed a PNG image of the resulting graphic:"
   ]
  },
  {
   "cell_type": "code",
   "execution_count": null,
   "metadata": {
    "colab": {
     "base_uri": "https://localhost:8080/",
     "height": 566
    },
    "colab_type": "code",
    "collapsed": false,
    "id": "WMuY0nVt0U0X",
    "jupyter": {
     "outputs_hidden": false
    },
    "outputId": "3b9d77fc-1c29-4007-d43d-55bd6356e2fa"
   },
   "outputs": [],
   "source": []
  },
  {
   "cell_type": "markdown",
   "metadata": {
    "colab_type": "text",
    "id": "Cx8WNIMl0U0a"
   },
   "source": [
    "### Saving Figures to File\n",
    "\n",
    "One nice feature of Matplotlib is the ability to save figures in a wide variety of formats.\n",
    "Saving a figure can be done using the ``savefig()`` command.\n",
    "For example, to save the previous figure as a PNG file, you can run this:"
   ]
  },
  {
   "cell_type": "code",
   "execution_count": null,
   "metadata": {
    "colab": {},
    "colab_type": "code",
    "collapsed": false,
    "id": "TZMmWNUa0U0b",
    "jupyter": {
     "outputs_hidden": false
    }
   },
   "outputs": [],
   "source": []
  },
  {
   "cell_type": "markdown",
   "metadata": {
    "colab_type": "text",
    "id": "3kjNB3Qs0U0d"
   },
   "source": [
    "We now have a file called ``my_figure.png`` in the current working directory:"
   ]
  },
  {
   "cell_type": "code",
   "execution_count": null,
   "metadata": {
    "colab": {},
    "colab_type": "code",
    "collapsed": false,
    "id": "JixZ_seD0U0e",
    "jupyter": {
     "outputs_hidden": false
    },
    "outputId": "7e2cfabc-5d1b-4e16-a97e-af945fde6331"
   },
   "outputs": [],
   "source": []
  },
  {
   "cell_type": "markdown",
   "metadata": {
    "colab_type": "text",
    "id": "qK_ZfzhI0U0g"
   },
   "source": [
    "To confirm that it contains what we think it contains, let's use the IPython ``Image`` object to display the contents of this file:"
   ]
  },
  {
   "cell_type": "code",
   "execution_count": null,
   "metadata": {
    "colab": {},
    "colab_type": "code",
    "collapsed": false,
    "id": "q_-zayfI0U0g",
    "jupyter": {
     "outputs_hidden": false
    },
    "outputId": "cea965cf-4509-4039-c449-747ae1b82c5d"
   },
   "outputs": [],
   "source": []
  },
  {
   "cell_type": "markdown",
   "metadata": {
    "colab_type": "text",
    "id": "oR80i_La0U0i"
   },
   "source": [
    "In ``savefig()``, the file format is inferred from the extension of the given filename.\n",
    "Depending on what backends you have installed, many different file formats are available.\n",
    "The list of supported file types can be found for your system by using the following method of the figure canvas object:"
   ]
  },
  {
   "cell_type": "code",
   "execution_count": null,
   "metadata": {
    "colab": {},
    "colab_type": "code",
    "collapsed": false,
    "id": "243KelI20U0j",
    "jupyter": {
     "outputs_hidden": false
    },
    "outputId": "089d6b1f-56e8-4c45-8ff3-42ae296c43ee"
   },
   "outputs": [],
   "source": []
  },
  {
   "cell_type": "markdown",
   "metadata": {
    "colab_type": "text",
    "id": "Yhmg0jDx0U0l"
   },
   "source": [
    "Note that when saving your figure, it's not necessary to use ``plt.show()`` or related commands discussed earlier."
   ]
  },
  {
   "cell_type": "markdown",
   "metadata": {
    "colab_type": "text",
    "id": "EZe2qYns0U0l"
   },
   "source": [
    "## Two Interfaces for the Price of One\n",
    "\n",
    "A potentially confusing feature of Matplotlib is its dual interfaces: a convenient MATLAB-style state-based interface, and a more powerful object-oriented interface. We'll quickly highlight the differences between the two here."
   ]
  },
  {
   "cell_type": "markdown",
   "metadata": {
    "colab_type": "text",
    "id": "WyCdr39K0U0m"
   },
   "source": [
    "#### MATLAB-style Interface\n",
    "\n",
    "Matplotlib was originally written as a Python alternative for MATLAB users, and much of its syntax reflects that fact.\n",
    "The MATLAB-style tools are contained in the pyplot (``plt``) interface.\n",
    "For example, the following code will probably look quite familiar to MATLAB users:"
   ]
  },
  {
   "cell_type": "code",
   "execution_count": null,
   "metadata": {
    "colab": {
     "base_uri": "https://localhost:8080/",
     "height": 273
    },
    "colab_type": "code",
    "collapsed": false,
    "id": "JlODB_wU0U0m",
    "jupyter": {
     "outputs_hidden": false
    },
    "outputId": "3ea6127d-b29c-4d35-93b4-9d460442e1e6"
   },
   "outputs": [],
   "source": []
  },
  {
   "cell_type": "markdown",
   "metadata": {
    "colab_type": "text",
    "id": "awuf0SVK0U0o"
   },
   "source": [
    "It is important to note that this interface is *stateful*: it keeps track of the \"current\" figure and axes, which are where all ``plt`` commands are applied.\n",
    "You can get a reference to these using the ``plt.gcf()`` (get current figure) and ``plt.gca()`` (get current axes) routines.\n",
    "\n",
    "While this stateful interface is fast and convenient for simple plots, it is easy to run into problems.\n",
    "For example, once the second panel is created, how can we go back and add something to the first?\n",
    "This is possible within the MATLAB-style interface, but a bit clunky.\n",
    "Fortunately, there is a better way."
   ]
  },
  {
   "cell_type": "markdown",
   "metadata": {
    "colab_type": "text",
    "id": "vtAkAUpN0U0p"
   },
   "source": [
    "#### Object-oriented interface\n",
    "\n",
    "The object-oriented interface is available for these more complicated situations, and for when you want more control over your figure.\n",
    "Rather than depending on some notion of an \"active\" figure or axes, in the object-oriented interface the plotting functions are *methods* of explicit ``Figure`` and ``Axes`` objects.\n",
    "To re-create the previous plot using this style of plotting, you might do the following:"
   ]
  },
  {
   "cell_type": "code",
   "execution_count": null,
   "metadata": {
    "colab": {
     "base_uri": "https://localhost:8080/",
     "height": 273
    },
    "colab_type": "code",
    "collapsed": false,
    "id": "yoy-faP30U0p",
    "jupyter": {
     "outputs_hidden": false
    },
    "outputId": "9d6b5227-fd02-4180-8f93-0f03b2b53984"
   },
   "outputs": [],
   "source": []
  },
  {
   "cell_type": "markdown",
   "metadata": {
    "colab_type": "text",
    "id": "S-J8nxjZ0U0s"
   },
   "source": [
    "For more simple plots, the choice of which style to use is largely a matter of preference, but the object-oriented approach can become a necessity as plots become more complicated.\n",
    "Throughout this chapter, we will switch between the MATLAB-style and object-oriented interfaces, depending on what is most convenient.\n",
    "In most cases, the difference is as small as switching ``plt.plot()`` to ``ax.plot()``, but there are a few gotchas that we will highlight as they come up in the following sections."
   ]
  },
  {
   "cell_type": "markdown",
   "metadata": {
    "colab_type": "text",
    "id": "BcJf6mMi0U0s"
   },
   "source": [
    "# Simple Line Plots"
   ]
  },
  {
   "cell_type": "markdown",
   "metadata": {
    "colab_type": "text",
    "id": "yYpCgeUJ0U0t"
   },
   "source": [
    "Perhaps the simplest of all plots is the visualization of a single function $y = f(x)$.\n",
    "Here we will take a first look at creating a simple plot of this type.\n",
    "As with all the following sections, we'll start by setting up the notebook for plotting and  importing the packages we will use:"
   ]
  },
  {
   "cell_type": "code",
   "execution_count": null,
   "metadata": {
    "colab": {},
    "colab_type": "code",
    "id": "LmefB72r0U0t"
   },
   "outputs": [],
   "source": [
    "%matplotlib inline\n",
    "import matplotlib.pyplot as plt\n",
    "plt.style.use('seaborn-whitegrid')\n",
    "import numpy as np"
   ]
  },
  {
   "cell_type": "markdown",
   "metadata": {
    "colab_type": "text",
    "id": "GoB-kRU50U0w"
   },
   "source": [
    "For all Matplotlib plots, we start by creating a figure and an axes.\n",
    "In their simplest form, a figure and axes can be created as follows:"
   ]
  },
  {
   "cell_type": "code",
   "execution_count": null,
   "metadata": {
    "colab": {
     "base_uri": "https://localhost:8080/",
     "height": 273
    },
    "colab_type": "code",
    "collapsed": false,
    "id": "eUQvMkf-0U0w",
    "jupyter": {
     "outputs_hidden": false
    },
    "outputId": "6f3634b8-04a0-4629-d8eb-e598d133d852"
   },
   "outputs": [],
   "source": []
  },
  {
   "cell_type": "markdown",
   "metadata": {
    "colab_type": "text",
    "id": "56ACZ60m0U0y"
   },
   "source": [
    "In Matplotlib, the *figure* (an instance of the class ``plt.Figure``) can be thought of as a single container that contains all the objects representing axes, graphics, text, and labels.\n",
    "The *axes* (an instance of the class ``plt.Axes``) is what we see above: a bounding box with ticks and labels, which will eventually contain the plot elements that make up our visualization.\n",
    "Throughout this book, we'll commonly use the variable name ``fig`` to refer to a figure instance, and ``ax`` to refer to an axes instance or group of axes instances.\n",
    "\n",
    "Once we have created an axes, we can use the ``ax.plot`` function to plot some data. Let's start with a simple sinusoid:"
   ]
  },
  {
   "cell_type": "code",
   "execution_count": null,
   "metadata": {
    "colab": {
     "base_uri": "https://localhost:8080/",
     "height": 273
    },
    "colab_type": "code",
    "collapsed": false,
    "id": "7gcks1VX0U0z",
    "jupyter": {
     "outputs_hidden": false
    },
    "outputId": "782789da-918c-4367-a780-28fb6f74624e"
   },
   "outputs": [],
   "source": []
  },
  {
   "cell_type": "markdown",
   "metadata": {
    "colab_type": "text",
    "id": "ZEZNXOHz0U01"
   },
   "source": [
    "Alternatively, we can use the pylab interface and let the figure and axes be created for us in the background\n",
    "(see [Two Interfaces for the Price of One](04.00-Introduction-To-Matplotlib.ipynb#Two-Interfaces-for-the-Price-of-One) for a discussion of these two interfaces):"
   ]
  },
  {
   "cell_type": "code",
   "execution_count": null,
   "metadata": {
    "colab": {
     "base_uri": "https://localhost:8080/",
     "height": 273
    },
    "colab_type": "code",
    "collapsed": false,
    "id": "bLWzyaZJ0U01",
    "jupyter": {
     "outputs_hidden": false
    },
    "outputId": "2430b34d-f09d-409b-e5f6-e1b60028ff95"
   },
   "outputs": [],
   "source": []
  },
  {
   "cell_type": "markdown",
   "metadata": {
    "colab_type": "text",
    "id": "43rtyyKy0U03"
   },
   "source": [
    "If we want to create a single figure with multiple lines, we can simply call the ``plot`` function multiple times:"
   ]
  },
  {
   "cell_type": "code",
   "execution_count": null,
   "metadata": {
    "colab": {},
    "colab_type": "code",
    "collapsed": false,
    "id": "_y3XjxsR0U04",
    "jupyter": {
     "outputs_hidden": false
    },
    "outputId": "075c95bf-db53-4f22-cefc-e07af32f5bf1"
   },
   "outputs": [],
   "source": []
  },
  {
   "cell_type": "markdown",
   "metadata": {
    "colab_type": "text",
    "id": "VKBwMdKQ0U06"
   },
   "source": [
    "That's all there is to plotting simple functions in Matplotlib!\n",
    "We'll now dive into some more details about how to control the appearance of the axes and lines."
   ]
  },
  {
   "cell_type": "markdown",
   "metadata": {
    "colab_type": "text",
    "id": "X0szRzo20U06"
   },
   "source": [
    "## Adjusting the Plot: Line Colors and Styles"
   ]
  },
  {
   "cell_type": "markdown",
   "metadata": {
    "colab_type": "text",
    "id": "PpRGjp860U06"
   },
   "source": [
    "The first adjustment you might wish to make to a plot is to control the line colors and styles.\n",
    "The ``plt.plot()`` function takes additional arguments that can be used to specify these.\n",
    "To adjust the color, you can use the ``color`` keyword, which accepts a string argument representing virtually any imaginable color.\n",
    "The color can be specified in a variety of ways:"
   ]
  },
  {
   "cell_type": "code",
   "execution_count": 2,
   "metadata": {
    "colab": {
     "base_uri": "https://localhost:8080/",
     "height": 273
    },
    "colab_type": "code",
    "collapsed": false,
    "id": "pkPNn5QM0U07",
    "jupyter": {
     "outputs_hidden": false
    },
    "outputId": "9a264a3e-2f94-42d8-8309-e06343bdbd0d"
   },
   "outputs": [
    {
     "data": {
      "text/plain": [
       "\"\\nplt.plot(x, np.sin(x - 0), color='blue')        # specify color by name\\nplt.plot(x, np.sin(x - 1), color='g')           # short color code (rgbcmyk)\\nplt.plot(x, np.sin(x - 2), color='0.75')        # Grayscale between 0 and 1\\nplt.plot(x, np.sin(x - 3), color='#FFDD44')     # Hex code (RRGGBB from 00 to FF)\\nplt.plot(x, np.sin(x - 4), color=(1.0,0.2,0.3)) # RGB tuple, values 0 to 1\\nplt.plot(x, np.sin(x - 5), color='chartreuse'); # all HTML color names supported\\n\""
      ]
     },
     "execution_count": 2,
     "metadata": {},
     "output_type": "execute_result"
    }
   ],
   "source": [
    "'''\n",
    "plt.plot(x, np.sin(x - 0), color='blue')        # specify color by name\n",
    "plt.plot(x, np.sin(x - 1), color='g')           # short color code (rgbcmyk)\n",
    "plt.plot(x, np.sin(x - 2), color='0.75')        # Grayscale between 0 and 1\n",
    "plt.plot(x, np.sin(x - 3), color='#FFDD44')     # Hex code (RRGGBB from 00 to FF)\n",
    "plt.plot(x, np.sin(x - 4), color=(1.0,0.2,0.3)) # RGB tuple, values 0 to 1\n",
    "plt.plot(x, np.sin(x - 5), color='chartreuse'); # all HTML color names supported\n",
    "'''"
   ]
  },
  {
   "cell_type": "markdown",
   "metadata": {
    "colab_type": "text",
    "id": "dK4kvcaY0U08"
   },
   "source": [
    "If no color is specified, Matplotlib will automatically cycle through a set of default colors for multiple lines.\n",
    "\n",
    "Similarly, the line style can be adjusted using the ``linestyle`` keyword:"
   ]
  },
  {
   "cell_type": "code",
   "execution_count": 3,
   "metadata": {
    "colab": {},
    "colab_type": "code",
    "collapsed": false,
    "id": "kW5TmNEx0U09",
    "jupyter": {
     "outputs_hidden": false
    },
    "outputId": "8b09fd71-ace7-46ca-a5af-a8f7cd742d44"
   },
   "outputs": [
    {
     "data": {
      "text/plain": [
       "\"\\n\\nplt.plot(x, x + 0, linestyle='solid')\\nplt.plot(x, x + 1, linestyle='dashed')\\nplt.plot(x, x + 2, linestyle='dashdot')\\nplt.plot(x, x + 3, linestyle='dotted');\\n\\n# For short, you can use the following codes:\\nplt.plot(x, x + 4, linestyle='-')  # solid\\nplt.plot(x, x + 5, linestyle='--') # dashed\\nplt.plot(x, x + 6, linestyle='-.') # dashdot\\nplt.plot(x, x + 7, linestyle=':');  # dotted\\n\""
      ]
     },
     "execution_count": 3,
     "metadata": {},
     "output_type": "execute_result"
    }
   ],
   "source": [
    "'''\n",
    "\n",
    "plt.plot(x, x + 0, linestyle='solid')\n",
    "plt.plot(x, x + 1, linestyle='dashed')\n",
    "plt.plot(x, x + 2, linestyle='dashdot')\n",
    "plt.plot(x, x + 3, linestyle='dotted');\n",
    "\n",
    "# For short, you can use the following codes:\n",
    "plt.plot(x, x + 4, linestyle='-')  # solid\n",
    "plt.plot(x, x + 5, linestyle='--') # dashed\n",
    "plt.plot(x, x + 6, linestyle='-.') # dashdot\n",
    "plt.plot(x, x + 7, linestyle=':');  # dotted\n",
    "'''"
   ]
  },
  {
   "cell_type": "markdown",
   "metadata": {
    "colab_type": "text",
    "id": "PUW5zxcg0U0-"
   },
   "source": [
    "If you would like to be extremely terse, these ``linestyle`` and ``color`` codes can be combined into a single non-keyword argument to the ``plt.plot()`` function:"
   ]
  },
  {
   "cell_type": "code",
   "execution_count": 4,
   "metadata": {
    "colab": {},
    "colab_type": "code",
    "collapsed": false,
    "id": "H4tUNmlg0U0_",
    "jupyter": {
     "outputs_hidden": false
    },
    "outputId": "bfba36c9-1a89-440c-96f7-32318a621720"
   },
   "outputs": [
    {
     "data": {
      "text/plain": [
       "\"\\nplt.plot(x, x + 0, '-g')  # solid green\\nplt.plot(x, x + 1, '--c') # dashed cyan\\nplt.plot(x, x + 2, '-.k') # dashdot black\\nplt.plot(x, x + 3, ':r');  # dotted red\\n\""
      ]
     },
     "execution_count": 4,
     "metadata": {},
     "output_type": "execute_result"
    }
   ],
   "source": [
    "'''\n",
    "plt.plot(x, x + 0, '-g')  # solid green\n",
    "plt.plot(x, x + 1, '--c') # dashed cyan\n",
    "plt.plot(x, x + 2, '-.k') # dashdot black\n",
    "plt.plot(x, x + 3, ':r');  # dotted red\n",
    "'''"
   ]
  },
  {
   "cell_type": "markdown",
   "metadata": {
    "colab_type": "text",
    "id": "QiJ2Y_9e0U1C"
   },
   "source": [
    "These single-character color codes reflect the standard abbreviations in the RGB (Red/Green/Blue) and CMYK (Cyan/Magenta/Yellow/blacK) color systems, commonly used for digital color graphics.\n",
    "\n",
    "There are many other keyword arguments that can be used to fine-tune the appearance of the plot; for more details, I'd suggest viewing the docstring of the ``plt.plot()`` function using IPython's help tools (See [Help and Documentation in IPython](01.01-Help-And-Documentation.ipynb))."
   ]
  },
  {
   "cell_type": "markdown",
   "metadata": {
    "colab_type": "text",
    "id": "-Q8bE67I0U1C"
   },
   "source": [
    "## Adjusting the Plot: Axes Limits\n",
    "\n",
    "Matplotlib does a decent job of choosing default axes limits for your plot, but sometimes it's nice to have finer control.\n",
    "The most basic way to adjust axis limits is to use the ``plt.xlim()`` and ``plt.ylim()`` methods:"
   ]
  },
  {
   "cell_type": "code",
   "execution_count": 5,
   "metadata": {
    "colab": {
     "base_uri": "https://localhost:8080/",
     "height": 273
    },
    "colab_type": "code",
    "collapsed": false,
    "id": "Qo_-b0l00U1C",
    "jupyter": {
     "outputs_hidden": false
    },
    "outputId": "dc99c667-1f73-4ff9-a417-359a91044e4a"
   },
   "outputs": [],
   "source": [
    "# plt.plot(x, np.sin(x))\n",
    "\n"
   ]
  },
  {
   "cell_type": "markdown",
   "metadata": {
    "colab_type": "text",
    "id": "6B4kAkoP0U1H"
   },
   "source": [
    "If for some reason you'd like either axis to be displayed in reverse, you can simply reverse the order of the arguments:"
   ]
  },
  {
   "cell_type": "code",
   "execution_count": 6,
   "metadata": {
    "colab": {
     "base_uri": "https://localhost:8080/",
     "height": 268
    },
    "colab_type": "code",
    "collapsed": false,
    "id": "_ioDXBzI0U1I",
    "jupyter": {
     "outputs_hidden": false
    },
    "outputId": "bfe10a45-3665-4086-dea2-9c5b62834d29"
   },
   "outputs": [],
   "source": [
    "# plt.plot(x, np.sin(x))\n",
    "\n"
   ]
  },
  {
   "cell_type": "markdown",
   "metadata": {
    "colab_type": "text",
    "id": "sdllgbvJ0U1J"
   },
   "source": [
    "A useful related method is ``plt.axis()`` (note here the potential confusion between *axes* with an *e*, and *axis* with an *i*).\n",
    "The ``plt.axis()`` method allows you to set the ``x`` and ``y`` limits with a single call, by passing a list which specifies ``[xmin, xmax, ymin, ymax]``:"
   ]
  },
  {
   "cell_type": "code",
   "execution_count": 7,
   "metadata": {
    "colab": {},
    "colab_type": "code",
    "collapsed": false,
    "id": "ElaGjwCR0U1J",
    "jupyter": {
     "outputs_hidden": false
    },
    "outputId": "90d585a6-1775-4955-849e-db8c21699492"
   },
   "outputs": [],
   "source": [
    "# plt.plot(x, np.sin(x))\n",
    "# plt.axis([-1, 11, -1.5, 1.5]);"
   ]
  },
  {
   "cell_type": "markdown",
   "metadata": {
    "colab_type": "text",
    "id": "J9Ec-jgR0U1L"
   },
   "source": [
    "The ``plt.axis()`` method goes even beyond this, allowing you to do things like automatically tighten the bounds around the current plot:"
   ]
  },
  {
   "cell_type": "code",
   "execution_count": 8,
   "metadata": {
    "colab": {},
    "colab_type": "code",
    "collapsed": false,
    "id": "NBN2ahpv0U1L",
    "jupyter": {
     "outputs_hidden": false
    },
    "outputId": "290d0a63-84e8-4916-b40b-8204ddd10460"
   },
   "outputs": [],
   "source": [
    "# plt.plot(x, np.sin(x))\n",
    "# plt.axis('tight');"
   ]
  },
  {
   "cell_type": "markdown",
   "metadata": {
    "colab_type": "text",
    "id": "37L8kclj0U1O"
   },
   "source": [
    "It allows even higher-level specifications, such as ensuring an equal aspect ratio so that on your screen, one unit in ``x`` is equal to one unit in ``y``:"
   ]
  },
  {
   "cell_type": "code",
   "execution_count": 9,
   "metadata": {
    "colab": {},
    "colab_type": "code",
    "collapsed": false,
    "id": "4_kEx7WL0U1P",
    "jupyter": {
     "outputs_hidden": false
    },
    "outputId": "ad45c4e3-4798-4f9d-fcc6-7ace510545ab"
   },
   "outputs": [],
   "source": [
    "# plt.plot(x, np.sin(x))\n",
    "# plt.axis('equal');"
   ]
  },
  {
   "cell_type": "markdown",
   "metadata": {
    "colab_type": "text",
    "id": "o5bDIM0s0U1Q"
   },
   "source": [
    "For more information on axis limits and the other capabilities of the ``plt.axis`` method, refer to the ``plt.axis`` docstring."
   ]
  },
  {
   "cell_type": "markdown",
   "metadata": {
    "colab_type": "text",
    "id": "66NKjv_l0U1R"
   },
   "source": [
    "## Labeling Plots\n",
    "\n",
    "As the last piece of this section, we'll briefly look at the labeling of plots: titles, axis labels, and simple legends.\n",
    "\n",
    "Titles and axis labels are the simplest such labels—there are methods that can be used to quickly set them:"
   ]
  },
  {
   "cell_type": "code",
   "execution_count": 10,
   "metadata": {
    "colab": {},
    "colab_type": "code",
    "collapsed": false,
    "id": "CeBSsoyB0U1R",
    "jupyter": {
     "outputs_hidden": false
    },
    "outputId": "e6d85ed2-1dff-4613-9fd5-855eab3328ac"
   },
   "outputs": [
    {
     "data": {
      "text/plain": [
       "'\\nplt.plot(x, np.sin(x))\\nplt.title(\"A Sine Curve\")\\nplt.xlabel(\"x\")\\nplt.ylabel(\"sin(x)\");\\n'"
      ]
     },
     "execution_count": 10,
     "metadata": {},
     "output_type": "execute_result"
    }
   ],
   "source": [
    "'''\n",
    "plt.plot(x, np.sin(x))\n",
    "plt.title(\"A Sine Curve\")\n",
    "plt.xlabel(\"x\")\n",
    "plt.ylabel(\"sin(x)\");\n",
    "'''"
   ]
  },
  {
   "cell_type": "markdown",
   "metadata": {
    "colab_type": "text",
    "id": "Bv26-uQ_0U1T"
   },
   "source": [
    "The position, size, and style of these labels can be adjusted using optional arguments to the function.\n",
    "For more information, see the Matplotlib documentation and the docstrings of each of these functions."
   ]
  },
  {
   "cell_type": "markdown",
   "metadata": {
    "colab_type": "text",
    "id": "4vQefOBs0U1T"
   },
   "source": [
    "When multiple lines are being shown within a single axes, it can be useful to create a plot legend that labels each line type.\n",
    "Again, Matplotlib has a built-in way of quickly creating such a legend.\n",
    "It is done via the (you guessed it) ``plt.legend()`` method.\n",
    "Though there are several valid ways of using this, I find it easiest to specify the label of each line using the ``label`` keyword of the plot function:"
   ]
  },
  {
   "cell_type": "code",
   "execution_count": 11,
   "metadata": {
    "colab": {},
    "colab_type": "code",
    "collapsed": false,
    "id": "_I8gBSA-0U1T",
    "jupyter": {
     "outputs_hidden": false
    },
    "outputId": "0ebf13b2-9203-4df4-ba5b-799516edf389"
   },
   "outputs": [
    {
     "data": {
      "text/plain": [
       "\"plt.plot(x, np.sin(x), '-g', label='sin(x)')\\nplt.plot(x, np.cos(x), ':b', label='cos(x)')\\nplt.axis('equal')\\n\\nplt.legend();\\n\""
      ]
     },
     "execution_count": 11,
     "metadata": {},
     "output_type": "execute_result"
    }
   ],
   "source": [
    "'''plt.plot(x, np.sin(x), '-g', label='sin(x)')\n",
    "plt.plot(x, np.cos(x), ':b', label='cos(x)')\n",
    "plt.axis('equal')\n",
    "\n",
    "plt.legend();\n",
    "'''"
   ]
  },
  {
   "cell_type": "markdown",
   "metadata": {
    "colab_type": "text",
    "id": "cYAvm1e80U1V"
   },
   "source": [
    "As you can see, the ``plt.legend()`` function keeps track of the line style and color, and matches these with the correct label.\n",
    "More information on specifying and formatting plot legends can be found in the ``plt.legend`` docstring; additionally, we will cover some more advanced legend options in [Customizing Plot Legends](04.06-Customizing-Legends.ipynb)."
   ]
  },
  {
   "cell_type": "markdown",
   "metadata": {
    "colab_type": "text",
    "id": "hw0hlnwq0U1W"
   },
   "source": [
    "## Aside: Matplotlib Gotchas\n",
    "\n",
    "While most ``plt`` functions translate directly to ``ax`` methods (such as ``plt.plot()`` → ``ax.plot()``, ``plt.legend()`` → ``ax.legend()``, etc.), this is not the case for all commands.\n",
    "In particular, functions to set limits, labels, and titles are slightly modified.\n",
    "For transitioning between MATLAB-style functions and object-oriented methods, make the following changes:\n",
    "\n",
    "- ``plt.xlabel()``  → ``ax.set_xlabel()``\n",
    "- ``plt.ylabel()`` → ``ax.set_ylabel()``\n",
    "- ``plt.xlim()``  → ``ax.set_xlim()``\n",
    "- ``plt.ylim()`` → ``ax.set_ylim()``\n",
    "- ``plt.title()`` → ``ax.set_title()``\n",
    "\n",
    "In the object-oriented interface to plotting, rather than calling these functions individually, it is often more convenient to use the ``ax.set()`` method to set all these properties at once:"
   ]
  },
  {
   "cell_type": "code",
   "execution_count": 12,
   "metadata": {
    "colab": {},
    "colab_type": "code",
    "collapsed": false,
    "id": "j0ZI7Iiq0U1W",
    "jupyter": {
     "outputs_hidden": false
    },
    "outputId": "04dbc1a2-8406-49d2-eab1-a6234219a949"
   },
   "outputs": [
    {
     "data": {
      "text/plain": [
       "\"\\nax = plt.axes()\\nax.plot(x, np.sin(x))\\nax.set(xlim=(0, 10), ylim=(-2, 2),\\n       xlabel='x', ylabel='sin(x)',\\n       title='A Simple Plot');\\n\""
      ]
     },
     "execution_count": 12,
     "metadata": {},
     "output_type": "execute_result"
    }
   ],
   "source": [
    "'''\n",
    "ax = plt.axes()\n",
    "ax.plot(x, np.sin(x))\n",
    "ax.set(xlim=(0, 10), ylim=(-2, 2),\n",
    "       xlabel='x', ylabel='sin(x)',\n",
    "       title='A Simple Plot');\n",
    "'''"
   ]
  },
  {
   "cell_type": "markdown",
   "metadata": {
    "colab_type": "text",
    "id": "pFdzIWA50U1Y"
   },
   "source": [
    "# Simple Scatter Plots"
   ]
  },
  {
   "cell_type": "markdown",
   "metadata": {
    "colab_type": "text",
    "id": "nsKxIgAw0U1Y"
   },
   "source": [
    "Another commonly used plot type is the simple scatter plot, a close cousin of the line plot.\n",
    "Instead of points being joined by line segments, here the points are represented individually with a dot, circle, or other shape.\n",
    "We’ll start by setting up the notebook for plotting and importing the functions we will use:"
   ]
  },
  {
   "cell_type": "code",
   "execution_count": null,
   "metadata": {
    "colab": {},
    "colab_type": "code",
    "id": "lDr2DW8P0U1Z"
   },
   "outputs": [],
   "source": [
    "%matplotlib inline\n",
    "import matplotlib.pyplot as plt\n",
    "plt.style.use('seaborn-whitegrid')\n",
    "import numpy as np"
   ]
  },
  {
   "cell_type": "markdown",
   "metadata": {
    "colab_type": "text",
    "id": "nvjsLv0s0U1b"
   },
   "source": [
    "## Scatter Plots with ``plt.plot``\n",
    "\n",
    "In the previous section we looked at ``plt.plot``/``ax.plot`` to produce line plots.\n",
    "It turns out that this same function can produce scatter plots as well:"
   ]
  },
  {
   "cell_type": "code",
   "execution_count": 13,
   "metadata": {
    "colab": {},
    "colab_type": "code",
    "collapsed": false,
    "id": "5doJVnU70U1b",
    "jupyter": {
     "outputs_hidden": false
    },
    "outputId": "fd16ae28-d011-42ef-f5af-d0bbb23057a2"
   },
   "outputs": [
    {
     "data": {
      "text/plain": [
       "\"\\nx = np.linspace(0, 10, 30)\\ny = np.sin(x)\\n\\nplt.plot(x, y, 'o', color='black');\\n\""
      ]
     },
     "execution_count": 13,
     "metadata": {},
     "output_type": "execute_result"
    }
   ],
   "source": [
    "'''\n",
    "x = np.linspace(0, 10, 30)\n",
    "y = np.sin(x)\n",
    "\n",
    "plt.plot(x, y, 'o', color='black');\n",
    "'''"
   ]
  },
  {
   "cell_type": "markdown",
   "metadata": {
    "colab_type": "text",
    "id": "K-GZdlu00U1d"
   },
   "source": [
    "The third argument in the function call is a character that represents the type of symbol used for the plotting. Just as you can specify options such as ``'-'``, ``'--'`` to control the line style, the marker style has its own set of short string codes. The full list of available symbols can be seen in the documentation of ``plt.plot``, or in Matplotlib's online documentation. Most of the possibilities are fairly intuitive, and we'll show a number of the more common ones here:"
   ]
  },
  {
   "cell_type": "code",
   "execution_count": 14,
   "metadata": {
    "colab": {},
    "colab_type": "code",
    "collapsed": false,
    "id": "7PsO7dHH0U1d",
    "jupyter": {
     "outputs_hidden": false
    },
    "outputId": "2804bc2a-32cb-40a7-cae4-026ec27cb3d1"
   },
   "outputs": [
    {
     "data": {
      "text/plain": [
       "'\\n\\nrng = np.random.RandomState(0)\\nfor marker in [\\'o\\', \\'.\\', \\',\\', \\'x\\', \\'+\\', \\'v\\', \\'^\\', \\'<\\', \\'>\\', \\'s\\', \\'d\\']:\\n    plt.plot(rng.rand(5), rng.rand(5), marker,\\n             label=\"marker=\\'{0}\\'\".format(marker))\\nplt.legend(numpoints=1)\\nplt.xlim(0, 1.8);\\n\\n'"
      ]
     },
     "execution_count": 14,
     "metadata": {},
     "output_type": "execute_result"
    }
   ],
   "source": [
    "'''\n",
    "\n",
    "rng = np.random.RandomState(0)\n",
    "for marker in ['o', '.', ',', 'x', '+', 'v', '^', '<', '>', 's', 'd']:\n",
    "    plt.plot(rng.rand(5), rng.rand(5), marker,\n",
    "             label=\"marker='{0}'\".format(marker))\n",
    "plt.legend(numpoints=1)\n",
    "plt.xlim(0, 1.8);\n",
    "\n",
    "'''"
   ]
  },
  {
   "cell_type": "markdown",
   "metadata": {
    "colab_type": "text",
    "id": "CdUY6fOi0U1f"
   },
   "source": [
    "For even more possibilities, these character codes can be used together with line and color codes to plot points along with a line connecting them:"
   ]
  },
  {
   "cell_type": "code",
   "execution_count": null,
   "metadata": {
    "colab": {},
    "colab_type": "code",
    "collapsed": false,
    "id": "2e9BMvvO0U1f",
    "jupyter": {
     "outputs_hidden": false
    },
    "outputId": "ba7a8267-82fa-491a-85c0-fda8863efddd"
   },
   "outputs": [],
   "source": []
  },
  {
   "cell_type": "markdown",
   "metadata": {
    "colab_type": "text",
    "id": "ZqAAzeu90U1h"
   },
   "source": [
    "Additional keyword arguments to ``plt.plot`` specify a wide range of properties of the lines and markers:"
   ]
  },
  {
   "cell_type": "code",
   "execution_count": 15,
   "metadata": {
    "colab": {},
    "colab_type": "code",
    "collapsed": false,
    "id": "Xuvuyd2I0U1i",
    "jupyter": {
     "outputs_hidden": false
    },
    "outputId": "f203dac6-dd00-4779-9abc-0168ae2eec77"
   },
   "outputs": [
    {
     "data": {
      "text/plain": [
       "\"\\nplt.plot(x, y, '-p', color='gray',\\n         markersize=15, linewidth=4,\\n         markerfacecolor='white',\\n         markeredgecolor='gray',\\n         markeredgewidth=2)\\nplt.ylim(-1.2, 1.2);\\n\""
      ]
     },
     "execution_count": 15,
     "metadata": {},
     "output_type": "execute_result"
    }
   ],
   "source": [
    "'''\n",
    "plt.plot(x, y, '-p', color='gray',\n",
    "         markersize=15, linewidth=4,\n",
    "         markerfacecolor='white',\n",
    "         markeredgecolor='gray',\n",
    "         markeredgewidth=2)\n",
    "plt.ylim(-1.2, 1.2);\n",
    "'''"
   ]
  },
  {
   "cell_type": "markdown",
   "metadata": {
    "colab_type": "text",
    "id": "H17D-hmp0U1j"
   },
   "source": [
    "This type of flexibility in the ``plt.plot`` function allows for a wide variety of possible visualization options.\n",
    "For a full description of the options available, refer to the ``plt.plot`` documentation."
   ]
  },
  {
   "cell_type": "markdown",
   "metadata": {
    "colab_type": "text",
    "id": "PnPBrJ8f0U1j"
   },
   "source": [
    "## Scatter Plots with ``plt.scatter``\n",
    "\n",
    "A second, more powerful method of creating scatter plots is the ``plt.scatter`` function, which can be used very similarly to the ``plt.plot`` function:"
   ]
  },
  {
   "cell_type": "code",
   "execution_count": null,
   "metadata": {
    "colab": {},
    "colab_type": "code",
    "collapsed": false,
    "id": "Y_e0PyvC0U1k",
    "jupyter": {
     "outputs_hidden": false
    },
    "outputId": "f7df621d-6998-4ee6-fe72-0d5401cab812"
   },
   "outputs": [],
   "source": []
  },
  {
   "cell_type": "markdown",
   "metadata": {
    "colab_type": "text",
    "id": "Afv9E8F20U1m"
   },
   "source": [
    "The primary difference of ``plt.scatter`` from ``plt.plot`` is that it can be used to create scatter plots where the properties of each individual point (size, face color, edge color, etc.) can be individually controlled or mapped to data.\n",
    "\n",
    "Let's show this by creating a random scatter plot with points of many colors and sizes.\n",
    "In order to better see the overlapping results, we'll also use the ``alpha`` keyword to adjust the transparency level:"
   ]
  },
  {
   "cell_type": "code",
   "execution_count": 16,
   "metadata": {
    "colab": {
     "base_uri": "https://localhost:8080/",
     "height": 273
    },
    "colab_type": "code",
    "collapsed": false,
    "id": "W3bmpgyj0U1m",
    "jupyter": {
     "outputs_hidden": false
    },
    "outputId": "f11a2f8d-06a3-492b-b1f8-adeb529c9c5a"
   },
   "outputs": [
    {
     "data": {
      "text/plain": [
       "\"\\n\\nrng = np.random.RandomState(0)\\nx = rng.randn(100)\\ny = rng.randn(100)\\ncolors = rng.rand(100)\\nsizes = 1000 * rng.rand(100)\\n\\nplt.scatter(x, y, c=colors, s=sizes, alpha=0.3,\\n            cmap='viridis')\\nplt.colorbar();  # show color scale\\n\\n\""
      ]
     },
     "execution_count": 16,
     "metadata": {},
     "output_type": "execute_result"
    }
   ],
   "source": [
    "'''\n",
    "\n",
    "rng = np.random.RandomState(0)\n",
    "x = rng.randn(100)\n",
    "y = rng.randn(100)\n",
    "colors = rng.rand(100)\n",
    "sizes = 1000 * rng.rand(100)\n",
    "\n",
    "plt.scatter(x, y, c=colors, s=sizes, alpha=0.3,\n",
    "            cmap='viridis')\n",
    "plt.colorbar();  # show color scale\n",
    "\n",
    "'''"
   ]
  },
  {
   "cell_type": "markdown",
   "metadata": {
    "colab_type": "text",
    "id": "JfAY8Gjf0U1o"
   },
   "source": [
    "Notice that the color argument is automatically mapped to a color scale (shown here by the ``colorbar()`` command), and that the size argument is given in pixels.\n",
    "In this way, the color and size of points can be used to convey information in the visualization, in order to visualize multidimensional data.\n",
    "\n",
    "For example, we might use the Iris data from Scikit-Learn, where each sample is one of three types of flowers that has had the size of its petals and sepals carefully measured:"
   ]
  },
  {
   "cell_type": "code",
   "execution_count": 17,
   "metadata": {
    "colab": {},
    "colab_type": "code",
    "collapsed": false,
    "id": "3htDP1Qg0U1o",
    "jupyter": {
     "outputs_hidden": false
    },
    "outputId": "be49ae2a-f831-4f38-82da-373bf068ce25"
   },
   "outputs": [
    {
     "data": {
      "text/plain": [
       "\"\\nfrom sklearn.datasets import load_iris\\niris = load_iris()\\nfeatures = iris.data.T\\n\\nplt.scatter(features[0], features[1], alpha=0.2,\\n            s=100*features[3], c=iris.target, cmap='viridis')\\nplt.xlabel(iris.feature_names[0])\\nplt.ylabel(iris.feature_names[1]);\\n\\n\""
      ]
     },
     "execution_count": 17,
     "metadata": {},
     "output_type": "execute_result"
    }
   ],
   "source": [
    "'''\n",
    "from sklearn.datasets import load_iris\n",
    "iris = load_iris()\n",
    "features = iris.data.T\n",
    "\n",
    "plt.scatter(features[0], features[1], alpha=0.2,\n",
    "            s=100*features[3], c=iris.target, cmap='viridis')\n",
    "plt.xlabel(iris.feature_names[0])\n",
    "plt.ylabel(iris.feature_names[1]);\n",
    "\n",
    "'''"
   ]
  },
  {
   "cell_type": "markdown",
   "metadata": {
    "colab_type": "text",
    "id": "SsGizJYd0U1q"
   },
   "source": [
    "We can see that this scatter plot has given us the ability to simultaneously explore four different dimensions of the data:\n",
    "the (x, y) location of each point corresponds to the sepal length and width, the size of the point is related to the petal width, and the color is related to the particular species of flower.\n",
    "Multicolor and multifeature scatter plots like this can be useful for both exploration and presentation of data."
   ]
  },
  {
   "cell_type": "markdown",
   "metadata": {
    "colab_type": "text",
    "id": "YHFa1qES0U1q"
   },
   "source": [
    "## ``plot`` Versus ``scatter``: A Note on Efficiency\n",
    "\n",
    "Aside from the different features available in ``plt.plot`` and ``plt.scatter``, why might you choose to use one over the other? While it doesn't matter as much for small amounts of data, as datasets get larger than a few thousand points, ``plt.plot`` can be noticeably more efficient than ``plt.scatter``.\n",
    "The reason is that ``plt.scatter`` has the capability to render a different size and/or color for each point, so the renderer must do the extra work of constructing each point individually.\n",
    "In ``plt.plot``, on the other hand, the points are always essentially clones of each other, so the work of determining the appearance of the points is done only once for the entire set of data.\n",
    "For large datasets, the difference between these two can lead to vastly different performance, and for this reason, ``plt.plot`` should be preferred over ``plt.scatter`` for large datasets."
   ]
  },
  {
   "cell_type": "markdown",
   "metadata": {
    "colab_type": "text",
    "id": "NxRIAaWe0U1q"
   },
   "source": [
    "# Visualizing Errors"
   ]
  },
  {
   "cell_type": "markdown",
   "metadata": {
    "colab_type": "text",
    "id": "8nZueZRF0U1r"
   },
   "source": [
    "For any scientific measurement, accurate accounting for errors is nearly as important, if not more important, than accurate reporting of the number itself.\n",
    "For example, imagine that I am using some astrophysical observations to estimate the Hubble Constant, the local measurement of the expansion rate of the Universe.\n",
    "I know that the current literature suggests a value of around 71 (km/s)/Mpc, and I measure a value of 74 (km/s)/Mpc with my method. Are the values consistent? The only correct answer, given this information, is this: there is no way to know.\n",
    "\n",
    "Suppose I augment this information with reported uncertainties: the current literature suggests a value of around 71 $\\pm$ 2.5 (km/s)/Mpc, and my method has measured a value of 74 $\\pm$ 5 (km/s)/Mpc. Now are the values consistent? That is a question that can be quantitatively answered.\n",
    "\n",
    "In visualization of data and results, showing these errors effectively can make a plot convey much more complete information."
   ]
  },
  {
   "cell_type": "markdown",
   "metadata": {
    "colab_type": "text",
    "id": "Cpx-ipv10U1r"
   },
   "source": [
    "## Basic Errorbars\n",
    "\n",
    "A basic errorbar can be created with a single Matplotlib function call:"
   ]
  },
  {
   "cell_type": "code",
   "execution_count": null,
   "metadata": {
    "colab": {},
    "colab_type": "code",
    "collapsed": true,
    "id": "cg2CjJWX0U1r",
    "jupyter": {
     "outputs_hidden": true
    }
   },
   "outputs": [],
   "source": [
    "%matplotlib inline\n",
    "import matplotlib.pyplot as plt\n",
    "plt.style.use('seaborn-whitegrid')\n",
    "import numpy as np"
   ]
  },
  {
   "cell_type": "code",
   "execution_count": 18,
   "metadata": {
    "colab": {},
    "colab_type": "code",
    "collapsed": false,
    "id": "0Bi6nAFP0U1t",
    "jupyter": {
     "outputs_hidden": false
    },
    "outputId": "e99420ee-b78b-4b1e-ad85-2b899f1e9e16"
   },
   "outputs": [
    {
     "data": {
      "text/plain": [
       "\"\\nx = np.linspace(0, 10, 50)\\ndy = 0.8\\ny = np.sin(x) + dy * np.random.randn(50)\\n\\nplt.errorbar(x, y, yerr=dy, fmt='.k');\\n\""
      ]
     },
     "execution_count": 18,
     "metadata": {},
     "output_type": "execute_result"
    }
   ],
   "source": [
    "'''\n",
    "x = np.linspace(0, 10, 50)\n",
    "dy = 0.8\n",
    "y = np.sin(x) + dy * np.random.randn(50)\n",
    "\n",
    "plt.errorbar(x, y, yerr=dy, fmt='.k');\n",
    "'''"
   ]
  },
  {
   "cell_type": "markdown",
   "metadata": {
    "colab_type": "text",
    "id": "Z2ZoQp4a0U1u"
   },
   "source": [
    "Here the ``fmt`` is a format code controlling the appearance of lines and points, and has the same syntax as the shorthand used in ``plt.plot``, outlined in [Simple Line Plots](04.01-Simple-Line-Plots.ipynb) and [Simple Scatter Plots](04.02-Simple-Scatter-Plots.ipynb).\n",
    "\n",
    "In addition to these basic options, the ``errorbar`` function has many options to fine-tune the outputs.\n",
    "Using these additional options you can easily customize the aesthetics of your errorbar plot.\n",
    "I often find it helpful, especially in crowded plots, to make the errorbars lighter than the points themselves:"
   ]
  },
  {
   "cell_type": "code",
   "execution_count": 19,
   "metadata": {
    "colab": {},
    "colab_type": "code",
    "collapsed": false,
    "id": "V9UsEL9i0U1v",
    "jupyter": {
     "outputs_hidden": false
    },
    "outputId": "e3c16e9f-9373-4bc5-b490-0e2f7ce99eba"
   },
   "outputs": [],
   "source": [
    "# plt.errorbar(x, y, yerr=dy, fmt='o', color='black',\n",
    "#             ecolor='lightgray', elinewidth=3, capsize=0);"
   ]
  },
  {
   "cell_type": "markdown",
   "metadata": {
    "colab_type": "text",
    "id": "ILnyS7-q0U1w"
   },
   "source": [
    "In addition to these options, you can also specify horizontal errorbars (``xerr``), one-sided errorbars, and many other variants.\n",
    "For more information on the options available, refer to the docstring of ``plt.errorbar``."
   ]
  },
  {
   "cell_type": "markdown",
   "metadata": {
    "colab_type": "text",
    "id": "s2a5dQBr0U10"
   },
   "source": [
    "# Density and Contour Plots"
   ]
  },
  {
   "cell_type": "markdown",
   "metadata": {
    "colab_type": "text",
    "id": "iHuqWQEM0U12"
   },
   "source": [
    "Sometimes it is useful to display three-dimensional data in two dimensions using contours or color-coded regions.\n",
    "There are three Matplotlib functions that can be helpful for this task: ``plt.contour`` for contour plots, ``plt.contourf`` for filled contour plots, and ``plt.imshow`` for showing images.\n",
    "This section looks at several examples of using these. We'll start by setting up the notebook for plotting and importing the functions we will use: "
   ]
  },
  {
   "cell_type": "code",
   "execution_count": null,
   "metadata": {
    "colab": {},
    "colab_type": "code",
    "id": "6gSn3Lyl0U12"
   },
   "outputs": [],
   "source": [
    "%matplotlib inline\n",
    "import matplotlib.pyplot as plt\n",
    "plt.style.use('seaborn-white')\n",
    "import numpy as np"
   ]
  },
  {
   "cell_type": "markdown",
   "metadata": {
    "colab_type": "text",
    "id": "oxrDJ-HO0U13"
   },
   "source": [
    "## Visualizing a Three-Dimensional Function"
   ]
  },
  {
   "cell_type": "markdown",
   "metadata": {
    "colab_type": "text",
    "id": "XYOZk8w20U13"
   },
   "source": [
    "We'll start by demonstrating a contour plot using a function $z = f(x, y)$, using the following particular choice for $f$ (we've seen this before in [Computation on Arrays: Broadcasting](02.05-Computation-on-arrays-broadcasting.ipynb), when we used it as a motivating example for array broadcasting):"
   ]
  },
  {
   "cell_type": "code",
   "execution_count": null,
   "metadata": {
    "colab": {},
    "colab_type": "code",
    "collapsed": false,
    "id": "mMZoPGIb0U13",
    "jupyter": {
     "outputs_hidden": false
    }
   },
   "outputs": [],
   "source": [
    "def f(x, y):\n",
    "    return np.sin(x) ** 10 + np.cos(10 + y * x) * np.cos(x)"
   ]
  },
  {
   "cell_type": "markdown",
   "metadata": {
    "colab_type": "text",
    "id": "uMGKFymi0U16"
   },
   "source": [
    "A contour plot can be created with the ``plt.contour`` function.\n",
    "It takes three arguments: a grid of *x* values, a grid of *y* values, and a grid of *z* values.\n",
    "The *x* and *y* values represent positions on the plot, and the *z* values will be represented by the contour levels.\n",
    "Perhaps the most straightforward way to prepare such data is to use the ``np.meshgrid`` function, which builds two-dimensional grids from one-dimensional arrays:"
   ]
  },
  {
   "cell_type": "code",
   "execution_count": null,
   "metadata": {
    "colab": {},
    "colab_type": "code",
    "collapsed": false,
    "id": "B7wpDVp60U16",
    "jupyter": {
     "outputs_hidden": false
    }
   },
   "outputs": [],
   "source": [
    "x = np.linspace(0, 5, 50)\n",
    "y = np.linspace(0, 5, 40)\n",
    "\n",
    "X, Y = np.meshgrid(x, y)\n",
    "Z = f(X, Y)"
   ]
  },
  {
   "cell_type": "markdown",
   "metadata": {
    "colab_type": "text",
    "id": "j4MvH8YA0U17"
   },
   "source": [
    "Now let's look at this with a standard line-only contour plot:"
   ]
  },
  {
   "cell_type": "code",
   "execution_count": null,
   "metadata": {
    "colab": {},
    "colab_type": "code",
    "collapsed": false,
    "id": "27bAYrZi0U18",
    "jupyter": {
     "outputs_hidden": false
    },
    "outputId": "40dd86a9-968c-49d0-d27c-a28abd72c4ce"
   },
   "outputs": [],
   "source": []
  },
  {
   "cell_type": "markdown",
   "metadata": {
    "colab_type": "text",
    "id": "pAMflMGc0U1-"
   },
   "source": [
    "Notice that by default when a single color is used, negative values are represented by dashed lines, and positive values by solid lines.\n",
    "Alternatively, the lines can be color-coded by specifying a colormap with the ``cmap`` argument.\n",
    "Here, we'll also specify that we want more lines to be drawn—20 equally spaced intervals within the data range:"
   ]
  },
  {
   "cell_type": "code",
   "execution_count": 20,
   "metadata": {
    "colab": {},
    "colab_type": "code",
    "collapsed": false,
    "id": "o19VojG80U1-",
    "jupyter": {
     "outputs_hidden": false
    },
    "outputId": "0941b31c-0e5c-406b-cba0-08d3938a7afc"
   },
   "outputs": [],
   "source": [
    "# plt.contour(X, Y, Z, 20, cmap='RdGy');"
   ]
  },
  {
   "cell_type": "markdown",
   "metadata": {
    "colab_type": "text",
    "id": "uzhTh3VF0U2A"
   },
   "source": [
    "Here we chose the ``RdGy`` (short for *Red-Gray*) colormap, which is a good choice for centered data.\n",
    "Matplotlib has a wide range of colormaps available, which you can easily browse in IPython by doing a tab completion on the ``plt.cm`` module:\n",
    "```\n",
    "plt.cm.<TAB>\n",
    "```\n",
    "\n",
    "Our plot is looking nicer, but the spaces between the lines may be a bit distracting.\n",
    "We can change this by switching to a filled contour plot using the ``plt.contourf()`` function (notice the ``f`` at the end), which uses largely the same syntax as ``plt.contour()``.\n",
    "\n",
    "Additionally, we'll add a ``plt.colorbar()`` command, which automatically creates an additional axis with labeled color information for the plot:"
   ]
  },
  {
   "cell_type": "code",
   "execution_count": 21,
   "metadata": {
    "colab": {},
    "colab_type": "code",
    "collapsed": false,
    "id": "v51kSPUG0U2A",
    "jupyter": {
     "outputs_hidden": false
    },
    "outputId": "0a337443-acb6-497f-ce3a-ec258101b915"
   },
   "outputs": [],
   "source": [
    "# plt.contourf(X, Y, Z, 20, cmap='RdGy')\n",
    "# plt.colorbar();"
   ]
  },
  {
   "cell_type": "markdown",
   "metadata": {
    "colab_type": "text",
    "id": "t5CSnMJ90U2C"
   },
   "source": [
    "The colorbar makes it clear that the black regions are \"peaks,\" while the red regions are \"valleys.\"\n",
    "\n",
    "One potential issue with this plot is that it is a bit \"splotchy.\" That is, the color steps are discrete rather than continuous, which is not always what is desired.\n",
    "This could be remedied by setting the number of contours to a very high number, but this results in a rather inefficient plot: Matplotlib must render a new polygon for each step in the level.\n",
    "A better way to handle this is to use the ``plt.imshow()`` function, which interprets a two-dimensional grid of data as an image.\n",
    "\n",
    "The following code shows this:"
   ]
  },
  {
   "cell_type": "code",
   "execution_count": 22,
   "metadata": {
    "colab": {},
    "colab_type": "code",
    "collapsed": false,
    "id": "kw6uEDLs0U2C",
    "jupyter": {
     "outputs_hidden": false
    },
    "outputId": "8fbaeac8-8f52-481b-837e-ad828cdd4a6a"
   },
   "outputs": [
    {
     "data": {
      "text/plain": [
       "\"\\nplt.imshow(Z, extent=[0, 5, 0, 5], origin='lower',\\n           cmap='RdGy')\\nplt.colorbar()\\nplt.axis(aspect='image');\\n\""
      ]
     },
     "execution_count": 22,
     "metadata": {},
     "output_type": "execute_result"
    }
   ],
   "source": [
    "'''\n",
    "plt.imshow(Z, extent=[0, 5, 0, 5], origin='lower',\n",
    "           cmap='RdGy')\n",
    "plt.colorbar()\n",
    "plt.axis(aspect='image');\n",
    "'''"
   ]
  },
  {
   "cell_type": "markdown",
   "metadata": {
    "colab_type": "text",
    "id": "DYBREyyT0U2D"
   },
   "source": [
    "There are a few potential gotchas with ``imshow()``, however:\n",
    "\n",
    "- ``plt.imshow()`` doesn't accept an *x* and *y* grid, so you must manually specify the *extent* [*xmin*, *xmax*, *ymin*, *ymax*] of the image on the plot.\n",
    "- ``plt.imshow()`` by default follows the standard image array definition where the origin is in the upper left, not in the lower left as in most contour plots. This must be changed when showing gridded data.\n",
    "- ``plt.imshow()`` will automatically adjust the axis aspect ratio to match the input data; this can be changed by setting, for example, ``plt.axis(aspect='image')`` to make *x* and *y* units match."
   ]
  },
  {
   "cell_type": "markdown",
   "metadata": {
    "colab_type": "text",
    "id": "tHTnq9NM0U2E"
   },
   "source": [
    "Finally, it can sometimes be useful to combine contour plots and image plots.\n",
    "For example, here we'll use a partially transparent background image (with transparency set via the ``alpha`` parameter) and overplot contours with labels on the contours themselves (using the ``plt.clabel()`` function):"
   ]
  },
  {
   "cell_type": "code",
   "execution_count": 23,
   "metadata": {
    "colab": {},
    "colab_type": "code",
    "collapsed": false,
    "id": "CDX8kLHz0U2E",
    "jupyter": {
     "outputs_hidden": false
    },
    "outputId": "5eb06695-5ffd-46c2-d5d8-9ffb07570473"
   },
   "outputs": [
    {
     "data": {
      "text/plain": [
       "\"\\ncontours = plt.contour(X, Y, Z, 3, colors='black')\\nplt.clabel(contours, inline=True, fontsize=8)\\n\\nplt.imshow(Z, extent=[0, 5, 0, 5], origin='lower',\\n           cmap='RdGy', alpha=0.5)\\nplt.colorbar();\\n\""
      ]
     },
     "execution_count": 23,
     "metadata": {},
     "output_type": "execute_result"
    }
   ],
   "source": [
    "'''\n",
    "contours = plt.contour(X, Y, Z, 3, colors='black')\n",
    "plt.clabel(contours, inline=True, fontsize=8)\n",
    "\n",
    "plt.imshow(Z, extent=[0, 5, 0, 5], origin='lower',\n",
    "           cmap='RdGy', alpha=0.5)\n",
    "plt.colorbar();\n",
    "'''"
   ]
  },
  {
   "cell_type": "markdown",
   "metadata": {
    "colab_type": "text",
    "id": "EGKxqOcl0U2G"
   },
   "source": [
    "The combination of these three functions—``plt.contour``, ``plt.contourf``, and ``plt.imshow``—gives nearly limitless possibilities for displaying this sort of three-dimensional data within a two-dimensional plot.\n",
    "For more information on the options available in these functions, refer to their docstrings.\n",
    "If you are interested in three-dimensional visualizations of this type of data, see [Three-dimensional Plotting in Matplotlib](04.12-Three-Dimensional-Plotting.ipynb)."
   ]
  },
  {
   "cell_type": "markdown",
   "metadata": {
    "colab_type": "text",
    "id": "Y-C_w4xZ0U2G"
   },
   "source": [
    "# Histograms, Binnings, and Density"
   ]
  },
  {
   "cell_type": "markdown",
   "metadata": {
    "colab_type": "text",
    "id": "6vMugtnS0U2G"
   },
   "source": [
    "A simple histogram can be a great first step in understanding a dataset.\n",
    "Earlier, we saw a preview of Matplotlib's histogram function (see [Comparisons, Masks, and Boolean Logic](02.06-Boolean-Arrays-and-Masks.ipynb)), which creates a basic histogram in one line, once the normal boiler-plate imports are done:"
   ]
  },
  {
   "cell_type": "code",
   "execution_count": null,
   "metadata": {
    "colab": {},
    "colab_type": "code",
    "id": "ojCjBbF-0U2H"
   },
   "outputs": [],
   "source": [
    "%matplotlib inline\n",
    "import numpy as np\n",
    "import matplotlib.pyplot as plt\n",
    "plt.style.use('seaborn-white')\n",
    "\n",
    "data = np.random.randn(1000)"
   ]
  },
  {
   "cell_type": "code",
   "execution_count": null,
   "metadata": {
    "colab": {
     "base_uri": "https://localhost:8080/",
     "height": 273
    },
    "colab_type": "code",
    "collapsed": false,
    "id": "K_oqUj7K0U2I",
    "jupyter": {
     "outputs_hidden": false
    },
    "outputId": "d46aa15c-5d3f-4ab2-d533-cd0fa9e7764f"
   },
   "outputs": [],
   "source": []
  },
  {
   "cell_type": "markdown",
   "metadata": {
    "colab_type": "text",
    "id": "ZNMo4mBW0U2J"
   },
   "source": [
    "The ``hist()`` function has many options to tune both the calculation and the display; \n",
    "here's an example of a more customized histogram:"
   ]
  },
  {
   "cell_type": "code",
   "execution_count": 24,
   "metadata": {
    "colab": {
     "base_uri": "https://localhost:8080/",
     "height": 273
    },
    "colab_type": "code",
    "collapsed": false,
    "id": "-XxbzM6O0U2J",
    "jupyter": {
     "outputs_hidden": false
    },
    "outputId": "1b237d64-84b9-476d-82d7-461fa1ca6850"
   },
   "outputs": [
    {
     "data": {
      "text/plain": [
       "\"\\nplt.hist(data, bins=30, alpha=0.5,\\n         histtype='stepfilled', color='steelblue',\\n         edgecolor='none');\\n\""
      ]
     },
     "execution_count": 24,
     "metadata": {},
     "output_type": "execute_result"
    }
   ],
   "source": [
    "'''\n",
    "plt.hist(data, bins=30, alpha=0.5,\n",
    "         histtype='stepfilled', color='steelblue',\n",
    "         edgecolor='none');\n",
    "'''"
   ]
  },
  {
   "cell_type": "markdown",
   "metadata": {
    "colab_type": "text",
    "id": "cUfVoLz40U2K"
   },
   "source": [
    "The ``plt.hist`` docstring has more information on other customization options available.\n",
    "I find this combination of ``histtype='stepfilled'`` along with some transparency ``alpha`` to be very useful when comparing histograms of several distributions:"
   ]
  },
  {
   "cell_type": "code",
   "execution_count": 25,
   "metadata": {
    "colab": {
     "base_uri": "https://localhost:8080/",
     "height": 273
    },
    "colab_type": "code",
    "collapsed": false,
    "id": "Ufxj8fiF0U2K",
    "jupyter": {
     "outputs_hidden": false
    },
    "outputId": "686e3b04-8fe2-412f-e5b8-76f429686f45"
   },
   "outputs": [
    {
     "data": {
      "text/plain": [
       "\"\\nx1 = np.random.normal(0, 0.8, 1000)\\nx2 = np.random.normal(-2, 1, 1000)\\nx3 = np.random.normal(3, 2, 1000)\\n\\nkwargs = dict(histtype='stepfilled', alpha=0.3, bins=40)\\n\\nplt.hist(x1, **kwargs)\\nplt.hist(x2, **kwargs)\\nplt.hist(x3, **kwargs);\\n\\n\""
      ]
     },
     "execution_count": 25,
     "metadata": {},
     "output_type": "execute_result"
    }
   ],
   "source": [
    "'''\n",
    "x1 = np.random.normal(0, 0.8, 1000)\n",
    "x2 = np.random.normal(-2, 1, 1000)\n",
    "x3 = np.random.normal(3, 2, 1000)\n",
    "\n",
    "kwargs = dict(histtype='stepfilled', alpha=0.3, bins=40)\n",
    "\n",
    "plt.hist(x1, **kwargs)\n",
    "plt.hist(x2, **kwargs)\n",
    "plt.hist(x3, **kwargs);\n",
    "\n",
    "'''"
   ]
  },
  {
   "cell_type": "markdown",
   "metadata": {
    "colab_type": "text",
    "id": "3JWU7L-z0U2M"
   },
   "source": [
    "If you would like to simply compute the histogram (that is, count the number of points in a given bin) and not display it, the ``np.histogram()`` function is available:"
   ]
  },
  {
   "cell_type": "code",
   "execution_count": null,
   "metadata": {
    "colab": {},
    "colab_type": "code",
    "collapsed": false,
    "id": "ZFkGjxpT0U2M",
    "jupyter": {
     "outputs_hidden": false
    },
    "outputId": "f9d714a5-2db8-4270-c581-50da10791fc6"
   },
   "outputs": [
    {
     "name": "stdout",
     "output_type": "stream",
     "text": [
      "[ 12 190 468 301  29]\n"
     ]
    }
   ],
   "source": [
    "counts, bin_edges = np.histogram(data, bins=5)\n",
    "print(counts)"
   ]
  },
  {
   "cell_type": "markdown",
   "metadata": {
    "colab_type": "text",
    "id": "ShcOcBx60U2N"
   },
   "source": [
    "## Two-Dimensional Histograms and Binnings\n",
    "\n",
    "Just as we create histograms in one dimension by dividing the number-line into bins, we can also create histograms in two-dimensions by dividing points among two-dimensional bins.\n",
    "We'll take a brief look at several ways to do this here.\n",
    "We'll start by defining some data—an ``x`` and ``y`` array drawn from a multivariate Gaussian distribution:"
   ]
  },
  {
   "cell_type": "code",
   "execution_count": null,
   "metadata": {
    "colab": {},
    "colab_type": "code",
    "collapsed": false,
    "id": "C-QZ_iuW0U2N",
    "jupyter": {
     "outputs_hidden": false
    }
   },
   "outputs": [],
   "source": [
    "mean = [0, 0]\n",
    "cov = [[1, 1], [1, 2]]\n",
    "x, y = np.random.multivariate_normal(mean, cov, 10000).T"
   ]
  },
  {
   "cell_type": "markdown",
   "metadata": {
    "colab_type": "text",
    "id": "Q1VuQlMf0U2P"
   },
   "source": [
    "### ``plt.hist2d``: Two-dimensional histogram\n",
    "\n",
    "One straightforward way to plot a two-dimensional histogram is to use Matplotlib's ``plt.hist2d`` function:"
   ]
  },
  {
   "cell_type": "code",
   "execution_count": 26,
   "metadata": {
    "colab": {},
    "colab_type": "code",
    "collapsed": false,
    "id": "pbNv12zQ0U2P",
    "jupyter": {
     "outputs_hidden": false
    },
    "outputId": "8b08dea5-4430-40ab-f8be-e0e9716ba3cf"
   },
   "outputs": [
    {
     "data": {
      "text/plain": [
       "\"\\nplt.hist2d(x, y, bins=30, cmap='Blues')\\ncb = plt.colorbar()\\ncb.set_label('counts in bin')\\n\""
      ]
     },
     "execution_count": 26,
     "metadata": {},
     "output_type": "execute_result"
    }
   ],
   "source": [
    "'''\n",
    "plt.hist2d(x, y, bins=30, cmap='Blues')\n",
    "cb = plt.colorbar()\n",
    "cb.set_label('counts in bin')\n",
    "'''"
   ]
  },
  {
   "cell_type": "markdown",
   "metadata": {
    "colab_type": "text",
    "id": "7ViPYof40U2Q"
   },
   "source": [
    "Just as with ``plt.hist``, ``plt.hist2d`` has a number of extra options to fine-tune the plot and the binning, which are nicely outlined in the function docstring.\n",
    "Further, just as ``plt.hist`` has a counterpart in ``np.histogram``, ``plt.hist2d`` has a counterpart in ``np.histogram2d``, which can be used as follows:"
   ]
  },
  {
   "cell_type": "code",
   "execution_count": null,
   "metadata": {
    "colab": {},
    "colab_type": "code",
    "collapsed": false,
    "id": "BgiBlR7d0U2Q",
    "jupyter": {
     "outputs_hidden": false
    }
   },
   "outputs": [],
   "source": [
    "counts, xedges, yedges = np.histogram2d(x, y, bins=30)"
   ]
  },
  {
   "cell_type": "markdown",
   "metadata": {
    "colab_type": "text",
    "id": "O6pgLxpI0U2R"
   },
   "source": [
    "For the generalization of this histogram binning in dimensions higher than two, see the ``np.histogramdd`` function."
   ]
  },
  {
   "cell_type": "markdown",
   "metadata": {
    "colab_type": "text",
    "id": "_UbnczsI0U2T"
   },
   "source": [
    "### ``plt.hexbin``: Hexagonal binnings\n",
    "\n",
    "The two-dimensional histogram creates a tesselation of squares across the axes.\n",
    "Another natural shape for such a tesselation is the regular hexagon.\n",
    "For this purpose, Matplotlib provides the ``plt.hexbin`` routine, which will represents a two-dimensional dataset binned within a grid of hexagons:"
   ]
  },
  {
   "cell_type": "code",
   "execution_count": 27,
   "metadata": {
    "colab": {},
    "colab_type": "code",
    "collapsed": false,
    "id": "WpvIhfLO0U2T",
    "jupyter": {
     "outputs_hidden": false
    },
    "outputId": "f16a8c65-9ec5-46a4-a797-e32999272357"
   },
   "outputs": [],
   "source": [
    "# plt.hexbin(x, y, gridsize=30, cmap='Blues')\n",
    "# cb = plt.colorbar(label='count in bin')"
   ]
  },
  {
   "cell_type": "markdown",
   "metadata": {
    "colab_type": "text",
    "id": "O88qiHmH0U2U"
   },
   "source": [
    "``plt.hexbin`` has a number of interesting options, including the ability to specify weights for each point, and to change the output in each bin to any NumPy aggregate (mean of weights, standard deviation of weights, etc.)."
   ]
  },
  {
   "cell_type": "markdown",
   "metadata": {
    "colab_type": "text",
    "id": "9_7IknUo0U2U"
   },
   "source": [
    "### Kernel density estimation\n",
    "\n",
    "Another common method of evaluating densities in multiple dimensions is *kernel density estimation* (KDE).\n",
    "This will be discussed more fully in [In-Depth: Kernel Density Estimation](05.13-Kernel-Density-Estimation.ipynb), but for now we'll simply mention that KDE can be thought of as a way to \"smear out\" the points in space and add up the result to obtain a smooth function.\n",
    "One extremely quick and simple KDE implementation exists in the ``scipy.stats`` package.\n",
    "Here is a quick example of using the KDE on this data:"
   ]
  },
  {
   "cell_type": "code",
   "execution_count": 28,
   "metadata": {
    "colab": {},
    "colab_type": "code",
    "collapsed": false,
    "id": "wiVPxdPi0U2V",
    "jupyter": {
     "outputs_hidden": false
    },
    "outputId": "1269ab39-4592-4aad-9ee2-d3e36a40a495"
   },
   "outputs": [
    {
     "data": {
      "text/plain": [
       "'\\nfrom scipy.stats import gaussian_kde\\n\\n# fit an array of size [Ndim, Nsamples]\\ndata = np.vstack([x, y])\\nkde = gaussian_kde(data)\\n\\n# evaluate on a regular grid\\nxgrid = np.linspace(-3.5, 3.5, 40)\\nygrid = np.linspace(-6, 6, 40)\\nXgrid, Ygrid = np.meshgrid(xgrid, ygrid)\\nZ = kde.evaluate(np.vstack([Xgrid.ravel(), Ygrid.ravel()]))\\n\\n# Plot the result as an image\\nplt.imshow(Z.reshape(Xgrid.shape),\\n           origin=\\'lower\\', aspect=\\'auto\\',\\n           extent=[-3.5, 3.5, -6, 6],\\n           cmap=\\'Blues\\')\\ncb = plt.colorbar()\\ncb.set_label(\"density\")\\n\\n'"
      ]
     },
     "execution_count": 28,
     "metadata": {},
     "output_type": "execute_result"
    }
   ],
   "source": [
    "'''\n",
    "from scipy.stats import gaussian_kde\n",
    "\n",
    "# fit an array of size [Ndim, Nsamples]\n",
    "data = np.vstack([x, y])\n",
    "kde = gaussian_kde(data)\n",
    "\n",
    "# evaluate on a regular grid\n",
    "xgrid = np.linspace(-3.5, 3.5, 40)\n",
    "ygrid = np.linspace(-6, 6, 40)\n",
    "Xgrid, Ygrid = np.meshgrid(xgrid, ygrid)\n",
    "Z = kde.evaluate(np.vstack([Xgrid.ravel(), Ygrid.ravel()]))\n",
    "\n",
    "# Plot the result as an image\n",
    "plt.imshow(Z.reshape(Xgrid.shape),\n",
    "           origin='lower', aspect='auto',\n",
    "           extent=[-3.5, 3.5, -6, 6],\n",
    "           cmap='Blues')\n",
    "cb = plt.colorbar()\n",
    "cb.set_label(\"density\")\n",
    "\n",
    "'''"
   ]
  },
  {
   "cell_type": "markdown",
   "metadata": {
    "colab_type": "text",
    "id": "xa-lbM-H0U2W"
   },
   "source": [
    "KDE has a smoothing length that effectively slides the knob between detail and smoothness (one example of the ubiquitous bias–variance trade-off).\n",
    "The literature on choosing an appropriate smoothing length is vast: ``gaussian_kde`` uses a rule-of-thumb to attempt to find a nearly optimal smoothing length for the input data.\n",
    "\n",
    "Other KDE implementations are available within the SciPy ecosystem, each with its own strengths and weaknesses; see, for example, ``sklearn.neighbors.KernelDensity`` and ``statsmodels.nonparametric.kernel_density.KDEMultivariate``.\n",
    "For visualizations based on KDE, using Matplotlib tends to be overly verbose.\n",
    "The Seaborn library, discussed in [Visualization With Seaborn](04.14-Visualization-With-Seaborn.ipynb), provides a much more terse API for creating KDE-based visualizations."
   ]
  },
  {
   "cell_type": "markdown",
   "metadata": {
    "colab_type": "text",
    "id": "Q648Qm_q0U2W"
   },
   "source": [
    "# Customizing Plot Legends"
   ]
  },
  {
   "cell_type": "markdown",
   "metadata": {
    "colab_type": "text",
    "id": "xX688RPe0U2X"
   },
   "source": [
    "Plot legends give meaning to a visualization, assigning meaning to the various plot elements.\n",
    "We previously saw how to create a simple legend; here we'll take a look at customizing the placement and aesthetics of the legend in Matplotlib.\n",
    "\n",
    "The simplest legend can be created with the ``plt.legend()`` command, which automatically creates a legend for any labeled plot elements:"
   ]
  },
  {
   "cell_type": "code",
   "execution_count": null,
   "metadata": {
    "colab": {},
    "colab_type": "code",
    "id": "Kik_GQwd0U2X"
   },
   "outputs": [],
   "source": [
    "import matplotlib.pyplot as plt\n",
    "plt.style.use('classic')"
   ]
  },
  {
   "cell_type": "code",
   "execution_count": null,
   "metadata": {
    "colab": {},
    "colab_type": "code",
    "id": "IvQ_aowG0U2Y"
   },
   "outputs": [],
   "source": [
    "%matplotlib inline\n",
    "import numpy as np"
   ]
  },
  {
   "cell_type": "code",
   "execution_count": 29,
   "metadata": {
    "colab": {
     "base_uri": "https://localhost:8080/",
     "height": 268
    },
    "colab_type": "code",
    "collapsed": false,
    "id": "mPjnWdUM0U2Z",
    "jupyter": {
     "outputs_hidden": false
    },
    "outputId": "b80211a8-92d8-4c6e-beea-a9698bef5844"
   },
   "outputs": [
    {
     "data": {
      "text/plain": [
       "\"\\nx = np.linspace(0, 10, 1000)\\nfig, ax = plt.subplots()\\nax.plot(x, np.sin(x), '-b', label='Sine')\\nax.plot(x, np.cos(x), '--r', label='Cosine')\\nax.axis('equal')\\nleg = ax.legend();\\n\""
      ]
     },
     "execution_count": 29,
     "metadata": {},
     "output_type": "execute_result"
    }
   ],
   "source": [
    "'''\n",
    "x = np.linspace(0, 10, 1000)\n",
    "fig, ax = plt.subplots()\n",
    "ax.plot(x, np.sin(x), '-b', label='Sine')\n",
    "ax.plot(x, np.cos(x), '--r', label='Cosine')\n",
    "ax.axis('equal')\n",
    "leg = ax.legend();\n",
    "'''"
   ]
  },
  {
   "cell_type": "markdown",
   "metadata": {
    "colab_type": "text",
    "id": "gAs5e9SA0U2a"
   },
   "source": [
    "But there are many ways we might want to customize such a legend.\n",
    "For example, we can specify the location and turn off the frame:"
   ]
  },
  {
   "cell_type": "code",
   "execution_count": 30,
   "metadata": {
    "colab": {
     "base_uri": "https://localhost:8080/",
     "height": 268
    },
    "colab_type": "code",
    "collapsed": false,
    "id": "gyX0AufM0U2b",
    "jupyter": {
     "outputs_hidden": false
    },
    "outputId": "3b5ca107-8fa6-4183-9f0f-9da36f889209"
   },
   "outputs": [],
   "source": [
    "# ax.legend(loc='upper left', frameon=False)\n",
    "# fig"
   ]
  },
  {
   "cell_type": "markdown",
   "metadata": {
    "colab_type": "text",
    "id": "s4S-N1aB0U2c"
   },
   "source": [
    "We can use the ``ncol`` command to specify the number of columns in the legend:"
   ]
  },
  {
   "cell_type": "code",
   "execution_count": 31,
   "metadata": {
    "colab": {},
    "colab_type": "code",
    "collapsed": false,
    "id": "PS-1j09z0U2c",
    "jupyter": {
     "outputs_hidden": false
    },
    "outputId": "ec4a3ca3-85b3-45c1-9aee-462c258e3873"
   },
   "outputs": [],
   "source": [
    "# ax.legend(frameon=False, loc='lower center', ncol=2)\n",
    "# fig"
   ]
  },
  {
   "cell_type": "markdown",
   "metadata": {
    "colab_type": "text",
    "id": "sDPXS3oO0U2d"
   },
   "source": [
    "We can use a rounded box (``fancybox``) or add a shadow, change the transparency (alpha value) of the frame, or change the padding around the text:"
   ]
  },
  {
   "cell_type": "code",
   "execution_count": 32,
   "metadata": {
    "colab": {},
    "colab_type": "code",
    "collapsed": false,
    "id": "4dUGA9NR0U2e",
    "jupyter": {
     "outputs_hidden": false
    },
    "outputId": "aa34b11c-4043-42d8-ac90-898911889057"
   },
   "outputs": [],
   "source": [
    "# ax.legend(fancybox=True, framealpha=1, shadow=True, borderpad=1)\n",
    "# fig"
   ]
  },
  {
   "cell_type": "markdown",
   "metadata": {
    "colab_type": "text",
    "id": "cMqkARsE0U2h"
   },
   "source": [
    "For more information on available legend options, see the ``plt.legend`` docstring."
   ]
  },
  {
   "cell_type": "markdown",
   "metadata": {
    "colab_type": "text",
    "id": "IBt9gErE0U2i"
   },
   "source": [
    "## Choosing Elements for the Legend\n",
    "\n",
    "As we have already seen, the legend includes all labeled elements by default.\n",
    "If this is not what is desired, we can fine-tune which elements and labels appear in the legend by using the objects returned by plot commands.\n",
    "The ``plt.plot()`` command is able to create multiple lines at once, and returns a list of created line instances.\n",
    "Passing any of these to ``plt.legend()`` will tell it which to identify, along with the labels we'd like to specify:"
   ]
  },
  {
   "cell_type": "code",
   "execution_count": 33,
   "metadata": {
    "colab": {},
    "colab_type": "code",
    "collapsed": false,
    "id": "cFf7akaQ0U2i",
    "jupyter": {
     "outputs_hidden": false
    },
    "outputId": "a935ff8e-a716-4a04-a2b4-73a34b06ba2b"
   },
   "outputs": [
    {
     "data": {
      "text/plain": [
       "\"\\ny = np.sin(x[:, np.newaxis] + np.pi * np.arange(0, 2, 0.5))\\nlines = plt.plot(x, y)\\n\\n# lines is a list of plt.Line2D instances\\nplt.legend(lines[:2], ['first', 'second']);\\n\""
      ]
     },
     "execution_count": 33,
     "metadata": {},
     "output_type": "execute_result"
    }
   ],
   "source": [
    "'''\n",
    "y = np.sin(x[:, np.newaxis] + np.pi * np.arange(0, 2, 0.5))\n",
    "lines = plt.plot(x, y)\n",
    "\n",
    "# lines is a list of plt.Line2D instances\n",
    "plt.legend(lines[:2], ['first', 'second']);\n",
    "'''"
   ]
  },
  {
   "cell_type": "markdown",
   "metadata": {
    "colab_type": "text",
    "id": "H9Z2_yZZ0U2j"
   },
   "source": [
    "I generally find in practice that it is clearer to use the first method, applying labels to the plot elements you'd like to show on the legend:"
   ]
  },
  {
   "cell_type": "code",
   "execution_count": 34,
   "metadata": {
    "colab": {},
    "colab_type": "code",
    "collapsed": false,
    "id": "G1aF-sHQ0U2j",
    "jupyter": {
     "outputs_hidden": false
    },
    "outputId": "ed842da1-4f09-41d0-cd15-5c8e75634f1d"
   },
   "outputs": [
    {
     "data": {
      "text/plain": [
       "\"\\nplt.plot(x, y[:, 0], label='first')\\nplt.plot(x, y[:, 1], label='second')\\nplt.plot(x, y[:, 2:])\\nplt.legend(framealpha=1, frameon=True);\\n\""
      ]
     },
     "execution_count": 34,
     "metadata": {},
     "output_type": "execute_result"
    }
   ],
   "source": [
    "'''\n",
    "plt.plot(x, y[:, 0], label='first')\n",
    "plt.plot(x, y[:, 1], label='second')\n",
    "plt.plot(x, y[:, 2:])\n",
    "plt.legend(framealpha=1, frameon=True);\n",
    "'''"
   ]
  },
  {
   "cell_type": "markdown",
   "metadata": {
    "colab_type": "text",
    "id": "i4t-02uQ0U2l"
   },
   "source": [
    "Notice that by default, the legend ignores all elements without a ``label`` attribute set."
   ]
  },
  {
   "cell_type": "markdown",
   "metadata": {
    "colab_type": "text",
    "id": "9uELEdB40U2l"
   },
   "source": [
    "## Legend for Size of Points\n",
    "\n",
    "Sometimes the legend defaults are not sufficient for the given visualization.\n",
    "For example, perhaps you're be using the size of points to mark certain features of the data, and want to create a legend reflecting this.\n",
    "Here is an example where we'll use the size of points to indicate populations of California cities.\n",
    "We'd like a legend that specifies the scale of the sizes of the points, and we'll accomplish this by plotting some labeled data with no entries:"
   ]
  },
  {
   "cell_type": "code",
   "execution_count": 35,
   "metadata": {
    "colab": {},
    "colab_type": "code",
    "collapsed": false,
    "id": "dujA6_SW0U2l",
    "jupyter": {
     "outputs_hidden": false
    },
    "outputId": "27c62075-58f3-45d0-be45-c95cac306296"
   },
   "outputs": [
    {
     "data": {
      "text/plain": [
       "\"\\nimport pandas as pd\\ncities = pd.read_csv('california_cities.csv')\\n\\n# Extract the data we're interested in\\nlat, lon = cities['latd'], cities['longd']\\npopulation, area = cities['population_total'], cities['area_total_km2']\\n\\n# Scatter the points, using size and color but no label\\nplt.scatter(lon, lat, label=None,\\n            c=np.log10(population), cmap='viridis',\\n            s=area, linewidth=0, alpha=0.5)\\nplt.axis(aspect='equal')\\nplt.xlabel('longitude')\\nplt.ylabel('latitude')\\nplt.colorbar(label='log$_{10}$(population)')\\nplt.clim(3, 7)\\n\\n# Here we create a legend:\\n# we'll plot empty lists with the desired size and label\\nfor area in [100, 300, 500]:\\n    plt.scatter([], [], c='k', alpha=0.3, s=area,\\n                label=str(area) + ' km$^2$')\\nplt.legend(scatterpoints=1, frameon=False, labelspacing=1, title='City Area')\\n\\nplt.title('California Cities: Area and Population');\\n\\n\""
      ]
     },
     "execution_count": 35,
     "metadata": {},
     "output_type": "execute_result"
    }
   ],
   "source": [
    "'''\n",
    "import pandas as pd\n",
    "cities = pd.read_csv('california_cities.csv')\n",
    "\n",
    "# Extract the data we're interested in\n",
    "lat, lon = cities['latd'], cities['longd']\n",
    "population, area = cities['population_total'], cities['area_total_km2']\n",
    "\n",
    "# Scatter the points, using size and color but no label\n",
    "plt.scatter(lon, lat, label=None,\n",
    "            c=np.log10(population), cmap='viridis',\n",
    "            s=area, linewidth=0, alpha=0.5)\n",
    "plt.axis(aspect='equal')\n",
    "plt.xlabel('longitude')\n",
    "plt.ylabel('latitude')\n",
    "plt.colorbar(label='log$_{10}$(population)')\n",
    "plt.clim(3, 7)\n",
    "\n",
    "# Here we create a legend:\n",
    "# we'll plot empty lists with the desired size and label\n",
    "for area in [100, 300, 500]:\n",
    "    plt.scatter([], [], c='k', alpha=0.3, s=area,\n",
    "                label=str(area) + ' km$^2$')\n",
    "plt.legend(scatterpoints=1, frameon=False, labelspacing=1, title='City Area')\n",
    "\n",
    "plt.title('California Cities: Area and Population');\n",
    "\n",
    "'''"
   ]
  },
  {
   "cell_type": "markdown",
   "metadata": {
    "colab_type": "text",
    "id": "Tt6nwXME0U2m"
   },
   "source": [
    "The legend will always reference some object that is on the plot, so if we'd like to display a particular shape we need to plot it.\n",
    "In this case, the objects we want (gray circles) are not on the plot, so we fake them by plotting empty lists.\n",
    "Notice too that the legend only lists plot elements that have a label specified.\n",
    "\n",
    "By plotting empty lists, we create labeled plot objects which are picked up by the legend, and now our legend tells us some useful information.\n",
    "This strategy can be useful for creating more sophisticated visualizations.\n",
    "\n",
    "Finally, note that for geographic data like this, it would be clearer if we could show state boundaries or other map-specific elements.\n",
    "For this, an excellent choice of tool is Matplotlib's Basemap addon toolkit, which we'll explore in [Geographic Data with Basemap](04.13-Geographic-Data-With-Basemap.ipynb)."
   ]
  },
  {
   "cell_type": "markdown",
   "metadata": {
    "colab_type": "text",
    "id": "MkEbdogU0U2n"
   },
   "source": [
    "## Multiple Legends\n",
    "\n",
    "Sometimes when designing a plot you'd like to add multiple legends to the same axes.\n",
    "Unfortunately, Matplotlib does not make this easy: via the standard ``legend`` interface, it is only possible to create a single legend for the entire plot.\n",
    "If you try to create a second legend using ``plt.legend()`` or ``ax.legend()``, it will simply override the first one.\n",
    "We can work around this by creating a new legend artist from scratch, and then using the lower-level ``ax.add_artist()`` method to manually add the second artist to the plot:"
   ]
  },
  {
   "cell_type": "code",
   "execution_count": 36,
   "metadata": {
    "colab": {},
    "colab_type": "code",
    "collapsed": false,
    "id": "-Wnn7o0N0U2n",
    "jupyter": {
     "outputs_hidden": false
    },
    "outputId": "5d0f3743-0b2c-4f6b-e75d-1442f21189d5"
   },
   "outputs": [
    {
     "data": {
      "text/plain": [
       "\"\\nfig, ax = plt.subplots()\\n\\nlines = []\\nstyles = ['-', '--', '-.', ':']\\nx = np.linspace(0, 10, 1000)\\n\\nfor i in range(4):\\n    lines += ax.plot(x, np.sin(x - i * np.pi / 2),\\n                     styles[i], color='black')\\nax.axis('equal')\\n\\n# specify the lines and labels of the first legend\\nax.legend(lines[:2], ['line A', 'line B'],\\n          loc='upper right', frameon=False)\\n\\n# Create the second legend and add the artist manually.\\nfrom matplotlib.legend import Legend\\nleg = Legend(ax, lines[2:], ['line C', 'line D'],\\n             loc='lower right', frameon=False)\\nax.add_artist(leg);\\n\""
      ]
     },
     "execution_count": 36,
     "metadata": {},
     "output_type": "execute_result"
    }
   ],
   "source": [
    "'''\n",
    "fig, ax = plt.subplots()\n",
    "\n",
    "lines = []\n",
    "styles = ['-', '--', '-.', ':']\n",
    "x = np.linspace(0, 10, 1000)\n",
    "\n",
    "for i in range(4):\n",
    "    lines += ax.plot(x, np.sin(x - i * np.pi / 2),\n",
    "                     styles[i], color='black')\n",
    "ax.axis('equal')\n",
    "\n",
    "# specify the lines and labels of the first legend\n",
    "ax.legend(lines[:2], ['line A', 'line B'],\n",
    "          loc='upper right', frameon=False)\n",
    "\n",
    "# Create the second legend and add the artist manually.\n",
    "from matplotlib.legend import Legend\n",
    "leg = Legend(ax, lines[2:], ['line C', 'line D'],\n",
    "             loc='lower right', frameon=False)\n",
    "ax.add_artist(leg);\n",
    "'''"
   ]
  },
  {
   "cell_type": "markdown",
   "metadata": {
    "colab_type": "text",
    "id": "AkziVio50U2o"
   },
   "source": [
    "This is a peek into the low-level artist objects that comprise any Matplotlib plot.\n",
    "If you examine the source code of ``ax.legend()`` (recall that you can do this with within the IPython notebook using ``ax.legend??``) you'll see that the function simply consists of some logic to create a suitable ``Legend`` artist, which is then saved in the ``legend_`` attribute and added to the figure when the plot is drawn."
   ]
  },
  {
   "cell_type": "markdown",
   "metadata": {
    "colab_type": "text",
    "id": "tNO9q6X00U2o"
   },
   "source": [
    "# Customizing Colorbars"
   ]
  },
  {
   "cell_type": "markdown",
   "metadata": {
    "colab_type": "text",
    "id": "z0BoOXQ50U2o"
   },
   "source": [
    "Plot legends identify discrete labels of discrete points.\n",
    "For continuous labels based on the color of points, lines, or regions, a labeled colorbar can be a great tool.\n",
    "In Matplotlib, a colorbar is a separate axes that can provide a key for the meaning of colors in a plot.\n",
    "Because the book is printed in black-and-white, this section has an accompanying online supplement where you can view the figures in full color (https://github.com/jakevdp/PythonDataScienceHandbook).\n",
    "We'll start by setting up the notebook for plotting and importing the functions we will use:"
   ]
  },
  {
   "cell_type": "code",
   "execution_count": null,
   "metadata": {
    "colab": {},
    "colab_type": "code",
    "collapsed": true,
    "id": "5q_RsDoB0U2o",
    "jupyter": {
     "outputs_hidden": true
    }
   },
   "outputs": [],
   "source": [
    "import matplotlib.pyplot as plt\n",
    "plt.style.use('classic')"
   ]
  },
  {
   "cell_type": "code",
   "execution_count": null,
   "metadata": {
    "colab": {},
    "colab_type": "code",
    "collapsed": false,
    "id": "lElhHPA00U2p",
    "jupyter": {
     "outputs_hidden": false
    }
   },
   "outputs": [],
   "source": [
    "%matplotlib inline\n",
    "import numpy as np"
   ]
  },
  {
   "cell_type": "markdown",
   "metadata": {
    "colab_type": "text",
    "id": "Kcp_6X-N0U2q"
   },
   "source": [
    "As we have seen several times throughout this section, the simplest colorbar can be created with the ``plt.colorbar`` function:"
   ]
  },
  {
   "cell_type": "code",
   "execution_count": 37,
   "metadata": {
    "colab": {
     "base_uri": "https://localhost:8080/",
     "height": 273
    },
    "colab_type": "code",
    "collapsed": false,
    "id": "suIU6Kl80U2q",
    "jupyter": {
     "outputs_hidden": false
    },
    "outputId": "bfcafd98-cec0-467e-a418-69f0b126ba96"
   },
   "outputs": [
    {
     "data": {
      "text/plain": [
       "'\\nx = np.linspace(0, 10, 1000)\\nI = np.sin(x) * np.cos(x[:, np.newaxis])\\n\\nplt.imshow(I)\\nplt.colorbar();\\n'"
      ]
     },
     "execution_count": 37,
     "metadata": {},
     "output_type": "execute_result"
    }
   ],
   "source": [
    "'''\n",
    "x = np.linspace(0, 10, 1000)\n",
    "I = np.sin(x) * np.cos(x[:, np.newaxis])\n",
    "\n",
    "plt.imshow(I)\n",
    "plt.colorbar();\n",
    "'''"
   ]
  },
  {
   "cell_type": "markdown",
   "metadata": {
    "colab_type": "text",
    "id": "rLSnPjtI0U2s"
   },
   "source": [
    "We'll now discuss a few ideas for customizing these colorbars and using them effectively in various situations."
   ]
  },
  {
   "cell_type": "markdown",
   "metadata": {
    "colab_type": "text",
    "id": "uixheuV60U2s"
   },
   "source": [
    "## Customizing Colorbars\n",
    "\n",
    "The colormap can be specified using the ``cmap`` argument to the plotting function that is creating the visualization:"
   ]
  },
  {
   "cell_type": "code",
   "execution_count": null,
   "metadata": {
    "colab": {},
    "colab_type": "code",
    "collapsed": false,
    "id": "J8De9uJL0U2s",
    "jupyter": {
     "outputs_hidden": false
    },
    "outputId": "53080b92-7228-434e-caca-24f7774cee71"
   },
   "outputs": [],
   "source": []
  },
  {
   "cell_type": "markdown",
   "metadata": {
    "colab_type": "text",
    "id": "sOzsmaid0U2t"
   },
   "source": [
    "All the available colormaps are in the ``plt.cm`` namespace; using IPython's tab-completion will give you a full list of built-in possibilities:\n",
    "```\n",
    "plt.cm.<TAB>\n",
    "```\n",
    "But being *able* to choose a colormap is just the first step: more important is how to *decide* among the possibilities!\n",
    "The choice turns out to be much more subtle than you might initially expect."
   ]
  },
  {
   "cell_type": "markdown",
   "metadata": {
    "colab_type": "text",
    "id": "WHv5IvR80U2u"
   },
   "source": [
    "### Choosing the Colormap\n",
    "\n",
    "A full treatment of color choice within visualization is beyond the scope of this book, but for entertaining reading on this subject and others, see the article [\"Ten Simple Rules for Better Figures\"](http://journals.plos.org/ploscompbiol/article?id=10.1371/journal.pcbi.1003833).\n",
    "Matplotlib's online documentation also has an [interesting discussion](http://Matplotlib.org/1.4.1/users/colormaps.html) of colormap choice.\n",
    "\n",
    "Broadly, you should be aware of three different categories of colormaps:\n",
    "\n",
    "- *Sequential colormaps*: These are made up of one continuous sequence of colors (e.g., ``binary`` or ``viridis``).\n",
    "- *Divergent colormaps*: These usually contain two distinct colors, which show positive and negative deviations from a mean (e.g., ``RdBu`` or ``PuOr``).\n",
    "- *Qualitative colormaps*: these mix colors with no particular sequence (e.g., ``rainbow`` or ``jet``).\n",
    "\n",
    "The ``jet`` colormap, which was the default in Matplotlib prior to version 2.0, is an example of a qualitative colormap.\n",
    "Its status as the default was quite unfortunate, because qualitative maps are often a poor choice for representing quantitative data.\n",
    "Among the problems is the fact that qualitative maps usually do not display any uniform progression in brightness as the scale increases.\n",
    "\n",
    "We can see this by converting the ``jet`` colorbar into black and white:"
   ]
  },
  {
   "cell_type": "code",
   "execution_count": 38,
   "metadata": {
    "colab": {},
    "colab_type": "code",
    "collapsed": false,
    "id": "gawXfh4W0U2u",
    "jupyter": {
     "outputs_hidden": false
    }
   },
   "outputs": [
    {
     "data": {
      "text/plain": [
       "'\\nfrom matplotlib.colors import LinearSegmentedColormap\\n\\ndef grayscale_cmap(cmap):\\n    \"\"\"Return a grayscale version of the given colormap\"\"\"\\n    cmap = plt.cm.get_cmap(cmap)\\n    colors = cmap(np.arange(cmap.N))\\n    \\n    # convert RGBA to perceived grayscale luminance\\n    # cf. http://alienryderflex.com/hsp.html\\n    RGB_weight = [0.299, 0.587, 0.114]\\n    luminance = np.sqrt(np.dot(colors[:, :3] ** 2, RGB_weight))\\n    colors[:, :3] = luminance[:, np.newaxis]\\n        \\n    return LinearSegmentedColormap.from_list(cmap.name + \"_gray\", colors, cmap.N)\\n    \\n\\ndef view_colormap(cmap):\\n    \"\"\"Plot a colormap with its grayscale equivalent\"\"\"\\n    cmap = plt.cm.get_cmap(cmap)\\n    colors = cmap(np.arange(cmap.N))\\n    \\n    cmap = grayscale_cmap(cmap)\\n    grayscale = cmap(np.arange(cmap.N))\\n    \\n    fig, ax = plt.subplots(2, figsize=(6, 2),\\n                           subplot_kw=dict(xticks=[], yticks=[]))\\n    ax[0].imshow([colors], extent=[0, 10, 0, 1])\\n    ax[1].imshow([grayscale], extent=[0, 10, 0, 1])\\n    \\n'"
      ]
     },
     "execution_count": 38,
     "metadata": {},
     "output_type": "execute_result"
    }
   ],
   "source": [
    "'''\n",
    "from matplotlib.colors import LinearSegmentedColormap\n",
    "\n",
    "def grayscale_cmap(cmap):\n",
    "    \"\"\"Return a grayscale version of the given colormap\"\"\"\n",
    "    cmap = plt.cm.get_cmap(cmap)\n",
    "    colors = cmap(np.arange(cmap.N))\n",
    "    \n",
    "    # convert RGBA to perceived grayscale luminance\n",
    "    # cf. http://alienryderflex.com/hsp.html\n",
    "    RGB_weight = [0.299, 0.587, 0.114]\n",
    "    luminance = np.sqrt(np.dot(colors[:, :3] ** 2, RGB_weight))\n",
    "    colors[:, :3] = luminance[:, np.newaxis]\n",
    "        \n",
    "    return LinearSegmentedColormap.from_list(cmap.name + \"_gray\", colors, cmap.N)\n",
    "    \n",
    "\n",
    "def view_colormap(cmap):\n",
    "    \"\"\"Plot a colormap with its grayscale equivalent\"\"\"\n",
    "    cmap = plt.cm.get_cmap(cmap)\n",
    "    colors = cmap(np.arange(cmap.N))\n",
    "    \n",
    "    cmap = grayscale_cmap(cmap)\n",
    "    grayscale = cmap(np.arange(cmap.N))\n",
    "    \n",
    "    fig, ax = plt.subplots(2, figsize=(6, 2),\n",
    "                           subplot_kw=dict(xticks=[], yticks=[]))\n",
    "    ax[0].imshow([colors], extent=[0, 10, 0, 1])\n",
    "    ax[1].imshow([grayscale], extent=[0, 10, 0, 1])\n",
    "    \n",
    "'''"
   ]
  },
  {
   "cell_type": "code",
   "execution_count": 39,
   "metadata": {
    "colab": {},
    "colab_type": "code",
    "collapsed": false,
    "id": "3-jvGUq10U2v",
    "jupyter": {
     "outputs_hidden": false
    },
    "outputId": "e5ac962b-e80c-43a9-8429-3127dff72b9d"
   },
   "outputs": [],
   "source": [
    "# view_colormap('jet')"
   ]
  },
  {
   "cell_type": "markdown",
   "metadata": {
    "colab_type": "text",
    "id": "W5ghvHbx0U2w"
   },
   "source": [
    "Notice the bright stripes in the grayscale image.\n",
    "Even in full color, this uneven brightness means that the eye will be drawn to certain portions of the color range, which will potentially emphasize unimportant parts of the dataset.\n",
    "It's better to use a colormap such as ``viridis`` (the default as of Matplotlib 2.0), which is specifically constructed to have an even brightness variation across the range.\n",
    "Thus it not only plays well with our color perception, but also will translate well to grayscale printing:"
   ]
  },
  {
   "cell_type": "code",
   "execution_count": 40,
   "metadata": {
    "colab": {},
    "colab_type": "code",
    "collapsed": false,
    "id": "Mw4wslKA0U2y",
    "jupyter": {
     "outputs_hidden": false
    },
    "outputId": "940578c4-dcf9-475f-9d85-8ba159d2dca8"
   },
   "outputs": [],
   "source": [
    "# view_colormap('viridis')"
   ]
  },
  {
   "cell_type": "markdown",
   "metadata": {
    "colab_type": "text",
    "id": "PAGnYA4U0U2z"
   },
   "source": [
    "If you favor rainbow schemes, another good option for continuous data is the ``cubehelix`` colormap:"
   ]
  },
  {
   "cell_type": "code",
   "execution_count": 41,
   "metadata": {
    "colab": {},
    "colab_type": "code",
    "collapsed": false,
    "id": "JTm0sjKr0U2z",
    "jupyter": {
     "outputs_hidden": false
    },
    "outputId": "bf5615bc-2d60-4b67-ec2c-90a06f5e5c80"
   },
   "outputs": [],
   "source": [
    "# view_colormap('cubehelix')"
   ]
  },
  {
   "cell_type": "markdown",
   "metadata": {
    "colab_type": "text",
    "id": "G_-Qy9I60U20"
   },
   "source": [
    "For other situations, such as showing positive and negative deviations from some mean, dual-color colorbars such as ``RdBu`` (*Red-Blue*) can be useful. However, as you can see in the following figure, it's important to note that the positive-negative information will be lost upon translation to grayscale!"
   ]
  },
  {
   "cell_type": "code",
   "execution_count": 42,
   "metadata": {
    "colab": {},
    "colab_type": "code",
    "collapsed": false,
    "id": "HYvgy1to0U20",
    "jupyter": {
     "outputs_hidden": false
    },
    "outputId": "182e3925-41dd-48ae-e036-88d9a12dbd38"
   },
   "outputs": [],
   "source": [
    "# view_colormap('RdBu')"
   ]
  },
  {
   "cell_type": "markdown",
   "metadata": {
    "colab_type": "text",
    "id": "DJ1BD5s80U21"
   },
   "source": [
    "We'll see examples of using some of these color maps as we continue.\n",
    "\n",
    "There are a large number of colormaps available in Matplotlib; to see a list of them, you can use IPython to explore the ``plt.cm`` submodule. For a more principled approach to colors in Python, you can refer to the tools and documentation within the Seaborn library (see [Visualization With Seaborn](04.14-Visualization-With-Seaborn.ipynb))."
   ]
  },
  {
   "cell_type": "markdown",
   "metadata": {
    "colab_type": "text",
    "id": "jqp_CWQi0U22"
   },
   "source": [
    "### Color limits and extensions\n",
    "\n",
    "Matplotlib allows for a large range of colorbar customization.\n",
    "The colorbar itself is simply an instance of ``plt.Axes``, so all of the axes and tick formatting tricks we've learned are applicable.\n",
    "The colorbar has some interesting flexibility: for example, we can narrow the color limits and indicate the out-of-bounds values with a triangular arrow at the top and bottom by setting the ``extend`` property.\n",
    "This might come in handy, for example, if displaying an image that is subject to noise:"
   ]
  },
  {
   "cell_type": "code",
   "execution_count": 43,
   "metadata": {
    "colab": {},
    "colab_type": "code",
    "collapsed": false,
    "id": "lM98AdWZ0U22",
    "jupyter": {
     "outputs_hidden": false
    },
    "outputId": "b707a051-352e-48b0-cdfc-ab65e38e44ce"
   },
   "outputs": [
    {
     "data": {
      "text/plain": [
       "\"\\n# make noise in 1% of the image pixels\\nspeckles = (np.random.random(I.shape) < 0.01)\\nI[speckles] = np.random.normal(0, 3, np.count_nonzero(speckles))\\n\\nplt.figure(figsize=(10, 3.5))\\n\\nplt.subplot(1, 2, 1)\\nplt.imshow(I, cmap='RdBu')\\nplt.colorbar()\\n\\nplt.subplot(1, 2, 2)\\nplt.imshow(I, cmap='RdBu')\\nplt.colorbar(extend='both')\\nplt.clim(-1, 1);\\n\\n\""
      ]
     },
     "execution_count": 43,
     "metadata": {},
     "output_type": "execute_result"
    }
   ],
   "source": [
    "'''\n",
    "# make noise in 1% of the image pixels\n",
    "speckles = (np.random.random(I.shape) < 0.01)\n",
    "I[speckles] = np.random.normal(0, 3, np.count_nonzero(speckles))\n",
    "\n",
    "plt.figure(figsize=(10, 3.5))\n",
    "\n",
    "plt.subplot(1, 2, 1)\n",
    "plt.imshow(I, cmap='RdBu')\n",
    "plt.colorbar()\n",
    "\n",
    "plt.subplot(1, 2, 2)\n",
    "plt.imshow(I, cmap='RdBu')\n",
    "plt.colorbar(extend='both')\n",
    "plt.clim(-1, 1);\n",
    "\n",
    "'''"
   ]
  },
  {
   "cell_type": "markdown",
   "metadata": {
    "colab_type": "text",
    "id": "MIZ9v7AZ0U23"
   },
   "source": [
    "Notice that in the left panel, the default color limits respond to the noisy pixels, and the range of the noise completely washes-out the pattern we are interested in.\n",
    "In the right panel, we manually set the color limits, and add extensions to indicate values which are above or below those limits.\n",
    "The result is a much more useful visualization of our data."
   ]
  },
  {
   "cell_type": "markdown",
   "metadata": {
    "colab_type": "text",
    "id": "dPYOALV-0U23"
   },
   "source": [
    "### Discrete Color Bars\n",
    "\n",
    "Colormaps are by default continuous, but sometimes you'd like to represent discrete values.\n",
    "The easiest way to do this is to use the ``plt.cm.get_cmap()`` function, and pass the name of a suitable colormap along with the number of desired bins:"
   ]
  },
  {
   "cell_type": "code",
   "execution_count": 44,
   "metadata": {
    "colab": {},
    "colab_type": "code",
    "collapsed": false,
    "id": "OnlEr7zl0U23",
    "jupyter": {
     "outputs_hidden": false
    },
    "outputId": "66e3c048-09f7-41e1-8697-57db36a8207e"
   },
   "outputs": [
    {
     "data": {
      "text/plain": [
       "\"\\nplt.imshow(I, cmap=plt.cm.get_cmap('Blues', 6))\\nplt.colorbar()\\nplt.clim(-1, 1);\\n\""
      ]
     },
     "execution_count": 44,
     "metadata": {},
     "output_type": "execute_result"
    }
   ],
   "source": [
    "'''\n",
    "plt.imshow(I, cmap=plt.cm.get_cmap('Blues', 6))\n",
    "plt.colorbar()\n",
    "plt.clim(-1, 1);\n",
    "'''"
   ]
  },
  {
   "cell_type": "markdown",
   "metadata": {
    "colab_type": "text",
    "id": "Tg0KAMKa0U24"
   },
   "source": [
    "The discrete version of a colormap can be used just like any other colormap."
   ]
  },
  {
   "cell_type": "markdown",
   "metadata": {
    "colab_type": "text",
    "id": "TATX3Xy50U24"
   },
   "source": [
    "## Example: Handwritten Digits\n",
    "\n",
    "For an example of where this might be useful, let's look at an interesting visualization of some hand written digits data.\n",
    "This data is included in Scikit-Learn, and consists of nearly 2,000 $8 \\times 8$ thumbnails showing various hand-written digits.\n",
    "\n",
    "For now, let's start by downloading the digits data and visualizing several of the example images with ``plt.imshow()``:"
   ]
  },
  {
   "cell_type": "code",
   "execution_count": 45,
   "metadata": {
    "colab": {},
    "colab_type": "code",
    "collapsed": false,
    "id": "Z2vJMN7-0U24",
    "jupyter": {
     "outputs_hidden": false
    },
    "outputId": "da7b16f4-ba37-46bc-bbfc-a0765ee201cc"
   },
   "outputs": [
    {
     "data": {
      "text/plain": [
       "\"\\n# load images of the digits 0 through 5 and visualize several of them\\nfrom sklearn.datasets import load_digits\\ndigits = load_digits(n_class=6)\\n\\nfig, ax = plt.subplots(8, 8, figsize=(6, 6))\\nfor i, axi in enumerate(ax.flat):\\n    axi.imshow(digits.images[i], cmap='binary')\\n    axi.set(xticks=[], yticks=[])\\n\""
      ]
     },
     "execution_count": 45,
     "metadata": {},
     "output_type": "execute_result"
    }
   ],
   "source": [
    "'''\n",
    "# load images of the digits 0 through 5 and visualize several of them\n",
    "from sklearn.datasets import load_digits\n",
    "digits = load_digits(n_class=6)\n",
    "\n",
    "fig, ax = plt.subplots(8, 8, figsize=(6, 6))\n",
    "for i, axi in enumerate(ax.flat):\n",
    "    axi.imshow(digits.images[i], cmap='binary')\n",
    "    axi.set(xticks=[], yticks=[])\n",
    "'''"
   ]
  },
  {
   "cell_type": "markdown",
   "metadata": {
    "colab_type": "text",
    "id": "F37tcLaJ0U25"
   },
   "source": [
    "Because each digit is defined by the hue of its 64 pixels, we can consider each digit to be a point lying in 64-dimensional space: each dimension represents the brightness of one pixel.\n",
    "But visualizing relationships in such high-dimensional spaces can be extremely difficult.\n",
    "One way to approach this is to use a *dimensionality reduction* technique such as manifold learning to reduce the dimensionality of the data while maintaining the relationships of interest.\n",
    "Dimensionality reduction is an example of unsupervised machine learning, and we will discuss it in more detail in [What Is Machine Learning?](05.01-What-Is-Machine-Learning.ipynb).\n",
    "\n",
    "Deferring the discussion of these details, let's take a look at a two-dimensional manifold learning projection of this digits data (see [In-Depth: Manifold Learning](05.10-Manifold-Learning.ipynb) for details):"
   ]
  },
  {
   "cell_type": "code",
   "execution_count": null,
   "metadata": {
    "colab": {},
    "colab_type": "code",
    "collapsed": false,
    "id": "-IhgRNRQ0U25",
    "jupyter": {
     "outputs_hidden": false
    }
   },
   "outputs": [],
   "source": [
    "# project the digits into 2 dimensions using IsoMap\n",
    "from sklearn.manifold import Isomap\n",
    "iso = Isomap(n_components=2)\n",
    "projection = iso.fit_transform(digits.data)"
   ]
  },
  {
   "cell_type": "markdown",
   "metadata": {
    "colab_type": "text",
    "id": "3fA4yHMw0U26"
   },
   "source": [
    "We'll use our discrete colormap to view the results, setting the ``ticks`` and ``clim`` to improve the aesthetics of the resulting colorbar:"
   ]
  },
  {
   "cell_type": "code",
   "execution_count": 46,
   "metadata": {
    "colab": {},
    "colab_type": "code",
    "collapsed": false,
    "id": "VpUQByyN0U26",
    "jupyter": {
     "outputs_hidden": false
    },
    "outputId": "f144f0a4-116f-4f10-f164-db0cbe787cbe"
   },
   "outputs": [
    {
     "data": {
      "text/plain": [
       "\"\\n# plot the results\\nplt.scatter(projection[:, 0], projection[:, 1], lw=0.1,\\n            c=digits.target, cmap=plt.cm.get_cmap('cubehelix', 6))\\nplt.colorbar(ticks=range(6), label='digit value')\\nplt.clim(-0.5, 5.5)\\n\""
      ]
     },
     "execution_count": 46,
     "metadata": {},
     "output_type": "execute_result"
    }
   ],
   "source": [
    "'''\n",
    "# plot the results\n",
    "plt.scatter(projection[:, 0], projection[:, 1], lw=0.1,\n",
    "            c=digits.target, cmap=plt.cm.get_cmap('cubehelix', 6))\n",
    "plt.colorbar(ticks=range(6), label='digit value')\n",
    "plt.clim(-0.5, 5.5)\n",
    "'''"
   ]
  },
  {
   "cell_type": "markdown",
   "metadata": {
    "colab_type": "text",
    "id": "rWpwtmtn0U27"
   },
   "source": [
    "The projection also gives us some interesting insights on the relationships within the dataset: for example, the ranges of 5 and 3 nearly overlap in this projection, indicating that some hand written fives and threes are difficult to distinguish, and therefore more likely to be confused by an automated classification algorithm.\n",
    "Other values, like 0 and 1, are more distantly separated, and therefore much less likely to be confused.\n",
    "This observation agrees with our intuition, because 5 and 3 look much more similar than do 0 and 1.\n",
    "\n",
    "We'll return to manifold learning and to digit classification in [Chapter 5](05.00-Machine-Learning.ipynb)."
   ]
  },
  {
   "cell_type": "markdown",
   "metadata": {
    "colab_type": "text",
    "id": "vulyZTSb0U28"
   },
   "source": [
    "# SECTION 2\n",
    "----\n"
   ]
  },
  {
   "cell_type": "markdown",
   "metadata": {
    "colab_type": "text",
    "id": "uK08qC2h0U28"
   },
   "source": [
    "# Multiple Subplots"
   ]
  },
  {
   "cell_type": "markdown",
   "metadata": {
    "colab_type": "text",
    "id": "sJjSXdhH0U28"
   },
   "source": [
    "Sometimes it is helpful to compare different views of data side by side.\n",
    "To this end, Matplotlib has the concept of *subplots*: groups of smaller axes that can exist together within a single figure.\n",
    "These subplots might be insets, grids of plots, or other more complicated layouts.\n",
    "In this section we'll explore four routines for creating subplots in Matplotlib."
   ]
  },
  {
   "cell_type": "code",
   "execution_count": null,
   "metadata": {
    "colab": {},
    "colab_type": "code",
    "id": "40_Ao5YI0U28"
   },
   "outputs": [],
   "source": [
    "%matplotlib inline\n",
    "import matplotlib.pyplot as plt\n",
    "plt.style.use('seaborn-white')\n",
    "import numpy as np"
   ]
  },
  {
   "cell_type": "markdown",
   "metadata": {
    "colab_type": "text",
    "id": "q4NGyMD30U29"
   },
   "source": [
    "## ``plt.axes``: Subplots by Hand\n",
    "\n",
    "The most basic method of creating an axes is to use the ``plt.axes`` function.\n",
    "As we've seen previously, by default this creates a standard axes object that fills the entire figure.\n",
    "``plt.axes`` also takes an optional argument that is a list of four numbers in the figure coordinate system.\n",
    "These numbers represent ``[left, bottom, width, height]`` in the figure coordinate system, which ranges from 0 at the bottom left of the figure to 1 at the top right of the figure.\n",
    "\n",
    "For example, we might create an inset axes at the top-right corner of another axes by setting the *x* and *y* position to 0.65 (that is, starting at 65% of the width and 65% of the height of the figure) and the *x* and *y* extents to 0.2 (that is, the size of the axes is 20% of the width and 20% of the height of the figure):"
   ]
  },
  {
   "cell_type": "code",
   "execution_count": null,
   "metadata": {
    "colab": {},
    "colab_type": "code",
    "collapsed": false,
    "id": "m-sBUTjE0U29",
    "jupyter": {
     "outputs_hidden": false
    },
    "outputId": "32118709-4c4e-4d79-afc0-0d1016a8d363"
   },
   "outputs": [],
   "source": []
  },
  {
   "cell_type": "markdown",
   "metadata": {
    "colab_type": "text",
    "id": "b2XN3sQx0U2-"
   },
   "source": [
    "The equivalent of this command within the object-oriented interface is ``fig.add_axes()``. Let's use this to create two vertically stacked axes:"
   ]
  },
  {
   "cell_type": "code",
   "execution_count": 47,
   "metadata": {
    "colab": {},
    "colab_type": "code",
    "collapsed": false,
    "id": "2QruNT4z0U2-",
    "jupyter": {
     "outputs_hidden": false
    },
    "outputId": "1813a1e1-e15c-4a1d-f0db-90295100165d"
   },
   "outputs": [
    {
     "data": {
      "text/plain": [
       "'\\nfig = plt.figure()\\nax1 = fig.add_axes([0.1, 0.5, 0.8, 0.4],\\n                   xticklabels=[], ylim=(-1.2, 1.2))\\nax2 = fig.add_axes([0.1, 0.1, 0.8, 0.4],\\n                   ylim=(-1.2, 1.2))\\n\\nx = np.linspace(0, 10)\\nax1.plot(np.sin(x))\\nax2.plot(np.cos(x));\\n'"
      ]
     },
     "execution_count": 47,
     "metadata": {},
     "output_type": "execute_result"
    }
   ],
   "source": [
    "'''\n",
    "fig = plt.figure()\n",
    "ax1 = fig.add_axes([0.1, 0.5, 0.8, 0.4],\n",
    "                   xticklabels=[], ylim=(-1.2, 1.2))\n",
    "ax2 = fig.add_axes([0.1, 0.1, 0.8, 0.4],\n",
    "                   ylim=(-1.2, 1.2))\n",
    "\n",
    "x = np.linspace(0, 10)\n",
    "ax1.plot(np.sin(x))\n",
    "ax2.plot(np.cos(x));\n",
    "'''"
   ]
  },
  {
   "cell_type": "markdown",
   "metadata": {
    "colab_type": "text",
    "id": "yDjT0fus0U2_"
   },
   "source": [
    "We now have two axes (the top with no tick labels) that are just touching: the bottom of the upper panel (at position 0.5) matches the top of the lower panel (at position 0.1 + 0.4)."
   ]
  },
  {
   "cell_type": "markdown",
   "metadata": {
    "colab_type": "text",
    "id": "_RrGGaIA0U3A"
   },
   "source": [
    "## ``plt.subplot``: Simple Grids of Subplots\n",
    "\n",
    "Aligned columns or rows of subplots are a common-enough need that Matplotlib has several convenience routines that make them easy to create.\n",
    "The lowest level of these is ``plt.subplot()``, which creates a single subplot within a grid.\n",
    "As you can see, this command takes three integer arguments—the number of rows, the number of columns, and the index of the plot to be created in this scheme, which runs from the upper left to the bottom right:"
   ]
  },
  {
   "cell_type": "code",
   "execution_count": 48,
   "metadata": {
    "colab": {},
    "colab_type": "code",
    "collapsed": false,
    "id": "Umk34T3W0U3A",
    "jupyter": {
     "outputs_hidden": false
    },
    "outputId": "255285f5-2029-43b6-c176-07514beff4a8"
   },
   "outputs": [
    {
     "data": {
      "text/plain": [
       "\"\\nfor i in range(1, 7):\\n    plt.subplot(2, 3, i)\\n    plt.text(0.5, 0.5, str((2, 3, i)),\\n             fontsize=18, ha='center')\\n\""
      ]
     },
     "execution_count": 48,
     "metadata": {},
     "output_type": "execute_result"
    }
   ],
   "source": [
    "'''\n",
    "for i in range(1, 7):\n",
    "    plt.subplot(2, 3, i)\n",
    "    plt.text(0.5, 0.5, str((2, 3, i)),\n",
    "             fontsize=18, ha='center')\n",
    "'''"
   ]
  },
  {
   "cell_type": "markdown",
   "metadata": {
    "colab_type": "text",
    "id": "QnGz__xl0U3C"
   },
   "source": [
    "The command ``plt.subplots_adjust`` can be used to adjust the spacing between these plots.\n",
    "The following code uses the equivalent object-oriented command, ``fig.add_subplot()``:"
   ]
  },
  {
   "cell_type": "code",
   "execution_count": 49,
   "metadata": {
    "colab": {},
    "colab_type": "code",
    "collapsed": false,
    "id": "05YZSMJI0U3C",
    "jupyter": {
     "outputs_hidden": false
    },
    "outputId": "5c8a437f-6fe9-42a0-a6e3-6931cbe5ca3c"
   },
   "outputs": [
    {
     "data": {
      "text/plain": [
       "\"\\nfig = plt.figure()\\nfig.subplots_adjust(hspace=0.4, wspace=0.4)\\nfor i in range(1, 7):\\n    ax = fig.add_subplot(2, 3, i)\\n    ax.text(0.5, 0.5, str((2, 3, i)),\\n           fontsize=18, ha='center')\\n\""
      ]
     },
     "execution_count": 49,
     "metadata": {},
     "output_type": "execute_result"
    }
   ],
   "source": [
    "'''\n",
    "fig = plt.figure()\n",
    "fig.subplots_adjust(hspace=0.4, wspace=0.4)\n",
    "for i in range(1, 7):\n",
    "    ax = fig.add_subplot(2, 3, i)\n",
    "    ax.text(0.5, 0.5, str((2, 3, i)),\n",
    "           fontsize=18, ha='center')\n",
    "'''"
   ]
  },
  {
   "cell_type": "markdown",
   "metadata": {
    "colab_type": "text",
    "id": "deXqRCGs0U3E"
   },
   "source": [
    "We've used the ``hspace`` and ``wspace`` arguments of ``plt.subplots_adjust``, which specify the spacing along the height and width of the figure, in units of the subplot size (in this case, the space is 40% of the subplot width and height)."
   ]
  },
  {
   "cell_type": "markdown",
   "metadata": {
    "colab_type": "text",
    "id": "RlGYiLm00U3E"
   },
   "source": [
    "## ``plt.subplots``: The Whole Grid in One Go\n",
    "\n",
    "The approach just described can become quite tedious when creating a large grid of subplots, especially if you'd like to hide the x- and y-axis labels on the inner plots.\n",
    "For this purpose, ``plt.subplots()`` is the easier tool to use (note the ``s`` at the end of ``subplots``). Rather than creating a single subplot, this function creates a full grid of subplots in a single line, returning them in a NumPy array.\n",
    "The arguments are the number of rows and number of columns, along with optional keywords ``sharex`` and ``sharey``, which allow you to specify the relationships between different axes.\n",
    "\n",
    "Here we'll create a $2 \\times 3$ grid of subplots, where all axes in the same row share their y-axis scale, and all axes in the same column share their x-axis scale:"
   ]
  },
  {
   "cell_type": "code",
   "execution_count": null,
   "metadata": {
    "colab": {},
    "colab_type": "code",
    "collapsed": false,
    "id": "m19wOHuN0U3E",
    "jupyter": {
     "outputs_hidden": false
    },
    "outputId": "c6d963ff-cfd1-435a-e3e1-75749b390ba7"
   },
   "outputs": [],
   "source": []
  },
  {
   "cell_type": "markdown",
   "metadata": {
    "colab_type": "text",
    "id": "ukU0F6xj0U3F"
   },
   "source": [
    "Note that by specifying ``sharex`` and ``sharey``, we've automatically removed inner labels on the grid to make the plot cleaner.\n",
    "The resulting grid of axes instances is returned within a NumPy array, allowing for convenient specification of the desired axes using standard array indexing notation:"
   ]
  },
  {
   "cell_type": "code",
   "execution_count": 50,
   "metadata": {
    "colab": {},
    "colab_type": "code",
    "collapsed": false,
    "id": "9lpNYXJU0U3G",
    "jupyter": {
     "outputs_hidden": false
    },
    "outputId": "88365002-f76a-40d7-e489-c4f3fbb02977"
   },
   "outputs": [
    {
     "data": {
      "text/plain": [
       "\"\\n# axes are in a two-dimensional array, indexed by [row, col]\\nfor i in range(2):\\n    for j in range(3):\\n        ax[i, j].text(0.5, 0.5, str((i, j)),\\n                      fontsize=18, ha='center')\\nfig\\n\""
      ]
     },
     "execution_count": 50,
     "metadata": {},
     "output_type": "execute_result"
    }
   ],
   "source": [
    "'''\n",
    "# axes are in a two-dimensional array, indexed by [row, col]\n",
    "for i in range(2):\n",
    "    for j in range(3):\n",
    "        ax[i, j].text(0.5, 0.5, str((i, j)),\n",
    "                      fontsize=18, ha='center')\n",
    "fig\n",
    "'''"
   ]
  },
  {
   "cell_type": "markdown",
   "metadata": {
    "colab_type": "text",
    "id": "ydmMslbj0U3G"
   },
   "source": [
    "In comparison to ``plt.subplot()``, ``plt.subplots()`` is more consistent with Python's conventional 0-based indexing."
   ]
  },
  {
   "cell_type": "markdown",
   "metadata": {
    "colab_type": "text",
    "id": "GKTyycH40U3H"
   },
   "source": [
    "## ``plt.GridSpec``: More Complicated Arrangements\n",
    "\n",
    "To go beyond a regular grid to subplots that span multiple rows and columns, ``plt.GridSpec()`` is the best tool.\n",
    "The ``plt.GridSpec()`` object does not create a plot by itself; it is simply a convenient interface that is recognized by the ``plt.subplot()`` command.\n",
    "For example, a gridspec for a grid of two rows and three columns with some specified width and height space looks like this:"
   ]
  },
  {
   "cell_type": "code",
   "execution_count": null,
   "metadata": {
    "colab": {},
    "colab_type": "code",
    "collapsed": false,
    "id": "J7gnPJWM0U3H",
    "jupyter": {
     "outputs_hidden": false
    }
   },
   "outputs": [],
   "source": []
  },
  {
   "cell_type": "markdown",
   "metadata": {
    "colab_type": "text",
    "id": "g-PAqHZJ0U3I"
   },
   "source": [
    "From this we can specify subplot locations and extents using the familiary Python slicing syntax:"
   ]
  },
  {
   "cell_type": "code",
   "execution_count": 51,
   "metadata": {
    "colab": {},
    "colab_type": "code",
    "collapsed": false,
    "id": "sTzBKetb0U3I",
    "jupyter": {
     "outputs_hidden": false
    },
    "outputId": "8632f6a3-3584-455a-c717-8d72df96e011"
   },
   "outputs": [
    {
     "data": {
      "text/plain": [
       "'\\nplt.subplot(grid[0, 0])\\nplt.subplot(grid[0, 1:])\\nplt.subplot(grid[1, :2])\\nplt.subplot(grid[1, 2]);\\n'"
      ]
     },
     "execution_count": 51,
     "metadata": {},
     "output_type": "execute_result"
    }
   ],
   "source": [
    "'''\n",
    "plt.subplot(grid[0, 0])\n",
    "plt.subplot(grid[0, 1:])\n",
    "plt.subplot(grid[1, :2])\n",
    "plt.subplot(grid[1, 2]);\n",
    "'''"
   ]
  },
  {
   "cell_type": "markdown",
   "metadata": {
    "colab_type": "text",
    "id": "iWDXlF9x0U3J"
   },
   "source": [
    "This type of flexible grid alignment has a wide range of uses.\n",
    "I most often use it when creating multi-axes histogram plots like the ones shown here:"
   ]
  },
  {
   "cell_type": "code",
   "execution_count": 52,
   "metadata": {
    "colab": {},
    "colab_type": "code",
    "collapsed": false,
    "id": "H44S38lk0U3J",
    "jupyter": {
     "outputs_hidden": false
    },
    "outputId": "e3f64b80-38d2-494b-bbe5-1ae5d1dda0ba"
   },
   "outputs": [
    {
     "data": {
      "text/plain": [
       "\"\\n# Create some normally distributed data\\nmean = [0, 0]\\ncov = [[1, 1], [1, 2]]\\nx, y = np.random.multivariate_normal(mean, cov, 3000).T\\n\\n# Set up the axes with gridspec\\nfig = plt.figure(figsize=(6, 6))\\ngrid = plt.GridSpec(4, 4, hspace=0.2, wspace=0.2)\\nmain_ax = fig.add_subplot(grid[:-1, 1:])\\ny_hist = fig.add_subplot(grid[:-1, 0], xticklabels=[], sharey=main_ax)\\nx_hist = fig.add_subplot(grid[-1, 1:], yticklabels=[], sharex=main_ax)\\n\\n# scatter points on the main axes\\nmain_ax.plot(x, y, 'ok', markersize=3, alpha=0.2)\\n\\n# histogram on the attached axes\\nx_hist.hist(x, 40, histtype='stepfilled',\\n            orientation='vertical', color='gray')\\nx_hist.invert_yaxis()\\n\\ny_hist.hist(y, 40, histtype='stepfilled',\\n            orientation='horizontal', color='gray')\\ny_hist.invert_xaxis()\\n\""
      ]
     },
     "execution_count": 52,
     "metadata": {},
     "output_type": "execute_result"
    }
   ],
   "source": [
    "'''\n",
    "# Create some normally distributed data\n",
    "mean = [0, 0]\n",
    "cov = [[1, 1], [1, 2]]\n",
    "x, y = np.random.multivariate_normal(mean, cov, 3000).T\n",
    "\n",
    "# Set up the axes with gridspec\n",
    "fig = plt.figure(figsize=(6, 6))\n",
    "grid = plt.GridSpec(4, 4, hspace=0.2, wspace=0.2)\n",
    "main_ax = fig.add_subplot(grid[:-1, 1:])\n",
    "y_hist = fig.add_subplot(grid[:-1, 0], xticklabels=[], sharey=main_ax)\n",
    "x_hist = fig.add_subplot(grid[-1, 1:], yticklabels=[], sharex=main_ax)\n",
    "\n",
    "# scatter points on the main axes\n",
    "main_ax.plot(x, y, 'ok', markersize=3, alpha=0.2)\n",
    "\n",
    "# histogram on the attached axes\n",
    "x_hist.hist(x, 40, histtype='stepfilled',\n",
    "            orientation='vertical', color='gray')\n",
    "x_hist.invert_yaxis()\n",
    "\n",
    "y_hist.hist(y, 40, histtype='stepfilled',\n",
    "            orientation='horizontal', color='gray')\n",
    "y_hist.invert_xaxis()\n",
    "'''"
   ]
  },
  {
   "cell_type": "markdown",
   "metadata": {
    "colab_type": "text",
    "id": "u6m4PxZq0U3J"
   },
   "source": [
    "This type of distribution plotted alongside its margins is common enough that it has its own plotting API in the Seaborn package; see [Visualization With Seaborn](04.14-Visualization-With-Seaborn.ipynb) for more details."
   ]
  },
  {
   "cell_type": "markdown",
   "metadata": {
    "colab_type": "text",
    "id": "WxB6zXZn0U3K"
   },
   "source": [
    "# Text and Annotation"
   ]
  },
  {
   "cell_type": "markdown",
   "metadata": {
    "colab_type": "text",
    "id": "1plVVXyV0U3K"
   },
   "source": [
    "Creating a good visualization involves guiding the reader so that the figure tells a story.\n",
    "In some cases, this story can be told in an entirely visual manner, without the need for added text, but in others, small textual cues and labels are necessary.\n",
    "Perhaps the most basic types of annotations you will use are axes labels and titles, but the options go beyond this.\n",
    "Let's take a look at some data and how we might visualize and annotate it to help convey interesting information. We'll start by setting up the notebook for plotting and  importing the functions we will use:"
   ]
  },
  {
   "cell_type": "code",
   "execution_count": null,
   "metadata": {
    "colab": {},
    "colab_type": "code",
    "collapsed": true,
    "id": "h8B72B7e0U3K",
    "jupyter": {
     "outputs_hidden": true
    }
   },
   "outputs": [],
   "source": [
    "%matplotlib inline\n",
    "import matplotlib.pyplot as plt\n",
    "import matplotlib as mpl\n",
    "plt.style.use('seaborn-whitegrid')\n",
    "import numpy as np\n",
    "import pandas as pd"
   ]
  },
  {
   "cell_type": "markdown",
   "metadata": {
    "colab_type": "text",
    "id": "OwHII6yH0U3L"
   },
   "source": [
    "## Example: Effect of Holidays on US Births\n",
    "\n",
    "Let's return to some data we worked with earler, in [\"Example: Birthrate Data\"](03.09-Pivot-Tables.ipynb#Example:-Birthrate-Data), where we generated a plot of average births over the course of the calendar year; as already mentioned, that this data can be downloaded at https://raw.githubusercontent.com/jakevdp/data-CDCbirths/master/births.csv.\n",
    "\n",
    "We'll start with the same cleaning procedure we used there, and plot the results:"
   ]
  },
  {
   "cell_type": "code",
   "execution_count": 53,
   "metadata": {
    "colab": {},
    "colab_type": "code",
    "collapsed": false,
    "id": "hd6cZHp_0U3L",
    "jupyter": {
     "outputs_hidden": false
    }
   },
   "outputs": [
    {
     "data": {
      "text/plain": [
       "\"\\nbirths = pd.read_csv('births.csv')\\n\\nquartiles = np.percentile(births['births'], [25, 50, 75])\\nmu, sig = quartiles[1], 0.74 * (quartiles[2] - quartiles[0])\\nbirths = births.query('(births > @mu - 5 * @sig) & (births < @mu + 5 * @sig)')\\n\\nbirths['day'] = births['day'].astype(int)\\n\\nbirths.index = pd.to_datetime(10000 * births.year +\\n                              100 * births.month +\\n                              births.day, format='%Y%m%d')\\nbirths_by_date = births.pivot_table('births',\\n                                    [births.index.month, births.index.day])\\nbirths_by_date.index = [pd.datetime(2012, month, day)\\n                        for (month, day) in births_by_date.index]\\n\""
      ]
     },
     "execution_count": 53,
     "metadata": {},
     "output_type": "execute_result"
    }
   ],
   "source": [
    "'''\n",
    "births = pd.read_csv('births.csv')\n",
    "\n",
    "quartiles = np.percentile(births['births'], [25, 50, 75])\n",
    "mu, sig = quartiles[1], 0.74 * (quartiles[2] - quartiles[0])\n",
    "births = births.query('(births > @mu - 5 * @sig) & (births < @mu + 5 * @sig)')\n",
    "\n",
    "births['day'] = births['day'].astype(int)\n",
    "\n",
    "births.index = pd.to_datetime(10000 * births.year +\n",
    "                              100 * births.month +\n",
    "                              births.day, format='%Y%m%d')\n",
    "births_by_date = births.pivot_table('births',\n",
    "                                    [births.index.month, births.index.day])\n",
    "births_by_date.index = [pd.datetime(2012, month, day)\n",
    "                        for (month, day) in births_by_date.index]\n",
    "'''"
   ]
  },
  {
   "cell_type": "code",
   "execution_count": 54,
   "metadata": {
    "colab": {},
    "colab_type": "code",
    "collapsed": false,
    "id": "T1o6eFTK0U3N",
    "jupyter": {
     "outputs_hidden": false
    },
    "outputId": "966414db-d05f-4a2e-80bd-5e5ca85444d3"
   },
   "outputs": [
    {
     "data": {
      "text/plain": [
       "'\\nfig, ax = plt.subplots(figsize=(12, 4))\\nbirths_by_date.plot(ax=ax);\\n'"
      ]
     },
     "execution_count": 54,
     "metadata": {},
     "output_type": "execute_result"
    }
   ],
   "source": [
    "'''\n",
    "fig, ax = plt.subplots(figsize=(12, 4))\n",
    "births_by_date.plot(ax=ax);\n",
    "'''"
   ]
  },
  {
   "cell_type": "markdown",
   "metadata": {
    "colab_type": "text",
    "id": "bNhO3bi60U3N"
   },
   "source": [
    "When we're communicating data like this, it is often useful to annotate certain features of the plot to draw the reader's attention.\n",
    "This can be done manually with the ``plt.text``/``ax.text`` command, which will place text at a particular x/y value:"
   ]
  },
  {
   "cell_type": "code",
   "execution_count": 55,
   "metadata": {
    "colab": {},
    "colab_type": "code",
    "collapsed": false,
    "id": "xErArLjq0U3N",
    "jupyter": {
     "outputs_hidden": false
    },
    "outputId": "b0b1245b-1169-481e-d6b0-547ffdcae004"
   },
   "outputs": [
    {
     "data": {
      "text/plain": [
       "'\\nfig, ax = plt.subplots(figsize=(12, 4))\\nbirths_by_date.plot(ax=ax)\\n\\n# Add labels to the plot\\nstyle = dict(size=10, color=\\'gray\\')\\n\\nax.text(\\'2012-1-1\\', 3950, \"New Year\\'s Day\", **style)\\nax.text(\\'2012-7-4\\', 4250, \"Independence Day\", ha=\\'center\\', **style)\\nax.text(\\'2012-9-4\\', 4850, \"Labor Day\", ha=\\'center\\', **style)\\nax.text(\\'2012-10-31\\', 4600, \"Halloween\", ha=\\'right\\', **style)\\nax.text(\\'2012-11-25\\', 4450, \"Thanksgiving\", ha=\\'center\\', **style)\\nax.text(\\'2012-12-25\\', 3850, \"Christmas \", ha=\\'right\\', **style)\\n\\n# Label the axes\\nax.set(title=\\'USA births by day of year (1969-1988)\\',\\n       ylabel=\\'average daily births\\')\\n\\n# Format the x axis with centered month labels\\nax.xaxis.set_major_locator(mpl.dates.MonthLocator())\\nax.xaxis.set_minor_locator(mpl.dates.MonthLocator(bymonthday=15))\\nax.xaxis.set_major_formatter(plt.NullFormatter())\\nax.xaxis.set_minor_formatter(mpl.dates.DateFormatter(\\'%h\\'));\\n'"
      ]
     },
     "execution_count": 55,
     "metadata": {},
     "output_type": "execute_result"
    }
   ],
   "source": [
    "'''\n",
    "fig, ax = plt.subplots(figsize=(12, 4))\n",
    "births_by_date.plot(ax=ax)\n",
    "\n",
    "# Add labels to the plot\n",
    "style = dict(size=10, color='gray')\n",
    "\n",
    "ax.text('2012-1-1', 3950, \"New Year's Day\", **style)\n",
    "ax.text('2012-7-4', 4250, \"Independence Day\", ha='center', **style)\n",
    "ax.text('2012-9-4', 4850, \"Labor Day\", ha='center', **style)\n",
    "ax.text('2012-10-31', 4600, \"Halloween\", ha='right', **style)\n",
    "ax.text('2012-11-25', 4450, \"Thanksgiving\", ha='center', **style)\n",
    "ax.text('2012-12-25', 3850, \"Christmas \", ha='right', **style)\n",
    "\n",
    "# Label the axes\n",
    "ax.set(title='USA births by day of year (1969-1988)',\n",
    "       ylabel='average daily births')\n",
    "\n",
    "# Format the x axis with centered month labels\n",
    "ax.xaxis.set_major_locator(mpl.dates.MonthLocator())\n",
    "ax.xaxis.set_minor_locator(mpl.dates.MonthLocator(bymonthday=15))\n",
    "ax.xaxis.set_major_formatter(plt.NullFormatter())\n",
    "ax.xaxis.set_minor_formatter(mpl.dates.DateFormatter('%h'));\n",
    "'''"
   ]
  },
  {
   "cell_type": "markdown",
   "metadata": {
    "colab_type": "text",
    "id": "JXzJLNeY0U3P"
   },
   "source": [
    "The ``ax.text`` method takes an x position, a y position, a string, and then optional keywords specifying the color, size, style, alignment, and other properties of the text.\n",
    "Here we used ``ha='right'`` and ``ha='center'``, where ``ha`` is short for *horizonal alignment*.\n",
    "See the docstring of ``plt.text()`` and of ``mpl.text.Text()`` for more information on available options."
   ]
  },
  {
   "cell_type": "markdown",
   "metadata": {
    "colab_type": "text",
    "id": "ATQxQQ9P0U3P"
   },
   "source": [
    "## Transforms and Text Position\n",
    "\n",
    "In the previous example, we have anchored our text annotations to data locations. Sometimes it's preferable to anchor the text to a position on the axes or figure, independent of the data. In Matplotlib, this is done by modifying the *transform*.\n",
    "\n",
    "Any graphics display framework needs some scheme for translating between coordinate systems.\n",
    "For example, a data point at $(x, y) = (1, 1)$ needs to somehow be represented at a certain location on the figure, which in turn needs to be represented in pixels on the screen.\n",
    "Mathematically, such coordinate transformations are relatively straightforward, and Matplotlib has a well-developed set of tools that it uses internally to perform them (these tools can be explored in the ``matplotlib.transforms`` submodule).\n",
    "\n",
    "The average user rarely needs to worry about the details of these transforms, but it is helpful knowledge to have when considering the placement of text on a figure. There are three pre-defined transforms that can be useful in this situation:\n",
    "\n",
    "- ``ax.transData``: Transform associated with data coordinates\n",
    "- ``ax.transAxes``: Transform associated with the axes (in units of axes dimensions)\n",
    "- ``fig.transFigure``: Transform associated with the figure (in units of figure dimensions)\n",
    "\n",
    "Here let's look at an example of drawing text at various locations using these transforms:"
   ]
  },
  {
   "cell_type": "code",
   "execution_count": 56,
   "metadata": {
    "colab": {},
    "colab_type": "code",
    "collapsed": false,
    "id": "1mCNxvVX0U3P",
    "jupyter": {
     "outputs_hidden": false
    },
    "outputId": "6d50360f-bc3f-4282-b375-9001199765ea"
   },
   "outputs": [
    {
     "data": {
      "text/plain": [
       "'\\nfig, ax = plt.subplots(facecolor=\\'lightgray\\')\\nax.axis([0, 10, 0, 10])\\n\\n# transform=ax.transData is the default, but we\\'ll specify it anyway\\nax.text(1, 5, \". Data: (1, 5)\", transform=ax.transData)\\nax.text(0.5, 0.1, \". Axes: (0.5, 0.1)\", transform=ax.transAxes)\\nax.text(0.2, 0.2, \". Figure: (0.2, 0.2)\", transform=fig.transFigure);\\n'"
      ]
     },
     "execution_count": 56,
     "metadata": {},
     "output_type": "execute_result"
    }
   ],
   "source": [
    "'''\n",
    "fig, ax = plt.subplots(facecolor='lightgray')\n",
    "ax.axis([0, 10, 0, 10])\n",
    "\n",
    "# transform=ax.transData is the default, but we'll specify it anyway\n",
    "ax.text(1, 5, \". Data: (1, 5)\", transform=ax.transData)\n",
    "ax.text(0.5, 0.1, \". Axes: (0.5, 0.1)\", transform=ax.transAxes)\n",
    "ax.text(0.2, 0.2, \". Figure: (0.2, 0.2)\", transform=fig.transFigure);\n",
    "'''"
   ]
  },
  {
   "cell_type": "markdown",
   "metadata": {
    "colab_type": "text",
    "id": "AilSTjXA0U3Q"
   },
   "source": [
    "Note that by default, the text is aligned above and to the left of the specified coordinates: here the \".\" at the beginning of each string will approximately mark the given coordinate location.\n",
    "\n",
    "The ``transData`` coordinates give the usual data coordinates associated with the x- and y-axis labels.\n",
    "The ``transAxes`` coordinates give the location from the bottom-left corner of the axes (here the white box), as a fraction of the axes size.\n",
    "The ``transFigure`` coordinates are similar, but specify the position from the bottom-left of the figure (here the gray box), as a fraction of the figure size.\n",
    "\n",
    "Notice now that if we change the axes limits, it is only the ``transData`` coordinates that will be affected, while the others remain stationary:"
   ]
  },
  {
   "cell_type": "code",
   "execution_count": 57,
   "metadata": {
    "colab": {},
    "colab_type": "code",
    "collapsed": false,
    "id": "md9os2gD0U3Q",
    "jupyter": {
     "outputs_hidden": false
    },
    "outputId": "d1f0f816-7ce6-4fc3-cf78-c3af21dc3168"
   },
   "outputs": [],
   "source": [
    "# ax.set_xlim(0, 2)\n",
    "# ax.set_ylim(-6, 6)\n",
    "# fig"
   ]
  },
  {
   "cell_type": "markdown",
   "metadata": {
    "colab_type": "text",
    "id": "JRE-cw4t0U3R"
   },
   "source": [
    "This behavior can be seen more clearly by changing the axes limits interactively: if you are executing this code in a notebook, you can make that happen by changing ``%matplotlib inline`` to ``%matplotlib notebook`` and using each plot's menu to interact with the plot."
   ]
  },
  {
   "cell_type": "markdown",
   "metadata": {
    "colab_type": "text",
    "id": "5M78uCHU0U3R"
   },
   "source": [
    "## Arrows and Annotation\n",
    "\n",
    "Along with tick marks and text, another useful annotation mark is the simple arrow.\n",
    "\n",
    "Drawing arrows in Matplotlib is often much harder than you'd bargain for.\n",
    "While there is a ``plt.arrow()`` function available, I wouldn't suggest using it: the arrows it creates are SVG objects that will be subject to the varying aspect ratio of your plots, and the result is rarely what the user intended.\n",
    "Instead, I'd suggest using the ``plt.annotate()`` function.\n",
    "This function creates some text and an arrow, and the arrows can be very flexibly specified.\n",
    "\n",
    "Here we'll use ``annotate`` with several of its options:"
   ]
  },
  {
   "cell_type": "code",
   "execution_count": 58,
   "metadata": {
    "colab": {},
    "colab_type": "code",
    "collapsed": false,
    "id": "6pI_C8js0U3R",
    "jupyter": {
     "outputs_hidden": false
    },
    "outputId": "2963e57c-f3af-4384-e37a-a98980ac8085"
   },
   "outputs": [
    {
     "data": {
      "text/plain": [
       "'\\n%matplotlib inline\\n\\nfig, ax = plt.subplots()\\n\\nx = np.linspace(0, 20, 1000)\\nax.plot(x, np.cos(x))\\nax.axis(\\'equal\\')\\n\\nax.annotate(\\'local maximum\\', xy=(6.28, 1), xytext=(10, 4),\\n            arrowprops=dict(facecolor=\\'black\\', shrink=0.05))\\n\\nax.annotate(\\'local minimum\\', xy=(5 * np.pi, -1), xytext=(2, -6),\\n            arrowprops=dict(arrowstyle=\"->\",\\n                            connectionstyle=\"angle3,angleA=0,angleB=-90\"));\\n'"
      ]
     },
     "execution_count": 58,
     "metadata": {},
     "output_type": "execute_result"
    }
   ],
   "source": [
    "'''\n",
    "%matplotlib inline\n",
    "\n",
    "fig, ax = plt.subplots()\n",
    "\n",
    "x = np.linspace(0, 20, 1000)\n",
    "ax.plot(x, np.cos(x))\n",
    "ax.axis('equal')\n",
    "\n",
    "ax.annotate('local maximum', xy=(6.28, 1), xytext=(10, 4),\n",
    "            arrowprops=dict(facecolor='black', shrink=0.05))\n",
    "\n",
    "ax.annotate('local minimum', xy=(5 * np.pi, -1), xytext=(2, -6),\n",
    "            arrowprops=dict(arrowstyle=\"->\",\n",
    "                            connectionstyle=\"angle3,angleA=0,angleB=-90\"));\n",
    "'''"
   ]
  },
  {
   "cell_type": "markdown",
   "metadata": {
    "colab_type": "text",
    "id": "Zua5ZQYh0U3T"
   },
   "source": [
    "The arrow style is controlled through the ``arrowprops`` dictionary, which has numerous options available.\n",
    "These options are fairly well-documented in Matplotlib's online documentation, so rather than repeating them here it is probably more useful to quickly show some of the possibilities.\n",
    "Let's demonstrate several of the possible options using the birthrate plot from before:"
   ]
  },
  {
   "cell_type": "code",
   "execution_count": 59,
   "metadata": {
    "colab": {},
    "colab_type": "code",
    "collapsed": false,
    "id": "jhy2zYUP0U3T",
    "jupyter": {
     "outputs_hidden": false
    },
    "outputId": "ee79f0a4-2c91-4bcc-aa29-9303ab0f1100"
   },
   "outputs": [
    {
     "data": {
      "text/plain": [
       "'\\nfig, ax = plt.subplots(figsize=(12, 4))\\nbirths_by_date.plot(ax=ax)\\n\\n# Add labels to the plot\\nax.annotate(\"New Year\\'s Day\", xy=(\\'2012-1-1\\', 4100),  xycoords=\\'data\\',\\n            xytext=(50, -30), textcoords=\\'offset points\\',\\n            arrowprops=dict(arrowstyle=\"->\",\\n                            connectionstyle=\"arc3,rad=-0.2\"))\\n\\nax.annotate(\"Independence Day\", xy=(\\'2012-7-4\\', 4250),  xycoords=\\'data\\',\\n            bbox=dict(boxstyle=\"round\", fc=\"none\", ec=\"gray\"),\\n            xytext=(10, -40), textcoords=\\'offset points\\', ha=\\'center\\',\\n            arrowprops=dict(arrowstyle=\"->\"))\\n\\nax.annotate(\\'Labor Day\\', xy=(\\'2012-9-4\\', 4850), xycoords=\\'data\\', ha=\\'center\\',\\n            xytext=(0, -20), textcoords=\\'offset points\\')\\nax.annotate(\\'\\', xy=(\\'2012-9-1\\', 4850), xytext=(\\'2012-9-7\\', 4850),\\n            xycoords=\\'data\\', textcoords=\\'data\\',\\n            arrowprops={\\'arrowstyle\\': \\'|-|,widthA=0.2,widthB=0.2\\', })\\n\\nax.annotate(\\'Halloween\\', xy=(\\'2012-10-31\\', 4600),  xycoords=\\'data\\',\\n            xytext=(-80, -40), textcoords=\\'offset points\\',\\n            arrowprops=dict(arrowstyle=\"fancy\",\\n                            fc=\"0.6\", ec=\"none\",\\n                            connectionstyle=\"angle3,angleA=0,angleB=-90\"))\\n\\nax.annotate(\\'Thanksgiving\\', xy=(\\'2012-11-25\\', 4500),  xycoords=\\'data\\',\\n            xytext=(-120, -60), textcoords=\\'offset points\\',\\n            bbox=dict(boxstyle=\"round4,pad=.5\", fc=\"0.9\"),\\n            arrowprops=dict(arrowstyle=\"->\",\\n                            connectionstyle=\"angle,angleA=0,angleB=80,rad=20\"))\\n\\n\\nax.annotate(\\'Christmas\\', xy=(\\'2012-12-25\\', 3850),  xycoords=\\'data\\',\\n             xytext=(-30, 0), textcoords=\\'offset points\\',\\n             size=13, ha=\\'right\\', va=\"center\",\\n             bbox=dict(boxstyle=\"round\", alpha=0.1),\\n             arrowprops=dict(arrowstyle=\"wedge,tail_width=0.5\", alpha=0.1));\\n\\n# Label the axes\\nax.set(title=\\'USA births by day of year (1969-1988)\\',\\n       ylabel=\\'average daily births\\')\\n\\n# Format the x axis with centered month labels\\nax.xaxis.set_major_locator(mpl.dates.MonthLocator())\\nax.xaxis.set_minor_locator(mpl.dates.MonthLocator(bymonthday=15))\\nax.xaxis.set_major_formatter(plt.NullFormatter())\\nax.xaxis.set_minor_formatter(mpl.dates.DateFormatter(\\'%h\\'));\\n\\nax.set_ylim(3600, 5400);\\n'"
      ]
     },
     "execution_count": 59,
     "metadata": {},
     "output_type": "execute_result"
    }
   ],
   "source": [
    "'''\n",
    "fig, ax = plt.subplots(figsize=(12, 4))\n",
    "births_by_date.plot(ax=ax)\n",
    "\n",
    "# Add labels to the plot\n",
    "ax.annotate(\"New Year's Day\", xy=('2012-1-1', 4100),  xycoords='data',\n",
    "            xytext=(50, -30), textcoords='offset points',\n",
    "            arrowprops=dict(arrowstyle=\"->\",\n",
    "                            connectionstyle=\"arc3,rad=-0.2\"))\n",
    "\n",
    "ax.annotate(\"Independence Day\", xy=('2012-7-4', 4250),  xycoords='data',\n",
    "            bbox=dict(boxstyle=\"round\", fc=\"none\", ec=\"gray\"),\n",
    "            xytext=(10, -40), textcoords='offset points', ha='center',\n",
    "            arrowprops=dict(arrowstyle=\"->\"))\n",
    "\n",
    "ax.annotate('Labor Day', xy=('2012-9-4', 4850), xycoords='data', ha='center',\n",
    "            xytext=(0, -20), textcoords='offset points')\n",
    "ax.annotate('', xy=('2012-9-1', 4850), xytext=('2012-9-7', 4850),\n",
    "            xycoords='data', textcoords='data',\n",
    "            arrowprops={'arrowstyle': '|-|,widthA=0.2,widthB=0.2', })\n",
    "\n",
    "ax.annotate('Halloween', xy=('2012-10-31', 4600),  xycoords='data',\n",
    "            xytext=(-80, -40), textcoords='offset points',\n",
    "            arrowprops=dict(arrowstyle=\"fancy\",\n",
    "                            fc=\"0.6\", ec=\"none\",\n",
    "                            connectionstyle=\"angle3,angleA=0,angleB=-90\"))\n",
    "\n",
    "ax.annotate('Thanksgiving', xy=('2012-11-25', 4500),  xycoords='data',\n",
    "            xytext=(-120, -60), textcoords='offset points',\n",
    "            bbox=dict(boxstyle=\"round4,pad=.5\", fc=\"0.9\"),\n",
    "            arrowprops=dict(arrowstyle=\"->\",\n",
    "                            connectionstyle=\"angle,angleA=0,angleB=80,rad=20\"))\n",
    "\n",
    "\n",
    "ax.annotate('Christmas', xy=('2012-12-25', 3850),  xycoords='data',\n",
    "             xytext=(-30, 0), textcoords='offset points',\n",
    "             size=13, ha='right', va=\"center\",\n",
    "             bbox=dict(boxstyle=\"round\", alpha=0.1),\n",
    "             arrowprops=dict(arrowstyle=\"wedge,tail_width=0.5\", alpha=0.1));\n",
    "\n",
    "# Label the axes\n",
    "ax.set(title='USA births by day of year (1969-1988)',\n",
    "       ylabel='average daily births')\n",
    "\n",
    "# Format the x axis with centered month labels\n",
    "ax.xaxis.set_major_locator(mpl.dates.MonthLocator())\n",
    "ax.xaxis.set_minor_locator(mpl.dates.MonthLocator(bymonthday=15))\n",
    "ax.xaxis.set_major_formatter(plt.NullFormatter())\n",
    "ax.xaxis.set_minor_formatter(mpl.dates.DateFormatter('%h'));\n",
    "\n",
    "ax.set_ylim(3600, 5400);\n",
    "'''"
   ]
  },
  {
   "cell_type": "markdown",
   "metadata": {
    "colab_type": "text",
    "id": "5aslFtbN0U3U"
   },
   "source": [
    "You'll notice that the specifications of the arrows and text boxes are very detailed: this gives you the power to create nearly any arrow style you wish.\n",
    "Unfortunately, it also means that these sorts of features often must be manually tweaked, a process that can be very time consuming when producing publication-quality graphics!\n",
    "Finally, I'll note that the preceding mix of styles is by no means best practice for presenting data, but rather included as a demonstration of some of the available options.\n",
    "\n",
    "More discussion and examples of available arrow and annotation styles can be found in the Matplotlib gallery, in particular the [Annotation Demo](http://matplotlib.org/examples/pylab_examples/annotation_demo2.html)."
   ]
  },
  {
   "cell_type": "markdown",
   "metadata": {
    "colab_type": "text",
    "id": "U3tXxycY0U3U"
   },
   "source": [
    "# Customizing Ticks"
   ]
  },
  {
   "cell_type": "markdown",
   "metadata": {
    "colab_type": "text",
    "id": "kp3aRNAt0U3U"
   },
   "source": [
    "Matplotlib's default tick locators and formatters are designed to be generally sufficient in many common situations, but are in no way optimal for every plot. This section will give several examples of adjusting the tick locations and formatting for the particular plot type you're interested in.\n",
    "\n",
    "Before we go into examples, it will be best for us to understand further the object hierarchy of Matplotlib plots.\n",
    "Matplotlib aims to have a Python object representing everything that appears on the plot: for example, recall that the ``figure`` is the bounding box within which plot elements appear.\n",
    "Each Matplotlib object can also act as a container of sub-objects: for example, each ``figure`` can contain one or more ``axes`` objects, each of which in turn contain other objects representing plot contents.\n",
    "\n",
    "The tick marks are no exception. Each ``axes`` has attributes ``xaxis`` and ``yaxis``, which in turn have attributes that contain all the properties of the lines, ticks, and labels that make up the axes."
   ]
  },
  {
   "cell_type": "markdown",
   "metadata": {
    "colab_type": "text",
    "id": "7Rn9K-3L0U3V"
   },
   "source": [
    "## Major and Minor Ticks\n",
    "\n",
    "Within each axis, there is the concept of a *major* tick mark, and a *minor* tick mark. As the names would imply, major ticks are usually bigger or more pronounced, while minor ticks are usually smaller. By default, Matplotlib rarely makes use of minor ticks, but one place you can see them is within logarithmic plots:"
   ]
  },
  {
   "cell_type": "code",
   "execution_count": null,
   "metadata": {
    "colab": {},
    "colab_type": "code",
    "collapsed": true,
    "id": "YnWvn3e20U3V",
    "jupyter": {
     "outputs_hidden": true
    }
   },
   "outputs": [],
   "source": [
    "import matplotlib.pyplot as plt\n",
    "plt.style.use('classic')\n",
    "%matplotlib inline\n",
    "import numpy as np"
   ]
  },
  {
   "cell_type": "code",
   "execution_count": 60,
   "metadata": {
    "colab": {},
    "colab_type": "code",
    "collapsed": false,
    "id": "MkKfqCkd0U3W",
    "jupyter": {
     "outputs_hidden": false
    },
    "outputId": "afcbad6a-2fab-41d8-fe66-5f487b60330c"
   },
   "outputs": [],
   "source": [
    "# ax = plt.axes(xscale='log', yscale='log')\n",
    "# ax.grid();"
   ]
  },
  {
   "cell_type": "markdown",
   "metadata": {
    "colab_type": "text",
    "id": "GKHu-o4z0U3Y"
   },
   "source": [
    "We see here that each major tick shows a large tickmark and a label, while each minor tick shows a smaller tickmark with no label.\n",
    "\n",
    "These tick properties—locations and labels—that is, can be customized by setting the ``formatter`` and ``locator`` objects of each axis. Let's examine these for the x axis of the just shown plot:"
   ]
  },
  {
   "cell_type": "code",
   "execution_count": 61,
   "metadata": {
    "colab": {},
    "colab_type": "code",
    "collapsed": false,
    "id": "JrvJz8hX0U3Y",
    "jupyter": {
     "outputs_hidden": false
    },
    "outputId": "0c09a079-aee7-4f14-95fa-628038e7ddfd"
   },
   "outputs": [],
   "source": [
    "# print(ax.xaxis.get_major_locator())\n",
    "# print(ax.xaxis.get_minor_locator())"
   ]
  },
  {
   "cell_type": "code",
   "execution_count": 62,
   "metadata": {
    "colab": {},
    "colab_type": "code",
    "collapsed": false,
    "id": "stvBNjiW0U3Z",
    "jupyter": {
     "outputs_hidden": false
    },
    "outputId": "265bdb97-6bd6-4429-ca3b-e88e644d9c42"
   },
   "outputs": [],
   "source": [
    "# print(ax.xaxis.get_major_formatter())\n",
    "# print(ax.xaxis.get_minor_formatter())"
   ]
  },
  {
   "cell_type": "markdown",
   "metadata": {
    "colab_type": "text",
    "id": "tdcV3_Fr0U3b"
   },
   "source": [
    "We see that both major and minor tick labels have their locations specified by a ``LogLocator`` (which makes sense for a logarithmic plot). Minor ticks, though, have their labels formatted by a ``NullFormatter``: this says that no labels will be shown.\n",
    "\n",
    "We'll now show a few examples of setting these locators and formatters for various plots."
   ]
  },
  {
   "cell_type": "markdown",
   "metadata": {
    "colab_type": "text",
    "id": "fd1znXUV0U3b"
   },
   "source": [
    "## Hiding Ticks or Labels\n",
    "\n",
    "Perhaps the most common tick/label formatting operation is the act of hiding ticks or labels.\n",
    "This can be done using ``plt.NullLocator()`` and ``plt.NullFormatter()``, as shown here:"
   ]
  },
  {
   "cell_type": "code",
   "execution_count": 63,
   "metadata": {
    "colab": {},
    "colab_type": "code",
    "collapsed": false,
    "id": "RGzynPFw0U3b",
    "jupyter": {
     "outputs_hidden": false
    },
    "outputId": "3d78f64e-a0b2-4115-d7b5-f4993b71c711"
   },
   "outputs": [
    {
     "data": {
      "text/plain": [
       "'\\nax = plt.axes()\\nax.plot(np.random.rand(50))\\n\\nax.yaxis.set_major_locator(plt.NullLocator())\\nax.xaxis.set_major_formatter(plt.NullFormatter())\\n'"
      ]
     },
     "execution_count": 63,
     "metadata": {},
     "output_type": "execute_result"
    }
   ],
   "source": [
    "'''\n",
    "ax = plt.axes()\n",
    "ax.plot(np.random.rand(50))\n",
    "\n",
    "ax.yaxis.set_major_locator(plt.NullLocator())\n",
    "ax.xaxis.set_major_formatter(plt.NullFormatter())\n",
    "'''"
   ]
  },
  {
   "cell_type": "markdown",
   "metadata": {
    "colab_type": "text",
    "id": "KFPlhrSr0U3e"
   },
   "source": [
    "Notice that we've removed the labels (but kept the ticks/gridlines) from the x axis, and removed the ticks (and thus the labels as well) from the y axis.\n",
    "Having no ticks at all can be useful in many situations—for example, when you want to show a grid of images.\n",
    "For instance, consider the following figure, which includes images of different faces, an example often used in supervised machine learning problems (see, for example, [In-Depth: Support Vector Machines](05.07-Support-Vector-Machines.ipynb)):"
   ]
  },
  {
   "cell_type": "code",
   "execution_count": 64,
   "metadata": {
    "colab": {},
    "colab_type": "code",
    "collapsed": false,
    "id": "-yIAiQSb0U3e",
    "jupyter": {
     "outputs_hidden": false
    },
    "outputId": "d5e8e145-1a32-49f1-8a51-858e1e0d09b8"
   },
   "outputs": [
    {
     "data": {
      "text/plain": [
       "'\\nfig, ax = plt.subplots(5, 5, figsize=(5, 5))\\nfig.subplots_adjust(hspace=0, wspace=0)\\n\\n# Get some face data from scikit-learn\\nfrom sklearn.datasets import fetch_olivetti_faces\\nfaces = fetch_olivetti_faces().images\\n\\nfor i in range(5):\\n    for j in range(5):\\n        ax[i, j].xaxis.set_major_locator(plt.NullLocator())\\n        ax[i, j].yaxis.set_major_locator(plt.NullLocator())\\n        ax[i, j].imshow(faces[10 * i + j], cmap=\"bone\")\\n'"
      ]
     },
     "execution_count": 64,
     "metadata": {},
     "output_type": "execute_result"
    }
   ],
   "source": [
    "'''\n",
    "fig, ax = plt.subplots(5, 5, figsize=(5, 5))\n",
    "fig.subplots_adjust(hspace=0, wspace=0)\n",
    "\n",
    "# Get some face data from scikit-learn\n",
    "from sklearn.datasets import fetch_olivetti_faces\n",
    "faces = fetch_olivetti_faces().images\n",
    "\n",
    "for i in range(5):\n",
    "    for j in range(5):\n",
    "        ax[i, j].xaxis.set_major_locator(plt.NullLocator())\n",
    "        ax[i, j].yaxis.set_major_locator(plt.NullLocator())\n",
    "        ax[i, j].imshow(faces[10 * i + j], cmap=\"bone\")\n",
    "'''"
   ]
  },
  {
   "cell_type": "markdown",
   "metadata": {
    "colab_type": "text",
    "id": "iK25vxV80U3f"
   },
   "source": [
    "Notice that each image has its own axes, and we've set the locators to null because the tick values (pixel number in this case) do not convey relevant information for this particular visualization."
   ]
  },
  {
   "cell_type": "markdown",
   "metadata": {
    "colab_type": "text",
    "id": "jY7CioN90U3f"
   },
   "source": [
    "## Reducing or Increasing the Number of Ticks\n",
    "\n",
    "One common problem with the default settings is that smaller subplots can end up with crowded labels.\n",
    "We can see this in the plot grid shown here:"
   ]
  },
  {
   "cell_type": "code",
   "execution_count": 65,
   "metadata": {
    "colab": {},
    "colab_type": "code",
    "collapsed": false,
    "id": "ohdlkpE80U3f",
    "jupyter": {
     "outputs_hidden": false
    },
    "outputId": "666bec2d-c18e-4ca6-fea5-8d52aa4710e6"
   },
   "outputs": [],
   "source": [
    "# fig, ax = plt.subplots(4, 4, sharex=True, sharey=True)"
   ]
  },
  {
   "cell_type": "markdown",
   "metadata": {
    "colab_type": "text",
    "id": "nWjIoM5f0U3g"
   },
   "source": [
    "Particularly for the x ticks, the numbers nearly overlap and make them quite difficult to decipher.\n",
    "We can fix this with the ``plt.MaxNLocator()``, which allows us to specify the maximum number of ticks that will be displayed.\n",
    "Given this maximum number, Matplotlib will use internal logic to choose the particular tick locations:"
   ]
  },
  {
   "cell_type": "code",
   "execution_count": 66,
   "metadata": {
    "colab": {},
    "colab_type": "code",
    "collapsed": false,
    "id": "dYmLVale0U3g",
    "jupyter": {
     "outputs_hidden": false
    },
    "outputId": "c2e1e7ff-b3f0-47a5-a0bb-b84821784e67"
   },
   "outputs": [
    {
     "data": {
      "text/plain": [
       "'\\n# For every axis, set the x and y major locator\\nfor axi in ax.flat:\\n    axi.xaxis.set_major_locator(plt.MaxNLocator(3))\\n    axi.yaxis.set_major_locator(plt.MaxNLocator(3))\\nfig\\n'"
      ]
     },
     "execution_count": 66,
     "metadata": {},
     "output_type": "execute_result"
    }
   ],
   "source": [
    "'''\n",
    "# For every axis, set the x and y major locator\n",
    "for axi in ax.flat:\n",
    "    axi.xaxis.set_major_locator(plt.MaxNLocator(3))\n",
    "    axi.yaxis.set_major_locator(plt.MaxNLocator(3))\n",
    "fig\n",
    "'''"
   ]
  },
  {
   "cell_type": "markdown",
   "metadata": {
    "colab_type": "text",
    "id": "Wf7DL-Oh0U3k"
   },
   "source": [
    "This makes things much cleaner. If you want even more control over the locations of regularly-spaced ticks, you might also use ``plt.MultipleLocator``, which we'll discuss in the following section."
   ]
  },
  {
   "cell_type": "markdown",
   "metadata": {
    "colab_type": "text",
    "id": "odis9hNW0U3k"
   },
   "source": [
    "## Fancy Tick Formats\n",
    "\n",
    "Matplotlib's default tick formatting can leave a lot to be desired: it works well as a broad default, but sometimes you'd like do do something more.\n",
    "Consider this plot of a sine and a cosine:"
   ]
  },
  {
   "cell_type": "code",
   "execution_count": 67,
   "metadata": {
    "colab": {},
    "colab_type": "code",
    "collapsed": false,
    "id": "7cDfU8oc0U3k",
    "jupyter": {
     "outputs_hidden": false
    },
    "outputId": "bebb4fc0-d1e6-40ad-80b7-f2f86b692667"
   },
   "outputs": [
    {
     "data": {
      "text/plain": [
       "\"\\n# Plot a sine and cosine curve\\nfig, ax = plt.subplots()\\nx = np.linspace(0, 3 * np.pi, 1000)\\nax.plot(x, np.sin(x), lw=3, label='Sine')\\nax.plot(x, np.cos(x), lw=3, label='Cosine')\\n\\n# Set up grid, legend, and limits\\nax.grid(True)\\nax.legend(frameon=False)\\nax.axis('equal')\\nax.set_xlim(0, 3 * np.pi);\\n\""
      ]
     },
     "execution_count": 67,
     "metadata": {},
     "output_type": "execute_result"
    }
   ],
   "source": [
    "'''\n",
    "# Plot a sine and cosine curve\n",
    "fig, ax = plt.subplots()\n",
    "x = np.linspace(0, 3 * np.pi, 1000)\n",
    "ax.plot(x, np.sin(x), lw=3, label='Sine')\n",
    "ax.plot(x, np.cos(x), lw=3, label='Cosine')\n",
    "\n",
    "# Set up grid, legend, and limits\n",
    "ax.grid(True)\n",
    "ax.legend(frameon=False)\n",
    "ax.axis('equal')\n",
    "ax.set_xlim(0, 3 * np.pi);\n",
    "'''"
   ]
  },
  {
   "cell_type": "markdown",
   "metadata": {
    "colab_type": "text",
    "id": "ApANPyFN0U3l"
   },
   "source": [
    "There are a couple changes we might like to make. First, it's more natural for this data to space the ticks and grid lines in multiples of $\\pi$. We can do this by setting a ``MultipleLocator``, which locates ticks at a multiple of the number you provide. For good measure, we'll add both major and minor ticks in multiples of $\\pi/4$:"
   ]
  },
  {
   "cell_type": "code",
   "execution_count": 68,
   "metadata": {
    "colab": {},
    "colab_type": "code",
    "collapsed": false,
    "id": "TCeqS2Fz0U3m",
    "jupyter": {
     "outputs_hidden": false
    },
    "outputId": "f9f3ba06-80db-4562-fa00-b0f4c1027704"
   },
   "outputs": [],
   "source": [
    "# ax.xaxis.set_major_locator(plt.MultipleLocator(np.pi / 2))\n",
    "# ax.xaxis.set_minor_locator(plt.MultipleLocator(np.pi / 4))\n",
    "# fig"
   ]
  },
  {
   "cell_type": "markdown",
   "metadata": {
    "colab_type": "text",
    "id": "qSzVR2rN0U3m"
   },
   "source": [
    "But now these tick labels look a little bit silly: we can see that they are multiples of $\\pi$, but the decimal representation does not immediately convey this.\n",
    "To fix this, we can change the tick formatter. There's no built-in formatter for what we want to do, so we'll instead use ``plt.FuncFormatter``, which accepts a user-defined function giving fine-grained control over the tick outputs:"
   ]
  },
  {
   "cell_type": "code",
   "execution_count": 69,
   "metadata": {
    "colab": {},
    "colab_type": "code",
    "collapsed": false,
    "id": "2-TreRHT0U3m",
    "jupyter": {
     "outputs_hidden": false
    },
    "outputId": "6a65cbba-add2-485a-98cc-afd1d6c4f96f"
   },
   "outputs": [
    {
     "data": {
      "text/plain": [
       "'\\ndef format_func(value, tick_number):\\n    # find number of multiples of pi/2\\n    N = int(np.round(2 * value / np.pi))\\n    if N == 0:\\n        return \"0\"\\n    elif N == 1:\\n        return r\"$\\\\pi/2$\"\\n    elif N == 2:\\n        return r\"$\\\\pi$\"\\n    elif N % 2 > 0:\\n        return r\"${0}\\\\pi/2$\".format(N)\\n    else:\\n        return r\"${0}\\\\pi$\".format(N // 2)\\n\\nax.xaxis.set_major_formatter(plt.FuncFormatter(format_func))\\nfig\\n'"
      ]
     },
     "execution_count": 69,
     "metadata": {},
     "output_type": "execute_result"
    }
   ],
   "source": [
    "'''\n",
    "def format_func(value, tick_number):\n",
    "    # find number of multiples of pi/2\n",
    "    N = int(np.round(2 * value / np.pi))\n",
    "    if N == 0:\n",
    "        return \"0\"\n",
    "    elif N == 1:\n",
    "        return r\"$\\pi/2$\"\n",
    "    elif N == 2:\n",
    "        return r\"$\\pi$\"\n",
    "    elif N % 2 > 0:\n",
    "        return r\"${0}\\pi/2$\".format(N)\n",
    "    else:\n",
    "        return r\"${0}\\pi$\".format(N // 2)\n",
    "\n",
    "ax.xaxis.set_major_formatter(plt.FuncFormatter(format_func))\n",
    "fig\n",
    "'''"
   ]
  },
  {
   "cell_type": "markdown",
   "metadata": {
    "colab_type": "text",
    "id": "X5ry2fFf0U3n"
   },
   "source": [
    "This is much better! Notice that we've made use of Matplotlib's LaTeX support, specified by enclosing the string within dollar signs. This is very convenient for display of mathematical symbols and formulae: in this case, ``\"$\\pi$\"`` is rendered as the Greek character $\\pi$.\n",
    "\n",
    "The ``plt.FuncFormatter()`` offers extremely fine-grained control over the appearance of your plot ticks, and comes in very handy when preparing plots for presentation or publication."
   ]
  },
  {
   "cell_type": "markdown",
   "metadata": {
    "colab_type": "text",
    "id": "yWSZmA4t0U3n"
   },
   "source": [
    "## Summary of Formatters and Locators\n",
    "\n",
    "We've mentioned a couple of the available formatters and locators.\n",
    "We'll conclude this section by briefly listing all the built-in locator and formatter options. For more information on any of these, refer to the docstrings or to the Matplotlib online documentaion.\n",
    "Each of the following is available in the ``plt`` namespace:\n",
    "\n",
    "Locator class        | Description\n",
    "---------------------|-------------\n",
    "``NullLocator``      | No ticks\n",
    "``FixedLocator``     | Tick locations are fixed\n",
    "``IndexLocator``     | Locator for index plots (e.g., where x = range(len(y)))\n",
    "``LinearLocator``    | Evenly spaced ticks from min to max\n",
    "``LogLocator``       | Logarithmically ticks from min to max\n",
    "``MultipleLocator``  | Ticks and range are a multiple of base\n",
    "``MaxNLocator``      | Finds up to a max number of ticks at nice locations\n",
    "``AutoLocator``      | (Default.) MaxNLocator with simple defaults.\n",
    "``AutoMinorLocator`` | Locator for minor ticks\n",
    "\n",
    "Formatter Class       | Description\n",
    "----------------------|---------------\n",
    "``NullFormatter``     | No labels on the ticks\n",
    "``IndexFormatter``    | Set the strings from a list of labels\n",
    "``FixedFormatter``    | Set the strings manually for the labels\n",
    "``FuncFormatter``     | User-defined function sets the labels\n",
    "``FormatStrFormatter``| Use a format string for each value\n",
    "``ScalarFormatter``   | (Default.) Formatter for scalar values\n",
    "``LogFormatter``      | Default formatter for log axes\n",
    "\n",
    "We'll see further examples of these through the remainder of the book."
   ]
  },
  {
   "cell_type": "markdown",
   "metadata": {
    "colab_type": "text",
    "id": "ug5mMuzo0U3n"
   },
   "source": [
    "# Customizing Matplotlib: Configurations and Stylesheets"
   ]
  },
  {
   "cell_type": "markdown",
   "metadata": {
    "colab_type": "text",
    "id": "SEOz9sr90U3n"
   },
   "source": [
    "Matplotlib's default plot settings are often the subject of complaint among its users.\n",
    "While much is slated to change in the 2.0 Matplotlib release in late 2016, the ability to customize default settings helps bring the package inline with your own aesthetic preferences.\n",
    "\n",
    "Here we'll walk through some of Matplotlib's runtime configuration (rc) options, and take a look at the newer *stylesheets* feature, which contains some nice sets of default configurations."
   ]
  },
  {
   "cell_type": "markdown",
   "metadata": {
    "colab_type": "text",
    "id": "4QlKjIz_0U3o"
   },
   "source": [
    "## Plot Customization by Hand\n",
    "\n",
    "Through this chapter, we've seen how it is possible to tweak individual plot settings to end up with something that looks a little bit nicer than the default.\n",
    "It's possible to do these customizations for each individual plot.\n",
    "For example, here is a fairly drab default histogram:"
   ]
  },
  {
   "cell_type": "code",
   "execution_count": null,
   "metadata": {
    "colab": {},
    "colab_type": "code",
    "collapsed": true,
    "id": "kaTJ-C2l0U3o",
    "jupyter": {
     "outputs_hidden": true
    }
   },
   "outputs": [],
   "source": [
    "import matplotlib.pyplot as plt\n",
    "plt.style.use('classic')\n",
    "import numpy as np\n",
    "\n",
    "%matplotlib inline"
   ]
  },
  {
   "cell_type": "code",
   "execution_count": null,
   "metadata": {
    "colab": {},
    "colab_type": "code",
    "collapsed": false,
    "id": "50QsNEfk0U3o",
    "jupyter": {
     "outputs_hidden": false
    },
    "outputId": "fe264db0-83c8-407f-9d9d-aa438f65164b"
   },
   "outputs": [],
   "source": []
  },
  {
   "cell_type": "markdown",
   "metadata": {
    "colab_type": "text",
    "id": "L61HPxMf0U3q"
   },
   "source": [
    "We can adjust this by hand to make it a much more visually pleasing plot:"
   ]
  },
  {
   "cell_type": "code",
   "execution_count": 70,
   "metadata": {
    "colab": {},
    "colab_type": "code",
    "collapsed": false,
    "id": "D9h3UQwA0U3q",
    "jupyter": {
     "outputs_hidden": false
    },
    "outputId": "0471711c-ba72-41cb-d616-280a0f20efe4"
   },
   "outputs": [
    {
     "data": {
      "text/plain": [
       "\"\\n# use a gray background\\nax = plt.axes(axisbg='#E6E6E6')\\nax.set_axisbelow(True)\\n\\n# draw solid white grid lines\\nplt.grid(color='w', linestyle='solid')\\n\\n# hide axis spines\\nfor spine in ax.spines.values():\\n    spine.set_visible(False)\\n    \\n# hide top and right ticks\\nax.xaxis.tick_bottom()\\nax.yaxis.tick_left()\\n\\n# lighten ticks and labels\\nax.tick_params(colors='gray', direction='out')\\nfor tick in ax.get_xticklabels():\\n    tick.set_color('gray')\\nfor tick in ax.get_yticklabels():\\n    tick.set_color('gray')\\n    \\n# control face and edge color of histogram\\nax.hist(x, edgecolor='#E6E6E6', color='#EE6666');\\n\""
      ]
     },
     "execution_count": 70,
     "metadata": {},
     "output_type": "execute_result"
    }
   ],
   "source": [
    "'''\n",
    "# use a gray background\n",
    "ax = plt.axes(axisbg='#E6E6E6')\n",
    "ax.set_axisbelow(True)\n",
    "\n",
    "# draw solid white grid lines\n",
    "plt.grid(color='w', linestyle='solid')\n",
    "\n",
    "# hide axis spines\n",
    "for spine in ax.spines.values():\n",
    "    spine.set_visible(False)\n",
    "    \n",
    "# hide top and right ticks\n",
    "ax.xaxis.tick_bottom()\n",
    "ax.yaxis.tick_left()\n",
    "\n",
    "# lighten ticks and labels\n",
    "ax.tick_params(colors='gray', direction='out')\n",
    "for tick in ax.get_xticklabels():\n",
    "    tick.set_color('gray')\n",
    "for tick in ax.get_yticklabels():\n",
    "    tick.set_color('gray')\n",
    "    \n",
    "# control face and edge color of histogram\n",
    "ax.hist(x, edgecolor='#E6E6E6', color='#EE6666');\n",
    "'''"
   ]
  },
  {
   "cell_type": "markdown",
   "metadata": {
    "colab_type": "text",
    "id": "QRIjALXr0U3r"
   },
   "source": [
    "This looks better, and you may recognize the look as inspired by the look of the R language's ggplot visualization package.\n",
    "But this took a whole lot of effort!\n",
    "We definitely do not want to have to do all that tweaking each time we create a plot.\n",
    "Fortunately, there is a way to adjust these defaults once in a way that will work for all plots."
   ]
  },
  {
   "cell_type": "markdown",
   "metadata": {
    "colab_type": "text",
    "id": "NJoGHYJ20U3r"
   },
   "source": [
    "## Changing the Defaults: ``rcParams``\n",
    "\n",
    "Each time Matplotlib loads, it defines a runtime configuration (rc) containing the default styles for every plot element you create.\n",
    "This configuration can be adjusted at any time using the ``plt.rc`` convenience routine.\n",
    "Let's see what it looks like to modify the rc parameters so that our default plot will look similar to what we did before.\n",
    "\n",
    "We'll start by saving a copy of the current ``rcParams`` dictionary, so we can easily reset these changes in the current session:"
   ]
  },
  {
   "cell_type": "code",
   "execution_count": null,
   "metadata": {
    "colab": {},
    "colab_type": "code",
    "collapsed": true,
    "id": "TffiZ9Vk0U3r",
    "jupyter": {
     "outputs_hidden": true
    }
   },
   "outputs": [],
   "source": [
    "IPython_default = plt.rcParams.copy()"
   ]
  },
  {
   "cell_type": "markdown",
   "metadata": {
    "colab_type": "text",
    "id": "-ck6AyHY0U3s"
   },
   "source": [
    "Now we can use the ``plt.rc`` function to change some of these settings:"
   ]
  },
  {
   "cell_type": "code",
   "execution_count": null,
   "metadata": {
    "colab": {},
    "colab_type": "code",
    "collapsed": false,
    "id": "dhVFgYPL0U3s",
    "jupyter": {
     "outputs_hidden": false
    }
   },
   "outputs": [],
   "source": [
    "from matplotlib import cycler\n",
    "colors = cycler('color',\n",
    "                ['#EE6666', '#3388BB', '#9988DD',\n",
    "                 '#EECC55', '#88BB44', '#FFBBBB'])\n",
    "plt.rc('axes', facecolor='#E6E6E6', edgecolor='none',\n",
    "       axisbelow=True, grid=True, prop_cycle=colors)\n",
    "plt.rc('grid', color='w', linestyle='solid')\n",
    "plt.rc('xtick', direction='out', color='gray')\n",
    "plt.rc('ytick', direction='out', color='gray')\n",
    "plt.rc('patch', edgecolor='#E6E6E6')\n",
    "plt.rc('lines', linewidth=2)"
   ]
  },
  {
   "cell_type": "markdown",
   "metadata": {
    "colab_type": "text",
    "id": "Wpi2_eJ30U3t"
   },
   "source": [
    "With these settings defined, we can now create a plot and see our settings in action:"
   ]
  },
  {
   "cell_type": "code",
   "execution_count": 71,
   "metadata": {
    "colab": {},
    "colab_type": "code",
    "collapsed": false,
    "id": "sK-LNHGY0U3t",
    "jupyter": {
     "outputs_hidden": false
    },
    "outputId": "6ff9184e-7a11-4e45-c975-ec5a54ecc002"
   },
   "outputs": [],
   "source": [
    "# plt.hist(x);"
   ]
  },
  {
   "cell_type": "markdown",
   "metadata": {
    "colab_type": "text",
    "id": "CgBH4cIJ0U3u"
   },
   "source": [
    "Let's see what simple line plots look like with these rc parameters:"
   ]
  },
  {
   "cell_type": "code",
   "execution_count": 72,
   "metadata": {
    "colab": {},
    "colab_type": "code",
    "collapsed": false,
    "id": "Hu_xY7e50U3u",
    "jupyter": {
     "outputs_hidden": false
    },
    "outputId": "f00893ae-9c8c-4332-e559-9993673c7101"
   },
   "outputs": [],
   "source": [
    "# for i in range(4):\n",
    "#    plt.plot(np.random.rand(10))"
   ]
  },
  {
   "cell_type": "markdown",
   "metadata": {
    "colab_type": "text",
    "id": "JsAj04Yq0U3v"
   },
   "source": [
    "I find this much more aesthetically pleasing than the default styling.\n",
    "If you disagree with my aesthetic sense, the good news is that you can adjust the rc parameters to suit your own tastes!\n",
    "These settings can be saved in a *.matplotlibrc* file, which you can read about in the [Matplotlib documentation](http://Matplotlib.org/users/customizing.html).\n",
    "That said, I prefer to customize Matplotlib using its stylesheets instead."
   ]
  },
  {
   "cell_type": "markdown",
   "metadata": {
    "colab_type": "text",
    "id": "-pYXTsJe0U3v"
   },
   "source": [
    "## Stylesheets\n",
    "\n",
    "The version 1.4 release of Matplotlib in August 2014 added a very convenient ``style`` module, which includes a number of new default stylesheets, as well as the ability to create and package your own styles. These stylesheets are formatted similarly to the *.matplotlibrc* files mentioned earlier, but must be named with a *.mplstyle* extension.\n",
    "\n",
    "Even if you don't create your own style, the stylesheets included by default are extremely useful.\n",
    "The available styles are listed in ``plt.style.available``—here I'll list only the first five for brevity:"
   ]
  },
  {
   "cell_type": "code",
   "execution_count": 73,
   "metadata": {
    "colab": {},
    "colab_type": "code",
    "collapsed": false,
    "id": "aLbZBtqk0U3v",
    "jupyter": {
     "outputs_hidden": false
    },
    "outputId": "36115f2b-8484-4ddd-fca0-ed62ad50efe9"
   },
   "outputs": [],
   "source": [
    "# plt.style.available[:5]"
   ]
  },
  {
   "cell_type": "markdown",
   "metadata": {
    "colab_type": "text",
    "id": "eKHVsxf20U3w"
   },
   "source": [
    "The basic way to switch to a stylesheet is to call\n",
    "\n",
    "``` python\n",
    "plt.style.use('stylename')\n",
    "```\n",
    "\n",
    "But keep in mind that this will change the style for the rest of the session!\n",
    "Alternatively, you can use the style context manager, which sets a style temporarily:\n",
    "\n",
    "``` python\n",
    "with plt.style.context('stylename'):\n",
    "    make_a_plot()\n",
    "```\n"
   ]
  },
  {
   "cell_type": "markdown",
   "metadata": {
    "colab_type": "text",
    "id": "eDFe0AQG0U3w"
   },
   "source": [
    "Let's create a function that will make two basic types of plot:"
   ]
  },
  {
   "cell_type": "code",
   "execution_count": 74,
   "metadata": {
    "colab": {},
    "colab_type": "code",
    "id": "D53dRNfC0U3w"
   },
   "outputs": [
    {
     "data": {
      "text/plain": [
       "\"\\ndef hist_and_lines():\\n    np.random.seed(0)\\n    fig, ax = plt.subplots(1, 2, figsize=(11, 4))\\n    ax[0].hist(np.random.randn(1000))\\n    for i in range(3):\\n        ax[1].plot(np.random.rand(10))\\n    ax[1].legend(['a', 'b', 'c'], loc='lower left')\\n\""
      ]
     },
     "execution_count": 74,
     "metadata": {},
     "output_type": "execute_result"
    }
   ],
   "source": [
    "'''\n",
    "def hist_and_lines():\n",
    "    np.random.seed(0)\n",
    "    fig, ax = plt.subplots(1, 2, figsize=(11, 4))\n",
    "    ax[0].hist(np.random.randn(1000))\n",
    "    for i in range(3):\n",
    "        ax[1].plot(np.random.rand(10))\n",
    "    ax[1].legend(['a', 'b', 'c'], loc='lower left')\n",
    "'''"
   ]
  },
  {
   "cell_type": "markdown",
   "metadata": {
    "colab_type": "text",
    "id": "mm2q2-GL0U3x"
   },
   "source": [
    "We'll use this to explore how these plots look using the various built-in styles."
   ]
  },
  {
   "cell_type": "markdown",
   "metadata": {
    "colab_type": "text",
    "id": "oaNqJLvv0U3y"
   },
   "source": [
    "### Default style\n",
    "\n",
    "The default style is what we've been seeing so far throughout the book; we'll start with that.\n",
    "First, let's reset our runtime configuration to the notebook default:"
   ]
  },
  {
   "cell_type": "code",
   "execution_count": null,
   "metadata": {
    "colab": {},
    "colab_type": "code",
    "collapsed": false,
    "id": "7u-kOFa80U3y",
    "jupyter": {
     "outputs_hidden": false
    }
   },
   "outputs": [],
   "source": [
    "# reset rcParams\n",
    "plt.rcParams.update(IPython_default);"
   ]
  },
  {
   "cell_type": "markdown",
   "metadata": {
    "colab_type": "text",
    "id": "GzUe2C1A0U30"
   },
   "source": [
    "Now let's see how it looks:"
   ]
  },
  {
   "cell_type": "code",
   "execution_count": 75,
   "metadata": {
    "colab": {},
    "colab_type": "code",
    "collapsed": false,
    "id": "xmIfTGEi0U30",
    "jupyter": {
     "outputs_hidden": false
    },
    "outputId": "47d8658b-e643-44e0-a938-45e939a63ab2"
   },
   "outputs": [],
   "source": [
    "# hist_and_lines()"
   ]
  },
  {
   "cell_type": "markdown",
   "metadata": {
    "colab_type": "text",
    "id": "BZtmPRCs0U31"
   },
   "source": [
    "### FiveThiryEight style\n",
    "\n",
    "The ``fivethirtyeight`` style mimics the graphics found on the popular [FiveThirtyEight website](https://fivethirtyeight.com).\n",
    "As you can see here, it is typified by bold colors, thick lines, and transparent axes:"
   ]
  },
  {
   "cell_type": "code",
   "execution_count": 76,
   "metadata": {
    "colab": {},
    "colab_type": "code",
    "collapsed": false,
    "id": "L6meXhBH0U31",
    "jupyter": {
     "outputs_hidden": false
    },
    "outputId": "a9e07f87-4a83-40f1-c108-9487a8466d90"
   },
   "outputs": [],
   "source": [
    "# with plt.style.context('fivethirtyeight'):\n",
    "#    hist_and_lines()"
   ]
  },
  {
   "cell_type": "markdown",
   "metadata": {
    "colab_type": "text",
    "id": "HodR3J8T0U33"
   },
   "source": [
    "### ggplot\n",
    "\n",
    "The ``ggplot`` package in the R language is a very popular visualization tool.\n",
    "Matplotlib's ``ggplot`` style mimics the default styles from that package:"
   ]
  },
  {
   "cell_type": "code",
   "execution_count": 77,
   "metadata": {
    "colab": {},
    "colab_type": "code",
    "collapsed": false,
    "id": "dJE2fuX80U33",
    "jupyter": {
     "outputs_hidden": false
    },
    "outputId": "f52f1adb-8f43-41c8-ed70-6093d1cb6d91"
   },
   "outputs": [],
   "source": [
    "# with plt.style.context('ggplot'):\n",
    "#    hist_and_lines()"
   ]
  },
  {
   "cell_type": "markdown",
   "metadata": {
    "colab_type": "text",
    "id": "Un6kIqyc0U34"
   },
   "source": [
    "### *Bayesian Methods for Hackers( style\n",
    "\n",
    "There is a very nice short online book called [*Probabilistic Programming and Bayesian Methods for Hackers*](http://camdavidsonpilon.github.io/Probabilistic-Programming-and-Bayesian-Methods-for-Hackers/); it features figures created with Matplotlib, and uses a nice set of rc parameters to create a consistent and visually-appealing style throughout the book.\n",
    "This style is reproduced in the ``bmh`` stylesheet:"
   ]
  },
  {
   "cell_type": "code",
   "execution_count": 78,
   "metadata": {
    "colab": {},
    "colab_type": "code",
    "collapsed": false,
    "id": "4gf0XGdQ0U34",
    "jupyter": {
     "outputs_hidden": false
    },
    "outputId": "4717a6b2-7457-4f77-bd9f-fadca6a3094b"
   },
   "outputs": [],
   "source": [
    "# with plt.style.context('bmh'):\n",
    "#    hist_and_lines()"
   ]
  },
  {
   "cell_type": "markdown",
   "metadata": {
    "colab_type": "text",
    "id": "41q_Kksy0U35"
   },
   "source": [
    "### Dark background\n",
    "\n",
    "For figures used within presentations, it is often useful to have a dark rather than light background.\n",
    "The ``dark_background`` style provides this:"
   ]
  },
  {
   "cell_type": "code",
   "execution_count": 79,
   "metadata": {
    "colab": {},
    "colab_type": "code",
    "collapsed": false,
    "id": "aohKweDC0U35",
    "jupyter": {
     "outputs_hidden": false
    },
    "outputId": "d6c720be-27ce-4f03-f000-619263ddf7bf"
   },
   "outputs": [],
   "source": [
    "# with plt.style.context('dark_background'):\n",
    "#    hist_and_lines()"
   ]
  },
  {
   "cell_type": "markdown",
   "metadata": {
    "colab_type": "text",
    "id": "Oy7tdEWd0U36"
   },
   "source": [
    "### Grayscale\n",
    "\n",
    "Sometimes you might find yourself preparing figures for a print publication that does not accept color figures.\n",
    "For this, the ``grayscale`` style, shown here, can be very useful:"
   ]
  },
  {
   "cell_type": "code",
   "execution_count": 80,
   "metadata": {
    "colab": {},
    "colab_type": "code",
    "collapsed": false,
    "id": "Bb9MyQBp0U36",
    "jupyter": {
     "outputs_hidden": false
    },
    "outputId": "5c3247e4-6d57-405a-d073-af9d44f89a58"
   },
   "outputs": [],
   "source": [
    "# with plt.style.context('grayscale'):\n",
    "#    hist_and_lines()"
   ]
  },
  {
   "cell_type": "markdown",
   "metadata": {
    "colab_type": "text",
    "id": "Yv7DcwF20U37"
   },
   "source": [
    "### Seaborn style\n",
    "\n",
    "Matplotlib also has stylesheets inspired by the Seaborn library (discussed more fully in [Visualization With Seaborn](04.14-Visualization-With-Seaborn.ipynb)).\n",
    "As we will see, these styles are loaded automatically when Seaborn is imported into a notebook.\n",
    "I've found these settings to be very nice, and tend to use them as defaults in my own data exploration."
   ]
  },
  {
   "cell_type": "code",
   "execution_count": 81,
   "metadata": {
    "colab": {},
    "colab_type": "code",
    "collapsed": false,
    "id": "6dfxlu5x0U37",
    "jupyter": {
     "outputs_hidden": false
    },
    "outputId": "89180a5b-e4cc-442b-e905-cd13e0481f98"
   },
   "outputs": [],
   "source": [
    "# import seaborn\n",
    "# hist_and_lines()"
   ]
  },
  {
   "cell_type": "markdown",
   "metadata": {
    "colab_type": "text",
    "id": "e0RqFwg80U38"
   },
   "source": [
    "With all of these built-in options for various plot styles, Matplotlib becomes much more useful for both interactive visualization and creation of figures for publication.\n",
    "Throughout this book, I will generally use one or more of these style conventions when creating plots."
   ]
  },
  {
   "cell_type": "markdown",
   "metadata": {
    "colab_type": "text",
    "id": "u9KuefAx0U38"
   },
   "source": [
    "# Three-Dimensional Plotting in Matplotlib"
   ]
  },
  {
   "cell_type": "markdown",
   "metadata": {
    "colab_type": "text",
    "id": "MJV63OJY0U38"
   },
   "source": [
    "Matplotlib was initially designed with only two-dimensional plotting in mind.\n",
    "Around the time of the 1.0 release, some three-dimensional plotting utilities were built on top of Matplotlib's two-dimensional display, and the result is a convenient (if somewhat limited) set of tools for three-dimensional data visualization.\n",
    "three-dimensional plots are enabled by importing the ``mplot3d`` toolkit, included with the main Matplotlib installation:"
   ]
  },
  {
   "cell_type": "code",
   "execution_count": null,
   "metadata": {
    "colab": {},
    "colab_type": "code",
    "collapsed": false,
    "id": "0843aSLu0U38",
    "jupyter": {
     "outputs_hidden": false
    }
   },
   "outputs": [],
   "source": [
    "from mpl_toolkits import mplot3d"
   ]
  },
  {
   "cell_type": "markdown",
   "metadata": {
    "colab_type": "text",
    "id": "hxTgfNkx0U39"
   },
   "source": [
    "Once this submodule is imported, a three-dimensional axes can be created by passing the keyword ``projection='3d'`` to any of the normal axes creation routines:"
   ]
  },
  {
   "cell_type": "code",
   "execution_count": null,
   "metadata": {
    "colab": {},
    "colab_type": "code",
    "collapsed": true,
    "id": "z1bAH6bW0U39",
    "jupyter": {
     "outputs_hidden": true
    }
   },
   "outputs": [],
   "source": [
    "%matplotlib inline\n",
    "import numpy as np\n",
    "import matplotlib.pyplot as plt"
   ]
  },
  {
   "cell_type": "code",
   "execution_count": null,
   "metadata": {
    "colab": {},
    "colab_type": "code",
    "collapsed": false,
    "id": "b5bkpt0i0U3-",
    "jupyter": {
     "outputs_hidden": false
    },
    "outputId": "cac32ff7-e22c-4b8c-a862-c77c98498b54"
   },
   "outputs": [],
   "source": []
  },
  {
   "cell_type": "markdown",
   "metadata": {
    "colab_type": "text",
    "id": "I7ydRQ5_0U3_"
   },
   "source": [
    "With this three-dimensional axes enabled, we can now plot a variety of three-dimensional plot types. \n",
    "Three-dimensional plotting is one of the functionalities that benefits immensely from viewing figures interactively rather than statically in the notebook; recall that to use interactive figures, you can use ``%matplotlib notebook`` rather than ``%matplotlib inline`` when running this code."
   ]
  },
  {
   "cell_type": "markdown",
   "metadata": {
    "colab_type": "text",
    "id": "3XWHEEkX0U3_"
   },
   "source": [
    "## Three-dimensional Points and Lines\n",
    "\n",
    "The most basic three-dimensional plot is a line or collection of scatter plot created from sets of (x, y, z) triples.\n",
    "In analogy with the more common two-dimensional plots discussed earlier, these can be created using the ``ax.plot3D`` and ``ax.scatter3D`` functions.\n",
    "The call signature for these is nearly identical to that of their two-dimensional counterparts, so you can refer to [Simple Line Plots](04.01-Simple-Line-Plots.ipynb) and [Simple Scatter Plots](04.02-Simple-Scatter-Plots.ipynb) for more information on controlling the output.\n",
    "Here we'll plot a trigonometric spiral, along with some points drawn randomly near the line:"
   ]
  },
  {
   "cell_type": "code",
   "execution_count": 82,
   "metadata": {
    "colab": {},
    "colab_type": "code",
    "collapsed": false,
    "id": "FCqTxPvn0U3_",
    "jupyter": {
     "outputs_hidden": false
    },
    "outputId": "3ac2cdc5-618b-4a3b-83c7-4e330abea349"
   },
   "outputs": [
    {
     "data": {
      "text/plain": [
       "\"\\nax = plt.axes(projection='3d')\\n\\n# Data for a three-dimensional line\\nzline = np.linspace(0, 15, 1000)\\nxline = np.sin(zline)\\nyline = np.cos(zline)\\nax.plot3D(xline, yline, zline, 'gray')\\n\\n# Data for three-dimensional scattered points\\nzdata = 15 * np.random.random(100)\\nxdata = np.sin(zdata) + 0.1 * np.random.randn(100)\\nydata = np.cos(zdata) + 0.1 * np.random.randn(100)\\nax.scatter3D(xdata, ydata, zdata, c=zdata, cmap='Greens');\\n\""
      ]
     },
     "execution_count": 82,
     "metadata": {},
     "output_type": "execute_result"
    }
   ],
   "source": [
    "'''\n",
    "ax = plt.axes(projection='3d')\n",
    "\n",
    "# Data for a three-dimensional line\n",
    "zline = np.linspace(0, 15, 1000)\n",
    "xline = np.sin(zline)\n",
    "yline = np.cos(zline)\n",
    "ax.plot3D(xline, yline, zline, 'gray')\n",
    "\n",
    "# Data for three-dimensional scattered points\n",
    "zdata = 15 * np.random.random(100)\n",
    "xdata = np.sin(zdata) + 0.1 * np.random.randn(100)\n",
    "ydata = np.cos(zdata) + 0.1 * np.random.randn(100)\n",
    "ax.scatter3D(xdata, ydata, zdata, c=zdata, cmap='Greens');\n",
    "'''"
   ]
  },
  {
   "cell_type": "markdown",
   "metadata": {
    "colab_type": "text",
    "id": "q68S9VoY0U4A"
   },
   "source": [
    "Notice that by default, the scatter points have their transparency adjusted to give a sense of depth on the page.\n",
    "While the three-dimensional effect is sometimes difficult to see within a static image, an interactive view can lead to some nice intuition about the layout of the points."
   ]
  },
  {
   "cell_type": "markdown",
   "metadata": {
    "colab_type": "text",
    "id": "n762Yvob0U4A"
   },
   "source": [
    "## Three-dimensional Contour Plots\n",
    "\n",
    "Analogous to the contour plots we explored in [Density and Contour Plots](04.04-Density-and-Contour-Plots.ipynb), ``mplot3d`` contains tools to create three-dimensional relief plots using the same inputs.\n",
    "Like two-dimensional ``ax.contour`` plots, ``ax.contour3D`` requires all the input data to be in the form of two-dimensional regular grids, with the Z data evaluated at each point.\n",
    "Here we'll show a three-dimensional contour diagram of a three-dimensional sinusoidal function:"
   ]
  },
  {
   "cell_type": "code",
   "execution_count": null,
   "metadata": {
    "colab": {},
    "colab_type": "code",
    "collapsed": false,
    "id": "puoD5gvr0U4A",
    "jupyter": {
     "outputs_hidden": false
    }
   },
   "outputs": [],
   "source": [
    "'''\n",
    "def f(x, y):\n",
    "    return np.sin(np.sqrt(x ** 2 + y ** 2))\n",
    "\n",
    "x = np.linspace(-6, 6, 30)\n",
    "y = np.linspace(-6, 6, 30)\n",
    "\n",
    "X, Y = np.meshgrid(x, y)\n",
    "Z = f(X, Y)\n",
    "'''"
   ]
  },
  {
   "cell_type": "code",
   "execution_count": 83,
   "metadata": {
    "colab": {},
    "colab_type": "code",
    "collapsed": false,
    "id": "GrX6CNr10U4B",
    "jupyter": {
     "outputs_hidden": false
    },
    "outputId": "e7543686-956d-4708-ed14-6f40150aa8c9"
   },
   "outputs": [
    {
     "data": {
      "text/plain": [
       "\"\\nfig = plt.figure()\\nax = plt.axes(projection='3d')\\nax.contour3D(X, Y, Z, 50, cmap='binary')\\nax.set_xlabel('x')\\nax.set_ylabel('y')\\nax.set_zlabel('z');\\n\""
      ]
     },
     "execution_count": 83,
     "metadata": {},
     "output_type": "execute_result"
    }
   ],
   "source": [
    "'''\n",
    "fig = plt.figure()\n",
    "ax = plt.axes(projection='3d')\n",
    "ax.contour3D(X, Y, Z, 50, cmap='binary')\n",
    "ax.set_xlabel('x')\n",
    "ax.set_ylabel('y')\n",
    "ax.set_zlabel('z');\n",
    "'''"
   ]
  },
  {
   "cell_type": "markdown",
   "metadata": {
    "colab_type": "text",
    "id": "qG6fVZps0U4B"
   },
   "source": [
    "Sometimes the default viewing angle is not optimal, in which case we can use the ``view_init`` method to set the elevation and azimuthal angles. In the following example, we'll use an elevation of 60 degrees (that is, 60 degrees above the x-y plane) and an azimuth of 35 degrees (that is, rotated 35 degrees counter-clockwise about the z-axis):"
   ]
  },
  {
   "cell_type": "code",
   "execution_count": 84,
   "metadata": {
    "colab": {},
    "colab_type": "code",
    "collapsed": false,
    "id": "8X4iPyHD0U4C",
    "jupyter": {
     "outputs_hidden": false
    },
    "outputId": "9995ac42-2ac0-4496-f698-f8377b1d5ed0"
   },
   "outputs": [],
   "source": [
    "# ax.view_init(60, 35)\n",
    "# fig"
   ]
  },
  {
   "cell_type": "markdown",
   "metadata": {
    "colab_type": "text",
    "id": "k27cqL2S0U4C"
   },
   "source": [
    "Again, note that this type of rotation can be accomplished interactively by clicking and dragging when using one of Matplotlib's interactive backends."
   ]
  },
  {
   "cell_type": "markdown",
   "metadata": {
    "colab_type": "text",
    "id": "LLq0zJHP0U4C"
   },
   "source": [
    "## Wireframes and Surface Plots\n",
    "\n",
    "Two other types of three-dimensional plots that work on gridded data are wireframes and surface plots.\n",
    "These take a grid of values and project it onto the specified three-dimensional surface, and can make the resulting three-dimensional forms quite easy to visualize.\n",
    "Here's an example of using a wireframe:"
   ]
  },
  {
   "cell_type": "code",
   "execution_count": 85,
   "metadata": {
    "colab": {},
    "colab_type": "code",
    "collapsed": false,
    "id": "Xk2S6vxY0U4D",
    "jupyter": {
     "outputs_hidden": false
    },
    "outputId": "7f9ced15-adf3-47b1-caba-ad327dc92071"
   },
   "outputs": [
    {
     "data": {
      "text/plain": [
       "\"\\nfig = plt.figure()\\nax = plt.axes(projection='3d')\\nax.plot_wireframe(X, Y, Z, color='black')\\nax.set_title('wireframe');\\n\""
      ]
     },
     "execution_count": 85,
     "metadata": {},
     "output_type": "execute_result"
    }
   ],
   "source": [
    "'''\n",
    "fig = plt.figure()\n",
    "ax = plt.axes(projection='3d')\n",
    "ax.plot_wireframe(X, Y, Z, color='black')\n",
    "ax.set_title('wireframe');\n",
    "'''"
   ]
  },
  {
   "cell_type": "markdown",
   "metadata": {
    "colab_type": "text",
    "id": "VyEQAsN80U4F"
   },
   "source": [
    "A surface plot is like a wireframe plot, but each face of the wireframe is a filled polygon.\n",
    "Adding a colormap to the filled polygons can aid perception of the topology of the surface being visualized:"
   ]
  },
  {
   "cell_type": "code",
   "execution_count": 86,
   "metadata": {
    "colab": {},
    "colab_type": "code",
    "collapsed": false,
    "id": "7tDF40qi0U4F",
    "jupyter": {
     "outputs_hidden": false
    },
    "outputId": "98f216f7-7709-42ae-f696-93446ae13aa0"
   },
   "outputs": [
    {
     "data": {
      "text/plain": [
       "\"\\nax = plt.axes(projection='3d')\\nax.plot_surface(X, Y, Z, rstride=1, cstride=1,\\n                cmap='viridis', edgecolor='none')\\nax.set_title('surface');\\n\""
      ]
     },
     "execution_count": 86,
     "metadata": {},
     "output_type": "execute_result"
    }
   ],
   "source": [
    "'''\n",
    "ax = plt.axes(projection='3d')\n",
    "ax.plot_surface(X, Y, Z, rstride=1, cstride=1,\n",
    "                cmap='viridis', edgecolor='none')\n",
    "ax.set_title('surface');\n",
    "'''"
   ]
  },
  {
   "cell_type": "markdown",
   "metadata": {
    "colab_type": "text",
    "id": "1mglPNRY0U4G"
   },
   "source": [
    "Note that though the grid of values for a surface plot needs to be two-dimensional, it need not be rectilinear.\n",
    "Here is an example of creating a partial polar grid, which when used with the ``surface3D`` plot can give us a slice into the function we're visualizing:"
   ]
  },
  {
   "cell_type": "code",
   "execution_count": 87,
   "metadata": {
    "colab": {},
    "colab_type": "code",
    "collapsed": false,
    "id": "-PSLBZd90U4G",
    "jupyter": {
     "outputs_hidden": false
    },
    "outputId": "c2aa2404-470d-4d87-98a8-1c68ae647a96"
   },
   "outputs": [
    {
     "data": {
      "text/plain": [
       "\"\\nr = np.linspace(0, 6, 20)\\ntheta = np.linspace(-0.9 * np.pi, 0.8 * np.pi, 40)\\nr, theta = np.meshgrid(r, theta)\\n\\nX = r * np.sin(theta)\\nY = r * np.cos(theta)\\nZ = f(X, Y)\\n\\nax = plt.axes(projection='3d')\\nax.plot_surface(X, Y, Z, rstride=1, cstride=1,\\n                cmap='viridis', edgecolor='none');\\n\""
      ]
     },
     "execution_count": 87,
     "metadata": {},
     "output_type": "execute_result"
    }
   ],
   "source": [
    "'''\n",
    "r = np.linspace(0, 6, 20)\n",
    "theta = np.linspace(-0.9 * np.pi, 0.8 * np.pi, 40)\n",
    "r, theta = np.meshgrid(r, theta)\n",
    "\n",
    "X = r * np.sin(theta)\n",
    "Y = r * np.cos(theta)\n",
    "Z = f(X, Y)\n",
    "\n",
    "ax = plt.axes(projection='3d')\n",
    "ax.plot_surface(X, Y, Z, rstride=1, cstride=1,\n",
    "                cmap='viridis', edgecolor='none');\n",
    "'''"
   ]
  },
  {
   "cell_type": "markdown",
   "metadata": {
    "colab_type": "text",
    "id": "JrNdqe8N0U4H"
   },
   "source": [
    "## Surface Triangulations\n",
    "\n",
    "For some applications, the evenly sampled grids required by the above routines is overly restrictive and inconvenient.\n",
    "In these situations, the triangulation-based plots can be very useful.\n",
    "What if rather than an even draw from a Cartesian or a polar grid, we instead have a set of random draws?"
   ]
  },
  {
   "cell_type": "code",
   "execution_count": 88,
   "metadata": {
    "colab": {},
    "colab_type": "code",
    "collapsed": false,
    "id": "k-RioMJW0U4H",
    "jupyter": {
     "outputs_hidden": false
    }
   },
   "outputs": [
    {
     "data": {
      "text/plain": [
       "'\\ntheta = 2 * np.pi * np.random.random(1000)\\nr = 6 * np.random.random(1000)\\nx = np.ravel(r * np.sin(theta))\\ny = np.ravel(r * np.cos(theta))\\nz = f(x, y)\\n'"
      ]
     },
     "execution_count": 88,
     "metadata": {},
     "output_type": "execute_result"
    }
   ],
   "source": [
    "'''\n",
    "theta = 2 * np.pi * np.random.random(1000)\n",
    "r = 6 * np.random.random(1000)\n",
    "x = np.ravel(r * np.sin(theta))\n",
    "y = np.ravel(r * np.cos(theta))\n",
    "z = f(x, y)\n",
    "'''"
   ]
  },
  {
   "cell_type": "markdown",
   "metadata": {
    "colab_type": "text",
    "id": "Spkc2lNR0U4J"
   },
   "source": [
    "We could create a scatter plot of the points to get an idea of the surface we're sampling from:"
   ]
  },
  {
   "cell_type": "code",
   "execution_count": 89,
   "metadata": {
    "colab": {},
    "colab_type": "code",
    "collapsed": false,
    "id": "PI4qgdpt0U4J",
    "jupyter": {
     "outputs_hidden": false
    },
    "outputId": "55832481-b3f7-472c-c86e-61035b6d3330"
   },
   "outputs": [],
   "source": [
    "# ax = plt.axes(projection='3d')\n",
    "# ax.scatter(x, y, z, c=z, cmap='viridis', linewidth=0.5);"
   ]
  },
  {
   "cell_type": "markdown",
   "metadata": {
    "colab_type": "text",
    "id": "E9fg0v1C0U4K"
   },
   "source": [
    "This leaves a lot to be desired.\n",
    "The function that will help us in this case is ``ax.plot_trisurf``, which creates a surface by first finding a set of triangles formed between adjacent points (remember that x, y, and z here are one-dimensional arrays):"
   ]
  },
  {
   "cell_type": "code",
   "execution_count": 90,
   "metadata": {
    "colab": {},
    "colab_type": "code",
    "collapsed": false,
    "id": "d3EvCW6z0U4K",
    "jupyter": {
     "outputs_hidden": false
    },
    "outputId": "b9865a93-dfc0-4cec-9db8-ea1c3809a689"
   },
   "outputs": [
    {
     "data": {
      "text/plain": [
       "\"\\nax = plt.axes(projection='3d')\\nax.plot_trisurf(x, y, z,\\n                cmap='viridis', edgecolor='none');\\n\""
      ]
     },
     "execution_count": 90,
     "metadata": {},
     "output_type": "execute_result"
    }
   ],
   "source": [
    "'''\n",
    "ax = plt.axes(projection='3d')\n",
    "ax.plot_trisurf(x, y, z,\n",
    "                cmap='viridis', edgecolor='none');\n",
    "'''"
   ]
  },
  {
   "cell_type": "markdown",
   "metadata": {
    "colab_type": "text",
    "id": "UyFIywnm0U4L"
   },
   "source": [
    "The result is certainly not as clean as when it is plotted with a grid, but the flexibility of such a triangulation allows for some really interesting three-dimensional plots.\n",
    "For example, it is actually possible to plot a three-dimensional Möbius strip using this, as we'll see next."
   ]
  },
  {
   "cell_type": "markdown",
   "metadata": {
    "colab_type": "text",
    "id": "JhzisOig0U4L"
   },
   "source": [
    "### Example: Visualizing a Möbius strip\n",
    "\n",
    "A Möbius strip is similar to a strip of paper glued into a loop with a half-twist.\n",
    "Topologically, it's quite interesting because despite appearances it has only a single side!\n",
    "Here we will visualize such an object using Matplotlib's three-dimensional tools.\n",
    "The key to creating the Möbius strip is to think about it's parametrization: it's a two-dimensional strip, so we need two intrinsic dimensions. Let's call them $\\theta$, which ranges from $0$ to $2\\pi$ around the loop, and $w$ which ranges from -1 to 1 across the width of the strip:"
   ]
  },
  {
   "cell_type": "code",
   "execution_count": 91,
   "metadata": {
    "colab": {},
    "colab_type": "code",
    "collapsed": false,
    "id": "EGhtntGj0U4L",
    "jupyter": {
     "outputs_hidden": false
    }
   },
   "outputs": [
    {
     "data": {
      "text/plain": [
       "'\\ntheta = np.linspace(0, 2 * np.pi, 30)\\nw = np.linspace(-0.25, 0.25, 8)\\nw, theta = np.meshgrid(w, theta)\\n'"
      ]
     },
     "execution_count": 91,
     "metadata": {},
     "output_type": "execute_result"
    }
   ],
   "source": [
    "'''\n",
    "theta = np.linspace(0, 2 * np.pi, 30)\n",
    "w = np.linspace(-0.25, 0.25, 8)\n",
    "w, theta = np.meshgrid(w, theta)\n",
    "'''"
   ]
  },
  {
   "cell_type": "markdown",
   "metadata": {
    "colab_type": "text",
    "id": "lrp-0sgG0U4M"
   },
   "source": [
    "Now from this parametrization, we must determine the *(x, y, z)* positions of the embedded strip.\n",
    "\n",
    "Thinking about it, we might realize that there are two rotations happening: one is the position of the loop about its center (what we've called $\\theta$), while the other is the twisting of the strip about its axis (we'll call this $\\phi$). For a Möbius strip, we must have the strip makes half a twist during a full loop, or $\\Delta\\phi = \\Delta\\theta/2$."
   ]
  },
  {
   "cell_type": "code",
   "execution_count": 92,
   "metadata": {
    "colab": {},
    "colab_type": "code",
    "collapsed": false,
    "id": "Kf2rO85K0U4N",
    "jupyter": {
     "outputs_hidden": false
    }
   },
   "outputs": [],
   "source": [
    "# phi = 0.5 * theta"
   ]
  },
  {
   "cell_type": "markdown",
   "metadata": {
    "colab_type": "text",
    "id": "AMsA15ak0U4P"
   },
   "source": [
    "Now we use our recollection of trigonometry to derive the three-dimensional embedding.\n",
    "We'll define $r$, the distance of each point from the center, and use this to find the embedded $(x, y, z)$ coordinates:"
   ]
  },
  {
   "cell_type": "code",
   "execution_count": 93,
   "metadata": {
    "colab": {},
    "colab_type": "code",
    "collapsed": false,
    "id": "Y0G7HZeE0U4Q",
    "jupyter": {
     "outputs_hidden": false
    }
   },
   "outputs": [
    {
     "data": {
      "text/plain": [
       "'\\n# radius in x-y plane\\nr = 1 + w * np.cos(phi)\\n\\nx = np.ravel(r * np.cos(theta))\\ny = np.ravel(r * np.sin(theta))\\nz = np.ravel(w * np.sin(phi))\\n'"
      ]
     },
     "execution_count": 93,
     "metadata": {},
     "output_type": "execute_result"
    }
   ],
   "source": [
    "'''\n",
    "# radius in x-y plane\n",
    "r = 1 + w * np.cos(phi)\n",
    "\n",
    "x = np.ravel(r * np.cos(theta))\n",
    "y = np.ravel(r * np.sin(theta))\n",
    "z = np.ravel(w * np.sin(phi))\n",
    "'''"
   ]
  },
  {
   "cell_type": "markdown",
   "metadata": {
    "colab_type": "text",
    "id": "QC1RGfMn0U4Q"
   },
   "source": [
    "Finally, to plot the object, we must make sure the triangulation is correct. The best way to do this is to define the triangulation *within the underlying parametrization*, and then let Matplotlib project this triangulation into the three-dimensional space of the Möbius strip.\n",
    "This can be accomplished as follows:"
   ]
  },
  {
   "cell_type": "code",
   "execution_count": 94,
   "metadata": {
    "colab": {},
    "colab_type": "code",
    "collapsed": false,
    "id": "w0B29h2u0U4Q",
    "jupyter": {
     "outputs_hidden": false
    },
    "outputId": "d29a6d71-130e-498d-9c70-264b5bceab8c"
   },
   "outputs": [
    {
     "data": {
      "text/plain": [
       "\"\\n# triangulate in the underlying parametrization\\nfrom matplotlib.tri import Triangulation\\ntri = Triangulation(np.ravel(w), np.ravel(theta))\\n\\nax = plt.axes(projection='3d')\\nax.plot_trisurf(x, y, z, triangles=tri.triangles,\\n                cmap='viridis', linewidths=0.2);\\n\\nax.set_xlim(-1, 1); ax.set_ylim(-1, 1); ax.set_zlim(-1, 1);\\n\""
      ]
     },
     "execution_count": 94,
     "metadata": {},
     "output_type": "execute_result"
    }
   ],
   "source": [
    "'''\n",
    "# triangulate in the underlying parametrization\n",
    "from matplotlib.tri import Triangulation\n",
    "tri = Triangulation(np.ravel(w), np.ravel(theta))\n",
    "\n",
    "ax = plt.axes(projection='3d')\n",
    "ax.plot_trisurf(x, y, z, triangles=tri.triangles,\n",
    "                cmap='viridis', linewidths=0.2);\n",
    "\n",
    "ax.set_xlim(-1, 1); ax.set_ylim(-1, 1); ax.set_zlim(-1, 1);\n",
    "'''"
   ]
  },
  {
   "cell_type": "markdown",
   "metadata": {
    "colab_type": "text",
    "id": "9UN4fQWq0U4R"
   },
   "source": [
    "Combining all of these techniques, it is possible to create and display a wide variety of three-dimensional objects and patterns in Matplotlib."
   ]
  },
  {
   "cell_type": "markdown",
   "metadata": {
    "colab_type": "text",
    "id": "laY0CaKE0U4S"
   },
   "source": [
    "# Geographic Data with Basemap"
   ]
  },
  {
   "cell_type": "markdown",
   "metadata": {
    "colab_type": "text",
    "id": "Zuk6ZpXw0U4S"
   },
   "source": [
    "One common type of visualization in data science is that of geographic data.\n",
    "Matplotlib's main tool for this type of visualization is the Basemap toolkit, which is one of several Matplotlib toolkits which lives under the ``mpl_toolkits`` namespace.\n",
    "Admittedly, Basemap feels a bit clunky to use, and often even simple visualizations take much longer to render than you might hope.\n",
    "More modern solutions such as leaflet or the Google Maps API may be a better choice for more intensive map visualizations.\n",
    "Still, Basemap is a useful tool for Python users to have in their virtual toolbelts.\n",
    "In this section, we'll show several examples of the type of map visualization that is possible with this toolkit.\n",
    "\n",
    "Installation of Basemap is straightforward; if you're using conda you can type this and the package will be downloaded:\n",
    "\n",
    "```\n",
    "$ conda install basemap\n",
    "```\n",
    "\n",
    "We add just a single new import to our standard boilerplate:"
   ]
  },
  {
   "cell_type": "code",
   "execution_count": null,
   "metadata": {
    "colab": {},
    "colab_type": "code",
    "collapsed": false,
    "id": "13x9GFz10U4S",
    "jupyter": {
     "outputs_hidden": false
    }
   },
   "outputs": [],
   "source": [
    "%matplotlib inline\n",
    "import numpy as np\n",
    "import matplotlib.pyplot as plt\n",
    "from mpl_toolkits.basemap import Basemap"
   ]
  },
  {
   "cell_type": "markdown",
   "metadata": {
    "colab_type": "text",
    "id": "tHMDNTWk0U4T"
   },
   "source": [
    "Once you have the Basemap toolkit installed and imported, geographic plots are just a few lines away (the graphics in the following also requires the ``PIL`` package in Python 2, or the ``pillow`` package in Python 3):"
   ]
  },
  {
   "cell_type": "code",
   "execution_count": 95,
   "metadata": {
    "colab": {},
    "colab_type": "code",
    "collapsed": false,
    "id": "BJ_78vNC0U4T",
    "jupyter": {
     "outputs_hidden": false
    },
    "outputId": "8615e1c7-9644-40a7-a06a-9f6fe889bad2"
   },
   "outputs": [
    {
     "data": {
      "text/plain": [
       "\"\\nplt.figure(figsize=(8, 8))\\nm = Basemap(projection='ortho', resolution=None, lat_0=50, lon_0=-100)\\nm.bluemarble(scale=0.5);\\n\""
      ]
     },
     "execution_count": 95,
     "metadata": {},
     "output_type": "execute_result"
    }
   ],
   "source": [
    "'''\n",
    "plt.figure(figsize=(8, 8))\n",
    "m = Basemap(projection='ortho', resolution=None, lat_0=50, lon_0=-100)\n",
    "m.bluemarble(scale=0.5);\n",
    "'''"
   ]
  },
  {
   "cell_type": "markdown",
   "metadata": {
    "colab_type": "text",
    "id": "9bJJjMA90U4U"
   },
   "source": [
    "The meaning of the arguments to ``Basemap`` will be discussed momentarily.\n",
    "\n",
    "The useful thing is that the globe shown here is not a mere image; it is a fully-functioning Matplotlib axes that understands spherical coordinates and which allows us to easily overplot data on the map!\n",
    "For example, we can use a different map projection, zoom-in to North America and plot the location of Seattle.\n",
    "We'll use an etopo image (which shows topographical features both on land and under the ocean) as the map background:"
   ]
  },
  {
   "cell_type": "code",
   "execution_count": 96,
   "metadata": {
    "colab": {},
    "colab_type": "code",
    "collapsed": false,
    "id": "0QU8q5S10U4U",
    "jupyter": {
     "outputs_hidden": false
    },
    "outputId": "bd824a53-3bc3-4112-a95e-228d35d76572"
   },
   "outputs": [
    {
     "data": {
      "text/plain": [
       "\"\\nfig = plt.figure(figsize=(8, 8))\\nm = Basemap(projection='lcc', resolution=None,\\n            width=8E6, height=8E6, \\n            lat_0=45, lon_0=-100,)\\nm.etopo(scale=0.5, alpha=0.5)\\n\\n# Map (long, lat) to (x, y) for plotting\\nx, y = m(-122.3, 47.6)\\nplt.plot(x, y, 'ok', markersize=5)\\nplt.text(x, y, ' Seattle', fontsize=12);\\n\""
      ]
     },
     "execution_count": 96,
     "metadata": {},
     "output_type": "execute_result"
    }
   ],
   "source": [
    "'''\n",
    "fig = plt.figure(figsize=(8, 8))\n",
    "m = Basemap(projection='lcc', resolution=None,\n",
    "            width=8E6, height=8E6, \n",
    "            lat_0=45, lon_0=-100,)\n",
    "m.etopo(scale=0.5, alpha=0.5)\n",
    "\n",
    "# Map (long, lat) to (x, y) for plotting\n",
    "x, y = m(-122.3, 47.6)\n",
    "plt.plot(x, y, 'ok', markersize=5)\n",
    "plt.text(x, y, ' Seattle', fontsize=12);\n",
    "'''"
   ]
  },
  {
   "cell_type": "markdown",
   "metadata": {
    "colab_type": "text",
    "id": "bhS4YM_c0U4X"
   },
   "source": [
    "This gives you a brief glimpse into the sort of geographic visualizations that are possible with just a few lines of Python.\n",
    "We'll now discuss the features of Basemap in more depth, and provide several examples of visualizing map data.\n",
    "Using these brief examples as building blocks, you should be able to create nearly any map visualization that you desire."
   ]
  },
  {
   "cell_type": "markdown",
   "metadata": {
    "colab_type": "text",
    "id": "mMM5lfeW0U4X"
   },
   "source": [
    "## Map Projections\n",
    "\n",
    "The first thing to decide when using maps is what projection to use.\n",
    "You're probably familiar with the fact that it is impossible to project a spherical map, such as that of the Earth, onto a flat surface without somehow distorting it or breaking its continuity.\n",
    "These projections have been developed over the course of human history, and there are a lot of choices!\n",
    "Depending on the intended use of the map projection, there are certain map features (e.g., direction, area, distance, shape, or other considerations) that are useful to maintain.\n",
    "\n",
    "The Basemap package implements several dozen such projections, all referenced by a short format code.\n",
    "Here we'll briefly demonstrate some of the more common ones.\n",
    "\n",
    "We'll start by defining a convenience routine to draw our world map along with the longitude and latitude lines:"
   ]
  },
  {
   "cell_type": "code",
   "execution_count": 97,
   "metadata": {
    "colab": {},
    "colab_type": "code",
    "collapsed": false,
    "id": "XmZvYsBC0U4X",
    "jupyter": {
     "outputs_hidden": false
    }
   },
   "outputs": [
    {
     "data": {
      "text/plain": [
       "\"\\nfrom itertools import chain\\n\\ndef draw_map(m, scale=0.2):\\n    # draw a shaded-relief image\\n    m.shadedrelief(scale=scale)\\n    \\n    # lats and longs are returned as a dictionary\\n    lats = m.drawparallels(np.linspace(-90, 90, 13))\\n    lons = m.drawmeridians(np.linspace(-180, 180, 13))\\n\\n    # keys contain the plt.Line2D instances\\n    lat_lines = chain(*(tup[1][0] for tup in lats.items()))\\n    lon_lines = chain(*(tup[1][0] for tup in lons.items()))\\n    all_lines = chain(lat_lines, lon_lines)\\n    \\n    # cycle through these lines and set the desired style\\n    for line in all_lines:\\n        line.set(linestyle='-', alpha=0.3, color='w')\\n\""
      ]
     },
     "execution_count": 97,
     "metadata": {},
     "output_type": "execute_result"
    }
   ],
   "source": [
    "'''\n",
    "from itertools import chain\n",
    "\n",
    "def draw_map(m, scale=0.2):\n",
    "    # draw a shaded-relief image\n",
    "    m.shadedrelief(scale=scale)\n",
    "    \n",
    "    # lats and longs are returned as a dictionary\n",
    "    lats = m.drawparallels(np.linspace(-90, 90, 13))\n",
    "    lons = m.drawmeridians(np.linspace(-180, 180, 13))\n",
    "\n",
    "    # keys contain the plt.Line2D instances\n",
    "    lat_lines = chain(*(tup[1][0] for tup in lats.items()))\n",
    "    lon_lines = chain(*(tup[1][0] for tup in lons.items()))\n",
    "    all_lines = chain(lat_lines, lon_lines)\n",
    "    \n",
    "    # cycle through these lines and set the desired style\n",
    "    for line in all_lines:\n",
    "        line.set(linestyle='-', alpha=0.3, color='w')\n",
    "'''"
   ]
  },
  {
   "cell_type": "markdown",
   "metadata": {
    "colab_type": "text",
    "id": "81VCCEPH0U4Y"
   },
   "source": [
    "### Cylindrical projections\n",
    "\n",
    "The simplest of map projections are cylindrical projections, in which lines of constant latitude and longitude are mapped to horizontal and vertical lines, respectively.\n",
    "This type of mapping represents equatorial regions quite well, but results in extreme distortions near the poles.\n",
    "The spacing of latitude lines varies between different cylindrical projections, leading to different conservation properties, and different distortion near the poles.\n",
    "In the following figure we show an example of the *equidistant cylindrical projection*, which chooses a latitude scaling that preserves distances along meridians.\n",
    "Other cylindrical projections are the Mercator (``projection='merc'``) and the cylindrical equal area (``projection='cea'``) projections."
   ]
  },
  {
   "cell_type": "code",
   "execution_count": 98,
   "metadata": {
    "colab": {},
    "colab_type": "code",
    "collapsed": false,
    "id": "w-TjRpnp0U4Y",
    "jupyter": {
     "outputs_hidden": false
    },
    "outputId": "39ac38c7-cd12-4cbf-ff3c-8badcf214a68"
   },
   "outputs": [
    {
     "data": {
      "text/plain": [
       "\"\\nfig = plt.figure(figsize=(8, 6), edgecolor='w')\\nm = Basemap(projection='cyl', resolution=None,\\n            llcrnrlat=-90, urcrnrlat=90,\\n            llcrnrlon=-180, urcrnrlon=180, )\\ndraw_map(m)\\n\""
      ]
     },
     "execution_count": 98,
     "metadata": {},
     "output_type": "execute_result"
    }
   ],
   "source": [
    "'''\n",
    "fig = plt.figure(figsize=(8, 6), edgecolor='w')\n",
    "m = Basemap(projection='cyl', resolution=None,\n",
    "            llcrnrlat=-90, urcrnrlat=90,\n",
    "            llcrnrlon=-180, urcrnrlon=180, )\n",
    "draw_map(m)\n",
    "'''"
   ]
  },
  {
   "cell_type": "markdown",
   "metadata": {
    "colab_type": "text",
    "id": "H4A4Hw3U0U4Z"
   },
   "source": [
    "The additional arguments to Basemap for this view specify the latitude (``lat``) and longitude (``lon``) of the lower-left corner (``llcrnr``) and upper-right corner (``urcrnr``) for the desired map, in units of degrees."
   ]
  },
  {
   "cell_type": "markdown",
   "metadata": {
    "colab_type": "text",
    "id": "xlLMFn2F0U4Z"
   },
   "source": [
    "### Pseudo-cylindrical projections\n",
    "\n",
    "Pseudo-cylindrical projections relax the requirement that meridians (lines of constant longitude) remain vertical; this can give better properties near the poles of the projection.\n",
    "The Mollweide projection (``projection='moll'``) is one common example of this, in which all meridians are elliptical arcs.\n",
    "It is constructed so as to preserve area across the map: though there are distortions near the poles, the area of small patches reflects the true area.\n",
    "Other pseudo-cylindrical projections are the sinusoidal (``projection='sinu'``) and Robinson (``projection='robin'``) projections."
   ]
  },
  {
   "cell_type": "code",
   "execution_count": 99,
   "metadata": {
    "colab": {},
    "colab_type": "code",
    "collapsed": false,
    "id": "Vz_RHydj0U4Z",
    "jupyter": {
     "outputs_hidden": false
    },
    "outputId": "c400f346-cfe9-4c9d-e3de-4725f5da04f5"
   },
   "outputs": [
    {
     "data": {
      "text/plain": [
       "\"\\nfig = plt.figure(figsize=(8, 6), edgecolor='w')\\nm = Basemap(projection='moll', resolution=None,\\n            lat_0=0, lon_0=0)\\ndraw_map(m)\\n\""
      ]
     },
     "execution_count": 99,
     "metadata": {},
     "output_type": "execute_result"
    }
   ],
   "source": [
    "'''\n",
    "fig = plt.figure(figsize=(8, 6), edgecolor='w')\n",
    "m = Basemap(projection='moll', resolution=None,\n",
    "            lat_0=0, lon_0=0)\n",
    "draw_map(m)\n",
    "'''"
   ]
  },
  {
   "cell_type": "markdown",
   "metadata": {
    "colab_type": "text",
    "id": "0dcAL9Qa0U4Z"
   },
   "source": [
    "The extra arguments to Basemap here refer to the central latitude (``lat_0``) and longitude (``lon_0``) for the desired map."
   ]
  },
  {
   "cell_type": "markdown",
   "metadata": {
    "colab_type": "text",
    "id": "ivh7YXwb0U4a"
   },
   "source": [
    "### Perspective projections\n",
    "\n",
    "Perspective projections are constructed using a particular choice of perspective point, similar to if you photographed the Earth from a particular point in space (a point which, for some projections, technically lies within the Earth!).\n",
    "One common example is the orthographic projection (``projection='ortho'``), which shows one side of the globe as seen from a viewer at a very long distance. As such, it can show only half the globe at a time.\n",
    "Other perspective-based projections include the gnomonic projection (``projection='gnom'``) and stereographic projection (``projection='stere'``).\n",
    "These are often the most useful for showing small portions of the map.\n",
    "\n",
    "Here is an example of the orthographic projection:"
   ]
  },
  {
   "cell_type": "code",
   "execution_count": 100,
   "metadata": {
    "colab": {},
    "colab_type": "code",
    "collapsed": false,
    "id": "fcUZq6NH0U4a",
    "jupyter": {
     "outputs_hidden": false
    },
    "outputId": "af202c1e-4e9d-4c51-a0ab-602c54ac2ebe"
   },
   "outputs": [
    {
     "data": {
      "text/plain": [
       "\"\\nfig = plt.figure(figsize=(8, 8))\\nm = Basemap(projection='ortho', resolution=None,\\n            lat_0=50, lon_0=0)\\ndraw_map(m);\\n\""
      ]
     },
     "execution_count": 100,
     "metadata": {},
     "output_type": "execute_result"
    }
   ],
   "source": [
    "'''\n",
    "fig = plt.figure(figsize=(8, 8))\n",
    "m = Basemap(projection='ortho', resolution=None,\n",
    "            lat_0=50, lon_0=0)\n",
    "draw_map(m);\n",
    "'''"
   ]
  },
  {
   "cell_type": "markdown",
   "metadata": {
    "colab_type": "text",
    "id": "6q2pHSaa0U4c"
   },
   "source": [
    "### Conic projections\n",
    "\n",
    "A Conic projection projects the map onto a single cone, which is then unrolled.\n",
    "This can lead to very good local properties, but regions far from the focus point of the cone may become very distorted.\n",
    "One example of this is the Lambert Conformal Conic projection (``projection='lcc'``), which we saw earlier in the map of North America.\n",
    "It projects the map onto a cone arranged in such a way that two standard parallels (specified in Basemap by ``lat_1`` and ``lat_2``) have well-represented distances, with scale decreasing between them and increasing outside of them.\n",
    "Other useful conic projections are the equidistant conic projection (``projection='eqdc'``) and the Albers equal-area projection (``projection='aea'``).\n",
    "Conic projections, like perspective projections, tend to be good choices for representing small to medium patches of the globe."
   ]
  },
  {
   "cell_type": "code",
   "execution_count": 101,
   "metadata": {
    "colab": {},
    "colab_type": "code",
    "collapsed": false,
    "id": "oL6mY1oy0U4d",
    "jupyter": {
     "outputs_hidden": false
    },
    "outputId": "faf4a487-c64f-462f-b78d-ca75199621ee"
   },
   "outputs": [
    {
     "data": {
      "text/plain": [
       "\"\\nfig = plt.figure(figsize=(8, 8))\\nm = Basemap(projection='lcc', resolution=None,\\n            lon_0=0, lat_0=50, lat_1=45, lat_2=55,\\n            width=1.6E7, height=1.2E7)\\ndraw_map(m)\\n\""
      ]
     },
     "execution_count": 101,
     "metadata": {},
     "output_type": "execute_result"
    }
   ],
   "source": [
    "'''\n",
    "fig = plt.figure(figsize=(8, 8))\n",
    "m = Basemap(projection='lcc', resolution=None,\n",
    "            lon_0=0, lat_0=50, lat_1=45, lat_2=55,\n",
    "            width=1.6E7, height=1.2E7)\n",
    "draw_map(m)\n",
    "'''"
   ]
  },
  {
   "cell_type": "markdown",
   "metadata": {
    "colab_type": "text",
    "id": "WgxMVZ0m0U4d"
   },
   "source": [
    "### Other projections\n",
    "\n",
    "If you're going to do much with map-based visualizations, I encourage you to read up on other available projections, along with their properties, advantages, and disadvantages.\n",
    "Most likely, they are available in the [Basemap package](http://matplotlib.org/basemap/users/mapsetup.html).\n",
    "If you dig deep enough into this topic, you'll find an incredible subculture of geo-viz geeks who will be ready to argue fervently in support of their favorite projection for any given application! "
   ]
  },
  {
   "cell_type": "markdown",
   "metadata": {
    "colab_type": "text",
    "id": "KhEist8q0U4d"
   },
   "source": [
    "## Drawing a Map Background\n",
    "\n",
    "Earlier we saw the ``bluemarble()`` and ``shadedrelief()`` methods for projecting global images on the map, as well as the ``drawparallels()`` and ``drawmeridians()`` methods for drawing lines of constant latitude and longitude.\n",
    "The Basemap package contains a range of useful functions for drawing borders of physical features like continents, oceans, lakes, and rivers, as well as political boundaries such as countries and US states and counties.\n",
    "The following are some of the available drawing functions that you may wish to explore using IPython's help features:\n",
    "\n",
    "- **Physical boundaries and bodies of water**\n",
    "  - ``drawcoastlines()``: Draw continental coast lines\n",
    "  - ``drawlsmask()``: Draw a mask between the land and sea, for use with projecting images on one or the other\n",
    "  - ``drawmapboundary()``: Draw the map boundary, including the fill color for oceans.\n",
    "  - ``drawrivers()``: Draw rivers on the map\n",
    "  - ``fillcontinents()``: Fill the continents with a given color; optionally fill lakes with another color\n",
    "\n",
    "- **Political boundaries**\n",
    "  - ``drawcountries()``: Draw country boundaries\n",
    "  - ``drawstates()``: Draw US state boundaries\n",
    "  - ``drawcounties()``: Draw US county boundaries\n",
    "\n",
    "- **Map features**\n",
    "  - ``drawgreatcircle()``: Draw a great circle between two points\n",
    "  - ``drawparallels()``: Draw lines of constant latitude\n",
    "  - ``drawmeridians()``: Draw lines of constant longitude\n",
    "  - ``drawmapscale()``: Draw a linear scale on the map\n",
    "\n",
    "- **Whole-globe images**\n",
    "  - ``bluemarble()``: Project NASA's blue marble image onto the map\n",
    "  - ``shadedrelief()``: Project a shaded relief image onto the map\n",
    "  - ``etopo()``: Draw an etopo relief image onto the map\n",
    "  - ``warpimage()``: Project a user-provided image onto the map\n",
    "\n",
    "For the boundary-based features, you must set the desired resolution when creating a Basemap image.\n",
    "The ``resolution`` argument of the ``Basemap`` class sets the level of detail in boundaries, either ``'c'`` (crude), ``'l'`` (low), ``'i'`` (intermediate), ``'h'`` (high), ``'f'`` (full), or ``None`` if no boundaries will be used.\n",
    "This choice is important: setting high-resolution boundaries on a global map, for example, can be *very* slow.\n",
    "\n",
    "Here's an example of drawing land/sea boundaries, and the effect of the resolution parameter.\n",
    "We'll create both a low- and high-resolution map of Scotland's beautiful Isle of Skye.\n",
    "It's located at 57.3°N, 6.2°W, and a map of 90,000 × 120,000 kilometers shows it well:"
   ]
  },
  {
   "cell_type": "code",
   "execution_count": 102,
   "metadata": {
    "colab": {},
    "colab_type": "code",
    "collapsed": false,
    "id": "DCuHQBOx0U4d",
    "jupyter": {
     "outputs_hidden": false
    },
    "outputId": "d6718294-b55f-4e06-e71f-463450c79a91"
   },
   "outputs": [
    {
     "data": {
      "text/plain": [
       "'\\nfig, ax = plt.subplots(1, 2, figsize=(12, 8))\\n\\nfor i, res in enumerate([\\'l\\', \\'h\\']):\\n    m = Basemap(projection=\\'gnom\\', lat_0=57.3, lon_0=-6.2,\\n                width=90000, height=120000, resolution=res, ax=ax[i])\\n    m.fillcontinents(color=\"#FFDDCC\", lake_color=\\'#DDEEFF\\')\\n    m.drawmapboundary(fill_color=\"#DDEEFF\")\\n    m.drawcoastlines()\\n    ax[i].set_title(\"resolution=\\'{0}\\'\".format(res));\\n'"
      ]
     },
     "execution_count": 102,
     "metadata": {},
     "output_type": "execute_result"
    }
   ],
   "source": [
    "'''\n",
    "fig, ax = plt.subplots(1, 2, figsize=(12, 8))\n",
    "\n",
    "for i, res in enumerate(['l', 'h']):\n",
    "    m = Basemap(projection='gnom', lat_0=57.3, lon_0=-6.2,\n",
    "                width=90000, height=120000, resolution=res, ax=ax[i])\n",
    "    m.fillcontinents(color=\"#FFDDCC\", lake_color='#DDEEFF')\n",
    "    m.drawmapboundary(fill_color=\"#DDEEFF\")\n",
    "    m.drawcoastlines()\n",
    "    ax[i].set_title(\"resolution='{0}'\".format(res));\n",
    "'''"
   ]
  },
  {
   "cell_type": "markdown",
   "metadata": {
    "colab_type": "text",
    "id": "MY9PXXL-0U4e"
   },
   "source": [
    "Notice that the low-resolution coastlines are not suitable for this level of zoom, while high-resolution works just fine.\n",
    "The low level would work just fine for a global view, however, and would be *much* faster than loading the high-resolution border data for the entire globe!\n",
    "It might require some experimentation to find the correct resolution parameter for a given view: the best route is to start with a fast, low-resolution plot and increase the resolution as needed."
   ]
  },
  {
   "cell_type": "markdown",
   "metadata": {
    "colab_type": "text",
    "id": "emzDAPsv0U4e"
   },
   "source": [
    "## Plotting Data on Maps\n",
    "\n",
    "Perhaps the most useful piece of the Basemap toolkit is the ability to over-plot a variety of data onto a map background.\n",
    "For simple plotting and text, any ``plt`` function works on the map; you can use the ``Basemap`` instance to project latitude and longitude coordinates to ``(x, y)`` coordinates for plotting with ``plt``, as we saw earlier in the Seattle example.\n",
    "\n",
    "In addition to this, there are many map-specific functions available as methods of the ``Basemap`` instance.\n",
    "These work very similarly to their standard Matplotlib counterparts, but have an additional Boolean argument ``latlon``, which if set to ``True`` allows you to pass raw latitudes and longitudes to the method, rather than projected ``(x, y)`` coordinates.\n",
    "\n",
    "Some of these map-specific methods are:\n",
    "\n",
    "- ``contour()``/``contourf()`` : Draw contour lines or filled contours\n",
    "- ``imshow()``: Draw an image\n",
    "- ``pcolor()``/``pcolormesh()`` : Draw a pseudocolor plot for irregular/regular meshes\n",
    "- ``plot()``: Draw lines and/or markers.\n",
    "- ``scatter()``: Draw points with markers.\n",
    "- ``quiver()``: Draw vectors.\n",
    "- ``barbs()``: Draw wind barbs.\n",
    "- ``drawgreatcircle()``: Draw a great circle.\n",
    "\n",
    "We'll see some examples of a few of these as we continue.\n",
    "For more information on these functions, including several example plots, see the [online Basemap documentation](http://matplotlib.org/basemap/)."
   ]
  },
  {
   "cell_type": "markdown",
   "metadata": {
    "colab_type": "text",
    "id": "ndTu61uO0U4e"
   },
   "source": [
    "## Example: California Cities\n",
    "\n",
    "Recall that in [Customizing Plot Legends](04.06-Customizing-Legends.ipynb), we demonstrated the use of size and color in a scatter plot to convey information about the location, size, and population of California cities.\n",
    "Here, we'll create this plot again, but using Basemap to put the data in context.\n",
    "\n",
    "We start with loading the data, as we did before:"
   ]
  },
  {
   "cell_type": "code",
   "execution_count": null,
   "metadata": {
    "colab": {},
    "colab_type": "code",
    "collapsed": true,
    "id": "CEOhoDfB0U4e",
    "jupyter": {
     "outputs_hidden": true
    }
   },
   "outputs": [],
   "source": [
    "import pandas as pd\n",
    "cities = pd.read_csv('california_cities.csv')\n",
    "\n",
    "# Extract the data we're interested in\n",
    "lat = cities['latd'].values\n",
    "lon = cities['longd'].values\n",
    "population = cities['population_total'].values\n",
    "area = cities['area_total_km2'].values"
   ]
  },
  {
   "cell_type": "markdown",
   "metadata": {
    "colab_type": "text",
    "id": "W7vuS3wh0U4f"
   },
   "source": [
    "Next, we set up the map projection, scatter the data, and then create a colorbar and legend:"
   ]
  },
  {
   "cell_type": "code",
   "execution_count": 103,
   "metadata": {
    "colab": {},
    "colab_type": "code",
    "collapsed": false,
    "id": "ZZMvCNwh0U4f",
    "jupyter": {
     "outputs_hidden": false
    },
    "outputId": "afc9810f-e6ec-4910-acd2-bbf2a3eae380"
   },
   "outputs": [
    {
     "data": {
      "text/plain": [
       "\"\\n\\n# 1. Draw the map background\\nfig = plt.figure(figsize=(8, 8))\\nm = Basemap(projection='lcc', resolution='h', \\n            lat_0=37.5, lon_0=-119,\\n            width=1E6, height=1.2E6)\\nm.shadedrelief()\\nm.drawcoastlines(color='gray')\\nm.drawcountries(color='gray')\\nm.drawstates(color='gray')\\n\\n# 2. scatter city data, with color reflecting population\\n# and size reflecting area\\nm.scatter(lon, lat, latlon=True,\\n          c=np.log10(population), s=area,\\n          cmap='Reds', alpha=0.5)\\n\\n# 3. create colorbar and legend\\nplt.colorbar(label=r'$\\\\log_{10}({\\rm population})$')\\nplt.clim(3, 7)\\n\\n# make legend with dummy points\\nfor a in [100, 300, 500]:\\n    plt.scatter([], [], c='k', alpha=0.5, s=a,\\n                label=str(a) + ' km$^2$')\\nplt.legend(scatterpoints=1, frameon=False,\\n           labelspacing=1, loc='lower left');\\n           \\n\""
      ]
     },
     "execution_count": 103,
     "metadata": {},
     "output_type": "execute_result"
    }
   ],
   "source": [
    "'''\n",
    "\n",
    "# 1. Draw the map background\n",
    "fig = plt.figure(figsize=(8, 8))\n",
    "m = Basemap(projection='lcc', resolution='h', \n",
    "            lat_0=37.5, lon_0=-119,\n",
    "            width=1E6, height=1.2E6)\n",
    "m.shadedrelief()\n",
    "m.drawcoastlines(color='gray')\n",
    "m.drawcountries(color='gray')\n",
    "m.drawstates(color='gray')\n",
    "\n",
    "# 2. scatter city data, with color reflecting population\n",
    "# and size reflecting area\n",
    "m.scatter(lon, lat, latlon=True,\n",
    "          c=np.log10(population), s=area,\n",
    "          cmap='Reds', alpha=0.5)\n",
    "\n",
    "# 3. create colorbar and legend\n",
    "plt.colorbar(label=r'$\\log_{10}({\\rm population})$')\n",
    "plt.clim(3, 7)\n",
    "\n",
    "# make legend with dummy points\n",
    "for a in [100, 300, 500]:\n",
    "    plt.scatter([], [], c='k', alpha=0.5, s=a,\n",
    "                label=str(a) + ' km$^2$')\n",
    "plt.legend(scatterpoints=1, frameon=False,\n",
    "           labelspacing=1, loc='lower left');\n",
    "           \n",
    "'''"
   ]
  },
  {
   "cell_type": "markdown",
   "metadata": {
    "colab_type": "text",
    "id": "uMtL1WG60U4f"
   },
   "source": [
    "This shows us roughly where larger populations of people have settled in California: they are clustered near the coast in the Los Angeles and San Francisco areas, stretched along the highways in the flat central valley, and avoiding almost completely the mountainous regions along the borders of the state."
   ]
  },
  {
   "cell_type": "markdown",
   "metadata": {
    "colab_type": "text",
    "id": "urB6rUPR0U4g"
   },
   "source": [
    "## Example: Surface Temperature Data\n",
    "\n",
    "As an example of visualizing some more continuous geographic data, let's consider the \"polar vortex\" that hit the eastern half of the United States in January of 2014.\n",
    "A great source for any sort of climatic data is [NASA's Goddard Institute for Space Studies](http://data.giss.nasa.gov/).\n",
    "Here we'll use the GIS 250 temperature data, which we can download using shell commands (these commands may have to be modified on Windows machines).\n",
    "The data used here was downloaded on 6/12/2016, and the file size is approximately 9MB:"
   ]
  },
  {
   "cell_type": "code",
   "execution_count": null,
   "metadata": {
    "colab": {},
    "colab_type": "code",
    "collapsed": false,
    "id": "Im4lMU7k0U4g",
    "jupyter": {
     "outputs_hidden": false
    }
   },
   "outputs": [],
   "source": [
    "# !curl -O http://data.giss.nasa.gov/pub/gistemp/gistemp250.nc.gz\n",
    "# !gunzip gistemp250.nc.gz"
   ]
  },
  {
   "cell_type": "markdown",
   "metadata": {
    "colab_type": "text",
    "id": "P5D4Yd070U4g"
   },
   "source": [
    "The data comes in NetCDF format, which can be read in Python by the ``netCDF4`` library.\n",
    "You can install this library as shown here\n",
    "\n",
    "```\n",
    "$ conda install netcdf4\n",
    "```\n",
    "\n",
    "We read the data as follows:"
   ]
  },
  {
   "cell_type": "code",
   "execution_count": null,
   "metadata": {
    "colab": {},
    "colab_type": "code",
    "collapsed": false,
    "id": "C_HSKp5o0U4g",
    "jupyter": {
     "outputs_hidden": false
    }
   },
   "outputs": [],
   "source": [
    "from netCDF4 import Dataset\n",
    "data = Dataset('gistemp250.nc') #¡esto hay que cambiarlo! lo cambiaremos en clase juntos "
   ]
  },
  {
   "cell_type": "markdown",
   "metadata": {
    "colab_type": "text",
    "id": "I1DWX4-30U4h"
   },
   "source": [
    "The file contains many global temperature readings on a variety of dates; we need to select the index of the date we're interested in—in this case, January 15, 2014:"
   ]
  },
  {
   "cell_type": "code",
   "execution_count": null,
   "metadata": {
    "colab": {},
    "colab_type": "code",
    "collapsed": false,
    "id": "Aih7TvB40U4h",
    "jupyter": {
     "outputs_hidden": false
    }
   },
   "outputs": [],
   "source": [
    "from netCDF4 import date2index\n",
    "from datetime import datetime\n",
    "timeindex = date2index(datetime(2014, 1, 15),\n",
    "                       data.variables['time'])"
   ]
  },
  {
   "cell_type": "markdown",
   "metadata": {
    "colab_type": "text",
    "id": "iHPXZCzC0U4i"
   },
   "source": [
    "Now we can load the latitude and longitude data, as well as the temperature anomaly for this index:"
   ]
  },
  {
   "cell_type": "code",
   "execution_count": null,
   "metadata": {
    "colab": {},
    "colab_type": "code",
    "collapsed": true,
    "id": "cTRRlXAh0U4i",
    "jupyter": {
     "outputs_hidden": true
    }
   },
   "outputs": [],
   "source": [
    "lat = data.variables['lat'][:]\n",
    "lon = data.variables['lon'][:]\n",
    "lon, lat = np.meshgrid(lon, lat)\n",
    "temp_anomaly = data.variables['tempanomaly'][timeindex]"
   ]
  },
  {
   "cell_type": "markdown",
   "metadata": {
    "colab_type": "text",
    "id": "iG_X2N2m0U4i"
   },
   "source": [
    "Finally, we'll use the ``pcolormesh()`` method to draw a color mesh of the data.\n",
    "We'll look at North America, and use a shaded relief map in the background.\n",
    "Note that for this data we specifically chose a divergent colormap, which has a neutral color at zero and two contrasting colors at negative and positive values.\n",
    "We'll also lightly draw the coastlines over the colors for reference:"
   ]
  },
  {
   "cell_type": "code",
   "execution_count": 104,
   "metadata": {
    "colab": {},
    "colab_type": "code",
    "collapsed": false,
    "id": "T8dPcuy10U4i",
    "jupyter": {
     "outputs_hidden": false
    },
    "outputId": "576c6bef-82cc-41e7-ba58-04a63e5cbea8"
   },
   "outputs": [
    {
     "data": {
      "text/plain": [
       "\"\\nfig = plt.figure(figsize=(10, 8))\\nm = Basemap(projection='lcc', resolution='c',\\n            width=8E6, height=8E6, \\n            lat_0=45, lon_0=-100,)\\nm.shadedrelief(scale=0.5)\\nm.pcolormesh(lon, lat, temp_anomaly,\\n             latlon=True, cmap='RdBu_r')\\nplt.clim(-8, 8)\\nm.drawcoastlines(color='lightgray')\\n\\nplt.title('January 2014 Temperature Anomaly')\\nplt.colorbar(label='temperature anomaly (°C)');\\n\""
      ]
     },
     "execution_count": 104,
     "metadata": {},
     "output_type": "execute_result"
    }
   ],
   "source": [
    "'''\n",
    "fig = plt.figure(figsize=(10, 8))\n",
    "m = Basemap(projection='lcc', resolution='c',\n",
    "            width=8E6, height=8E6, \n",
    "            lat_0=45, lon_0=-100,)\n",
    "m.shadedrelief(scale=0.5)\n",
    "m.pcolormesh(lon, lat, temp_anomaly,\n",
    "             latlon=True, cmap='RdBu_r')\n",
    "plt.clim(-8, 8)\n",
    "m.drawcoastlines(color='lightgray')\n",
    "\n",
    "plt.title('January 2014 Temperature Anomaly')\n",
    "plt.colorbar(label='temperature anomaly (°C)');\n",
    "'''"
   ]
  },
  {
   "cell_type": "markdown",
   "metadata": {
    "colab_type": "text",
    "id": "7ym0_DJF0U4k"
   },
   "source": [
    "The data paints a picture of the localized, extreme temperature anomalies that happened during that month.\n",
    "The eastern half of the United States was much colder than normal, while the western half and Alaska were much warmer.\n",
    "Regions with no recorded temperature show the map background."
   ]
  }
 ],
 "metadata": {
  "colab": {
   "name": "EDA-Intro-visualization_MatplotLib.ipynb",
   "provenance": []
  },
  "kernelspec": {
   "display_name": "Python 3",
   "language": "python",
   "name": "python3"
  },
  "language_info": {
   "codemirror_mode": {
    "name": "ipython",
    "version": 3
   },
   "file_extension": ".py",
   "mimetype": "text/x-python",
   "name": "python",
   "nbconvert_exporter": "python",
   "pygments_lexer": "ipython3",
   "version": "3.7.4"
  }
 },
 "nbformat": 4,
 "nbformat_minor": 4
}
