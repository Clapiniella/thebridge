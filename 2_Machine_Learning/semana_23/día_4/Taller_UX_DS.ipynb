{
 "cells": [
  {
   "cell_type": "markdown",
   "metadata": {},
   "source": [
    "# Mobile Games: A/B Testing & Player Retention"
   ]
  },
  {
   "cell_type": "markdown",
   "metadata": {},
   "source": [
    "## 1. Project background\n",
    "\n",
    "We have an app for mobile phones. It's a videogame. \n",
    "\n",
    "As players progress through the levels of the game, they will occasionally encounter blocking pop-ups that force them to wait an amount of time or make an in-app purchase to progress, so that they do not have to wait. In addition to driving in-app purchases, these gates serve the important purpose of giving players an enforced break from playing the game, hopefully resulting in that the player's enjoyment of the game being increased and prolonged (because the game will not be that easy to finish).\n",
    "\n",
    "But, where should the gates be placed? Initially the first gate was placed at level 25. In this project, we're going to analyze an AB-test where we moved the first gate in the game from level 25 to level 50. In particular, we will look at the impact on player retention.\n",
    "\n",
    "![image info](./game_im.png)"
   ]
  },
  {
   "cell_type": "markdown",
   "metadata": {},
   "source": [
    "## 2. About the data\n",
    "\n",
    "Read the file game.csv"
   ]
  },
  {
   "cell_type": "code",
   "execution_count": 124,
   "metadata": {},
   "outputs": [],
   "source": [
    "# Entendemos el caso de uso y qué es un A|B testing"
   ]
  },
  {
   "cell_type": "markdown",
   "metadata": {},
   "source": [
    "How many users are in the experiment while the AB-test was running?"
   ]
  },
  {
   "cell_type": "markdown",
   "metadata": {},
   "source": [
    "\n",
    "\n",
    "The variables are:\n",
    "\n",
    "userid - a unique number that identifies each player.\n",
    "\n",
    "version - whether the player was put in the control group (gate_25 - a gate at level 25) or the test group (gate_50 - a gate at level 50).\n",
    "\n",
    "sum_gamerounds - the number of game rounds played by the player during the __first week after installation__\n",
    "\n",
    "retention_1 - did the player come back and play 1 day after installing?\n",
    "\n",
    "retention_7 - did the player come back and play 7 days after installing?\n",
    "\n",
    "When a player installed the game, he or she was randomly assigned to either gate_25 or gate_50\n"
   ]
  },
  {
   "cell_type": "code",
   "execution_count": null,
   "metadata": {},
   "outputs": [],
   "source": [
    "# comprobamos cuántas versiones distintas hay"
   ]
  },
  {
   "cell_type": "code",
   "execution_count": null,
   "metadata": {},
   "outputs": [],
   "source": [
    "# exploramos un poco el dataset"
   ]
  },
  {
   "cell_type": "markdown",
   "metadata": {},
   "source": [
    "## 3. Count the number of players in each group\n",
    "\n",
    "Are the control group and the test group balanced?"
   ]
  },
  {
   "cell_type": "code",
   "execution_count": 125,
   "metadata": {},
   "outputs": [],
   "source": [
    "# comprobamos cómo están de balanceados los grupos"
   ]
  },
  {
   "cell_type": "code",
   "execution_count": 126,
   "metadata": {},
   "outputs": [],
   "source": [
    "# "
   ]
  },
  {
   "cell_type": "markdown",
   "metadata": {},
   "source": [
    "## 4. Analyzing player behaviour\n",
    "\n",
    "We will plot a boxplot to visualize the distribution of 'sum_gamerounds', which would give us a rough idea of how many game rounds were played by a player during the first week after installing the game."
   ]
  },
  {
   "cell_type": "code",
   "execution_count": 127,
   "metadata": {},
   "outputs": [],
   "source": [
    "# pintamos los game rounds"
   ]
  },
  {
   "cell_type": "code",
   "execution_count": 58,
   "metadata": {},
   "outputs": [],
   "source": [
    "# entendemos la gráfica\n"
   ]
  },
  {
   "cell_type": "markdown",
   "metadata": {},
   "source": [
    "### To learn about the behavior of the majority of the players, we will check the percentiles."
   ]
  },
  {
   "cell_type": "code",
   "execution_count": 128,
   "metadata": {},
   "outputs": [],
   "source": [
    "# estudiamos los percentiles de los game rounds"
   ]
  },
  {
   "cell_type": "code",
   "execution_count": 129,
   "metadata": {},
   "outputs": [],
   "source": [
    "# entendemos los percentiles"
   ]
  },
  {
   "cell_type": "markdown",
   "metadata": {},
   "source": [
    "### Counting the number of players for each number of gamerounds \n"
   ]
  },
  {
   "cell_type": "code",
   "execution_count": 130,
   "metadata": {},
   "outputs": [],
   "source": [
    "# los contamos"
   ]
  },
  {
   "cell_type": "code",
   "execution_count": 131,
   "metadata": {},
   "outputs": [],
   "source": [
    "# estudiamos algún valor interesante de los percentiles aplicados al cálculo anterior\n"
   ]
  },
  {
   "cell_type": "code",
   "execution_count": 132,
   "metadata": {},
   "outputs": [],
   "source": [
    "# entendemos los datos"
   ]
  },
  {
   "cell_type": "markdown",
   "metadata": {},
   "source": [
    "As we can see, 50% of players played fewer than 26 game rounds during the first week after installation, and 75% of players played fewer than 60 rounds.\n",
    "\n",
    "There were users who did not play much after installation. Possible reasons may include:\n",
    "\n",
    "They downloaded a number of new games at the same time and were attracted by other games.\n",
    "They opened the app but did not like the design/interface/music, so they quit even before playing the game.\n",
    "They have not started playing the game yet.\n",
    "\n",
    "\n",
    "For these players, the reasons for leaving may include:\n",
    "\n",
    "They did not enjoy the game. (This is probably the most common reason).\n",
    "The game turned out to be different from what they expected.\n",
    "The game was too easy and they got bored of it.\n",
    "\n",
    "\n",
    "It is important to understand why a large number of players quit the game at an early stage."
   ]
  },
  {
   "cell_type": "markdown",
   "metadata": {},
   "source": [
    "### Plot the distribution of players that played 0 to 100 game rounds during their first week playing the game."
   ]
  },
  {
   "cell_type": "code",
   "execution_count": 133,
   "metadata": {},
   "outputs": [],
   "source": [
    "# la dibujamos"
   ]
  },
  {
   "cell_type": "markdown",
   "metadata": {},
   "source": [
    "The distribution is highly skewed, with a long tail on the right.\n",
    "\n",
    "A huge number of players played fewer than 10 rounds and left the game. For rounds greater than 65, the number of players stayed steady at about 300."
   ]
  },
  {
   "cell_type": "code",
   "execution_count": 134,
   "metadata": {},
   "outputs": [],
   "source": [
    "# estudiamos cuánta gente juega 65 veces en la primera semana de instalación\n"
   ]
  },
  {
   "cell_type": "markdown",
   "metadata": {},
   "source": [
    "## 4.1 Comparing 1-day Retention\n",
    "\n",
    "In the plot above we can see that some players install the game but then never play it, some players just play a couple of game rounds in their first week, and some get really hooked! What we want is for players to like the game and to get hooked.\n",
    "\n",
    "A common metric in the video gaming industry for how fun and engaging a game is 1-day retention: the percentage of players that comes back and plays the game one day after they have installed it. The higher 1-day retention is, the easier it is to retain players and build a large player base.\n",
    "\n",
    "#### Overall 1-day retention"
   ]
  },
  {
   "cell_type": "code",
   "execution_count": 135,
   "metadata": {},
   "outputs": [],
   "source": [
    "# calcula la media sin usar una función que sea la media, para conocer la media de retention_1\n"
   ]
  },
  {
   "cell_type": "code",
   "execution_count": 136,
   "metadata": {},
   "outputs": [],
   "source": [
    "# calcula la media usando una función que sea la media, para conocer la media de retention_1\n"
   ]
  },
  {
   "cell_type": "markdown",
   "metadata": {},
   "source": [
    "A little less than half of the players come back one day after installing the game. Now that we have a benchmark, let's look at how 1-day retention differs between the two AB-groups.\n",
    "\n",
    "#### 1-day retention for each AB-group"
   ]
  },
  {
   "cell_type": "code",
   "execution_count": 137,
   "metadata": {},
   "outputs": [],
   "source": [
    "# estudia la media de la retention_1 según el tipo de versión\n"
   ]
  },
  {
   "cell_type": "markdown",
   "metadata": {},
   "source": [
    "It appears that there was a slight decrease in 1-day retention when the gate was moved to level 50 (44.2%) compared to the control when it was at level 25 (44.8%). It's a small change, but even small changes in retention can have a large impact. But while we are certain of the difference in the data, how certain should we be that a gate at level 50 will be worse in the future?\n",
    "\n",
    "There are a couple of ways we can get at the certainty of these retention numbers. Here we will use bootstrapping: We will repeatedly re-sample our dataset (with replacement) and calculate 1-day retention for those samples. The variation in 1-day retention will give us an indication of how uncertain the retention numbers are.\n",
    "\n",
    "#### Bootstrapping: Should we be confident in the difference?\n"
   ]
  },
  {
   "cell_type": "markdown",
   "metadata": {},
   "source": [
    "La idea básica de bootstrap es que la inferencia sobre una población a partir de datos de muestra, (muestra → población), puede ser modelada mediante un nuevo muestreo de los datos de la muestra y realizando la inferencia sobre una muestra a partir de datos remuestreados. Como la población es desconocida, el verdadero error en una muestra estadística contra su valor poblacional es desconocido. En las re-muestras de bootstrap, la 'población' es de hecho la muestra, y esto se conoce; por lo tanto, se puede medir la calidad de la inferencia de la muestra \"verdadera\" a partir de datos remuestreados, (muestra re-muestreada)."
   ]
  },
  {
   "cell_type": "code",
   "execution_count": 138,
   "metadata": {},
   "outputs": [],
   "source": [
    "# Creating a list with bootstrapped means for each AB-group\n",
    "# haz un bootstrapping con mil subgrupos de tamaño la mitad del original y aleatorios para estudiar la media de retention_1\n",
    "\n",
    "\n",
    "    \n",
    "# Transforming the list to a DataFrame\n",
    "\n",
    "    \n",
    "# A Kernel Density Estimate plot of the bootstrap distributions\n"
   ]
  },
  {
   "cell_type": "markdown",
   "metadata": {},
   "source": [
    "These two distributions above represent the bootstrap uncertainty over what the underlying 1-day retention could be for the two AB-groups. There seems to be some evidence of a difference, although small. \n",
    "\n",
    "### Let's plot the % difference to have a closer look."
   ]
  },
  {
   "cell_type": "code",
   "execution_count": 139,
   "metadata": {},
   "outputs": [],
   "source": [
    "# Adding a column with the % difference between the two AB-groups\n",
    "\n",
    "\n",
    "# Ploting the bootstrap % difference\n",
    "\n",
    "\n",
    "# Calculating the probability that 1-day retention is greater when the gate is at level 25\n"
   ]
  },
  {
   "cell_type": "markdown",
   "metadata": {},
   "source": [
    "From this chart, we can see that the most likely % difference is around 1% - 2%, and that 90% of the distribution is above 0%, in favor of a gate at level 25."
   ]
  },
  {
   "cell_type": "markdown",
   "metadata": {},
   "source": [
    "### 4.2 Comparing 7-day Retention\n",
    "\n",
    "The bootstrap analysis tells us that there is a high probability that 1-day retention is better when the gate is at level 25. However, since players have only been playing the game for one day, it is likely that most players haven't reached level 25 yet. That is, many players won't have been affected by the gate, even if it's as early as level 25.\n",
    "\n",
    "But after having played for a week, more players should have reached level 50, and therefore it makes sense to also look at 7-day retention."
   ]
  },
  {
   "cell_type": "code",
   "execution_count": 140,
   "metadata": {},
   "outputs": [],
   "source": [
    "# calcula la retención media a 7 días según el grupo de control\n"
   ]
  },
  {
   "cell_type": "markdown",
   "metadata": {},
   "source": [
    "Insights:\n",
    "\n",
    "Like with 1-day retention, 7-day retention is slightly lower when the gate is at level 50 (18.2%) than when the gate is at level 25 (19.0%).\n",
    "This difference is also larger than for 1-day retention, presumably because more players have had time to hit the first gate.\n",
    "The overall 7-day retention is lower than the overall 1-day retention; fewer people play a game a week after installing than a day after installing.\n",
    "But as before, let's use bootstrap analysis to figure out how certain we should be of the difference between the AB-groups.\n",
    "\n",
    "#### Creating a list with bootstrapped means for each AB-group"
   ]
  },
  {
   "cell_type": "code",
   "execution_count": 141,
   "metadata": {},
   "outputs": [],
   "source": [
    "# boostrapping de 500 subgrupos para la media de retention_7, los subgrupos son la mitad de las muestras del tamaño original\n",
    "\n",
    "    \n",
    "# Transforming the list to a DataFrame\n",
    "\n",
    "\n",
    "# Adding a column with the % difference between the two AB-groups\n",
    "\n",
    "\n",
    "# Ploting the bootstrap % difference\n",
    "\n",
    "\n",
    "# Calculating the probability that 7-day retention is greater when the gate is at level 25\n",
    "\n"
   ]
  },
  {
   "cell_type": "markdown",
   "metadata": {},
   "source": [
    "## 5. Conclusion \n"
   ]
  },
  {
   "cell_type": "code",
   "execution_count": null,
   "metadata": {},
   "outputs": [],
   "source": [
    "# vuestras conclusiones de los datos"
   ]
  }
 ],
 "metadata": {
  "kernelspec": {
   "display_name": "Python 3",
   "language": "python",
   "name": "python3"
  },
  "language_info": {
   "codemirror_mode": {
    "name": "ipython",
    "version": 3
   },
   "file_extension": ".py",
   "mimetype": "text/x-python",
   "name": "python",
   "nbconvert_exporter": "python",
   "pygments_lexer": "ipython3",
   "version": "3.7.4"
  }
 },
 "nbformat": 4,
 "nbformat_minor": 4
}
